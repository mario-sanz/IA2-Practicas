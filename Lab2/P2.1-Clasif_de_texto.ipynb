{
 "cells": [
  {
   "cell_type": "markdown",
   "metadata": {},
   "source": [
    "# Práctica 2: Procesamiento del Lenguaje Natural\n",
    "\n",
    "__Fecha de entrega: 3 de abril de 2022__\n",
    "\n",
    "El objetivo de esta práctica es aplicar los conceptos teóricos vistos en clase en el módulo de PLN. La práctica consta de 2 notebooks que se entregarán simultáneamente en la tarea de entrega habilitada en el Campus  Virtual.\n",
    "\n",
    "Lo más importante en esta práctica no es el código Python, sino el análisis de los datos y modelos que construyas y las explicaciones razonadas de cada una de las decisiones que tomes. __No se valorarán trozos de código o gráficas sin ningún tipo de contexto o explicación__.\n",
    "\n",
    "Finalmente, recuerda establecer el parámetro `random_state` en todas las funciones que tomen decisiones aleatorias para que los resultados sean reproducibles (los resultados no varíen entre ejecuciones)."
   ]
  },
  {
   "cell_type": "code",
   "execution_count": 1,
   "metadata": {},
   "outputs": [],
   "source": [
    "RANDOM_STATE = 22"
   ]
  },
  {
   "cell_type": "markdown",
   "metadata": {},
   "source": [
    "# Apartado 1: Clasificador de noticias"
   ]
  },
  {
   "cell_type": "markdown",
   "metadata": {},
   "source": [
    "__Número de grupo: 15__\n",
    "\n",
    "__Nombres de los estudiantes: Javier Sande Ríos y Mario Sanz Guerrero__"
   ]
  },
  {
   "cell_type": "markdown",
   "metadata": {},
   "source": [
    "## 1) Carga del conjunto de datos\n",
    "\n",
    "El fichero `BBC News.csv` contiene noticias clasificadas en 5 categorías diferentes. \n",
    "\n",
    "Carga los datos en un dataframe teniendo en cuenta que la columna `ArticleId` es un identificador de la noticia y por lo tanto no debes usarlo para clasificar. \n",
    "\n",
    "Estudia el tamaño del conjunto de datos y la proporción de noticias que pertenecen a cada una de las categorías. Indica si debemos tenerlo en cuenta de alguna forma al analizar los modelos que construyamos.\n",
    "\n",
    "Muestra un mensaje cualquiera y explica si lo habrías clasificado en la clase correcta tras leerlo.\n",
    "\n",
    "Crea una partición de los datos dejando el 80% para entrenamiento y el 20% restante para test usando la función `train_test_split` de sklearn. "
   ]
  },
  {
   "cell_type": "markdown",
   "metadata": {},
   "source": [
    "#### Solución:"
   ]
  },
  {
   "cell_type": "code",
   "execution_count": 2,
   "metadata": {},
   "outputs": [],
   "source": [
    "import numpy as np\n",
    "import pandas as pd\n",
    "\n",
    "pd.set_option('display.float_format', lambda x: '%.3f' % x)"
   ]
  },
  {
   "cell_type": "code",
   "execution_count": 3,
   "metadata": {},
   "outputs": [
    {
     "data": {
      "text/html": [
       "<div>\n",
       "<style scoped>\n",
       "    .dataframe tbody tr th:only-of-type {\n",
       "        vertical-align: middle;\n",
       "    }\n",
       "\n",
       "    .dataframe tbody tr th {\n",
       "        vertical-align: top;\n",
       "    }\n",
       "\n",
       "    .dataframe thead th {\n",
       "        text-align: right;\n",
       "    }\n",
       "</style>\n",
       "<table border=\"1\" class=\"dataframe\">\n",
       "  <thead>\n",
       "    <tr style=\"text-align: right;\">\n",
       "      <th></th>\n",
       "      <th>ArticleId</th>\n",
       "      <th>Text</th>\n",
       "      <th>Category</th>\n",
       "    </tr>\n",
       "  </thead>\n",
       "  <tbody>\n",
       "    <tr>\n",
       "      <th>0</th>\n",
       "      <td>1833</td>\n",
       "      <td>worldcom ex-boss launches defence lawyers defe...</td>\n",
       "      <td>business</td>\n",
       "    </tr>\n",
       "    <tr>\n",
       "      <th>1</th>\n",
       "      <td>154</td>\n",
       "      <td>german business confidence slides german busin...</td>\n",
       "      <td>business</td>\n",
       "    </tr>\n",
       "    <tr>\n",
       "      <th>2</th>\n",
       "      <td>1101</td>\n",
       "      <td>bbc poll indicates economic gloom citizens in ...</td>\n",
       "      <td>business</td>\n",
       "    </tr>\n",
       "    <tr>\n",
       "      <th>3</th>\n",
       "      <td>1976</td>\n",
       "      <td>lifestyle  governs mobile choice  faster  bett...</td>\n",
       "      <td>tech</td>\n",
       "    </tr>\n",
       "    <tr>\n",
       "      <th>4</th>\n",
       "      <td>917</td>\n",
       "      <td>enron bosses in $168m payout eighteen former e...</td>\n",
       "      <td>business</td>\n",
       "    </tr>\n",
       "    <tr>\n",
       "      <th>...</th>\n",
       "      <td>...</td>\n",
       "      <td>...</td>\n",
       "      <td>...</td>\n",
       "    </tr>\n",
       "    <tr>\n",
       "      <th>1485</th>\n",
       "      <td>857</td>\n",
       "      <td>double eviction from big brother model caprice...</td>\n",
       "      <td>entertainment</td>\n",
       "    </tr>\n",
       "    <tr>\n",
       "      <th>1486</th>\n",
       "      <td>325</td>\n",
       "      <td>dj double act revamp chart show dj duo jk and ...</td>\n",
       "      <td>entertainment</td>\n",
       "    </tr>\n",
       "    <tr>\n",
       "      <th>1487</th>\n",
       "      <td>1590</td>\n",
       "      <td>weak dollar hits reuters revenues at media gro...</td>\n",
       "      <td>business</td>\n",
       "    </tr>\n",
       "    <tr>\n",
       "      <th>1488</th>\n",
       "      <td>1587</td>\n",
       "      <td>apple ipod family expands market apple has exp...</td>\n",
       "      <td>tech</td>\n",
       "    </tr>\n",
       "    <tr>\n",
       "      <th>1489</th>\n",
       "      <td>538</td>\n",
       "      <td>santy worm makes unwelcome visit thousands of ...</td>\n",
       "      <td>tech</td>\n",
       "    </tr>\n",
       "  </tbody>\n",
       "</table>\n",
       "<p>1490 rows × 3 columns</p>\n",
       "</div>"
      ],
      "text/plain": [
       "      ArticleId                                               Text  \\\n",
       "0          1833  worldcom ex-boss launches defence lawyers defe...   \n",
       "1           154  german business confidence slides german busin...   \n",
       "2          1101  bbc poll indicates economic gloom citizens in ...   \n",
       "3          1976  lifestyle  governs mobile choice  faster  bett...   \n",
       "4           917  enron bosses in $168m payout eighteen former e...   \n",
       "...         ...                                                ...   \n",
       "1485        857  double eviction from big brother model caprice...   \n",
       "1486        325  dj double act revamp chart show dj duo jk and ...   \n",
       "1487       1590  weak dollar hits reuters revenues at media gro...   \n",
       "1488       1587  apple ipod family expands market apple has exp...   \n",
       "1489        538  santy worm makes unwelcome visit thousands of ...   \n",
       "\n",
       "           Category  \n",
       "0          business  \n",
       "1          business  \n",
       "2          business  \n",
       "3              tech  \n",
       "4          business  \n",
       "...             ...  \n",
       "1485  entertainment  \n",
       "1486  entertainment  \n",
       "1487       business  \n",
       "1488           tech  \n",
       "1489           tech  \n",
       "\n",
       "[1490 rows x 3 columns]"
      ]
     },
     "execution_count": 3,
     "metadata": {},
     "output_type": "execute_result"
    }
   ],
   "source": [
    "df = pd.read_csv('BBC News.csv')\n",
    "df"
   ]
  },
  {
   "cell_type": "code",
   "execution_count": 4,
   "metadata": {},
   "outputs": [
    {
     "data": {
      "text/plain": [
       "sport            346\n",
       "business         336\n",
       "politics         274\n",
       "entertainment    273\n",
       "tech             261\n",
       "Name: Category, dtype: int64"
      ]
     },
     "execution_count": 4,
     "metadata": {},
     "output_type": "execute_result"
    }
   ],
   "source": [
    "df['Category'].value_counts()"
   ]
  },
  {
   "cell_type": "code",
   "execution_count": 5,
   "metadata": {
    "scrolled": true
   },
   "outputs": [
    {
     "data": {
      "text/plain": [
       "<AxesSubplot:>"
      ]
     },
     "execution_count": 5,
     "metadata": {},
     "output_type": "execute_result"
    },
    {
     "data": {
      "image/png": "[encoded data removed]",
      "text/plain": [
       "<Figure size 432x288 with 1 Axes>"
      ]
     },
     "metadata": {
      "needs_background": "light"
     },
     "output_type": "display_data"
    }
   ],
   "source": [
    "df['Category'].hist()"
   ]
  },
  {
   "cell_type": "markdown",
   "metadata": {},
   "source": [
    "Como podemos ver al hacer la funcion `value_counts()` y al ver el histograma, la cantidad de noticias pertenecientes a cada categoría varía bastante, pero no lo suficiente como para suponer un problema a la hora de clasificar las noticias según su categoría porque tenemos una cantidad suficiente de cada una. Debido a esta diferencia, resultará conveniente estratificar las particiones entre conjunto de datos de entrenamiento y test."
   ]
  },
  {
   "cell_type": "markdown",
   "metadata": {},
   "source": [
    "A continuación vamos a elegir un artículo al azar y observar la categoría en la que se ha clasificado."
   ]
  },
  {
   "cell_type": "code",
   "execution_count": 6,
   "metadata": {},
   "outputs": [
    {
     "data": {
      "text/plain": [
       "ArticleId                                                 1259\n",
       "Text         honda wins china copyright ruling japan s hond...\n",
       "Category                                              business\n",
       "Name: 100, dtype: object"
      ]
     },
     "execution_count": 6,
     "metadata": {},
     "output_type": "execute_result"
    }
   ],
   "source": [
    "df.iloc[100]"
   ]
  },
  {
   "cell_type": "code",
   "execution_count": 7,
   "metadata": {},
   "outputs": [
    {
     "data": {
      "text/plain": [
       "'honda wins china copyright ruling japan s honda has won a copyright case in beijing  further evidence that china is taking a tougher line on protecting intellectual property rights.  a court ruled that chongqing lifan industry group must stop selling honda brand motorbikes and said it must pay 1.47m yuan ($177 600) in compensation. internationally recognized regulation is now a key part of china s plans for developing its economy  analysts said. beijing also has been threatened with sanctions if it fails to clamp down.  chinese firms copy products ranging from computer software and spark plugs to baby milk and compact discs. despite the fact that product piracy is a major problem  foreign companies have only occasionally won cases and the compensation awarded has usually been small. still  recent rulings and announcements will have boosted optimism that attitudes are changing. earlier this week china said that in future it will punish violators of intellectual property rights with up to seven years in jail. and on tuesday  paws incorporated - the owner of the rights to garfield the cat - won a court battle against a publishing house that violated its copyright. other firms that have taken legal action in china  with varying degrees of success  include yamaha  general motors and toyota.  the problem of piracy is not limited to china  however  and the potential for profit is huge. the european union estimates that the global trade in pirated wares is worth more than 200bn euros a year (£140bn; $258bn)  or about 5% of total world trade. and it is growing. between 1998 and 2002  the number of counterfeit or pirated goods intercepted at the eu s external borders increased by more than 800%  it said. last month the eu said it will start monitoring china  ukraine and russia to ensure they are going after pirated goods. other countries on the eu s hit list include thailand  brazil  south korea and indonesia. any countries that are not making enough of an effort could be dragged to the world trade organisation (wto)  a step that could trigger economic sanctions  the eu warned.'"
      ]
     },
     "execution_count": 7,
     "metadata": {},
     "output_type": "execute_result"
    }
   ],
   "source": [
    "df.iloc[100][\"Text\"]"
   ]
  },
  {
   "cell_type": "markdown",
   "metadata": {},
   "source": [
    "Tras leer el artículo, lo clasificaríamos como `business`. Se puede observar la presencia de gran cantidad de palabras relacionadas con el ámbito empresarial."
   ]
  },
  {
   "cell_type": "markdown",
   "metadata": {},
   "source": [
    "A continuación vamos a crear las particiones de los datos, a las que le daremos un 80% de los datos para entrenamiento y el 20% restante para test."
   ]
  },
  {
   "cell_type": "code",
   "execution_count": 8,
   "metadata": {},
   "outputs": [],
   "source": [
    "from sklearn.model_selection import train_test_split\n",
    "\n",
    "news = df['Text'].to_numpy()\n",
    "categories = df['Category'].to_numpy()\n",
    "\n",
    "X_train, X_test, y_train, y_test = train_test_split(news,\n",
    "                                                    categories,\n",
    "                                                    test_size = 0.2,\n",
    "                                                    random_state = RANDOM_STATE,\n",
    "                                                    shuffle = True,\n",
    "                                                    stratify = categories)"
   ]
  },
  {
   "cell_type": "markdown",
   "metadata": {},
   "source": [
    "## 2) Representación basada en bolsa de palabras y frecuencia de aparición\n",
    "\n",
    "La primera vectorización que vamos a usar representará los mensajes usando el modelo de bolsa de palabras, monogramas y la frecuencia de aparición de cada palabra. Usa como _stop words_ las que vienen configuradas por defecto para el inglés.\n",
    "\n",
    "Aplica la vectorización a los conjuntos de mensajes de entrenamiento y test. Muestra algún mensaje tanto en su formato de texto original como en la versión vectorizada. ¿Qué palabras se han eliminado y por qué?\n",
    "\n",
    "Entrena un clasificador Naive Bayes Multinomial y calcula su tasa de aciertos sobre el conjunto de entrenamiento y el conjunto de test. A continuación calcula los valores de precisión, exhaustividad y puntuación F1 para cada una de las clases. Dibuja la matriz de confusión. Analiza los resultados obtenidos.\n",
    "\n",
    "A continuación, entrena un clasificador k-NN con la configuración por defecto y usando la misma vectorización. Analiza los resultados, ¿a qué crees que se deben?"
   ]
  },
  {
   "cell_type": "markdown",
   "metadata": {},
   "source": [
    "#### Solución:"
   ]
  },
  {
   "cell_type": "code",
   "execution_count": 9,
   "metadata": {},
   "outputs": [],
   "source": [
    "from sklearn.feature_extraction.text import CountVectorizer\n",
    "\n",
    "vectorizer = CountVectorizer(stop_words = 'english',\n",
    "                             binary = False, # frecuencia de aparición (NO simplemente si aparece o no)\n",
    "                             ngram_range=(1,1)) # solo monogramas\n",
    "\n",
    "train_vector_data = vectorizer.fit_transform(X_train)"
   ]
  },
  {
   "cell_type": "markdown",
   "metadata": {},
   "source": [
    "Vamos a ver cuántos términos hay y cómo han quedado."
   ]
  },
  {
   "cell_type": "code",
   "execution_count": 10,
   "metadata": {},
   "outputs": [
    {
     "name": "stdout",
     "output_type": "stream",
     "text": [
      "22087\n",
      "['00', '000', '0001', '000bn', '000m', '000th', '001', '001and', '001st', '007', '01', '0100', '0130', '028', '03', '033', '04', '0400', '041', '04bn', '04secs', '05', '050', '050505', '0530', '056', '05bn', '05m', '06', '0630', '07', '072', '08', '0800', '0845', '0870', '088', '09', '0900', '093', '0950', '09bn', '09secs', '10', '100', '1000th', '100bn', '100m', '100ml', '101', '102', '104', '105', '105bn', '105m', '106m', '107', '108', '1080', '109', '109m', '10bn', '10ft', '10m', '10secs', '10th', '11', '110', '1100', '110m', '110th', '111', '1115', '111m', '112', '113', '1130', '1130p', '113bn', '115', '116', '116i', '117', '117m', '119', '119bn', '119m', '11bn', '11pm', '11th', '12', '120', '1200', '1200m', '120bn', '120gb', '120m', '121', '1215', '1230', '124bn', '125', '125m', '126', '127th', '128', '12a', '12bn', '12cm', '12m', '12th', '13', '130', '1300', '130m', '132', '133', '1330', '1337', '133m', '134', '135', '137m', '138m', '138p', '139', '13bn', '13m', '13s', '13secs', '13th', '14', '140', '142', '142bn', '1430', '144', '1441', '144m', '145', '145m', '146', '148', '149', '1497', '14bn', '14m', '14th', '15', '150', '1500', '1500m', '150bn', '150m', '150th', '151', '152', '152m', '153', '154m', '155', '155m', '156m', '157', '158', '158th', '159', '15bn', '15m', '15s', '15th', '16', '160', '1600', '1600s', '1606', '160bn', '160gb', '160m', '162', '162bn', '162m', '163', '164', '1642', '165', '165bn', '166', '167', '1670', '168', '1689', '168m', '169', '16bn', '16k', '16m', '16s', '16th', '17', '170', '1700', '1701', '170bn', '170m', '171', '1727', '1728', '173', '1731', '173m', '174', '175', '1761', '177', '178', '178m', '17bn', '17m', '17th', '18', '180', '1800', '1800gmt', '1800s', '1801', '180bn', '1812', '1815', '182', '1831', '1834', '184', '1848', '184m', '185', '1857', '186', '1865', '187', '1875', '187m', '187th', '188', '189', '1891', '18bn', '18m', '18s', '18th', '19', '190', '1900', '1908', '190m', '191', '1910', '1911', '1912', '1915', '1917', '191m', '192', '1920', '1920s', '1922', '1927', '1929', '193', '1930s', '1934', '1935', '1936', '1938', '1939', '193bn', '1940', '1940s', '1942', '1943', '1944', '1945', '1946', '1947', '1948', '1949', '194m', '195', '1950', '1950s', '1951', '1952', '1953', '1954', '1955', '1956', '1957', '1958', '1959', '1960', '1960s', '1961', '1962', '1963', '1964', '1965', '1966', '1967', '1968', '1969', '196m', '1970', '1970s', '1971', '1972', '1973', '1974', '1975', '1976', '1977', '1978', '1979', '197bn', '198', '1980', '1980s', '1981', '1982', '1983', '1984', '1985', '1986', '1987', '1988', '1989', '198m', '1990', '1990s', '1991', '1992', '1993', '1994', '1995', '1996', '1997', '1998', '1999', '19bn', '19m', '19secs', '19th', '1bn', '1m', '1p', '1st', '1xtra', '20', '200', '2000', '2001', '2001alleging', '2001fetched', '2002', '2003', '2004', '2005', '2006', '2007', '2008', '2009', '200bn', '200m', '2010', '2011', '2012', '2013', '2014', '2015', '2018', '2020', '2022', '2025', '203', '204', '2048', '204m', '205', '2050', '206', '206m', '20bn', '20c', '20gb', '20m', '20mbps', '20p', '20s', '20th', '21', '210', '211', '216', '217', '21bn', '21m', '21st', '22', '220', '220m', '222', '224', '225', '226', '229', '22bn', '22m', '22nd', '23', '230', '2300', '230m', '231m', '233', '2340', '234m', '239', '23bn', '23m', '23rd', '24', '245m', '246', '246bn', '247p', '24bn', '24m', '24th', '25', '250', '2500', '250m', '256mb', '258', '25bn', '25lb', '25m', '25p', '25s', '25th', '26', '260', '261bn', '262', '263', '265', '265m', '266m', '267', '268', '26m', '26th', '27', '270', '271', '273', '274', '275', '276', '277th', '27bn', '27m', '28', '280', '280m', '282', '283', '284m', '285m', '2871', '28p', '28th', '29', '290', '290m', '291', '291m', '292', '293', '2940', '297', '2974', '29a', '29bn', '29m', '2am', '2bn', '2d', '2d3', '2g', '2gb', '2k', '2km', '2m', '2mbps', '30', '300', '3000', '300bn', '300m', '300p', '301', '305', '305m', '306', '308m', '30bn', '30ft', '30gb', '30m', '30mg', '30mph', '31', '311bn', '312', '313', '314', '318', '3187', '31bn', '31m', '32', '320', '320m', '3218', '322', '322m', '3230', '324', '325', '325m', '327', '327m', '328m', '329', '32bn', '32nd', '33', '331bn', '336m', '337', '339', '339m', '33bn', '33rd', '34', '340', '345m', '348bn', '349', '349m', '34bn', '34th', '35', '350', '3509', '350m', '3516', '354', '357', '35bn', '35m', '35mm', '36', '360', '364', '3652', '365m', '3667', '367', '368bn', '36bn', '36m', '36th', '37', '370', '370m', '374m', '375', '377bn', '378', '379m', '37bn', '38', '380m', '385', '386', '387m', '39', '390', '392', '399', '39m', '3ami', '3bn', '3c', '3d', '3g', '3gp', '3gsm', '3m', '3rds', '3x', '40', '400', '400m', '400th', '401', '402', '404', '407th', '40bn', '40gb', '40m', '40mbps', '40mph', '40s', '40th', '41', '412bn', '413', '415m', '418bn', '41bn', '41m', '42', '420', '420bn', '424m', '425', '429m', '42bn', '42m', '42nd', '43', '431m', '433', '434m', '436', '43m', '44', '440', '443m', '444', '449', '44th', '45', '450', '455', '458', '458m', '45bn', '45m', '45pm', '45secs', '45th', '46', '464', '465', '466', '469', '46m', '46secs', '47', '472bn', '474', '475m', '47bn', '47m', '48', '480', '480m', '481', '484bn', '4850', '488', '48bn', '48m', '49', '492m', '496', '499', '499m', '4bn', '4cm', '4gb', '4ghz', '4in', '4km', '4m', '4p', '4pm', '4th', '4x100m', '50', '500', '5000', '5000m', '500m', '505', '506m', '50m', '50mg', '50p', '50pc', '50th', '51', '510m', '512', '512kbps', '512m', '512mb', '514', '514m', '51bn', '51secs', '52', '520', '522', '525', '527', '529', '52m', '53', '530', '530m', '532m', '535', '537bn', '538', '53bn', '53p', '54', '540bn', '542', '544', '546m', '548p', '54bn', '54th', '55', '550', '550m', '555', '556', '55bn', '55m', '55s', '56', '560', '563', '568m', '569', '569m', '56m', '57', '570', '572', '575', '57bn', '58', '581m', '584m', '58bn', '59', '590', '593', '599', '59th', '5bn', '5g', '5gb', '5ive', '5k', '5m', '5p', '60', '600', '600m', '601', '603', '605', '607', '60bn', '60gb', '60m', '60p', '60secs', '60th', '61', '610m', '611', '61m', '62', '62secs', '63', '630', '630m', '635', '639m', '63secs', '64', '642', '644m', '645', '648m', '64secs', '65', '650', '659', '65bn', '65s', '66', '660', '6600', '666', '6661', '667', '66bn', '66m', '66secs', '67', '671', '674', '67th', '68', '680', '680m', '684bn', '68m', '69', '690', '690m', '691m', '692', '6bn', '6ft', '6gb', '6ghz', '6in', '6km', '6m', '6pm', '70', '700', '70m', '70p', '70s', '70th', '71', '713', '717', '717m', '72', '720', '72m', '73', '730', '732m', '733', '737', '73m', '74', '740', '745', '74m', '74th', '75', '750', '750m', '75bn', '75m', '75p', '75s', '76', '761m', '76m', '77', '7710', '775', '775m', '77bn', '77m', '77th', '78', '784m', '785m', '78bn', '79', '796', '797p', '799', '79m', '79p', '79th', '7bn', '7m', '7p', '80', '800', '800m', '805', '808m', '80gb', '80m', '80mg', '80p', '80s', '80th', '81', '814', '815', '81st', '82', '820', '825', '82bn', '83', '831', '833', '836m', '838m', '838th', '84', '84th', '85', '850', '850bn', '850m', '855bn', '857m', '85m', '86', '865', '86bn', '86m', '86th', '87', '870', '873p', '874m', '875', '87bn', '87th', '88', '885', '88m', '88th', '89', '895', '89bn', '89m', '89secs', '8am', '8bn', '8gb', '8ghz', '8m', '90', '900', '900m', '901m', '902', '906', '907', '9094', '90s', '90th', '91', '910m', '911', '912km', '91m', '92', '920', '922', '924', '9276', '93', '931m', '932', '933m', '93rd', '94', '940', '943', '94m', '95', '950m', '950p', '953', '957', '95bn', '95m', '96', '960m', '961', '96bn', '97', '971', '97bn', '97m', '98', '980m', '981', '984m', '98bn', '98m', '98th', '99', '997', '999', '999th', '9bn', '9m', '9p', 'a300s', 'a320', 'a380', 'a380s', 'a4', 'aa', 'aaa', 'aaas', 'aac', 'aadc', 'aaltra', 'aamir', 'aaron', 'abacus', 'abandon', 'abandoned', 'abandoning', 'abandonment', 'abba', 'abbas', 'abbasi', 'abbott', 'abbreviated', 'abc', 'abd', 'abdellatif', 'abdication', 'abdomen', 'abducted', 'abduction', 'abdullah', 'abdullatif', 'abebe', 'aberdeen', 'aberration', 'aberystwyth', 'abeyance', 'abeyie', 'abhorrent', 'abi', 'abide', 'abided', 'abiding', 'abilities', 'ability', 'abish', 'able', 'abn', 'abnormal', 'abnormality', 'abolish', 'abolishing', 'abolition', 'aborted', 'abortion', 'abortionist', 'abortive', 'abramovich', 'abroad', 'abrupt', 'absa', 'absence', 'absent', 'absentee', 'absolute', 'absolutely', 'absorb', 'absorbed', 'absorbing', 'abstain', 'abstentions', 'absurd', 'abundance', 'abundantly', 'aburizal', 'abuse', 'abused', 'abuses', 'abusing', 'abusive', 'abysmal', 'ac', 'academic', 'academics', 'academies', 'academy', 'acc', 'accelerate', 'accelerated', 'accelerating', 'acceleration', 'accelerator', 'accept', 'acceptable', 'acceptance', 'acceptances', 'accepted', 'accepting', 'accepts', 'access', 'accessed', 'accessible', 'accessing', 'accession', 'accessory', 'accident', 'accidental', 'accidentally', 'accidently', 'accidents', 'acclaim', 'acclaimed', 'accolade', 'accolades', 'accommodate', 'accommodated', 'accommodation', 'accompanied', 'accompaniment', 'accompany', 'accompanying', 'accomplice', 'accomplices', 'accomplish', 'accomplished', 'accomplishment', 'accord', 'accordance', 'according', 'accordingly', 'accosiation', 'account', 'accountability', 'accountable', 'accountancy', 'accountant', 'accountants', 'accounted', 'accounting', 'accounts', 'accoustic', 'accredited', 'accumulate', 'accumulates', 'accumulator', 'accuracy', 'accurate', 'accurately', 'accusation', 'accusations', 'accuse', 'accused', 'accuses', 'accusing', 'accustomed', 'ace', 'aceh', 'aces', 'achievable', 'achieve', 'achieved', 'achievement', 'achievements', 'achieving', 'achike', 'achilles', 'achtung', 'acid', 'acknowledge', 'acknowledged', 'acknowledges', 'acne', 'acoustic', 'acpo', 'acquiescent', 'acquire', 'acquired', 'acquiring', 'acquisition', 'acquisitions', 'acquittal', 'acquitted', 'acre', 'acres', 'acrimonious', 'acrimony', 'acrobatic', 'acrobatically', 'act', 'acted', 'acting', 'action', 'actionaid', 'actions', 'activate', 'activated', 'active', 'actively', 'activision', 'activison', 'activist', 'activists', 'activities', 'activity', 'actor', 'actors', 'actress', 'actresses', 'acts', 'actual', 'actually', 'acute', 'ad', 'adage', 'adair', 'adam', 'adamant', 'adamind', 'adams', 'adapt', 'adaptation', 'adaptations', 'adapted', 'adapter', 'adapters', 'adaptibility', 'adapting', 'adaptor', 'adaptors', 'adarsh', 'adb', 'add', 'addaction', 'added', 'addicks', 'addictive', 'addicts', 'adding', 'addink', 'addison', 'addition', 'additional', 'additionally', 'additives', 'address', 'addressed', 'addresses', 'addressing', 'adds', 'adductor', 'adelaide', 'adept', 'adequate', 'adequately', 'adere', 'ades', 'adhere', 'adheres', 'adhi', 'adidas', 'adjudicator', 'adjust', 'adjusted', 'adjusting', 'adjustment', 'adjustments', 'adjusts', 'administer', 'administered', 'administering', 'administration', 'administrations', 'administrative', 'administrator', 'administrators', 'admirable', 'admiration', 'admire', 'admirer', 'admissibility', 'admission', 'admissions', 'admit', 'admits', 'admittance', 'admitted', 'admittedly', 'admitting', 'admonished', 'adnan', 'ado', 'adolf', 'adopt', 'adopted', 'adopting', 'adoption', 'adoptive', 'adornments', 'adrian', 'adriano', 'adriatic', 'adrien', 'adroit', 'ads', 'adsl', 'adulation', 'adult', 'adultery', 'adulthood', 'adults', 'advance', 'advanced', 'advancement', 'advances', 'advancing', 'advanta', 'advantage', 'advantages', 'advent', 'adventure', 'adventures', 'adventurous', 'adversely', 'adversity', 'advert', 'advertise', 'advertised', 'advertisements', 'advertiser', 'advertisers', 'advertising', 'adverts', 'advice', 'advise', 'advised', 'adviser', 'advisers', 'advises', 'advising', 'advisor', 'advisors', 'advisory', 'advocate', 'advocated', 'advocates', 'adware', 'ae', 'aer', 'aero', 'aerosmith', 'aerospace', 'aesthetic', 'aesthetically', 'aesthetics', 'affable', 'affair', 'affairs', 'affect', 'affected', 'affecting', 'affection', 'affectionately', 'affects', 'afficiandos', 'affiliate', 'affiliates', 'afflicting', 'afford', 'affordability', 'affordable', 'afforded', 'afful', 'afghanistan', 'afi', 'afield', 'afloat', 'afoot', 'afp', 'afraid', 'africa', 'african', 'africans', 'aftenposten', 'afterlife', 'aftermath', 'afternoon', 'aftewards', 'afzal', 'ag', 'agassi', 'age', 'aged', 'ageing', 'ageism', 'agen', 'agence', 'agencies', 'agency', 'agenda', 'agendas', 'agent', 'agents', 'ages', 'aggravated', 'aggravating', 'aggregate', 'aggregates', 'aggregators', 'aggression', 'aggressive', 'aggressively', 'aggressors', 'aggrieved', 'agility', 'aging', 'agio', 'agitated', 'agm', 'agnelli', 'agnetha', 'agnostic', 'ago', 'agoa', 'agonising', 'agonisingly', 'agony', 'agree', 'agreeable', 'agreed', 'agreeing', 'agreement', 'agreements', 'agrees', 'agricultural', 'agriculture', 'agrochemical', 'agroflora', 'aguilera', 'ah', 'ahead', 'ahern', 'ai', 'aid', 'aidan', 'aided', 'aiden', 'aides', 'aids', 'aig', 'aim', 'aimed', 'aiming', 'aimlessly', 'aims', 'aiport', 'air', 'airbus', 'aircraft', 'aired', 'aires', 'airing', 'airline', 'airliners', 'airlines', 'airplane', 'airplay', 'airport', 'airports', 'airs', 'airtime', 'airway', 'airways', 'aishwariya', 'aishwarya', 'aitken', 'aiyegbeni', 'aizlewood', 'ajax', 'ak', 'aka', 'akaev', 'akamai', 'akhmetov', 'akin', 'akon', 'al', 'alabama', 'alain', 'alamos', 'alan', 'alarm', 'alarmed', 'alarming', 'alarms', 'alasdair', 'alastair', 'albania', 'albanian', 'albany', 'albeit', 'albert', 'albion', 'album', 'albums', 'alcatel', 'alcobev', 'alcock', 'alcohol', 'alcoholism', 'alcorn', 'alda', 'aldershot', 'ale', 'alegre', 'alejandro', 'alert', 'alerted', 'alerting', 'alerts', 'alessandro', 'alex', 'alexander', 'alexandra', 'alexandria', 'alexei', 'alfa', 'alfie', 'alfonso', 'alfred', 'algerian', 'algorithm', 'algorithms', 'ali', 'alias', 'aliases', 'alice', 'alicia', 'alien', 'alienated', 'aliens', 'alight', 'align', 'aligned', 'alike', 'alistair', 'alita', 'alive', 'allahgreen', 'allaire', 'allan', 'allander', 'allard', 'allay', 'allaying', 'allegation', 'allegations', 'allege', 'alleged', 'allegedly', 'alleges', 'allegiance', 'allegiances', 'alleging', 'allen', 'allende', 'alleviate', 'alley', 'alleyne', 'alli', 'alliance', 'alliances', 'allianz', 'allied', 'allies', 'allister', 'allocated', 'allocating', 'allocation', 'allotting', 'allow', 'allowance', 'allowances', 'alloway', 'allowed', 'allowing', 'allows', 'allsop', 'alltel', 'alludes', 'alluding', 'allure', 'ally', 'almagro', 'almeria', 'almodovar', 'almunia', 'alois', 'alongside', 'alonso', 'aloud', 'alphabet', 'alphabetically', 'alphabets', 'alright', 'altavista', 'alter', 'altered', 'altering', 'alternative', 'alternatively', 'alternatives', 'alto', 'altogether', 'alton', 'aluminium', 'alumnia', 'alun', 'alva', 'alvin', 'alwaleed', 'alwi', 'alyn', 'alyona', 'alzheimer', 'am3d', 'amadeo', 'amalgamated', 'amanda', 'amassed', 'amateur', 'amateurish', 'amateurs', 'amazed', 'amazes', 'amazing', 'amazingly', 'amazon', 'ambassador', 'ambassadors', 'amber', 'ambient', 'ambition', 'ambitions', 'ambitious', 'ambo', 'ambuja', 'amd', 'amelia', 'amelie', 'amenabar', 'amend', 'amended', 'amending', 'amendment', 'amendments', 'amends', 'amenity', 'ameobi', 'america', 'american', 'americanised', 'americans', 'ames', 'amibition', 'amibitions', 'amicable', 'amicus', 'amid', 'amidst', 'amiga', 'amin', 'amitabh', 'amma', 'amman', 'ammunition', 'amnesty', 'amoah', 'amoeba', 'amor', 'amounted', 'amounting', 'amounts', 'ampadu', 'ampas', 'amplified', 'amplifier', 'amply', 'amputated', 'amputators', 'amputee', 'amputees', 'amr', 'amro', 'amsterdam', 'amusing', 'amy', 'ana', 'anakin', 'analgesic', 'analogue', 'analogy', 'analyse', 'analysed', 'analysing', 'analysis', 'analyst', 'analysts', 'analyzing', 'anastacia', 'anastasia', 'anatoly', 'anatomical', 'ancelotti', 'ancestors', 'anchor', 'ancic', 'ancient', 'ancillary', 'ancram', 'anderlecht', 'andersen', 'anderson', 'andersson', 'anderton', 'andhra', 'andi', 'andrade', 'andre', 'andrea', 'andreas', 'andreev', 'andrei', 'andrew', 'andrews', 'andriy', 'andy', 'anecdotal', 'aneurysm', 'anew', 'anfield', 'angadias', 'angel', 'angela', 'angeles', 'angelina', 'angels', 'anger', 'angie', 'angle', 'angled', 'anglers', 'anglesea', 'anglia', 'anglian', 'anglicans', 'angling', 'anglo', 'angola', 'angolan', 'angrily', 'angry', 'angst', 'angus', 'animal', 'animals', 'animate', 'animated', 'animation', 'animations', 'animator', 'animators', 'animosity', 'aniston', 'anita', 'anjelica', 'ankara', 'ankle', 'ann', 'anna', 'annabelle', 'annadale', 'annals', 'annan', 'anne', 'annette', 'anni', 'annie', 'anniversaries', 'anniversary', 'announce', 'announced', 'announcement', 'announcements', 'announces', 'announcing', 'annoyance', 'annoyingly', 'annoys', 'annual', 'annually', 'annuity', 'annul', 'annum', 'annus', 'anoeta', 'anomalies', 'anomaly', 'anonymity', 'anonymous', 'anonymously', 'anselmo', 'anshuman', 'anson', 'answer', 'answered', 'answers', 'ant', 'ante', 'antelope', 'antenna', 'anthem', 'anthemic', 'anthony', 'anti', 'antibacterial', 'anticipate', 'anticipated', 'anticipation', 'antique', 'antiques', 'antiseptics', 'antithesis', 'antitrust', 'antoine', 'antoinette', 'anton', 'antonia', 'antonio', 'antony', 'antwerp', 'anurag', 'anxiety', 'anxious', 'anybody', 'anyhting', 'anymore', 'aol', 'ap', 'apace', 'apache', 'apacs', 'apart', 'apartheid', 'apathetic', 'apcom', 'apiece', 'aplomb', 'apocalypse', 'apollo', 'apologies', 'apologise', 'apologised', 'apologising', 'apology', 'appalled', 'apparatus', 'apparel', 'apparent', 'apparently', 'appeal', 'appealed', 'appealing', 'appeals', 'appear', 'appearance', 'appearances', 'appeared', 'appearing', 'appears', 'appetite', 'applaud', 'applauded', 'applause', 'apple', 'applegate', 'appleton', 'appliance', 'appliances', 'applicants', 'application', 'applications', 'applied', 'applies', 'apply', 'applying', 'appoint', 'appointed', 'appointment', 'appointments', 'appoints', 'appraisal', 'appraising', 'appreciably', 'appreciate', 'appreciated', 'appreciation', 'apprehension', 'apprentices', 'apprenticeship', 'approach', 'approached', 'approaches', 'approaching', 'appropriate', 'appropriately', 'approval', 'approvals', 'approve', 'approved', 'approves', 'approximately', 'approximation', 'apps', 'april', 'apurva', 'aquatic', 'aquilla', 'ar', 'arab', 'arabia', 'arabic', 'arabs', 'arafat', 'aragones', 'aramaic', 'aramburu', 'arash', 'arbitrarily', 'arbitrary', 'arbitration', 'arbor', 'arbuckle', 'arc', 'arcade', 'arcades', 'arcelor', 'arch', 'archaeological', 'archangel', 'archbishop', 'archer', 'architect', 'architecture', 'archive', 'archived', 'archives', 'archos', 'arcleor', 'arcy', 'ard', 'ardent', 'area', 'areas', 'aren', 'arena', 'arenas', 'argentina', 'argentine', 'argonaut', 'arguably', 'argue', 'argued', 'argues', 'arguing', 'argument', 'arguments', 'aria', 'aries', 'arise', 'arisen', 'arising', 'arizona', 'arjan', 'arjen', 'arkansas', 'arling', 'arlington', 'arm', 'armagh', 'armand', 'armando', 'armani', 'armed', 'armenians', 'armentieres', 'armes', 'armistead', 'armour', 'armoury', 'arms', 'army', 'arnaud', 'arne', 'arnesen', 'arnold', 'arnoldo', 'aroused', 'arouses', 'arpey', 'arquette', 'arrange', 'arranged', 'arrangement', 'arrangements', 'array', 'arrese', 'arrest', 'arrested', 'arrests', 'arrival', 'arrivals', 'arrive', 'arrived', 'arrives', 'arriving', 'arrogance', 'arrogant', 'arrogantly', 'arsenal', 'arsene', 'arsenic', 'arses', 'art', 'artery', 'arteta', 'artgarden', 'arthritis', 'arthur', 'article', 'articles', 'articulate', 'articulated', 'artificial', 'artificially', 'artist', 'artistic', 'artistry', 'artists', 'arts', 'artwork', 'artworks', 'aru', 'arvind', 'asagoe', 'asahi', 'asante', 'asbestos', 'asbestosis', 'ascenders', 'ascii', 'asha', 'ashamed', 'ashanti', 'ashburton', 'ashcroft', 'ashdown', 'asher', 'ashes', 'ashfield', 'ashford', 'ashley', 'ashton', 'ashvin', 'asi', 'asia', 'asian', 'asians', 'aside', 'ask', 'askar', 'asked', 'asking', 'asks', 'aspect', 'aspects', 'aspersions', 'asphalt', 'aspic', 'aspiration', 'aspiring', 'asplin', 'ass', 'assassin', 'assassinated', 'assassination', 'assault', 'assaulted', 'assaulting', 'assaults', 'assembled', 'assemblies', 'assembling', 'assembly', 'assert', 'assertion', 'assertions', 'assertiveness', 'asserts', 'asses', 'assess', 'assessed', 'assesses', 'assessing', 'assessment', 'assessments', 'assessor', 'asset', 'assets', 'assigned', 'assignment', 'assigns', 'assist', 'assistance', 'assistant', 'assistants', 'assisted', 'assisting', 'associate', 'associated', 'associates', 'association', 'associations', 'assume', 'assumed', 'assuming', 'assumption', 'assumptions', 'assurance', 'assurances', 'assure', 'assured', 'asteroid', 'aston', 'astonished', 'astonishing', 'astonishingly', 'astoria', 'astounded', 'astra', 'astrazeneca', 'astro', 'astronaut', 'astronauts', 'astronomical', 'asylum', 'asymmetric', 'asymmetry', 'atari', 'ate', 'athens', 'athlete', 'athletes', 'athletic', 'athleticism', 'athletico', 'athletics', 'athlon', 'atinc', 'atlanta', 'atlantic', 'atlas', 'atletico', 'atmosphere', 'atmospheric', 'atomic', 'atp', 'att', 'attach', 'attached', 'attachment', 'attachments', 'attack', 'attacked', 'attacker', 'attackers', 'attacking', 'attacks', 'attained', 'attaining', 'attainment', 'attallah', 'attempt', 'attempted', 'attempting', 'attempts', 'attend', 'attendance', 'attendances', 'attendant', 'attendants', 'attended', 'attendees', 'attending', 'attends', 'attention', 'attentions', 'attentive', 'atticus', 'attitude', 'attitudes', 'attlee', 'attorney', 'attract', 'attracted', 'attracting', 'attraction', 'attractions', 'attractive', 'attracts', 'attributable', 'attributed', 'atwood', 'au', 'auckland', 'auction', 'auctioned', 'auctioneer', 'auctions', 'audi', 'audience', 'audiences', 'audio', 'audiophile', 'audiovisuel', 'audit', 'audition', 'auditions', 'auditor', 'auditorium', 'auditors', 'audrey', 'auf', 'augment', 'augmented', 'august', 'augusto', 'aunt', 'aura', 'aurelien', 'auric', 'auschwitz', 'aussie', 'aussies', 'austin', 'australasia', 'australia', 'australian', 'austria', 'austrian', 'authentic', 'authentication', 'author', 'authorial', 'authorise', 'authorised', 'authorises', 'authorising', 'authoritarian', 'authorities', 'authority', 'authors', 'autistic', 'auto', 'autobiographical', 'autobiography', 'autocycle', 'autographs', 'autolink', 'autolinks', 'automaker', 'automated', 'automatic', 'automatically', 'automobile', 'automobiles', 'automotive', 'automotives', 'autos', 'autosport', 'autumn', 'auvergne', 'auxerre', 'auxiliary', 'av400', 'availability', 'available', 'avalanche', 'avalon', 'avatars', 'avenue', 'avenues', 'average', 'averages', 'averaging', 'avert', 'averted', 'averting', 'avery', 'avg', 'avi', 'aviation', 'aviator', 'avid', 'aviv', 'avoid', 'avoidance', 'avoided', 'avoiding', 'avoids', 'avonex', 'avril', 'await', 'awaited', 'awaiting', 'awaits', 'awakening', 'award', 'awarded', 'awarding', 'awards', 'aware', 'awareness', 'away', 'awe', 'awesome', 'awful', 'awol', 'axa', 'axe', 'axed', 'ayaan', 'aymone', 'aynsley', 'azim', 'azkaban', 'azmat', 'aznavour', 'aztrazeneca', 'azzam', 'baa', 'baas', 'babacan', 'babayaro', 'babies', 'babinet', 'baby', 'babyshamblers', 'babysitter', 'babysitting', 'bac', 'baccanello', 'baccarat', 'bach', 'bachchan', 'backbench', 'backbencher', 'backbenchers', 'backbenches', 'backbone', 'backdoor', 'backdrop', 'backed', 'backers', 'backfired', 'backfires', 'background', 'backgrounds', 'backhand', 'backhands', 'backing', 'backlash', 'backley', 'backpack', 'backroom', 'backs', 'backside', 'backsides', 'backsliding', 'backstage', 'backstreet', 'backtrack', 'backtracking', 'backup', 'backward', 'backwards', 'bacon', 'bad', 'baddeley', 'badly', 'badminton', 'bae', 'baffled', 'bafta', 'baftas', 'bag', 'baggage', 'bagged', 'baggins', 'baghdad', 'bagle', 'bags', 'baha', 'bahamas', 'baht', 'baikal', 'bail', 'bailed', 'bailey', 'bailiffs', 'bailout', 'bailouts', 'baiting', 'baker', 'bakersfield', 'bakley', 'bakrie', 'balado', 'balamory', 'balance', 'balanced', 'balances', 'balancing', 'balco', 'balde', 'balding', 'baldini', 'balfour', 'balkan', 'balkans', 'balked', 'ball', 'ballad', 'ballantine', 'ballerina', 'ballerinas', 'ballet', 'ballets', 'balloch', 'balloon', 'ballooned', 'ballooning', 'ballot', 'balloted', 'balloting', 'ballots', 'ballroom', 'balls', 'ballykissangel', 'ballymena', 'balmer', 'baltacha', 'baltasar', 'bamboozled', 'ban', 'bana', 'band', 'banderas', 'bandmates', 'bands', 'bandwagon', 'bandwidth', 'bang', 'bangaldesh', 'bangalore', 'banging', 'bangkok', 'bangladesh', 'bangladeshi', 'bangor', 'bangs', 'banished', 'banjo', 'bank', 'bankash', 'banked', 'banker', 'bankers', 'banking', 'bankroll', 'bankrupt', 'bankruptcies', 'bankruptcy', 'banks', 'bannatyne', 'banned', 'banner', 'banning', 'banos', 'banque', 'banques', 'banquet', 'bans', 'banter', 'banton', 'baoshan', 'bar', 'barbados', 'barbara', 'barbarians', 'barbary', 'barber', 'barbini', 'barbra', 'barca', 'barcelona', 'barclay', 'barclays', 'bardem', 'bare', 'barely', 'baretta', 'bargain', 'bargains', 'barged', 'barings', 'bark', 'barkley', 'barley', 'barlow', 'barn', 'barnard', 'barnes', 'barnet', 'barney', 'barnsley', 'barometer', 'baroness', 'baros', 'barosso', 'barr', 'barrage', 'barras', 'barratie', 'barred', 'barrel', 'barrels', 'barrick', 'barrier', 'barriers', 'barring', 'barrister', 'barron', 'barroso', 'barrow', 'barry', 'barrymore', 'bars', 'barstow', 'bartlett', 'bartoli', 'barton', 'barwick', 'bas', 'base', 'baseball', 'based', 'baseline', 'basement', 'bases', 'bash', 'bashing', 'basic', 'basically', 'basics', 'basildon', 'basing', 'basingstoke', 'basis', 'basketball', 'baskin', 'basking', 'basquiat', 'basra', 'bass', 'bassist', 'bastille', 'bat', 'batch', 'bateman', 'bates', 'bath', 'batistuta', 'batman', 'baton', 'batter', 'battered', 'batteries', 'battery', 'battle', 'battled', 'battlefield', 'battlefront', 'battlefronts', 'battleground', 'battlegrounds', 'battles', 'battleship', 'battling', 'bautista', 'baweja', 'bay', 'bayer', 'bayern', 'baying', 'bayleaf', 'bays', 'bb', 'bba', 'bbb', 'bbc', 'bbc1', 'bbc2', 'bbci', 'bcc', 'bdb', 'bdo', 'beach', 'beaches', 'beaded', 'beads', 'beagles', 'beam', 'beamed', 'bean', 'bear', 'beard', 'beardsley', 'bearer', 'bearing', 'bears', 'beast', 'beastie', 'beat', 'beatable', 'beaten', 'beating', 'beatle', 'beatles', 'beats', 'beattie', 'beatty', 'beaudoin', 'beaufort', 'beaumont', 'beautiful', 'beautifully', 'beauty', 'beauvillain', 'beauvillian', 'beck', 'beckett', 'beckham', 'beckhams', 'beckinsale', 'beckon', 'beckons', 'bed', 'bedding', 'bedford', 'bedfordshire', 'bedingfield', 'bedroom', 'beds', 'bedside', 'bee', 'beef', 'beeks', 'beenie', 'beer', 'beers', 'bees', 'beetle', 'began', 'begg', 'begin', 'beginning', 'beginnings', 'begins', 'begrudge', 'begun', 'beh', 'behalf', 'behave', 'behaved', 'behaving', 'behaviour', 'behavioural', 'beheaded', 'behemoth', 'beige', 'beijing', 'beijingers', 'beileve', 'beings', 'beirut', 'beith', 'bejewelled', 'bekele', 'belafonte', 'belarus', 'belfast', 'belgian', 'belgium', 'belgrade', 'belgrave', 'belief', 'beliefs', 'believable', 'believe', 'believed', 'believes', 'believing', 'belinda', 'bell', 'bellahouston', 'bellamy', 'belle', 'bellicose', 'bellion', 'bells', 'belly', 'belmar', 'belmarsh', 'beloned', 'belong', 'belonged', 'belonging', 'belongings', 'belongs', 'beloved', 'belsen', 'belt', 'bemand', 'bemoaning', 'ben', 'bench', 'benches', 'benchmark', 'benchmarks', 'benckiser', 'bend', 'bending', 'benefactors', 'beneficial', 'beneficiaries', 'benefit', 'benefited', 'benefiting', 'benefits', 'benesova', 'benign', 'bening', 'benita', 'benitez', 'benjamin', 'benmosche', 'benn', 'bennallack', 'bennett', 'bennington', 'benny', 'benoit', 'bent', 'benz', 'berated', 'bereft', 'beresford', 'bergamasco', 'berger', 'bergerac', 'bergh', 'bergkamp', 'bergman', 'berhane', 'berhanu', 'beringer', 'berkeley', 'berkovic', 'berlin', 'berlinale', 'berlusconi', 'berman', 'bernabeu', 'bernal', 'bernard', 'bernardo', 'bernath', 'bernd', 'bernie', 'berry', 'bershawn', 'bert', 'bertelsmann', 'berth', 'berthinussen', 'berti', 'bertie', 'bertolucci', 'beset', 'bespoke', 'best', 'bests', 'bestseller', 'bestsellers', 'bestselling', 'bet', 'beta', 'betamax', 'beth', 'bethan', 'bethnal', 'betray', 'betrayal', 'betrayed', 'betraying', 'bets', 'betsen', 'better', 'bettered', 'betting', 'betts', 'bevan', 'beverley', 'beverly', 'bewildered', 'bewildering', 'bewilderment', 'bewlay', 'bex', 'beynon', 'beyonce', 'bez', 'bhanu', 'bharti', 'bhi', 'bhp', 'bi', 'biarritz', 'bias', 'biased', 'bible', 'biblical', 'bibliographies', 'bicester', 'bickering', 'bicycles', 'bid', 'bidder', 'bidders', 'bidding', 'bide', 'bids', 'bifa', 'big', 'bigger', 'biggest', 'bigley', 'bigoted', 'bigotry', 'bigots', 'bike', 'bilateral', 'bilingual', 'biljon', 'billboard', 'billboards', 'billed', 'billing', 'billingsgate', 'billion', 'billionaire', 'billions', 'billiton', 'bills', 'billy', 'bin', 'binding', 'binge', 'bingham', 'bingley', 'bingo', 'binned', 'binoche', 'bins', 'bio', 'biocidal', 'biogen', 'biographer', 'biography', 'biological', 'biology', 'biometric', 'biopic', 'biotech', 'birch', 'birchfield', 'bird', 'birkenhead', 'birkett', 'birmingham', 'birth', 'birthday', 'birthdays', 'birthistle', 'biscan', 'biscuit', 'bisected', 'bishop', 'bishops', 'bisnis', 'bisset', 'bit', 'bite', 'bits', 'bitter', 'bittersweet', 'bittorrent', 'biz', 'bizarre', 'bizet', 'bjorgo', 'bjorkman', 'bjorn', 'black', 'blackberries', 'blackberry', 'blackboard', 'blackbuck', 'blackburn', 'blacklists', 'blackmail', 'blackmailed', 'blackman', 'blackpool', 'blacks', 'blade', 'blair', 'blairite', 'blairs', 'blake', 'blame', 'blamed', 'blames', 'blaming', 'blanche', 'blanchett', 'bland', 'blank', 'blass', 'blast', 'blasted', 'blasters', 'blasting', 'blasts', 'blatant', 'blaze', 'blazed', 'blazers', 'blazin', 'blazing', 'blb', 'bleak', 'bleakest', 'bleakly', 'blears', 'bled', 'bleep', 'bleeps', 'blend', 'blending', 'bless', 'blessed', 'blessing', 'blethyn', 'blew', 'blewitt', 'blige', 'blight', 'blighted', 'blighting', 'blind', 'blindingly', 'blinkx', 'blinx', 'blip', 'blips', 'blistering', 'blisters', 'blitz', 'blizzard', 'bloc', 'block', 'blockbuster', 'blockbusters', 'blocked', 'blocking', 'blocks', 'blog', 'blogged', 'blogger', 'bloggers', 'blogging', 'bloglines', 'blogosphere', 'blogs', 'blogsphere', 'bloke', 'blom', 'blomefontein', 'blood', 'bloody', 'bloom', 'bloomberg', 'blooming', 'bloomingdale', 'blow', 'blowing', 'blown', 'blue', 'bluegrass', 'bluephone', 'blueprint', 'blues', 'bluetooth', 'bluewater', 'blume', 'blunkett', 'blunt', 'bluntly', 'blur', 'blurred', 'blurring', 'blurs', 'blushed', 'blushes', 'blushing', 'blustery', 'blythe', 'bmg', 'bmo', 'bmr', 'bmw', 'bn', 'bnp', 'bo', 'board', 'boarding', 'boardroom', 'boardrooms', 'boards', 'boast', 'boasted', 'boasts', 'boat', 'boateng', 'boats', 'bob', 'bobby', 'bobs', 'bode', 'bodes', 'bodied', 'bodies', 'bodinat', 'bodleian', 'body', 'bodyguard', 'boe', 'boeing', 'boerse', 'bofra', 'bogart', 'bogdanovic', 'bogota', 'bogus', 'boi', 'boil', 'boiled', 'boiler', 'boils', 'boix', 'boks', 'bold', 'bolder', 'bollan', 'bollesan', 'bollywood', 'bolster', 'bolted', 'bolton', 'bolts', 'bomb', 'bombard', 'bombarded', 'bombardier', 'bombastic', 'bombay', 'bombers', 'bombing', 'bombings', 'bombs', 'bon', 'bona', 'bonar', 'bond', 'bondarenko', 'bonderman', 'bondholders', 'bondi', 'bonds', 'bone', 'bones', 'bonfire', 'bonham', 'bonhams', 'bonn', 'bonnaire', 'bonnie', 'bonny', 'bono', 'bonus', 'bonuses', 'boo', 'boogeyman', 'book', 'booked', 'booker', 'bookies', 'booking', 'bookings', 'bookmaker', 'bookmakers', 'bookrunners', 'books', 'booksellers', 'bookshelves', 'bookshops', 'boom', 'boomed', 'booming', 'booms', 'boost', 'boosted', 'boosting', 'boosts', 'boot', 'booted', 'booth', 'bootle', 'boots', 'booy', 'booze', 'boramae', 'border', 'borders', 'bordesley', 'bore', 'bored', 'boring', 'boris', 'born', 'borne', 'boro', 'borough', 'boroughs', 'borrell', 'borrow', 'borrowed', 'borrowers', 'borrowing', 'borthwick', 'bortolami', 'borussia', 'bosch', 'boscholt', 'bosphorus', 'boss', 'bosses', 'bossy', 'boston', 'bosvelt', 'bosworth', 'bot', 'botch', 'bother', 'bothered', 'bots', 'bottle', 'bottled', 'bottlenecks', 'bottles', 'bouba', 'boudewijn', 'bought', 'boulevard', 'boulton', 'bounce', 'bounced', 'bouncing', 'bound', 'boundaries', 'boundary', 'bounded', 'bounty', 'bouquets', 'bourgoin', 'bourn', 'bourne', 'bournemouth', 'bourse', 'bout', 'bovina', 'bow', 'bowe', 'bowers', 'bowie', 'bowl', 'bowles', 'bows', 'box', 'boxer', 'boxes', 'boxing', 'boy', 'boyd', 'boyfriend', 'boyfriends', 'boyle', 'boynton', 'boys', 'boyzone', 'bozzi', 'bp', 'bpd', 'bpi', 'br', 'brace', 'braced', 'bracelet', 'bracing', 'brackets', 'bracknell', 'brad', 'bradfield', 'bradford', 'bradley', 'brady', 'braff', 'brag', 'bragging', 'braille', 'brain', 'brainchild', 'brains', 'brainwave', 'brainwaves', 'brake', 'brakes', 'braking', 'bramham', 'branch', 'branches', 'brand', 'branded', 'branding', 'brando', 'brandon', 'brands', 'brandy', 'brankin', 'brannen', 'branson', 'brass', 'bratman', 'brave', 'braved', 'bravely', 'bravery', 'bravest', 'brawn', 'brazenly', 'brazil', 'brazilian', 'brazilians', 'brc', 'breach', 'breached', 'breaches', 'breaching', 'breadline', 'breadth', 'break', 'breakdown', 'breakdowns', 'breaker', 'breakers', 'breakfast', 'breaking', 'breakneck', 'breaks', 'breakthrough', 'breast', 'breath', 'breathalysed', 'breathe', 'breathed', 'breathing', 'breed', 'breeding', 'breezes', 'bremen', 'brenda', 'brendan', 'brennan', 'brent', 'brentford', 'brett', 'breville', 'brewer', 'breweries', 'brewers', 'brewery', 'brewing', 'brian', 'bribe', 'bribery', 'bribes', 'bribing', 'brick', 'bricks', 'bride', 'bridge', 'bridgehead', 'bridgepoint', 'bridges', 'bridget', 'bridgewell', 'brie', 'brief', 'briefcase', 'briefed', 'briefers', 'briefing', 'briefings', 'briefly', 'brien', 'brigade', 'bright', 'brightcove', 'brighten', 'brightest', 'brightly', 'brightmail', 'brighton', 'brigitte', 'brilliance', 'brilliant', 'brilliantly', 'brimming', 'brindley', 'bring', 'bringing', 'brings', 'brink', 'brisbane', 'bristol', 'brit', 'britain', 'britains', 'britannia', 'british', 'britishness', 'britney', 'briton', 'britons', 'britpop', 'brits', 'britten', 'britton', 'brive', 'brixton', 'brizzel', 'broad', 'broadband', 'broadcast', 'broadcaster', 'broadcasters', 'broadcasting', 'broadcasts', 'broaden', 'broadened', 'broader', 'broadly', 'broadreach', 'broadside', 'broadus', 'broadway', 'broccoli', 'brockstein', 'brody', 'broes', 'brokaw', 'broke', 'broken', 'broker', 'brokerage', 'brokerages', 'brokered', 'brokers', 'broking', 'brolin', 'brom', 'bromesberrow', 'bromsgrove', 'bromwich', 'bronchitis', 'bronze', 'bronzes', 'brooker', 'brooks', 'brookside', 'brookstein', 'broom', 'bros', 'brosnan', 'brothels', 'brother', 'brotherhood', 'brothers', 'brought', 'brown', 'browne', 'brownie', 'brownite', 'brownlees', 'brownsville', 'brownsword', 'browse', 'browser', 'browsers', 'browses', 'browsing', 'bruce', 'bruer', 'bruins', 'bruises', 'bruising', 'brunei', 'bruni', 'brunini', 'bruno', 'brunswick', 'brusca', 'brush', 'brushed', 'brushes', 'brussels', 'brutal', 'brutally', 'brute', 'bryan', 'bryn', 'bryson', 'bsa', 'bse', 'bskyb', 'bsl', 'bst', 'bt', 'bubble', 'bubbles', 'bubbling', 'buccaneer', 'buccaneers', 'bucharest', 'buck', 'bucket', 'buckfield', 'bucking', 'buckingham', 'buckinghamshire', 'buckland', 'buckling', 'bucks', 'bud', 'budapest', 'budd', 'buddhist', 'buddy', 'budge', 'budget', 'budgetary', 'budgets', 'buena', 'buenos', 'buerk', 'buffel', 'buffers', 'buffs', 'bug', 'bugs', 'buick', 'build', 'builder', 'builders', 'building', 'buildings', 'builds', 'buildyourown', 'built', 'buju', 'bulb', 'bulbs', 'bulgaria', 'bulgarian', 'bulk', 'bulky', 'bull', 'bullet', 'bulletin', 'bulletins', 'bullets', 'bullish', 'bulloch', 'bullock', 'bulls', 'bully', 'bullying', 'bump', 'bumped', 'bumper', 'bumps', 'bunch', 'bundesbank', 'bundle', 'bundled', 'bundling', 'bungalow', 'bungie', 'bunker', 'bunnymen', 'bunuel', 'buoy', 'buoyant', 'buoyed', 'buoying', 'bupa', 'burberry', 'burchill', 'burden', 'burdened', 'burdens', 'burdensome', 'bureau', 'bureaucracy', 'bureaucratic', 'bureaucratism', 'bureaucrats', 'burgas', 'burgeoning', 'burger', 'burglar', 'burglars', 'burglary', 'burgle', 'buried', 'buries', 'burka', 'burke', 'burma', 'burn', 'burner', 'burnett', 'burning', 'burnish', 'burnley', 'burnout', 'burns', 'burrell', 'burrow', 'burst', 'bursting', 'burstow', 'bursts', 'burt', 'bury', 'burying', 'bus', 'buscemi', 'bush', 'bushtucker', 'busier', 'busiest', 'business', 'businesses', 'businessman', 'businessmen', 'bussell', 'bust', 'busted', 'busting', 'busy', 'butcher', 'butler', 'butlers', 'butragueno', 'buts', 'butt', 'butting', 'button', 'buttons', 'buxton', 'buy', 'buyback', 'buybacks', 'buyer', 'buyers', 'buying', 'buyout', 'buys', 'buzz', 'buzzing', 'buzzwords', 'bwv', 'bye', 'byline', 'byodkm', 'bypass', 'bypassed', 'bypassing', 'byrne', 'byron', 'c180', 'c4', 'ca', 'caan', 'cab', 'caballeros', 'cabin', 'cabinet', 'cabinets', 'cabir', 'cable', 'cables', 'caborn', 'cabs', 'cactus', 'cadbury', 'cadena', 'cadillac', 'cadle', 'cadmium', 'caf', 'cafe', 'cafes', 'cafod', 'cafu', 'cagigal', 'cahill', 'caillet', 'caire', 'cairn', 'cake', 'calculate', 'calculated', 'calculations', 'calculator', 'calcutta', 'calder', 'caldwell', 'calendar', 'calf', 'calibre', 'california', 'calisto', 'callaghan', 'called', 'callers', 'calling', 'callow', 'calls', 'calm', 'calmer', 'calming', 'calorie', 'calum', 'calvin', 'calvisano', 'calyon', 'camara', 'camaraderie', 'camberley', 'cambiemos', 'cambodia', 'cambridge', 'cambridgeshire', 'camcorder', 'camcorders', 'came', 'camels', 'cameo', 'camera', 'cameras', 'cameron', 'cameroon', 'camilla', 'camille', 'camp', 'campaign', 'campaigned', 'campaigner', 'campaigners', 'campaigning', 'campaigns', 'campbell', 'camped', 'campell', 'camper', 'camps', 'cams', 'canada', 'canadian', 'canal', 'canale', 'canaries', 'canary', 'canas', 'canberra', 'cancel', 'cancellation', 'cancellations', 'cancelled', 'cancelling', 'cancels', 'cancer', 'candid', 'candidate', 'candidates', 'candidly', 'candillon', 'canio', 'cannabidiol', 'cannabis', 'canned', 'cannes', 'cannibalism', 'cannibals', 'cannings', 'cannisters', 'cannon', 'canny', 'canopy', 'cans', 'cantalupo', 'cantata', 'canterbury', 'cantonese', 'canvas', 'canvass', 'canvassers', 'canvassing', 'cao', 'caouette', 'cap', 'capabilities', 'capability', 'capable', 'capacities', 'capacity', 'cape', 'capella', 'capellas', 'caper', 'capgemini', 'capital', 'capitalisation', 'capitalise', 'capitalised', 'capitalising', 'capitol', 'capitulate', 'capitulation', 'capleton', 'capped', 'capping', 'capra', 'capriati', 'caprice', 'caps', 'capt', 'captain', 'captaincy', 'captained', 'captaining', 'captains', 'caption', 'captioning', 'captivity', 'capture', 'captured', 'captures', 'capturing', 'car', 'cara', 'caramel', 'carat', 'caravaggio', 'caravan', 'carbon', 'carbonated', 'card', 'carded', 'carderplanet', 'cardiff', 'cards', 'care', 'cared', 'career', 'careers', 'careful', 'carefully', 'careless', 'carer', 'carers', 'cares', 'caretaker', 'carey', 'carfax', 'carib', 'caribbean', 'caribs', 'caring', 'carl', 'carla', 'carling', 'carlo', 'carlos', 'carlsen', 'carly', 'carmaker', 'carmakers', 'carmaking', 'carman', 'carmen', 'carnival', 'carol', 'carolina', 'caroline', 'carousing', 'carpenter', 'carpet', 'carr', 'carradine', 'carragher', 'carrey', 'carrick', 'carried', 'carrier', 'carriers', 'carries', 'carroll', 'carrow', 'carry', 'carrying', 'cars', 'carson', 'carsoni', 'carswell', 'cartagena', 'carte', 'cartel', 'carter', 'cartilage', 'cartoon', 'cartridge', 'cartridges', 'carvalho', 'carve', 'carved', 'carvel', 'carving', 'cas', 'casablanca', 'case', 'cases', 'casey', 'cash', 'cashed', 'casino', 'casinos', 'casio', 'caspian', 'cast', 'castaignede', 'castaldo', 'casting', 'castle', 'castor', 'castres', 'castrogiovanni', 'casts', 'casual', 'casualties', 'casualty', 'cat', 'catalan', 'catalina', 'catalogue', 'catalogues', 'cataloguing', 'catalysed', 'catalyst', 'catapulted', 'catastrophe', 'catastrophes', 'catch', 'catches', 'catching', 'catchy', 'cate', 'categorically', 'categories', 'categorisation', 'categorise', 'category', 'catering', 'cates', 'cathal', 'catherina', 'catherine', 'catholic', 'catholics', 'cathy', 'cats', 'catsuit', 'cattle', 'cattrall', 'catwoman', 'caudwell', 'caught', 'cauldron', 'cause', 'caused', 'causes', 'causeway', 'causing', 'caustic', 'caution', 'cautioned', 'cautions', 'cautious', 'cautiously', 'cavalcade', 'cavalier', 'cavanagh', 'cave', 'cayenne', 'cazalets', 'cb', 'cbbc', 'cbi', 'cbo', 'cbs', 'ccf', 'cctv', 'cd', 'cdp', 'cds', 'cea', 'cease', 'ceased', 'ceasefire', 'cec', 'cech', 'cecil', 'cedric', 'ceiling', 'celebrate', 'celebrated', 'celebrates', 'celebrating', 'celebration', 'celebrations', 'celebrities', 'celebrity', 'celeron', 'celestine', 'celine', 'cell', 'cellery', 'cellnet', 'cells', 'celltick', 'celta', 'celtic', 'cement', 'cemented', 'cemetery', 'censor', 'censored', 'censors', 'censorship', 'cent', 'center', 'centimetres', 'centr', 'central', 'centralisation', 'centrally', 'centre', 'centred', 'centrepiece', 'centres', 'centring', 'cents', 'centuries', 'century', 'ceo', 'ceplak', 'cept', 'ceremonies', 'ceremony', 'ceri', 'cern', 'certain', 'certainly', 'certainty', 'certificate', 'certificates', 'certified', 'certify', 'ces', 'cesar', 'cesars', 'cesc', 'cfa', 'cfca', 'cfx', 'cga', 'chabal', 'chagrin', 'chain', 'chained', 'chains', 'chainsaw', 'chair', 'chaired', 'chairing', 'chairman', 'chairmanship', 'chairmen', 'chairs', 'chairwoman', 'chakkara', 'chakrabarti', 'chalfont', 'chalk', 'challenge', 'challenged', 'challenger', 'challenges', 'challenging', 'chamber', 'chambers', 'chambre', 'champagne', 'champion', 'championing', 'champions', 'championship', 'championships', 'chan', 'chance', 'chancellor', 'chancellors', 'chances', 'chancing', 'chandler', 'chandon', 'chang', 'change', 'changeable', 'changed', 'changeover', 'changer', 'changes', 'changi', 'changing', 'channel', 'channelled', 'channels', 'chanting', 'chants', 'chaos', 'chaotic', 'chapel', 'chaplin', 'chapman', 'chapter', 'chapters', 'character', 'characterised', 'characterises', 'characteristic', 'characteristically', 'characteristics', 'characterized', 'characters', 'charade', 'charbonnier', 'charcote', 'charge', 'charged', 'charges', 'charging', 'charing', 'charismatic', 'charitable', 'charities', 'charity', 'charlatans', 'charlene', 'charleroi', 'charles', 'charlie', 'charlize', 'charlotte', 'charlton', 'charly', 'charm', 'charming', 'chart', 'charter', 'chartered', 'chartering', 'charting', 'charts', 'charvis', 'chase', 'chased', 'chases', 'chasing', 'chassis', 'chat', 'chatham', 'chatrooms', 'chatshow', 'chatted', 'chatter', 'chauvinistic', 'chavez', 'cheadle', 'cheap', 'cheapened', 'cheaper', 'cheapest', 'cheaply', 'cheapness', 'cheating', 'cheats', 'check', 'checked', 'checking', 'checkpoints', 'checks', 'cheekbone', 'cheer', 'cheerful', 'cheering', 'cheerleader', 'cheers', 'cheese', 'cheeses', 'cheetham', 'chef', 'chela', 'chelsea', 'chelsom', 'chemical', 'chemicals', 'chemistry', 'chen', 'cheney', 'chennai', 'chepkemei', 'cheque', 'cherie', 'cherish', 'cherished', 'cherkasky', 'cherkasova', 'cherney', 'chernin', 'cheshire', 'cheslea', 'chest', 'chester', 'cheung', 'chevrolet', 'chevrontexaco', 'chi', 'chia', 'chic', 'chicago', 'chicoine', 'chidambaram', 'chides', 'chief', 'chiefly', 'chiefs', 'chieko', 'chiffon', 'chiffre', 'chihwaseon', 'child', 'childcare', 'childe', 'childhood', 'childishness', 'children', 'childrens', 'chile', 'chilean', 'chill', 'chilly', 'chin', 'china', 'chinese', 'chino', 'chip', 'chipped', 'chipping', 'chips', 'chirac', 'chiropractor', 'chit', 'chittabrata', 'chivas', 'choice', 'choices', 'choir', 'choking', 'cholesterol', 'chong', 'chook', 'choose', 'chooses', 'choosing', 'chop', 'chopin', 'chopped', 'chore', 'choreographed', 'choreographer', 'choreographers', 'choreography', 'choristes', 'chorus', 'chose', 'chosen', 'chris', 'chrissie', 'christ', 'christchurch', 'christian', 'christianity', 'christie', 'christina', 'christmas', 'christmases', 'christophe', 'christopher', 'christos', 'chromium', 'chronic', 'chronically', 'chronicle', 'chronicles', 'chronology', 'chronometer', 'chrysler', 'chubb', 'chunk', 'church', 'churches', 'churchill', 'churn', 'churning', 'chuter', 'cia', 'ciara', 'cibc', 'cicero', 'cigarette', 'cigarettes', 'cigars', 'cincinnati', 'cinema', 'cinemas', 'cinematic', 'cinematographer', 'cinematographically', 'cinematography', 'ciphertrust', 'cips', 'circle', 'circles', 'circling', 'circs', 'circuit', 'circuits', 'circular', 'circulate', 'circulated', 'circulating', 'circulation', 'circumstances', 'circuses', 'cirkus', 'cis', 'cisco', 'cisse', 'cite', 'cited', 'citibank', 'cities', 'citigroup', 'citing', 'citizen', 'citizens', 'citizenship', 'citroen', 'citu', 'city', 'civic', 'civil', 'civilian', 'civilians', 'civilised', 'civilly', 'cj', 'ckx', 'claes', 'claim', 'claimed', 'claiming', 'claims', 'claire', 'clamour', 'clamp', 'clampdown', 'clampett', 'clamping', 'clamshell', 'clancy', 'clandestine', 'clank', 'clans', 'clapping', 'clapton', 'claquin', 'clara', 'clare', 'clarence', 'clarets', 'claridge', 'clarified', 'clarify', 'clarifying', 'clarity', 'clark', 'clarke', 'clarkson', 'clash', 'clashed', 'class', 'classed', 'classes', 'classic', 'classical', 'classics', 'classification', 'classifications', 'classified', 'classifying', 'classroom', 'classy', 'claude', 'claudia', 'claudio', 'clause', 'clauses', 'clawed', 'claws', 'claxton', 'clay', 'clayton', 'clean', 'cleaned', 'cleaner', 'cleaners', 'cleaning', 'clear', 'clearance', 'cleared', 'clearer', 'clearest', 'clearing', 'clearly', 'clearskies', 'clearstream', 'clearswift', 'clearview', 'cleese', 'clement', 'clemente', 'clergy', 'clergyman', 'clerk', 'clermont', 'cleveland', 'clever', 'cleverly', 'cliche', 'clichy', 'click', 'clicked', 'clicking', 'clicks', 'client', 'clients', 'cliff', 'clijsters', 'climan', 'climate', 'climax', 'climb', 'climbdown', 'climbed', 'climbing', 'climbs', 'clinch', 'clinched', 'clinches', 'clinching', 'cling', 'clinging', 'clinic', 'clinical', 'clinically', 'clint', 'clinton', 'clipped', 'clips', 'cliques', 'clitheroe', 'clive', 'clock', 'clocked', 'clocking', 'clockwork', 'clog', 'clogged', 'clones', 'clooney', 'close', 'closed', 'closely', 'closer', 'closes', 'closest', 'closet', 'closets', 'closing', 'closure', 'closures', 'clothe', 'clothes', 'clothing', 'cloud', 'clouded', 'clouding', 'clown', 'club', 'club2school', 'clubman', 'clubs', 'clue', 'cluedo', 'clues', 'cluley', 'clump', 'clumsily', 'clumsy', 'clunes', 'clung', 'clutch', 'clutches', 'clutterbuck', 'clyde', 'cmf', 'cml', 'coach', 'coached', 'coaches', 'coaching', 'coachmen', 'coagulant', 'coal', 'coalition', 'coarse', 'coast', 'coastal', 'coasted', 'coat', 'coatings', 'coax', 'cobain', 'cobalt', 'cobblestones', 'cobh', 'cobham', 'cobhwoman', 'coby', 'cocaine', 'cochilco', 'cock', 'cockbain', 'cockerill', 'cocktail', 'coddled', 'code', 'coded', 'codelco', 'codemasters', 'codename', 'codenamed', 'coders', 'codes', 'coffee', 'coffers', 'coghlan', 'cogniron', 'cohen', 'coherent', 'cohesion', 'cohorts', 'coin', 'coincide', 'coincided', 'coincidence', 'coincidental', 'coincidentally', 'coinciding', 'coined', 'coins', 'coking', 'col', 'cola', 'colchester', 'cold', 'colder', 'coldplay', 'cole', 'coleman', 'colen', 'coleraine', 'colgan', 'colin', 'collaborate', 'collaborated', 'collaborating', 'collaboration', 'collaborative', 'collaborator', 'collaborators', 'collapse', 'collapsed', 'collapses', 'collar', 'collateral', 'colleague', 'colleagues', 'collect', 'collected', 'collecting', 'collection', 'collections', 'collective', 'collectively', 'collector', 'collectors', 'collects', 'college', 'colleges', 'collegiate', 'collide', 'collided', 'collier', 'collingwood', 'collins', 'collision', 'collison', 'colloquial', 'colluded', 'colludes', 'colombia', 'colombian', 'colon', 'colonel', 'colonial', 'colonisation', 'colony', 'colorado', 'colorectal', 'colosseum', 'colossus', 'colour', 'coloured', 'colourful', 'colours', 'coltrane', 'columbia', 'column', 'columnist', 'columns', 'com', 'coma', 'comair', 'comb', 'combat', 'combatant', 'combatants', 'combating', 'combats', 'combination', 'combine', 'combined', 'combines', 'combining', 'combs', 'come', 'comeback', 'comedian', 'comedians', 'comedic', 'comedies', 'comedy', 'comes', 'comfortable', 'comfortably', 'comic', 'comics', 'coming', 'command', 'commanded', 'commandeered', 'commander', 'commanders', 'commanding', 'commands', 'commemoration', 'commences', 'commencing', 'commendable', 'comment', 'commentary', 'commentate', 'commentator', 'commentators', 'commented', 'commenting', 'comments', 'commerce', 'commercial', 'commercialisation', 'commercialised', 'commercially', 'commission', 'commissioned', 'commissioner', 'commissioners', 'commissions', 'commit', 'commited', 'commitment', 'commitments', 'committed', 'committee', 'committees', 'committing', 'commodities', 'commoditising', 'commodity', 'commodore', 'common', 'commonly', 'commonplace', 'commons', 'commonwealth', 'communicate', 'communicated', 'communicateresearch', 'communicating', 'communication', 'communications', 'communicator', 'communiqu', 'communism', 'communist', 'communities', 'community', 'commuters', 'compact', 'companies', 'companion', 'companions', 'company', 'comparable', 'comparatively', 'compare', 'compared', 'compares', 'comparing', 'comparison', 'compass', 'compassion', 'compatibility', 'compatible', 'compatriot', 'compatriots', 'compelled', 'compelling', 'compensate', 'compensated', 'compensation', 'compete', 'competed', 'competences', 'competent', 'competes', 'competing', 'competition', 'competitions', 'competitive', 'competitiveness', 'competitor', 'competitors', 'competitve', 'compilation', 'compile', 'compiled', 'compiles', 'compiling', 'complacency', 'complacent', 'complain', 'complained', 'complaining', 'complains', 'complaint', 'complaints', 'complement', 'complete', 'completed', 'completely', 'completing', 'completion', 'completions', 'complex', 'complexes', 'complexity', 'compliance', 'complicated', 'complied', 'complimentary', 'comply', 'complying', 'component', 'components', 'composed', 'composer', 'composers', 'composition', 'compositions', 'compostable', 'composure', 'compounded', 'comprehensive', 'comprehensively', 'compress', 'compressed', 'compression', 'comprise', 'comprised', 'comprising', 'compromise', 'compromised', 'compromises', 'compromising', 'comptia', 'comptroller', 'compulsion', 'compulsory', 'computational', 'computer', 'computeractive', 'computerandvideogames', 'computers', 'computing', 'conceal', 'concealed', 'concealing', 'conceals', 'concede', 'conceded', 'concedes', 'conceding', 'conceivable', 'conceived', 'concentrate', 'concentrated', 'concentrates', 'concentrating', 'concentration', 'concept', 'concepts', 'concern', 'concerned', 'concerning', 'concerns', 'concert', 'concerted', 'concerts', 'concession', 'concessions', 'conchita', 'conciliation', 'conciliatory', 'concise', 'conclude', 'concluded', 'concludes', 'concluding', 'conclusion', 'conclusions', 'conclusive', 'conclusively', 'concrete', 'concurrently', 'condemned', 'condemning', 'condemns', 'condition', 'conditions', 'condoleezza', 'condom', 'condoms', 'condone', 'conducive', 'conduct', 'conducted', 'conducting', 'conductive', 'conducts', 'confectionery', 'confederation', 'conference', 'conferences', 'conferencing', 'conferring', 'confess', 'confessed', 'confession', 'confessions', 'confided', 'confidence', 'confident', 'confidential', 'confidentiality', 'confidently', 'confifi', 'confined', 'confines', 'confirm', 'confirmation', 'confirmed', 'confirming', 'confirms', 'conflict', 'conflicting', 'conflicts', 'conform', 'confound', 'confounded', 'confounding', 'confront', 'confrontation', 'confronted', 'confuse', 'confused', 'confusing', 'confusingly', 'confusion', 'congdon', 'congenial', 'congested', 'congestive', 'conglomerate', 'congratulated', 'congratulates', 'congratulations', 'congress', 'congressional', 'congressionally', 'congressmen', 'conjoined', 'conjuction', 'conjunction', 'conjured', 'conleth', 'conlon', 'conman', 'conmen', 'connacht', 'connaught', 'connect', 'connected', 'connectedness', 'connection', 'connections', 'connectivity', 'connectors', 'connectotel', 'connects', 'connell', 'connery', 'connolly', 'connor', 'connors', 'conor', 'conquer', 'conquered', 'conquering', 'conqueror', 'conquerors', 'conscience', 'consciences', 'conscious', 'consciously', 'consciousness', 'consecutive', 'consecutively', 'conseil', 'consensus', 'consent', 'consenus', 'consequences', 'conservative', 'conservatives', 'conserve', 'consider', 'considerable', 'considerably', 'consideration', 'considerations', 'considered', 'considering', 'considers', 'considine', 'consigned', 'consigning', 'consist', 'consistency', 'consistent', 'consistently', 'consisting', 'consists', 'consob', 'consolation', 'console', 'consoles', 'consolidate', 'consolidating', 'consolidation', 'consort', 'consortium', 'conspiracy', 'conspiring', 'constable', 'constables', 'constant', 'constantine', 'constantly', 'constellation', 'constituencies', 'constituency', 'constituent', 'constituents', 'constitute', 'constituted', 'constitutes', 'constitution', 'constitutional', 'constrained', 'constraint', 'constraints', 'construct', 'construction', 'constructive', 'consult', 'consultancy', 'consultant', 'consultants', 'consultation', 'consultations', 'consulted', 'consulting', 'consults', 'consume', 'consumer', 'consumers', 'consumes', 'consuming', 'consumption', 'contact', 'contacted', 'contacts', 'contagion', 'contagious', 'contain', 'contained', 'containing', 'contains', 'contaminated', 'contamination', 'conte', 'contemplates', 'contemporaries', 'contemporary', 'contempt', 'contend', 'contended', 'contender', 'contenders', 'contends', 'content', 'contented', 'contention', 'contentious', 'contents', 'contepomi', 'contest', 'contestant', 'contestants', 'contested', 'contesting', 'contests', 'context', 'conti', 'continent', 'continental', 'continents', 'contingency', 'contingent', 'continually', 'continuation', 'continue', 'continued', 'continues', 'continuing', 'continuously', 'continuum', 'contra', 'contraception', 'contraceptives', 'contrack', 'contract', 'contracted', 'contracting', 'contraction', 'contractor', 'contractors', 'contracts', 'contractual', 'contradict', 'contradictions', 'contradictory', 'contrary', 'contrast', 'contravene', 'contravenes', 'contreras', 'contribute', 'contributed', 'contributes', 'contributing', 'contribution', 'contributions', 'contributor', 'contributors', 'contrived', 'control', 'controlled', 'controller', 'controllers', 'controlling', 'controls', 'controversial', 'controversially', 'controversies', 'controversy', 'convene', 'convened', 'convenience', 'convenient', 'conveniently', 'convention', 'conventional', 'conventions', 'converge', 'converged', 'convergence', 'conversation', 'conversations', 'conversion', 'conversions', 'convert', 'converted', 'convertible', 'converting', 'converts', 'convey', 'conveyed', 'convict', 'convicted', 'convicting', 'conviction', 'convictions', 'convince', 'convinced', 'convincing', 'convincingly', 'convoys', 'convulsed', 'coogan', 'cook', 'cooked', 'cool', 'cooled', 'cooling', 'coolly', 'cools', 'cooper', 'cooperate', 'cooperation', 'cooperative', 'coordinated', 'coordination', 'coordinator', 'cop', 'cope', 'coped', 'copeland', 'copenhagen', 'copernic', 'copied', 'copies', 'coping', 'copper', 'coppers', 'coppin', 'coppinger', 'coppola', 'copy', 'copycat', 'copying', 'copyright', 'copyrighted', 'cor', 'coral', 'cord', 'cordiant', 'cordless', 'cordon', 'cordoned', 'cords', 'corduroy', 'core', 'corelli', 'cores', 'coria', 'corkman', 'corleone', 'cornell', 'corner', 'cornered', 'corners', 'cornwall', 'cornwell', 'coronation', 'corp', 'corporal', 'corporate', 'corporation', 'corporations', 'corpus', 'correct', 'corrected', 'correcting', 'correction', 'correctional', 'corrective', 'correctly', 'correspond', 'correspondent', 'corresponding', 'corridor', 'corrigan', 'corrosive', 'corrupt', 'corrupted', 'corrupting', 'corruption', 'corry', 'corsa', 'corsican', 'coruna', 'corus', 'cory', 'cosby', 'cosgrave', 'cosh', 'coslett', 'cosmetic', 'cosmetics', 'cosmic', 'cosmopolitan', 'cossins', 'cost', 'costa', 'costacurta', 'costas', 'costed', 'costello', 'costin', 'costing', 'costings', 'costliest', 'costly', 'costs', 'costume', 'costumes', 'cotis', 'cottage', 'cottenham', 'cotterill', 'cotterills', 'cotton', 'couch', 'cough', 'couldn', 'council', 'councillor', 'councillors', 'councils', 'counsel', 'counselling', 'count', 'counted', 'counter', 'counterbalancing', 'countered', 'counterfeit', 'counterfeiting', 'counterpart', 'counterparts', 'counterterrorism', 'counties', 'counting', 'countless', 'countries', 'country', 'countrymen', 'countryside', 'counts', 'county', 'coup', 'coupes', 'couple', 'coupled', 'couples', 'coupling', 'courage', 'courageous', 'courageously', 'courier', 'course', 'courses', 'court', 'courteney', 'courters', 'courtesy', 'courting', 'courtney', 'courts', 'courvoisier', 'coutts', 'couture', 'coventry', 'cover', 'coverage', 'covered', 'covering', 'covers', 'covert', 'covertly', 'covet', 'coveted', 'cow', 'cowan', 'coward', 'cowboys', 'cowed', 'cowell', 'cowley', 'cox', 'cozza', 'cps', 'crabbe', 'crabs', 'crack', 'crackdown', 'crackdowns', 'cracked', 'cracking', 'crackled', 'cracknell', 'cracks', 'craft', 'crafted', 'cragg', 'craig', 'cram', 'crammed', 'crane', 'cranes', 'craney', 'crank', 'crap', 'crash', 'crashed', 'crashing', 'crass', 'craved', 'craven', 'crawl', 'crawley', 'crawling', 'cray', 'craze', 'crazed', 'crazy', 'creaky', 'cream', 'create', 'created', 'creates', 'creating', 'creation', 'creations', 'creative', 'creatively', 'creatives', 'creativity', 'creator', 'creators', 'creature', 'creatures', 'credentials', 'credibility', 'credible', 'credit', 'credited', 'crediting', 'creditor', 'creditors', 'credits', 'creditworthiness', 'creek', 'creep', 'creepy', 'crept', 'crescendo', 'crescent', 'crescenzi', 'crespel', 'crestfallen', 'crestor', 'crete', 'crew', 'crewe', 'crewman', 'crews', 'cricket', 'cricketers', 'cries', 'crime', 'crimes', 'criminal', 'criminalist', 'criminality', 'criminally', 'criminals', 'crimson', 'cringe', 'cripple', 'crippled', 'crippling', 'crises', 'crisis', 'crisp', 'crisper', 'criss', 'cristian', 'cristiano', 'cristie', 'criteria', 'critic', 'critical', 'critically', 'criticise', 'criticised', 'criticises', 'criticising', 'criticism', 'critics', 'croatia', 'croatian', 'crockery', 'crockett', 'crohas', 'crooks', 'crooner', 'croooner', 'crop', 'crops', 'crosby', 'cross', 'crossbar', 'crosscourt', 'crossed', 'crosses', 'crosshair', 'crossing', 'crossroads', 'crotch', 'croucher', 'crouching', 'crowd', 'crowded', 'crowds', 'crown', 'crowned', 'crowning', 'crowns', 'crowther', 'croydon', 'crucial', 'crucially', 'crucible', 'crucified', 'crude', 'crue', 'cruel', 'cruelty', 'cruise', 'cruised', 'crumples', 'crunch', 'crusader', 'crushed', 'crushing', 'crusoe', 'cruyff', 'cruz', 'cryer', 'crying', 'crystal', 'crystalline', 'csa', 'csi', 'csos', 'cuaron', 'cuba', 'cuban', 'cube', 'cubic', 'cuckoo', 'cudicini', 'cue', 'cues', 'cueto', 'cuisine', 'culled', 'cullen', 'cullum', 'culminated', 'culmination', 'culprit', 'cult', 'cultivated', 'cultural', 'culture', 'cultured', 'cultures', 'cum', 'cumbersome', 'cumbria', 'cumming', 'cummings', 'cumulative', 'cunanan', 'cunningham', 'cunningly', 'cup', 'cups', 'curable', 'curb', 'curbing', 'curbishley', 'curbs', 'cure', 'curfews', 'curious', 'curiously', 'curled', 'curnier', 'currencies', 'currency', 'current', 'currentily', 'currently', 'curriculum', 'currington', 'curry', 'curse', 'cursed', 'cursing', 'cursor', 'curt', 'curtail', 'curtain', 'curtains', 'curtice', 'curtis', 'curve', 'cushion', 'cusiter', 'custody', 'custom', 'customary', 'customer', 'customers', 'customise', 'customised', 'customs', 'cut', 'cutbacks', 'cuthbert', 'cuticle', 'cutler', 'cuts', 'cutters', 'cutting', 'cvrd', 'cvs', 'cyber', 'cyborg', 'cyborgian', 'cycle', 'cyclical', 'cyclists', 'cygan', 'cylinder', 'cymru', 'cynical', 'cynicism', 'cynthia', 'cypriot', 'cyprus', 'cyril', 'cyrillic', 'czech', 'czechs', 'czink', 'd12', 'da', 'dab', 'dabbled', 'dad', 'daddy', 'dado', 'daft', 'daggers', 'dahaka', 'dahl', 'daily', 'daimerchrysler', 'daimlerchrylser', 'daimlerchrysler', 'dainty', 'dairy', 'daisy', 'daiwa', 'dakota', 'dal', 'dale', 'dales', 'daley', 'dallaglio', 'dallas', 'dalton', 'daly', 'dam', 'damage', 'damaged', 'damages', 'damaging', 'dame', 'damian', 'damien', 'damming', 'damn', 'damning', 'damon', 'dampen', 'dampened', 'dampening', 'dams', 'dan', 'dana', 'dance', 'danced', 'dancehall', 'dancer', 'dancers', 'dancevic', 'dancing', 'dandies', 'dandruff', 'dane', 'danes', 'danger', 'dangerous', 'dangerously', 'dangers', 'dangling', 'dani', 'daniel', 'daniela', 'danielli', 'daniilidou', 'danish', 'danner', 'danniella', 'danny', 'danton', 'darabont', 'darcey', 'dardanelles', 'dare', 'daredevil', 'darfur', 'darin', 'dark', 'darkest', 'darkly', 'darkness', 'darkprofits', 'darling', 'darlings', 'darlington', 'darn', 'darren', 'dartford', 'darth', 'dartmoor', 'dash', 'dashing', 'data', 'database', 'datamonitor', 'date', 'dated', 'dates', 'dating', 'daub', 'daubed', 'daugher', 'daughter', 'daughters', 'daunting', 'dautenhahn', 'dave', 'davenport', 'daveport', 'davey', 'david', 'davidson', 'davies', 'davis', 'davos', 'davydenko', 'dawn', 'dawson', 'daxter', 'day', 'dayanidhi', 'daydreaming', 'days', 'daze', 'dazzling', 'db9', 'dbs', 'dc', 'dca', 'ddos', 'deacon', 'dead', 'deadliest', 'deadline', 'deadlock', 'deadly', 'deadwood', 'deaf', 'deafening', 'deakins', 'deal', 'dealers', 'dealing', 'dealings', 'deals', 'dealt', 'dean', 'deans', 'dear', 'dearly', 'death', 'deathmatch', 'deaths', 'deats', 'debacle', 'debate', 'debated', 'debates', 'debating', 'debbie', 'debit', 'debra', 'debris', 'debt', 'debtor', 'debts', 'debussy', 'debut', 'debutant', 'debuted', 'debuting', 'debuts', 'dec', 'decade', 'decades', 'decathlete', 'deccan', 'deceitful', 'deceive', 'deceived', 'deceleration', 'december', 'decency', 'decent', 'decently', 'decentralised', 'deceptive', 'deceptively', 'dechy', 'decide', 'decided', 'decidedly', 'decider', 'decides', 'deciding', 'decimating', 'decipher', 'decision', 'decisions', 'decisive', 'deck', 'decked', 'decker', 'declan', 'declaration', 'declarations', 'declare', 'declared', 'declares', 'declaring', 'decline', 'declined', 'declines', 'declining', 'decommissioning', 'decorated', 'decorating', 'decoration', 'decrease', 'decreases', 'decries', 'decryption', 'decuk', 'dedicate', 'dedicated', 'dedication', 'deductible', 'deduction', 'dee', 'deemed', 'deep', 'deepening', 'deeper', 'deeply', 'deer', 'def', 'defaced', 'defacement', 'defamation', 'defar', 'default', 'defaulted', 'defaults', 'defeat', 'defeated', 'defeating', 'defeatism', 'defeats', 'defected', 'defecting', 'defection', 'defective', 'defectors', 'defects', 'defence', 'defences', 'defend', 'defendant', 'defendants', 'defended', 'defender', 'defenders', 'defending', 'defends', 'defense', 'defensive', 'defensively', 'defer', 'deferential', 'deferring', 'defiant', 'defibrillators', 'deficit', 'deficits', 'defied', 'defies', 'define', 'defined', 'defines', 'defining', 'definite', 'definitely', 'definition', 'definitive', 'deflation', 'deflected', 'deflection', 'deflects', 'defra', 'defraud', 'deft', 'defunct', 'defy', 'degenerative', 'degradation', 'degraded', 'degrading', 'degree', 'degrees', 'degroot', 'dehiba', 'dei', 'dein', 'deirdre', 'dejected', 'dejene', 'del', 'delaigue', 'delaware', 'delay', 'delayed', 'delaying', 'delays', 'delegate', 'delegates', 'delegation', 'delegations', 'delete', 'deleted', 'deletion', 'deletions', 'delft', 'delhi', 'deliberate', 'deliberately', 'deliberation', 'delicate', 'delight', 'delighted', 'delightful', 'delights', 'delirious', 'delist', 'delisted', 'delisting', 'deliver', 'deliverable', 'delivered', 'deliveries', 'delivering', 'delivers', 'delivery', 'dell', 'della', 'dellape', 'deloitte', 'delport', 'delray', 'delta', 'delude', 'deluge', 'deluges', 'delusion', 'deluxe', 'dem', 'demand', 'demanded', 'demanding', 'demands', 'demeaning', 'dementia', 'dementieva', 'demerge', 'demerged', 'demerger', 'demille', 'demise', 'demo', 'democracy', 'democrat', 'democratic', 'democratically', 'democratisation', 'democrats', 'demographic', 'demographics', 'demography', 'demolition', 'demonised', 'demonising', 'demons', 'demonstrate', 'demonstrated', 'demonstrates', 'demonstrating', 'demonstration', 'demonstrations', 'demonstrator', 'demos', 'dempsey', 'dems', 'demure', 'den', 'dench', 'denial', 'denials', 'denied', 'denies', 'denis', 'denise', 'denmark', 'dennis', 'denominated', 'denounce', 'densely', 'dent', 'dental', 'dented', 'deny', 'denying', 'denzel', 'deodorant', 'depardieu', 'depardon', 'departed', 'department', 'departmental', 'departments', 'departure', 'depend', 'dependable', 'dependant', 'dependency', 'dependent', 'depending', 'depends', 'depict', 'depicted', 'depicts', 'depleted', 'depletion', 'deploy', 'deployed', 'deployment', 'depor', 'deported', 'deportivo', 'deposit', 'deposits', 'depp', 'deppler', 'depreciates', 'depreciation', 'depress', 'depressed', 'depressing', 'depression', 'deprived', 'depriving', 'depth', 'deputies', 'deputised', 'deputy', 'der', 'derail', 'derailed', 'derbies', 'derby', 'derbyshire', 'deregulation', 'derek', 'dergarabedian', 'derided', 'derisory', 'derivatives', 'derived', 'dermot', 'des', 'desai', 'desailly', 'descend', 'descendants', 'descended', 'descent', 'described', 'describes', 'describing', 'description', 'descriptions', 'desert', 'deserted', 'deserts', 'deserve', 'deserved', 'deserves', 'deshui', 'design', 'designated', 'designation', 'designed', 'designer', 'designers', 'designing', 'designs', 'desire', 'desk', 'desktop', 'desktops', 'desmond', 'despair', 'despairing', 'despatch', 'despatches', 'desperate', 'desperately', 'desperation', 'despite', 'despondent', 'destatis', 'destination', 'destinations', 'destined', 'destiny', 'destitute', 'destroy', 'destroyed', 'destroying', 'destruct', 'destruction', 'destructive', 'detached', 'detaching', 'detailed', 'details', 'detain', 'detained', 'detainees', 'detect', 'detected', 'detecting', 'detection', 'detective', 'detectives', 'detector', 'detention', 'detentions', 'deter', 'deteriorate', 'deteriorated', 'deteriorates', 'deterioration', 'determination', 'determine', 'determined', 'determines', 'deterred', 'deterrent', 'deterrents', 'detested', 'detonated', 'detrimental', 'detroit', 'deuce', 'deutsche', 'deutschland', 'devaluation', 'devastated', 'devastating', 'devastation', 'develop', 'developed', 'developer', 'developers', 'developing', 'development', 'developments', 'develops', 'device', 'devices', 'devil', 'devine', 'devise', 'devised', 'devoices', 'devoid', 'devonish', 'devote', 'devoted', 'devotion', 'dhl', 'di', 'diabolical', 'diageo', 'diaghilev', 'diagnosed', 'diagnosis', 'dial', 'dialler', 'diallers', 'dialling', 'dialog', 'dialogue', 'diamond', 'diamonds', 'diamound', 'diana', 'diane', 'diaries', 'diarrhoea', 'diary', 'diatribe', 'dibaba', 'dibley', 'dicaprio', 'dick', 'dickie', 'dickinson', 'dictate', 'dictating', 'dictatorship', 'did', 'didactic', 'diddley', 'didier', 'didn', 'dido', 'die', 'died', 'diego', 'diehard', 'diemont', 'dies', 'diesel', 'diet', 'dieter', 'dietmar', 'differ', 'differed', 'difference', 'differences', 'different', 'differential', 'differentiate', 'differently', 'differing', 'difficult', 'difficulties', 'difficulty', 'diffuse', 'dig', 'digby', 'digest', 'digga', 'digging', 'digit', 'digital', 'digitally', 'digitise', 'digitised', 'digits', 'digney', 'dignitaries', 'dignity', 'digs', 'dil', 'dilemma', 'diligence', 'diligent', 'dim', 'dimakos', 'dimanche', 'dimbleby', 'dimension', 'dimensional', 'dimensions', 'diminishes', 'diminutive', 'dimitrakopoulos', 'dimitri', 'dimmable', 'dimmed', 'dimon', 'din', 'dina', 'dined', 'dinghy', 'dingolfing', 'dinked', 'dinkessa', 'dinkier', 'dinner', 'dinners', 'dinosaur', 'dinosaurs', 'dion', 'dionne', 'diop', 'dioxide', 'dip', 'diphtheria', 'dipiazza', 'diploma', 'diplomatic', 'dipo', 'dipped', 'dipping', 'dire', 'direct', 'directed', 'directing', 'direction', 'directions', 'directive', 'directly', 'director', 'directorate', 'directorial', 'directors', 'directs', 'directx', 'dirk', 'dirrty', 'dirty', 'disabilities', 'disable', 'disabled', 'disadvantage', 'disadvantaged', 'disaffection', 'disagree', 'disagreed', 'disagreements', 'disagrees', 'disallow', 'disallowed', 'disappear', 'disappearance', 'disappeared', 'disappearing', 'disappoint', 'disappointed', 'disappointing', 'disappointment', 'disappointments', 'disapproval', 'disapproved', 'disarray', 'disaster', 'disasters', 'disastrous', 'disbelief', 'disc', 'discarded', 'disciplinary', 'discipline', 'disciplined', 'disciplines', 'disclaimer', 'disclose', 'disclosed', 'disclosure', 'disclosures', 'disco', 'discomfort', 'disconcerted', 'discontent', 'discount', 'discounted', 'discounting', 'discounts', 'discourage', 'discouraged', 'discouraging', 'discourtesies', 'discover', 'discovered', 'discoveries', 'discovering', 'discovery', 'discredit', 'discredited', 'discreet', 'discreetly', 'discretion', 'discriminate', 'discriminated', 'discriminates', 'discriminating', 'discrimination', 'discriminatorily', 'discriminatory', 'discus', 'discuss', 'discussed', 'discussing', 'discussion', 'discussions', 'disdain', 'disease', 'diseases', 'disenfranchised', 'disengaged', 'disgrace', 'disgraceful', 'disgruntled', 'disguise', 'disguised', 'disguises', 'disguising', 'disgust', 'disgusted', 'disgusting', 'disheartened', 'disheartening', 'dished', 'dishevelled', 'dishonest', 'disillusioned', 'disillusionment', 'disintegrating', 'disk', 'disks', 'dislike', 'disliked', 'disloyal', 'dismal', 'dismally', 'dismantle', 'dismantled', 'dismantling', 'dismayed', 'dismiss', 'dismissal', 'dismissed', 'dismisses', 'dismissive', 'disney', 'disobeys', 'disorder', 'disorderly', 'disorders', 'dispassionate', 'dispatched', 'dispel', 'dispensation', 'dispense', 'dispensed', 'dispenser', 'dispiriting', 'displace', 'displaced', 'displacement', 'display', 'displayed', 'displaying', 'displays', 'disposable', 'disposal', 'dispose', 'disposed', 'disposing', 'dispossesed', 'disproportionate', 'dispute', 'disputed', 'disputes', 'disqualified', 'disquiet', 'disregard', 'disregarding', 'disrepute', 'disrespect', 'disrupt', 'disrupted', 'disruption', 'disruptions', 'disruptive', 'dissent', 'dissenter', 'dissenting', 'disservice', 'dissidents', 'dissipated', 'dissolve', 'dissuading', 'distance', 'distances', 'distant', 'distilled', 'distin', 'distinct', 'distinction', 'distinctive', 'distinguish', 'distinguished', 'distort', 'distract', 'distracted', 'distraction', 'distracts', 'distressed', 'distressing', 'distribute', 'distributed', 'distributes', 'distributing', 'distribution', 'distributor', 'distributors', 'district', 'distrusted', 'disturb', 'disturbed', 'disturbing', 'disturbingly', 'disunity', 'ditch', 'ditched', 'dithers', 'ditto', 'dive', 'diverse', 'diversified', 'diversifies', 'diversify', 'diversity', 'divert', 'diverted', 'diverting', 'diverts', 'divide', 'divided', 'dividend', 'dividends', 'divides', 'dividing', 'diving', 'division', 'divisions', 'divo', 'divorce', 'divorced', 'divorcees', 'divorces', 'divulging', 'dixie', 'dixon', 'dixons', 'diy', 'dizzee', 'dizzy', 'dj', 'djemba', 'djimi', 'djs', 'dlf', 'doak', 'dobson', 'doc', 'dock', 'docked', 'docking', 'docklands', 'docomo', 'doctor', 'doctoring', 'doctorow', 'doctors', 'docu', 'document', 'documentaries', 'documentary', 'documentation', 'documented', 'documenting', 'documents', 'dod', 'dodge', 'dodgy', 'does', 'doesn', 'dog', 'dogg', 'dogged', 'dogmatic', 'dogs', 'dogusoy', 'dogville', 'doha', 'doherty', 'doing', 'dokic', 'dolby', 'dolce', 'doldrums', 'dole', 'dolin', 'doling', 'dollar', 'dollars', 'dollops', 'dolores', 'dom', 'domain', 'domains', 'dome', 'domecq', 'domenico', 'domestic', 'dominance', 'dominant', 'dominate', 'dominated', 'dominates', 'dominating', 'domination', 'domineering', 'dominic', 'dominica', 'dominicans', 'dominici', 'dominik', 'don', 'donald', 'donate', 'donated', 'donating', 'donation', 'donations', 'doncaster', 'dongwon', 'donkey', 'donmar', 'donna', 'donned', 'donnedieu', 'donnellon', 'donnelly', 'donnie', 'donor', 'donors', 'dons', 'donuts', 'doo', 'doom', 'doomed', 'door', 'doore', 'doorkeeper', 'doors', 'doorstepping', 'doorway', 'doorways', 'doping', 'doren', 'doriva', 'dorival', 'dormant', 'dornford', 'dorothy', 'dorset', 'dortmund', 'dos', 'dose', 'dosing', 'dossier', 'dossiers', 'dot', 'dotcom', 'dotted', 'double', 'doubleclick', 'doubled', 'doubles', 'doubling', 'doubly', 'doubt', 'doubted', 'doubters', 'doubtful', 'doubting', 'doubts', 'doug', 'doughnuts', 'douglas', 'dougray', 'dour', 'doves', 'dow', 'dowd', 'dowell', 'downdraft', 'downed', 'downfall', 'downgrade', 'downgraded', 'downgrades', 'downhill', 'downing', 'downlights', 'download', 'downloadable', 'downloaded', 'downloaders', 'downloading', 'downloads', 'downright', 'downs', 'downshifting', 'downside', 'downstream', 'downtown', 'downturn', 'downward', 'downwards', 'dowson', 'doyle', 'dozen', 'dozens', 'dr', 'drab', 'draconian', 'dracula', 'draft', 'drafted', 'drafting', 'drafts', 'drag', 'dragan', 'dragged', 'dragging', 'dragon', 'dragonhood', 'dragons', 'dragoon', 'drain', 'drainage', 'drake', 'drama', 'dramas', 'dramatic', 'dramatically', 'dramatisations', 'dramatist', 'drastically', 'draw', 'drawback', 'drawer', 'drawing', 'drawings', 'drawn', 'draws', 'dre', 'dreadfully', 'dream', 'dreamed', 'dreaming', 'dreams', 'dreamt', 'dredd', 'dredge', 'dress', 'dressed', 'dresses', 'dressing', 'dressings', 'drew', 'dreyfuss', 'dries', 'drifted', 'drifting', 'drill', 'drilled', 'drilling', 'drink', 'drinkers', 'drinking', 'drinks', 'driscoll', 'drive', 'driven', 'driver', 'drivers', 'drives', 'driving', 'drm', 'drogba', 'drop', 'dropout', 'dropped', 'dropping', 'drops', 'dross', 'drove', 'drown', 'drowned', 'drowning', 'drug', 'drugged', 'drugs', 'druid', 'drum', 'drummer', 'drums', 'drunk', 'drunken', 'drunks', 'drury', 'dry', 'ds', 'dsl', 'dti', 'dtt', 'du', 'dual', 'dually', 'dubai', 'dubbed', 'dubbing', 'dubious', 'dublin', 'dubliner', 'dubs', 'duchess', 'duchy', 'duck', 'ducking', 'dudas', 'dudek', 'dudley', 'duel', 'dues', 'duet', 'duets', 'duff', 'duffy', 'dug', 'dugarry', 'duke', 'dulko', 'dull', 'dulled', 'dumb', 'dumbarton', 'dumfriesshire', 'dummy', 'dumpsite', 'dunbar', 'duncan', 'dundee', 'dunfermline', 'dunk', 'dunkin', 'dunking', 'dunn', 'dunne', 'dunstan', 'dunwoody', 'duo', 'duplicate', 'durables', 'duran', 'durban', 'durex', 'durham', 'dust', 'dustin', 'dusty', 'dutch', 'dutchman', 'duties', 'duty', 'duvall', 'dvb', 'dvd', 'dvds', 'dvrs', 'dwain', 'dwarfed', 'dwarfs', 'dwight', 'dwindle', 'dwindling', 'dwyer', 'dyer', 'dying', 'dynamic', 'dynamics', 'dynamite', 'dysfunctional', 'dysfunctions', 'dz', 'e17', 'e200', 'e3', 'ea', 'eaa', 'eads', 'eady', 'eager', 'eagerly', 'eagles', 'ealing', 'eamonn', 'ear', 'earl', 'earlier', 'earliest', 'early', 'earmarked', 'earn', 'earned', 'earner', 'earners', 'earnest', 'earning', 'earnings', 'earns', 'earpiece', 'earpieces', 'earring', 'ears', 'earth', 'earthlink', 'earthquake', 'earthquakes', 'ease', 'eased', 'eases', 'easier', 'easiest', 'easily', 'easing', 'east', 'eastbourne', 'eastenders', 'easter', 'easterby', 'eastern', 'eastlands', 'eastwards', 'eastwood', 'easy', 'easygroup', 'easyjet', 'easymobile', 'eat', 'eater', 'eating', 'eaton', 'eavesdrop', 'eavis', 'eb', 'ebay', 'ebber', 'ebbers', 'ebell', 'ebu', 'ec', 'ecb', 'eccentric', 'eccentrics', 'eccleshall', 'echo', 'echoed', 'echoes', 'eclipsed', 'eclipses', 'eco', 'ecofin', 'ecology', 'economic', 'economically', 'economics', 'economies', 'economist', 'economists', 'economy', 'ecosystem', 'ecosystems', 'ecstatic', 'ed', 'eddie', 'edelman', 'edge', 'edged', 'edges', 'edginess', 'edging', 'edgware', 'edgy', 'edinburgh', 'edit', 'edited', 'edith', 'editing', 'edition', 'editor', 'editors', 'edits', 'edmondson', 'edu', 'eduard', 'eduardo', 'educate', 'educated', 'educates', 'educating', 'education', 'educational', 'educations', 'edward', 'edwards', 'eef', 'eerdekens', 'eerie', 'eff', 'effect', 'effective', 'effectively', 'effectiveness', 'effects', 'efficacy', 'efficiencies', 'efficiency', 'efficient', 'efficiently', 'effort', 'effortlessly', 'efforts', 'egalitarian', 'egeland', 'egelton', 'egg', 'egged', 'ego', 'egos', 'egotist', 'egwin', 'egypt', 'egyptian', 'ehud', 'eichel', 'eidur', 'eighteen', 'eighth', 'eighty', 'eileen', 'einar', 'eindhoven', 'eircom', 'ejected', 'ekhayelitsha', 'el', 'elaborate', 'elan', 'elderly', 'eldest', 'eldin', 'eldon', 'elect', 'elected', 'election', 'electioneering', 'elections', 'electoral', 'electorate', 'electors', 'electric', 'electrical', 'electrically', 'electrician', 'electricity', 'electro', 'electrodes', 'electroencephalogram', 'electronic', 'electronically', 'electronics', 'elegance', 'elegantly', 'element', 'elementary', 'elements', 'elena', 'elene', 'eleni', 'elephant', 'elephants', 'elevated', 'elgindy', 'elhorga', 'elia', 'elicits', 'eligibility', 'eligible', 'eliminate', 'eliminating', 'elimination', 'eliot', 'elise', 'elite', 'elites', 'elitist', 'eliud', 'elizabeth', 'ella', 'elland', 'ellen', 'elliot', 'elliott', 'ellis', 'elloway', 'ellsmore', 'elsener', 'elspa', 'elton', 'elude', 'elusive', 'elvis', 'em', 'email', 'emailed', 'emails', 'emanating', 'embargo', 'embargoes', 'embark', 'embarked', 'embarking', 'embarrass', 'embarrassed', 'embarrassing', 'embarrassment', 'embassies', 'embassy', 'embedded', 'embezzlement', 'embrace', 'embraced', 'embroiled', 'embu', 'emcees', 'emenating', 'emerge', 'emerged', 'emergence', 'emergency', 'emerges', 'emerging', 'emi', 'emigrated', 'emilia', 'emilio', 'emily', 'emin', 'eminem', 'eminent', 'eminently', 'emirates', 'emissions', 'emma', 'emmer', 'emmissions', 'emmy', 'emoticon', 'emotional', 'emotionally', 'emotions', 'emotive', 'emphasis', 'emphasise', 'emphasised', 'emphasises', 'emphatic', 'emphatically', 'emphysema', 'empire', 'employ', 'employed', 'employee', 'employees', 'employer', 'employers', 'employing', 'employment', 'employs', 'empower', 'empowerment', 'empress', 'empt', 'empted', 'emulate', 'emulators', 'en', 'enable', 'enabled', 'enabler', 'enables', 'enabling', 'enacted', 'encampments', 'encapsulate', 'enclosure', 'encoder', 'encoding', 'encompass', 'encompasses', 'encore', 'encounter', 'encountered', 'encounters', 'encourage', 'encouraged', 'encouragement', 'encourages', 'encouraging', 'encroachment', 'encrypted', 'encryption', 'end', 'endacott', 'endangered', 'endeared', 'endearingly', 'endeavour', 'ended', 'endemol', 'endgame', 'endicott', 'ending', 'endless', 'endlessly', 'endogenous', 'endorphin', 'endorse', 'endorsed', 'endorsement', 'endorses', 'endorsing', 'ends', 'endured', 'enduring', 'enemies', 'enemy', 'energetic', 'energies', 'energis', 'energise', 'energised', 'energy', 'enfance', 'enfish', 'enforce', 'enforceable', 'enforced', 'enforcement', 'enforcer', 'enforcing', 'engage', 'engaged', 'engagement', 'engagements', 'engagers', 'engages', 'engaging', 'engendered', 'engine', 'engined', 'engineer', 'engineered', 'engineering', 'engineers', 'engines', 'england', 'english', 'englishman', 'enhance', 'enhanced', 'enhancement', 'enhancements', 'enhancing', 'enigma', 'enigmatic', 'enjoined', 'enjoy', 'enjoyable', 'enjoyed', 'enjoying', 'enjoyment', 'enjoys', 'enlarged', 'enlargement', 'enlisted', 'enlists', 'enliven', 'enoch', 'enormity', 'enormous', 'enormously', 'enqvist', 'enraged', 'enrico', 'enron', 'enshrined', 'ensler', 'ensue', 'ensues', 'ensuing', 'ensure', 'ensured', 'ensures', 'ensuring', 'enter', 'entered', 'entering', 'enterprise', 'enterprises', 'enterprising', 'enters', 'entertain', 'entertainers', 'entertaining', 'entertainment', 'enthralling', 'enthusiasm', 'enthusiast', 'enthusiastic', 'enthusiastically', 'enthusiasts', 'entire', 'entirely', 'entitled', 'entitles', 'entourage', 'entrance', 'entrants', 'entrepreneur', 'entrepreneurs', 'entries', 'entry', 'envelope', 'envelopes', 'enveloping', 'environment', 'environmental', 'environmentalists', 'environmentally', 'environments', 'envisaged', 'envisages', 'envisional', 'envisioned', 'envoys', 'eoc', 'eolas', 'ep', 'epa', 'ephedrine', 'ephemera', 'ephraim', 'epic', 'epicentre', 'epidemic', 'epidemics', 'epipsodes', 'episode', 'episodes', 'epitome', 'epitomised', 'epitomises', 'epo', 'eponymous', 'epp', 'equal', 'equalise', 'equalised', 'equaliser', 'equality', 'equalled', 'equally', 'equating', 'equation', 'equatorial', 'equilibrium', 'equip', 'equipment', 'equipped', 'equities', 'equity', 'equivalent', 'er', 'era', 'eradicate', 'eras', 'erase', 'eraser', 'erasing', 'erasure', 'erdogan', 'erected', 'erewash', 'erfurt', 'eric', 'erich', 'ericsson', 'eriflleh', 'erik', 'eriksson', 'erinle', 'erm', 'ernie', 'ernst', 'eroded', 'eroding', 'erosion', 'erotic', 'erotica', 'err', 'erratic', 'errera', 'errigo', 'erroneous', 'error', 'errors', 'ers', 'erupt', 'erupted', 'erupting', 'eruption', 'erupts', 'escape', 'escaped', 'escondida', 'escorted', 'escorts', 'espanol', 'espanyol', 'especially', 'espionage', 'esquive', 'essar', 'essay', 'essence', 'essential', 'essentially', 'essentials', 'essex', 'establish', 'established', 'establishing', 'establishment', 'establishments', 'estaing', 'estate', 'estates', 'esteem', 'estefan', 'estelle', 'estimate', 'estimated', 'estimates', 'estimating', 'estimation', 'estonia', 'et', 'etat', 'eternal', 'ethel', 'ethernet', 'ethical', 'ethically', 'ethics', 'ethiopia', 'ethiopian', 'ethnic', 'ethnicities', 'etienne', 'eton', 'etsi', 'eu', 'euell', 'eulogy', 'euphoric', 'eurex', 'euro', 'euronext', 'europe', 'european', 'europeans', 'europhiles', 'euros', 'eurosceptic', 'euroscepticism', 'eurovision', 'eurozone', 'euskarians', 'eustace', 'euston', 'euthanasia', 'eva', 'evacuate', 'evacuating', 'evacuation', 'evade', 'evaded', 'evaluate', 'evaluated', 'evaluation', 'evaluations', 'evalution', 'evan', 'evanescence', 'evangelical', 'evans', 'evaporate', 'evaporated', 'evasion', 'eve', 'evening', 'evenings', 'event', 'events', 'eventual', 'eventuality', 'eventually', 'everton', 'everybody', 'everyday', 'evesham', 'evict', 'evicted', 'eviction', 'evictions', 'evidence', 'evident', 'evidentiary', 'evil', 'evils', 'evo', 'evocation', 'evokes', 'evolution', 'evolve', 'evolved', 'evolves', 'evolving', 'ewan', 'ewood', 'ex', 'exacerbate', 'exacerbated', 'exacerbating', 'exact', 'exactly', 'exam', 'examination', 'examine', 'examined', 'examines', 'examining', 'example', 'examples', 'exams', 'exanta', 'exasperated', 'excavated', 'exceed', 'exceeded', 'exceeding', 'exceeds', 'excellence', 'excellent', 'exception', 'exceptional', 'exceptionally', 'excerpt', 'excess', 'excesses', 'excessive', 'excessively', 'exchange', 'exchanged', 'exchanges', 'exchanging', 'exchequer', 'excite', 'excited', 'excitement', 'exciting', 'exclude', 'excluded', 'excludes', 'excluding', 'exclusion', 'exclusions', 'exclusive', 'excuse', 'excuses', 'execute', 'executed', 'execution', 'executive', 'executives', 'exeem', 'exel', 'exemplary', 'exempt', 'exempting', 'exemptions', 'exercise', 'exercises', 'exercising', 'exert', 'exerting', 'exeter', 'exhaust', 'exhausted', 'exhibit', 'exhibition', 'exhibitions', 'exhibitor', 'exhibitors', 'exhorting', 'exile', 'eximbank', 'exist', 'existed', 'existence', 'existent', 'existing', 'exists', 'exit', 'exited', 'exits', 'exodus', 'exonerated', 'exorbitant', 'exorcist', 'exotic', 'expand', 'expandable', 'expanded', 'expanding', 'expands', 'expansion', 'expansions', 'expansive', 'expatriates', 'expect', 'expectancies', 'expectancy', 'expectation', 'expectations', 'expected', 'expecting', 'expects', 'expelled', 'expenditure', 'expense', 'expenses', 'expensive', 'experience', 'experienced', 'experiences', 'experiencing', 'experiment', 'experimental', 'experimentation', 'experimenting', 'experiments', 'expert', 'expertise', 'experts', 'expiration', 'expirations', 'expire', 'expired', 'expires', 'explain', 'explained', 'explaining', 'explains', 'explanation', 'explanations', 'expletive', 'explicit', 'explicitly', 'explode', 'exploded', 'explodes', 'exploding', 'exploit', 'exploitation', 'exploited', 'exploiting', 'exploits', 'exploration', 'explorations', 'explore', 'explored', 'explorer', 'explores', 'exploring', 'explosion', 'explosions', 'explosive', 'explosives', 'expo', 'exponents', 'export', 'exported', 'exporter', 'exporters', 'exporting', 'exports', 'expose', 'exposed', 'exposing', 'exposure', 'express', 'expressed', 'expresses', 'expressing', 'expression', 'expressions', 'expropriation', 'expulsion', 'expunge', 'expunged', 'extend', 'extended', 'extending', 'extends', 'extension', 'extensions', 'extensive', 'extent', 'external', 'extinct', 'extort', 'extortion', 'extortionists', 'extra', 'extract', 'extracting', 'extracts', 'extradite', 'extradition', 'extraordinarily', 'extraordinary', 'extras', 'extravagant', 'extravaganza', 'extreme', 'extremely', 'extremism', 'extremist', 'extremists', 'exxon', 'eye', 'eyeballs', 'eyebrows', 'eyed', 'eyeing', 'eyelashes', 'eyes', 'eyetoy', 'eyewitness', 'eyre', 'f4', 'fa', 'fabian', 'fabien', 'fabiola', 'fable', 'fabregas', 'fabric', 'fabrication', 'fabrice', 'fabrics', 'fabulous', 'face', 'faced', 'faceless', 'faces', 'facey', 'facial', 'facilitate', 'facilitating', 'facilitator', 'facilities', 'facility', 'facing', 'fact', 'factions', 'facto', 'factor', 'factored', 'factories', 'factors', 'factory', 'facts', 'factual', 'fade', 'faded', 'fades', 'fading', 'fagin', 'fahrenheit', 'fai', 'fail', 'failed', 'failing', 'failings', 'fails', 'failure', 'failures', 'faint', 'fair', 'fairbanks', 'fairer', 'fairly', 'fairmont', 'fairness', 'fairs', 'fairway', 'faisal', 'fait', 'faith', 'faiths', 'fake', 'faked', 'fakes', 'faking', 'falcon', 'falconer', 'falcons', 'falic', 'fall', 'fallen', 'fallible', 'falling', 'fallout', 'fallow', 'falls', 'fallujah', 'false', 'falsify', 'falsifying', 'faltered', 'faltering', 'faltskog', 'fame', 'famed', 'familiar', 'families', 'family', 'famine', 'famous', 'famously', 'fan', 'fanara', 'fanatics', 'fancied', 'fancy', 'fanfare', 'fannie', 'fanning', 'fanolua', 'fans', 'fansite', 'fantasise', 'fantastic', 'fantasy', 'fao', 'far', 'farah', 'farce', 'fare', 'fared', 'faregas', 'fares', 'farewell', 'fargas', 'fargo', 'farina', 'farm', 'farmer', 'farmers', 'farming', 'farms', 'farmyard', 'farndon', 'farnham', 'faroe', 'farrell', 'fascinated', 'fascinating', 'fascination', 'fashion', 'fashionable', 'fashioned', 'fashionista', 'fast', 'faster', 'fastest', 'fastow', 'fat', 'fatal', 'fatboy', 'fate', 'father', 'fathered', 'fathers', 'fathom', 'fatigue', 'fatigued', 'fatos', 'faulkner', 'fault', 'faulted', 'faultless', 'faults', 'faulty', 'fausto', 'fava', 'favour', 'favourable', 'favourably', 'favoured', 'favourite', 'favourites', 'favours', 'fawkes', 'fax', 'faye', 'fayetteville', 'fazelas', 'fbi', 'fcc', 'fdi', 'fear', 'feared', 'fearful', 'feargal', 'fearing', 'fearne', 'fears', 'fearsome', 'fearsomely', 'feasibility', 'feasible', 'feat', 'feather', 'featherboy', 'feature', 'featured', 'features', 'featuring', 'february', 'fed', 'federal', 'federated', 'federation', 'federations', 'federer', 'federico', 'federline', 'fee', 'feed', 'feedback', 'feeder', 'feeding', 'feeds', 'feel', 'feeling', 'feelings', 'feels', 'feely', 'fees', 'feet', 'feign', 'feigned', 'feleppa', 'felgate', 'feliciano', 'felicity', 'feline', 'felipe', 'felix', 'fell', 'felled', 'fellman', 'fellner', 'fellow', 'fellowship', 'felony', 'felt', 'female', 'females', 'feminist', 'fence', 'fenced', 'fender', 'fenerbahce', 'fensao', 'fenton', 'feofanova', 'fer', 'ferdinand', 'fergie', 'ferguson', 'fern', 'fernando', 'ferocious', 'ferociously', 'ferocity', 'feroz', 'ferrari', 'ferreira', 'ferrerira', 'ferrero', 'ferrochrome', 'ferry', 'ferstman', 'fertile', 'fertiliser', 'fervour', 'fest', 'festival', 'festivals', 'festive', 'feta', 'fetch', 'fetches', 'feted', 'feud', 'feuding', 'feuds', 'fever', 'fewer', 'ffion', 'fi', 'fiancailles', 'fiancee', 'fiasco', 'fiat', 'fibre', 'fickle', 'fiction', 'fictional', 'fictionalised', 'fictions', 'fictitious', 'fiddle', 'fiddled', 'fiddler', 'fide', 'fidelis', 'fiduciary', 'field', 'fielded', 'fields', 'fiend', 'fiendish', 'fiends', 'fiennes', 'fierce', 'fiercely', 'fifa', 'fife', 'fifth', 'fifths', 'figaro', 'fight', 'fightback', 'fighter', 'fighters', 'fighting', 'fights', 'fightstar', 'figo', 'figure', 'figurehead', 'figures', 'fiji', 'file', 'filed', 'files', 'filing', 'filings', 'filled', 'filler', 'filling', 'film', 'filmed', 'filmic', 'filming', 'filmmaker', 'filmmaking', 'films', 'filter', 'filtered', 'filtering', 'filters', 'filthy', 'final', 'finale', 'finalise', 'finalised', 'finalist', 'finalists', 'finally', 'finals', 'finance', 'financed', 'finances', 'financial', 'financially', 'financials', 'financing', 'finans', 'finanziaria', 'finding', 'findings', 'findlay', 'finds', 'fine', 'fined', 'finegold', 'fines', 'finest', 'finger', 'fingerprint', 'fingerprinting', 'fingerprints', 'fingers', 'fingersmith', 'fingertips', 'finish', 'finished', 'finishes', 'finishing', 'finite', 'finjan', 'finland', 'finlay', 'finn', 'finnan', 'finnie', 'finnigan', 'finnish', 'finsbury', 'finsihed', 'fintian', 'fiona', 'fionnualla', 'fiorina', 'fipresci', 'firearm', 'firearms', 'fired', 'firefights', 'firefox', 'firemen', 'fires', 'firewall', 'firewalls', 'firewire', 'firework', 'fireworks', 'firing', 'firm', 'firmer', 'firmly', 'firms', 'firstly', 'firsts', 'firstsaver', 'firth', 'fiscal', 'fiscally', 'fish', 'fisher', 'fisheries', 'fishermen', 'fishing', 'fist', 'fiszman', 'fit', 'fitch', 'fitness', 'fits', 'fitted', 'fitting', 'fittings', 'fitzgerald', 'fitzsimons', 'fivefold', 'fix', 'fixate', 'fixed', 'fixes', 'fixing', 'fixings', 'fixture', 'fixtures', 'fizz', 'fizzy', 'flack', 'flag', 'flagged', 'flagging', 'flagrant', 'flagship', 'flair', 'flak', 'flakier', 'flamboyant', 'flame', 'flames', 'flamethrowers', 'flamini', 'flank', 'flanker', 'flap', 'flare', 'flared', 'flash', 'flashes', 'flashing', 'flashy', 'flat', 'flats', 'flatt', 'flattered', 'flattering', 'flattery', 'flautist', 'flavia', 'flavio', 'flavour', 'flavoured', 'flaw', 'flawed', 'flaws', 'fled', 'fledged', 'fledging', 'fledgling', 'fleeing', 'fleet', 'fleming', 'fletcher', 'flew', 'flexibility', 'flexible', 'flick', 'flicker', 'flicking', 'flies', 'flight', 'flights', 'flimsy', 'flip', 'flipstart', 'flo', 'float', 'floated', 'floating', 'floats', 'floaty', 'flock', 'floella', 'flood', 'flooded', 'flooding', 'floods', 'floor', 'floors', 'flop', 'floppy', 'flops', 'flora', 'florentino', 'florian', 'florida', 'florin', 'flotation', 'floundering', 'flounders', 'flourish', 'flourished', 'flourishes', 'flout', 'flouted', 'flouting', 'flow', 'flower', 'flowers', 'flowing', 'flown', 'flows', 'floyd', 'flu', 'fluctuations', 'fluffed', 'fluid', 'fluids', 'flung', 'fluorescent', 'flurry', 'flushed', 'flushing', 'flustered', 'flutist', 'flutter', 'fly', 'flying', 'flynn', 'fm', 'focal', 'fockers', 'focus', 'focused', 'focuses', 'focusing', 'focussed', 'focussing', 'foes', 'fog', 'fogarty', 'fogg', 'foil', 'foiled', 'fold', 'folded', 'folding', 'folds', 'foley', 'folk', 'follett', 'folllowing', 'follow', 'followed', 'followers', 'following', 'follows', 'foment', 'fond', 'fonda', 'fondation', 'fondness', 'fonetography', 'fonteyn', 'foo', 'food', 'foods', 'fool', 'fooled', 'foolish', 'foolishly', 'fools', 'foot', 'footage', 'football', 'footballer', 'footballers', 'footballing', 'footed', 'footfall', 'foothold', 'footing', 'footsteps', 'footswitch', 'footwear', 'foray', 'forays', 'forbes', 'force', 'forced', 'forceful', 'forces', 'forcible', 'forcibly', 'forcing', 'ford', 'fore', 'forearm', 'forecast', 'forecasters', 'forecasting', 'forecasts', 'forefathers', 'forefront', 'forehand', 'forehands', 'forehead', 'foreign', 'foreigners', 'foreknowledge', 'foreman', 'foremost', 'forensic', 'foresee', 'forest', 'forestier', 'forever', 'forewarning', 'foreword', 'forged', 'forget', 'forgetting', 'forging', 'forgive', 'forgiven', 'forgot', 'forgotten', 'fork', 'form', 'formal', 'formality', 'formally', 'format', 'formation', 'formats', 'formed', 'formidable', 'forming', 'forms', 'formula', 'formulaic', 'formulate', 'formulating', 'forrester', 'forster', 'forsyth', 'fortey', 'forthcoming', 'fortnight', 'fortress', 'fortuitous', 'fortunate', 'fortunately', 'fortune', 'fortunes', 'fortuyn', 'forum', 'forums', 'forward', 'forwards', 'fossil', 'fossils', 'foster', 'fostering', 'fought', 'foul', 'fouled', 'foulkes', 'fouls', 'foundation', 'foundations', 'founded', 'founder', 'founders', 'founding', 'fountains', 'fours', 'fourteen', 'fourth', 'fowler', 'fox', 'foxed', 'foxes', 'foxx', 'foyer', 'fracas', 'fraction', 'fractured', 'fracturing', 'fragile', 'fragility', 'fragment', 'fragmentation', 'fragmented', 'fragments', 'frame', 'frames', 'framework', 'framing', 'fran', 'francais', 'france', 'frances', 'francesca', 'francesco', 'franchise', 'franchisee', 'franchises', 'francique', 'francis', 'francisco', 'franck', 'franco', 'francois', 'francs', 'frank', 'frankfurt', 'franklin', 'frankly', 'frantic', 'franz', 'frasca', 'fraser', 'fraserburgh', 'fraternities', 'fraternity', 'frattini', 'fratton', 'fraud', 'frauds', 'fraudster', 'fraudsters', 'fraudulent', 'fraudulently', 'fraught', 'fray', 'frazier', 'fred', 'freddie', 'freddy', 'frederic', 'frederick', 'free', 'freebies', 'freed', 'freedom', 'freedoms', 'freefall', 'freeing', 'freelance', 'freelove', 'freely', 'freeman', 'freer', 'freescale', 'freeview', 'freeze', 'freezing', 'freight', 'french', 'frenchman', 'frenchwoman', 'frenetic', 'frenzy', 'frequencies', 'frequency', 'frequently', 'frescos', 'fresh', 'freshly', 'freshwater', 'fretted', 'fri', 'frid', 'friday', 'fridays', 'frideric', 'fridges', 'fried', 'friend', 'friendlies', 'friendly', 'friends', 'friendship', 'frigate', 'frightened', 'frills', 'fringe', 'frivolous', 'frock', 'frodo', 'froggatt', 'frontbench', 'frontbencher', 'frontbenchers', 'fronted', 'fronter', 'frontier', 'frontiers', 'frontline', 'frontman', 'frontrunner', 'fronts', 'froogle', 'frost', 'froth', 'frowned', 'froze', 'frozen', 'fruit', 'fruits', 'frustrated', 'frustrates', 'frustrating', 'frustratingly', 'frustration', 'fry', 'fsa', 'ft', 'ftse', 'fuck', 'fudge', 'fuel', 'fuelled', 'fuelling', 'fuels', 'fuerteventura', 'fugill', 'fujian', 'fujitsu', 'fukui', 'fulfil', 'fulfilled', 'fulfils', 'fulham', 'fullarton', 'fuller', 'fullest', 'fully', 'fumble', 'fumbled', 'fume', 'fuming', 'fun', 'function', 'functional', 'functionality', 'functioned', 'functions', 'fund', 'fundamental', 'fundamentally', 'fundamentals', 'funded', 'funding', 'fundraiser', 'fundraising', 'funds', 'funeral', 'funerals', 'funkier', 'funky', 'funnel', 'funny', 'fuqua', 'furious', 'furnish', 'furnishings', 'furniture', 'furore', 'furse', 'furthermore', 'fury', 'fused', 'fuses', 'fuso', 'fuss', 'futon', 'future', 'futureheads', 'futures', 'futuristic', 'futurologist', 'fy500', 'g20', 'g4', 'g6', 'g7', 'g8', 'gabriel', 'gabrielle', 'gadget', 'gadgets', 'gael', 'gaffe', 'gaffes', 'gage', 'gagging', 'gaia', 'gail', 'gain', 'gained', 'gainer', 'gaining', 'gains', 'gala', 'galan', 'galaxy', 'gale', 'galifray', 'gallagher', 'gallas', 'galleries', 'gallery', 'gallon', 'galloway', 'galls', 'galmier', 'galore', 'galvanize', 'galway', 'gambill', 'gamble', 'gambles', 'gambling', 'gambon', 'game', 'gameboy', 'gameboys', 'gamely', 'gamepads', 'gameplan', 'gameplay', 'gamer', 'gamers', 'games', 'gamesindustry', 'gaming', 'gammage', 'gammell', 'gang', 'gangs', 'gangster', 'gangsters', 'gant', 'gaobot', 'gap', 'gaps', 'gara', 'garage', 'garageband', 'garbage', 'garcia', 'garden', 'gardener', 'gardner', 'gareth', 'garfunkel', 'gargantuan', 'garland', 'garment', 'garments', 'garnered', 'garros', 'garrow', 'gartmore', 'gartner', 'garvey', 'gary', 'garzon', 'gas', 'gascoigne', 'gases', 'gasoline', 'gasp', 'gaston', 'gastropods', 'gate', 'gatekeeper', 'gatekeepers', 'gates', 'gateshead', 'gateway', 'gateways', 'gather', 'gathered', 'gatherers', 'gathering', 'gathers', 'gatland', 'gatlin', 'gatwick', 'gaudio', 'gauge', 'gave', 'gavin', 'gavron', 'gay', 'gaydon', 'gaydos', 'gaymard', 'gaza', 'gazetta', 'gazprom', 'gb', 'gbagbo', 'gcse', 'gcses', 'gdc', 'gdp', 'ge', 'gear', 'gearbox', 'gearboxes', 'gearing', 'gears', 'gebre', 'gebremariam', 'gebrselassie', 'gee', 'geek', 'geeks', 'geeky', 'gees', 'geislerova', 'gel', 'geldof', 'gelete', 'gellar', 'gelled', 'gem', 'gemma', 'gems', 'gen', 'gencrowd', 'gender', 'gene', 'genemation', 'genentech', 'general', 'generale', 'generally', 'generate', 'generated', 'generates', 'generating', 'generation', 'generations', 'generator', 'generators', 'generic', 'generosity', 'generous', 'geneti', 'genetically', 'geneva', 'genghis', 'genie', 'genius', 'gennaro', 'genocide', 'genre', 'genres', 'gentle', 'gentleman', 'gentlemen', 'genuine', 'genuinely', 'geoff', 'geoffrey', 'geographic', 'geographical', 'geographies', 'geopolitics', 'geordan', 'george', 'georgeta', 'georgewbush', 'georgia', 'georgian', 'gera', 'geraldine', 'gerard', 'gerd', 'gere', 'geremi', 'gerhard', 'geri', 'germaine', 'german', 'germano', 'germans', 'germany', 'gerolami', 'gerrard', 'gerry', 'gershon', 'gervais', 'gescher', 'gestapo', 'gesture', 'gestures', 'gethin', 'gets', 'getter', 'getting', 'gevaert', 'ghai', 'ghana', 'gharafa', 'gharib', 'ghazi', 'ghosn', 'ghost', 'ghosts', 'ghz', 'giamatti', 'gianfranco', 'gianluca', 'gianni', 'giant', 'giants', 'gibb', 'gibbons', 'gibbs', 'gibson', 'giddy', 'gielgud', 'gif', 'gift', 'gifted', 'gifts', 'gig', 'gigabits', 'gigabyte', 'gigabytes', 'gigantic', 'giggles', 'giggs', 'gigs', 'gil', 'gilbert', 'giles', 'gilhaney', 'gill', 'gilles', 'gillespie', 'gillian', 'gillies', 'gilligan', 'gillingham', 'gillmor', 'gilmar', 'gimme', 'gimmicks', 'gin', 'ginepri', 'ginger', 'ginsberg', 'girl', 'girlfriend', 'girlfriends', 'girls', 'girvan', 'gisbergen', 'giscard', 'gisela', 'giselle', 'giteau', 'giuseppe', 'giveaway', 'giveaways', 'given', 'gives', 'giving', 'gizmondo', 'gizmos', 'gla', 'glad', 'gladiator', 'gladly', 'gladys', 'glam', 'glamorised', 'glamorous', 'glamour', 'glance', 'glanced', 'glands', 'glaring', 'glasgow', 'glass', 'glasses', 'glastonbury', 'glaxosmithkline', 'glazer', 'glean', 'gleeson', 'glen', 'gleneagles', 'glenmorangie', 'glenn', 'glenurquhart', 'glided', 'glides', 'glimmer', 'glimpse', 'glimpses', 'glitch', 'glitches', 'glittering', 'glitz', 'gloating', 'global', 'globalisation', 'globally', 'globe', 'globes', 'globescan', 'glocer', 'gloom', 'gloomy', 'gloria', 'glorified', 'glorify', 'glorious', 'glory', 'gloss', 'glossy', 'gloucester', 'gloucestershire', 'gloves', 'glow', 'glowing', 'glued', 'glut', 'gm', 'gmac', 'gmail', 'gmc', 'gmt', 'gmtv', 'gnaw', 'gner', 'gnoll', 'gnu', 'goa', 'goal', 'goalkeeper', 'goalkicking', 'goalless', 'goalline', 'goalmouth', 'goals', 'goalscorer', 'goalscoring', 'goalwards', 'goat', 'gobbled', 'god', 'godfather', 'godless', 'gods', 'godzilla', 'goes', 'gogh', 'goin', 'going', 'goings', 'gold', 'golden', 'goldeneye', 'goldfinger', 'goldin', 'goldman', 'goldsmith', 'goldstein', 'goldwyn', 'golf', 'golfers', 'golfing', 'gollings', 'golovin', 'gomarsall', 'gondry', 'gone', 'gong', 'gongs', 'gonna', 'gonsalves', 'gonzalez', 'gonzalo', 'gooch', 'good', 'goodbody', 'goodbye', 'goode', 'goodfellas', 'goodison', 'goodman', 'goodness', 'goodrem', 'goodridge', 'goods', 'goodwill', 'google', 'goose', 'goosens', 'gopinath', 'goran', 'gorbachev', 'gordon', 'gorgeous', 'gorges', 'gormenghast', 'gorton', 'gorur', 'gosaibi', 'gospel', 'gospels', 'gossip', 'got', 'gothic', 'gothika', 'gotta', 'gotting', 'gough', 'gould', 'gov', 'govern', 'governance', 'governed', 'governess', 'governing', 'government', 'governmental', 'governments', 'governor', 'governs', 'gown', 'goya', 'gp', 'gprs', 'gps', 'gpw', 'grab', 'grabbed', 'grabbing', 'graber', 'grabs', 'grace', 'graced', 'graceland', 'gracious', 'graczyk', 'grade', 'graded', 'grades', 'gradual', 'gradually', 'graduate', 'graduated', 'graduates', 'graeme', 'graffiti', 'graft', 'graham', 'grail', 'grammar', 'grammy', 'grammys', 'gran', 'granclaude', 'grand', 'grandchild', 'grandchildren', 'grandclaude', 'grandfather', 'grandmother', 'grandparent', 'grandson', 'grange', 'granita', 'grant', 'granted', 'grants', 'graphic', 'graphical', 'graphically', 'graphics', 'grappled', 'grappling', 'grasp', 'grass', 'grassroot', 'grassroots', 'grateful', 'gratuitous', 'grauman', 'grave', 'gravediggers', 'gravesen', 'gravestone', 'gray', 'grazer', 'great', 'greater', 'greatest', 'greatly', 'greatness', 'greats', 'greaves', 'grecians', 'greco', 'greece', 'greed', 'greedy', 'greek', 'green', 'greenback', 'greene', 'greener', 'greenfield', 'greenhouse', 'greening', 'greens', 'greensleeves', 'greenspan', 'greenwich', 'greenwood', 'greer', 'greet', 'greeted', 'greeting', 'gref', 'greg', 'gregan', 'gregg', 'gregory', 'greig', 'grenades', 'gresik', 'gretchen', 'grew', 'grewcock', 'grey', 'greyhound', 'grid', 'gridlock', 'grief', 'grievances', 'grieve', 'grieving', 'griffen', 'griffin', 'griffiths', 'grim', 'grimes', 'grind', 'grindal', 'grinding', 'grinds', 'grip', 'gripes', 'gripped', 'gripping', 'grips', 'grit', 'gritted', 'gritty', 'grizzly', 'grocers', 'grocery', 'groenefeld', 'grohl', 'groin', 'grokster', 'gronkjaer', 'grosjean', 'gross', 'grossed', 'grossly', 'grosvenor', 'ground', 'groundbreaking', 'groundrules', 'grounds', 'groundstrokes', 'group', 'groups', 'grove', 'grovelling', 'grow', 'growing', 'grown', 'grows', 'growth', 'grudge', 'gruelling', 'gruesome', 'grumbletext', 'grunt', 'gsi', 'gsk', 'gsm', 'gt', 'gt4', 'gta', 'guadalcanal', 'guantanamo', 'guarantee', 'guaranteed', 'guaranteeing', 'guarantees', 'guaranty', 'guard', 'guarded', 'guardian', 'guardiola', 'guards', 'guardsman', 'gudjohnsen', 'guernsey', 'guerrilla', 'guerrouj', 'guess', 'guessed', 'guessing', 'guest', 'guests', 'guff', 'guidance', 'guidant', 'guide', 'guided', 'guideline', 'guidelines', 'guides', 'guiding', 'guido', 'guild', 'guildford', 'guildhall', 'guillermo', 'guilt', 'guilty', 'guinea', 'guinness', 'guise', 'guitar', 'guitarist', 'guitarists', 'guitars', 'gulf', 'gullit', 'gun', 'gunboat', 'gunnar', 'gunnell', 'gunner', 'gunners', 'gunpoint', 'gunpowder', 'guns', 'gunshot', 'gupta', 'guru', 'gus', 'guscott', 'gutful', 'guts', 'gutsy', 'gutted', 'gutter', 'guy', 'guys', 'guzzling', 'gw', 'gwen', 'gwent', 'gwyneth', 'gybels', 'gym', 'gypsies', 'gypsy', 'gyu', 'haas', 'habit', 'habits', 'hacan', 'hacienda', 'hack', 'hacker', 'hackers', 'hackett', 'hackford', 'hacking', 'hacks', 'haden', 'hadn', 'hagerstown', 'hague', 'hail', 'haile', 'hailed', 'hailey', 'hails', 'hailstorm', 'hain', 'hair', 'haircut', 'hairdressing', 'haiti', 'haji', 'hal', 'hale', 'half', 'halftime', 'halfway', 'halifax', 'hall', 'halle', 'halliwell', 'hallowed', 'halloween', 'halls', 'halo', 'halser', 'halt', 'halted', 'haltemprice', 'halts', 'halve', 'halved', 'halves', 'halving', 'ham', 'hamann', 'hambantota', 'hamburg', 'hamer', 'hamilton', 'hamish', 'hamlet', 'hamlets', 'hamm', 'hammer', 'hammered', 'hammering', 'hammers', 'hammerton', 'hampden', 'hamper', 'hampered', 'hampshire', 'hampton', 'hamster', 'hamstring', 'hand', 'handbag', 'handbook', 'handcuffed', 'handed', 'handedly', 'handedness', 'handel', 'handful', 'handheld', 'handhelds', 'handicap', 'handicapped', 'handing', 'handle', 'handled', 'handlers', 'handles', 'handling', 'handmade', 'hands', 'handset', 'handsets', 'handwritten', 'handy', 'hang', 'hanging', 'hangover', 'hangs', 'hanif', 'hank', 'hanks', 'hanley', 'hanningfield', 'hans', 'hansard', 'hansen', 'hantuchova', 'haphazard', 'hapless', 'happen', 'happened', 'happening', 'happenings', 'happens', 'happier', 'happily', 'happiness', 'happoshu', 'happy', 'hara', 'haralabos', 'haranguing', 'harassed', 'harbour', 'harbouring', 'harbours', 'hard', 'hardcastle', 'hardcore', 'hardcourt', 'hardening', 'hardenne', 'harder', 'hardest', 'hardie', 'harding', 'hardline', 'hardly', 'hardship', 'hardware', 'hardworking', 'hardy', 'hare', 'hared', 'hares', 'hari', 'harinordoquy', 'hariri', 'hark', 'harker', 'harlem', 'harlequins', 'harm', 'harmed', 'harmful', 'harmless', 'harmonisation', 'harness', 'harnessing', 'harold', 'harp', 'harper', 'harried', 'harrier', 'harriers', 'harris', 'harrison', 'harrogate', 'harrow', 'harry', 'harsh', 'harshly', 'hart', 'hartlepool', 'hartpury', 'hartson', 'harty', 'hartz', 'harvard', 'harvest', 'harvesting', 'harvey', 'hash', 'haskins', 'hasn', 'hasna', 'hassan', 'hasselbaink', 'hassle', 'hastily', 'hasty', 'hat', 'hatcher', 'hatchets', 'hate', 'hated', 'hates', 'hatfield', 'hatful', 'hatred', 'hats', 'hattersley', 'haul', 'hauled', 'haunted', 'haute', 'hautman', 'havana', 'haven', 'haverstock', 'haves', 'having', 'hawaii', 'hawk', 'hawking', 'hawkins', 'hawkish', 'hayao', 'hayes', 'hayley', 'hayward', 'hazard', 'hazardous', 'hazards', 'hazel', 'hazell', 'hazlewood', 'hbo', 'hbos', 'hd', 'hdtv', 'hdtvs', 'head', 'headache', 'headaches', 'headbutt', 'headbutted', 'headed', 'header', 'heading', 'headingley', 'headline', 'headliners', 'headlines', 'headmaster', 'headphone', 'headphones', 'headquarters', 'heads', 'headset', 'heal', 'heald', 'healed', 'healey', 'health', 'healthcare', 'healthy', 'heap', 'heaped', 'hear', 'heard', 'hearing', 'hearings', 'hears', 'hearsay', 'heart', 'heartbeat', 'hearted', 'heartening', 'heartlands', 'hearts', 'hearty', 'heat', 'heated', 'heath', 'heather', 'heathers', 'heathrow', 'heating', 'heats', 'heaven', 'heavier', 'heavily', 'heaving', 'heavy', 'heavyweights', 'heck', 'hecklers', 'hectare', 'hectic', 'hecuba', 'hedge', 'hedged', 'hedging', 'heels', 'hefty', 'height', 'heightens', 'heights', 'heine', 'heineken', 'heinous', 'heinze', 'heir', 'heirloom', 'heirs', 'heists', 'held', 'helen', 'helena', 'helens', 'helicopter', 'hell', 'hellblazer', 'hellboy', 'hellenic', 'hellfire', 'hellicar', 'hello', 'helm', 'helmets', 'helmut', 'help', 'helped', 'helpful', 'helping', 'helpless', 'helps', 'helsinki', 'hemington', 'hemisphere', 'henchoz', 'henderson', 'hendrix', 'hendry', 'henin', 'henk', 'henley', 'henman', 'henri', 'henrik', 'henry', 'henson', 'hepatitis', 'hepburn', 'heptathlon', 'herald', 'heralded', 'heralds', 'herbert', 'hercus', 'hereditaries', 'hereditary', 'hereford', 'herefordshire', 'heretic', 'heritage', 'herlihy', 'hermann', 'hermione', 'hernandez', 'herne', 'hernych', 'hero', 'heroes', 'heroic', 'heroics', 'heroin', 'heroine', 'heronry', 'herrick', 'hertfordshire', 'herve', 'hesaid', 'heseltine', 'hesitation', 'hessel', 'hessen', 'hew', 'hewitt', 'hewland', 'hewlett', 'hewson', 'hey', 'heyday', 'hi', 'hiatus', 'hibernian', 'hicham', 'hickey', 'hickie', 'hickox', 'hid', 'hidden', 'hide', 'hides', 'hiding', 'hier', 'higdon', 'higgins', 'high', 'highbrow', 'highbury', 'higher', 'highest', 'highgrove', 'highland', 'highlander', 'highlands', 'highlight', 'highlighted', 'highlighting', 'highlights', 'highly', 'highs', 'highway', 'hijack', 'hijacked', 'hike', 'hikes', 'hilarious', 'hilary', 'hiley', 'hill', 'hillbillies', 'hillingdon', 'hills', 'hillsborough', 'hilton', 'hinckley', 'hind', 'hinder', 'hindered', 'hindering', 'hindi', 'hindsight', 'hindu', 'hindus', 'hines', 'hinge', 'hinged', 'hinges', 'hinshelwood', 'hint', 'hinted', 'hinting', 'hints', 'hip', 'hippy', 'hirai', 'hiring', 'hiromichi', 'hirsi', 'hislop', 'hiss', 'historic', 'historical', 'historically', 'histories', 'history', 'hit', 'hitch', 'hitchcock', 'hitchhiker', 'hiten', 'hitler', 'hits', 'hitting', 'hitzlsperger', 'hiv', 'hive', 'hk', 'hms', 'hmv', 'hoadley', 'hoax', 'hoaxes', 'hobbies', 'hobbit', 'hobbits', 'hobday', 'hobson', 'hockey', 'hockney', 'hoddle', 'hodge', 'hodgson', 'hoey', 'hoffman', 'hogan', 'hogg', 'hogwarts', 'hoisted', 'holah', 'holborn', 'holby', 'holcim', 'hold', 'holder', 'holders', 'holding', 'holdings', 'holds', 'holdsworth', 'hole', 'holes', 'holiday', 'holidaying', 'holidays', 'holiff', 'holland', 'holliday', 'hollinghurst', 'hollwood', 'hollywood', 'holme', 'holmes', 'holocaust', 'holy', 'holyrood', 'holzle', 'home', 'homebuyers', 'homecoming', 'homegrown', 'homeland', 'homeless', 'homelessness', 'homeowner', 'homepage', 'homes', 'homesick', 'hometown', 'homie', 'homophobic', 'homosexuality', 'honda', 'hone', 'honest', 'honestly', 'honesty', 'honeyman', 'honeymoon', 'honeymoons', 'hong', 'honor', 'honorary', 'honour', 'honourary', 'honoured', 'honouring', 'honours', 'hood', 'hook', 'hooked', 'hooker', 'hooking', 'hoon', 'hoople', 'hoops', 'hoover', 'hooves', 'hop', 'hope', 'hoped', 'hopeful', 'hopefully', 'hopefuls', 'hopers', 'hopes', 'hoping', 'hopkins', 'hopman', 'horan', 'horde', 'hordes', 'hore', 'horgan', 'horizon', 'horizons', 'horner', 'horns', 'hornsey', 'horowitz', 'horrendous', 'horrible', 'horrific', 'horrified', 'horror', 'horrors', 'horse', 'horseback', 'horsepower', 'horseracing', 'horses', 'horsman', 'hose', 'hosford', 'hosiery', 'hoskins', 'hospital', 'hospitality', 'hospitals', 'host', 'hostage', 'hostages', 'hosted', 'hostile', 'hostilities', 'hostility', 'hosting', 'hosts', 'hot', 'hotbed', 'hotbot', 'hotel', 'hotels', 'hothouse', 'hotline', 'hotly', 'hotmail', 'hotpants', 'hotpot', 'hotseat', 'hotspot', 'hotspots', 'hottest', 'houlihan', 'hounds', 'hounslow', 'hour', 'hourly', 'hours', 'house', 'housebuilder', 'housed', 'household', 'householder', 'householders', 'households', 'housemate', 'housemates', 'houses', 'housewives', 'housing', 'houston', 'hove', 'hovered', 'hovering', 'hovers', 'howard', 'howden', 'howe', 'howell', 'howitzer', 'howl', 'howley', 'hoy', 'hoyte', 'hp', 'hq', 'hrbaty', 'hreidarsson', 'hrh', 'hrisanthakis', 'hsbc', 'hub', 'hubs', 'huckabees', 'hudell', 'hues', 'huey', 'huffman', 'hug', 'huge', 'hugely', 'huggy', 'hugh', 'hughes', 'hugo', 'hugues', 'huisman', 'hulk', 'hulking', 'hull', 'hulme', 'hultman', 'human', 'humane', 'humanitarian', 'humanity', 'humankind', 'humans', 'humber', 'humberside', 'humble', 'humbling', 'humiliating', 'humiliation', 'humility', 'humorous', 'humorously', 'humour', 'humphrey', 'humphreys', 'hundreds', 'hundredth', 'hung', 'hungarian', 'hungary', 'hunger', 'hungry', 'hunstman', 'hunt', 'hunter', 'hunters', 'hunting', 'huntley', 'hunts', 'huntsman', 'hurdle', 'hurdler', 'hurdlers', 'hurdles', 'hurricane', 'hurricanes', 'hurriedly', 'hurry', 'hurt', 'hurting', 'hurts', 'husband', 'husbands', 'hush', 'hushing', 'hussain', 'hussein', 'husson', 'hustlers', 'huston', 'hutch', 'hutchinson', 'hutchison', 'hutton', 'hutu', 'hutus', 'huw', 'hvb', 'hybrid', 'hybridise', 'hybrids', 'hyde', 'hyderabad', 'hydration', 'hydraulic', 'hydroelectric', 'hykeham', 'hylands', 'hylton', 'hynde', 'hype', 'hypergrowth', 'hypertag', 'hypertags', 'hypnotic', 'hypocrisy', 'hypponen', 'hytner', 'hyundai', 'hyung', 'hyypia', 'iaaf', 'iain', 'ian', 'iband', 'ibm', 'ibrox', 'ican', 'icann', 'icbc', 'ice', 'iceberg', 'iceland', 'icelandic', 'icing', 'icm', 'icon', 'iconic', 'icons', 'icrc', 'icstis', 'id', 'idaho', 'ide', 'idea', 'ideal', 'idealistic', 'ideally', 'ideals', 'ideas', 'idec', 'identical', 'identification', 'identified', 'identifies', 'identify', 'identifying', 'identities', 'identity', 'ideological', 'ideologically', 'ideologue', 'idi', 'idiocies', 'idiot', 'idle', 'idleness', 'idn', 'idns', 'idol', 'idols', 'idowu', 'ids', 'idvd', 'ie7', 'ieee', 'iestyn', 'ietf', 'ifes', 'ifo', 'ifpi', 'ifrs', 'ifs', 'ifzal', 'iglesias', 'ignacio', 'ignite', 'ignorance', 'ignore', 'ignored', 'ignores', 'ignoring', 'igor', 'ii', 'iii', 'il', 'iliaronov', 'ilife', 'ill', 'illarionov', 'illegal', 'illegally', 'illegals', 'illegitimate', 'illiberal', 'illicit', 'illinois', 'illiteracy', 'illness', 'illnesses', 'illogical', 'ills', 'illston', 'illuminati', 'illuminations', 'illusion', 'illusions', 'illusory', 'illustrate', 'illustrated', 'illustrates', 'illustrious', 'ilo', 'ilston', 'ilw', 'im', 'image', 'imagery', 'images', 'imaginary', 'imagination', 'imaginations', 'imaginative', 'imagine', 'imaging', 'imam', 'imanol', 'imbalance', 'imbalances', 'imelda', 'imf', 'imitating', 'imitation', 'immaculately', 'immeasurably', 'immediate', 'immediately', 'immelt', 'immense', 'immensely', 'immersed', 'immersion', 'immersive', 'immigrant', 'immigrants', 'immigration', 'imminent', 'immoral', 'immune', 'imovie', 'imp', 'impact', 'impacted', 'impairments', 'impartial', 'imparting', 'impassable', 'impatient', 'impeccable', 'impeded', 'impedes', 'impending', 'imperative', 'imperial', 'imperialists', 'impersonal', 'impersonated', 'impersonator', 'impetus', 'implant', 'implantation', 'implanted', 'implants', 'implement', 'implementation', 'implemented', 'implementing', 'implicated', 'implicating', 'implication', 'implications', 'implied', 'implored', 'imply', 'implying', 'import', 'importance', 'important', 'importantly', 'imported', 'imports', 'impose', 'imposed', 'imposes', 'imposing', 'impossible', 'impossibly', 'impostor', 'impound', 'impoverished', 'impractical', 'impresario', 'impresarios', 'impress', 'impressed', 'impression', 'impressionist', 'impressions', 'impressive', 'impressively', 'impreza', 'imprezas', 'imprisoned', 'impromptu', 'improper', 'improve', 'improved', 'improvement', 'improvements', 'improves', 'improving', 'improvise', 'improvised', 'impulse', 'impulsive', 'inability', 'inaccessible', 'inaccurate', 'inacio', 'inadequate', 'inadmissible', 'inadvertently', 'inanimate', 'inappropriate', 'inappropriately', 'inaugural', 'inauguration', 'inauthentic', 'inboxes', 'incapable', 'incapacitated', 'incapacity', 'incarnation', 'incensed', 'incentive', 'incentives', 'inception', 'incessant', 'inch', 'inched', 'inches', 'incident', 'incidental', 'incidents', 'incite', 'incitement', 'inciting', 'inclined', 'include', 'included', 'includes', 'including', 'inclusion', 'income', 'incomes', 'incoming', 'incompatibilities', 'incompatible', 'incompetence', 'incompetent', 'inconceivable', 'inconsistency', 'inconsistent', 'inconspicuous', 'inconvenience', 'incorporate', 'incorporated', 'incorporates', 'incorporating', 'incorrect', 'increase', 'increased', 'increases', 'increasing', 'increasingly', 'incredible', 'incredibles', 'incredibly', 'incumbent', 'incur', 'indebted', 'indecency', 'indefinite', 'indefinitely', 'indelible', 'indepen', 'independence', 'independent', 'independently', 'independents', 'indescribable', 'indestructible', 'index', 'indexed', 'indexing', 'india', 'indian', 'indiana', 'indians', 'indicate', 'indicated', 'indicates', 'indicating', 'indication', 'indications', 'indicative', 'indicator', 'indicators', 'indicted', 'indictment', 'indictments', 'indie', 'indies', 'indifferent', 'indigenous', 'indigent', 'indignity', 'indirect', 'indirectly', 'indiscipline', 'indiscretion', 'indispensable', 'indistinguishable', 'individual', 'individuality', 'individually', 'individuals', 'indonesia', 'indonesian', 'indonesians', 'indoor', 'indoors', 'induce', 'inducement', 'inducted', 'inductee', 'induction', 'indulge', 'indulging', 'industrial', 'industrialised', 'industrialists', 'industries', 'industrious', 'industry', 'ineffective', 'ineffectiveness', 'inefficient', 'ineligible', 'inequalities', 'inequality', 'ines', 'inescapable', 'inevitable', 'inevitably', 'inexorably', 'inexpensive', 'inexperienced', 'infamous', 'infancy', 'infant', 'infect', 'infected', 'infecting', 'infection', 'infectious', 'infects', 'inferior', 'infested', 'infighting', 'infiltrates', 'infinity', 'infirmary', 'inflammatory', 'inflate', 'inflated', 'inflation', 'inflationary', 'inflict', 'inflicted', 'inflicting', 'influence', 'influenced', 'influences', 'influential', 'influx', 'info', 'infogrames', 'inform', 'informa', 'informal', 'information', 'informative', 'informed', 'informing', 'infra', 'infrastructure', 'infringed', 'infringement', 'infringements', 'infringing', 'ing', 'ingenious', 'ingenuity', 'ingham', 'ingrained', 'ingram', 'ingredient', 'ingrown', 'inhabit', 'inherent', 'inherently', 'inherit', 'inheritance', 'inheriting', 'inhumane', 'initial', 'initially', 'initiated', 'initiation', 'initiative', 'initiatives', 'inject', 'injection', 'injunction', 'injunctions', 'injure', 'injured', 'injuries', 'injuring', 'injury', 'injustice', 'ink', 'inked', 'inking', 'inkjet', 'inkling', 'inktomi', 'inland', 'inmates', 'inner', 'innocence', 'innocent', 'innocently', 'innocuous', 'innovate', 'innovation', 'innovations', 'innovative', 'inoculation', 'inoculations', 'inoni', 'inorganic', 'input', 'inquest', 'inquire', 'inquiries', 'inquiry', 'inquisitiveness', 'ins', 'insane', 'insecure', 'insecurity', 'insee', 'insensitive', 'insensitivity', 'inseparable', 'insert', 'inserted', 'inside', 'insider', 'insiders', 'insight', 'insignificant', 'insinuation', 'insist', 'insisted', 'insistence', 'insisting', 'insists', 'insofar', 'insolvency', 'insolvent', 'inspected', 'inspection', 'inspections', 'inspector', 'inspiration', 'inspirational', 'inspire', 'inspired', 'inspiring', 'instability', 'instal', 'install', 'installation', 'installed', 'installing', 'installs', 'instalment', 'instalments', 'instance', 'instances', 'instant', 'instantaneous', 'instantly', 'instapundit', 'instat', 'instead', 'instil', 'instilling', 'instinct', 'instinctively', 'instincts', 'institute', 'institution', 'institutional', 'institutions', 'instruct', 'instructed', 'instruction', 'instructions', 'instructor', 'instrument', 'instrumental', 'instruments', 'insufficient', 'insulated', 'insulation', 'insult', 'insulted', 'insulting', 'insults', 'insurance', 'insured', 'insurer', 'insurers', 'insurgency', 'insurrection', 'intact', 'integral', 'integrate', 'integrated', 'integrating', 'integration', 'integrity', 'intel', 'intellectual', 'intelligence', 'intelligent', 'intelligently', 'intend', 'intended', 'intending', 'intends', 'intense', 'intensified', 'intensity', 'intensive', 'intent', 'intention', 'intentional', 'intentionally', 'intentions', 'intents', 'inter', 'interact', 'interaction', 'interactions', 'interactive', 'interactivity', 'intercept', 'intercepted', 'interception', 'intercepts', 'interchangeable', 'intercity', 'interconnected', 'interconnection', 'interested', 'interesting', 'interests', 'interface', 'interfaces', 'interfax', 'interfere', 'interfered', 'interference', 'interfering', 'interior', 'intermediary', 'intermediate', 'intermission', 'internacional', 'internal', 'international', 'internationalised', 'internationalism', 'internationally', 'internationals', 'internazionale', 'internet', 'internment', 'interoperable', 'interpol', 'interpret', 'interpretation', 'interpretations', 'interpreted', 'interpreter', 'interpreting', 'interprets', 'interrogated', 'interrogations', 'interrogator', 'interrupted', 'interrupting', 'intertrust', 'intertwined', 'interval', 'intervene', 'intervened', 'intervening', 'intervention', 'interventions', 'interview', 'interviewed', 'interviews', 'intervoice', 'intifada', 'intimate', 'intimated', 'intimately', 'intimidate', 'intimidated', 'intimidating', 'intimidation', 'intoppa', 'intranet', 'intrigued', 'intriguing', 'intro', 'introduce', 'introduced', 'introduces', 'introducing', 'introduction', 'introspective', 'intrude', 'intruder', 'intruders', 'intrusion', 'intrusive', 'intuitive', 'inuit', 'invade', 'invaders', 'invading', 'invalid', 'invariably', 'invasion', 'invasive', 'invasiveness', 'invective', 'invent', 'invented', 'invention', 'inventions', 'inventive', 'inventor', 'inventors', 'inventory', 'inverness', 'invest', 'investec', 'invested', 'investigate', 'investigated', 'investigates', 'investigating', 'investigation', 'investigations', 'investigative', 'investigators', 'investing', 'investment', 'investments', 'investor', 'investors', 'invests', 'invincibility', 'invisible', 'invitation', 'invitational', 'invitations', 'invite', 'invited', 'inviting', 'invoice', 'invoices', 'invoking', 'involve', 'involved', 'involvement', 'involves', 'involving', 'inward', 'inwhich', 'ioannidis', 'ioannis', 'ioannou', 'ioc', 'iota', 'iowa', 'ip', 'iphoto', 'ipo', 'ipod', 'ipods', 'ippr', 'ipswich', 'iptv', 'ipv4', 'ipv6', 'iqbal', 'ir', 'ira', 'irakli', 'iran', 'irancell', 'iranian', 'iraq', 'iraqi', 'iraqis', 'irb', 'ireland', 'iressa', 'irfan', 'irina', 'iris', 'irish', 'irishman', 'iriver', 'iron', 'ironed', 'ironic', 'ironically', 'irons', 'irony', 'irradiated', 'irrational', 'irregular', 'irregularities', 'irregularity', 'irrelevance', 'irrelevant', 'irreparable', 'irreplaceable', 'irrespective', 'irresponsibility', 'irresponsible', 'irreversible', 'irritate', 'irritated', 'irritating', 'irritatingly', 'irritation', 'irureta', 'irving', 'isaacson', 'isaiah', 'isbn', 'iseq', 'isg', 'isinbayeva', 'isitt', 'islam', 'islamaphobia', 'islamic', 'islamism', 'islamist', 'island', 'islands', 'isle', 'isles', 'islington', 'ism', 'isn', 'isolated', 'isolation', 'ison', 'ispat', 'isps', 'israel', 'israeli', 'israelis', 'issue', 'issued', 'issuer', 'issuers', 'issues', 'issuing', 'istanbul', 'isuzu', 'italaudit', 'italian', 'italians', 'italics', 'italy', 'item', 'items', 'iterated', 'itf', 'itn', 'itpc', 'itrec', 'itunes', 'itv', 'itv1', 'itx', 'iv', 'ivan', 'ivankoe', 'ivanovic', 'iveta', 'ivo', 'ivory', 'iwata', 'ixis', 'jaap', 'jack', 'jackal', 'jackass', 'jacket', 'jackets', 'jackie', 'jacking', 'jackman', 'jackpot', 'jackson', 'jacksonville', 'jacob', 'jacoba', 'jacqueline', 'jacques', 'jacqui', 'jada', 'jadakiss', 'jade', 'jagger', 'jail', 'jailed', 'jailhouse', 'jailing', 'jailings', 'jails', 'jaime', 'jain', 'jak', 'jakamoko', 'jakarta', 'jake', 'jakob', 'jakobi', 'jal', 'jam', 'jama', 'jamaica', 'jamaican', 'jamelia', 'james', 'jameson', 'jamie', 'jamieson', 'jammed', 'jammins', 'jams', 'jan', 'jane', 'janeiro', 'janet', 'janine', 'jankovic', 'january', 'jaouad', 'japan', 'japanese', 'jarosik', 'jaschen', 'jaslyn', 'jason', 'jauregi', 'jauzion', 'java', 'javelin', 'javier', 'jaw', 'jaws', 'jaxx', 'jay', 'jayne', 'jaynes', 'jays', 'jazeera', 'jazz', 'jcwi', 'jd', 'jealous', 'jean', 'jeanette', 'jeanne', 'jeannin', 'jed', 'jeep', 'jeeves', 'jeff', 'jefferies', 'jeffers', 'jeffrey', 'jeffries', 'jelena', 'jemima', 'jenkins', 'jennie', 'jennifer', 'jennings', 'jenny', 'jens', 'jeopardise', 'jeopardising', 'jeremy', 'jermoe', 'jeroen', 'jerome', 'jerry', 'jersey', 'jerseys', 'jerwood', 'jerzy', 'jesper', 'jesse', 'jessica', 'jessops', 'jessy', 'jesus', 'jet', 'jets', 'jeunet', 'jewel', 'jeweller', 'jewellery', 'jewish', 'jews', 'jez', 'jf', 'jfe', 'ji', 'jibe', 'jie', 'jim', 'jimmy', 'jinked', 'jinshajiang', 'jiri', 'jitters', 'jiulin', 'jive', 'jj', 'jk', 'jm', 'jnr', 'jo', 'joachim', 'joan', 'joanna', 'joanne', 'joaquim', 'joaquin', 'job', 'jobcentres', 'jobless', 'joblessness', 'jobs', 'jobseekers', 'jock', 'jockey', 'joe', 'joel', 'joey', 'johan', 'johann', 'johannesson', 'johansson', 'john', 'johnny', 'johnson', 'joice', 'joie', 'join', 'joined', 'joining', 'joins', 'joint', 'jointly', 'joke', 'joked', 'joking', 'joko', 'jol', 'jolanda', 'jolene', 'jolie', 'jolly', 'jolson', 'jolt', 'joly', 'jon', 'jonah', 'jonas', 'jonatan', 'jonathan', 'jones', 'jonny', 'jonty', 'jordan', 'jordi', 'jorg', 'jorge', 'jos', 'jose', 'josep', 'joseph', 'josh', 'joshua', 'joss', 'journal', 'journalist', 'journalistic', 'journalists', 'journals', 'journey', 'jowell', 'joy', 'joyce', 'joynt', 'joypad', 'joystick', 'joysticks', 'jp', 'jpmorgan', 'jr', 'jrr', 'juan', 'jubilation', 'judas', 'jude', 'judge', 'judged', 'judgement', 'judgements', 'judges', 'judging', 'judgment', 'judi', 'judicial', 'judiciary', 'judith', 'judy', 'jufeyr', 'juggle', 'jugnot', 'juice', 'juices', 'jukebox', 'julia', 'julian', 'julie', 'julien', 'juliette', 'julio', 'july', 'jump', 'jumped', 'jumper', 'jumping', 'jumps', 'jumpy', 'june', 'jungle', 'juninho', 'junior', 'juniper', 'junk', 'jupiter', 'jurgen', 'juri', 'jurisdiction', 'jurisdictions', 'jurors', 'jury', 'just', 'justfor', 'justice', 'justification', 'justified', 'justifies', 'justify', 'justin', 'justine', 'jutge', 'juthamas', 'juvenile', 'juventus', 'juxtaposed', 'k2', 'k3', 'kaha', 'kahey', 'kahn', 'kaiser', 'kaka', 'kalanick', 'kamal', 'kamara', 'kamiyama', 'kampala', 'kampen', 'kane', 'kano', 'kanu', 'kanye', 'kaplan', 'kaplinsky', 'kapranos', 'kar', 'karaoke', 'karen', 'karkouri', 'karl', 'karmis', 'karol', 'karolina', 'kart', 'kartadinata', 'kartel', 'karya', 'kasabian', 'kash', 'kashmir', 'kashyap', 'kassell', 'katarina', 'kate', 'katerina', 'katharine', 'katherine', 'kathleen', 'kathy', 'katie', 'katwala', 'kay', 'kayitesi', 'kaz', 'kazaa', 'kazakh', 'kazakhstan', 'kazi', 'kazuhiro', 'kdb', 'keane', 'keanu', 'kearney', 'keating', 'keaton', 'keaveney', 'kechiche', 'keegan', 'keen', 'keenan', 'keenly', 'keenness', 'keeper', 'keepers', 'keeping', 'keeps', 'kefa', 'keighley', 'keino', 'keith', 'keizai', 'kel', 'kelli', 'kelly', 'kelvin', 'kember', 'kemp', 'ken', 'kenenisa', 'kennedy', 'kenneth', 'kenney', 'kenny', 'kent', 'kenteris', 'kentish', 'kenton', 'kenya', 'kenyan', 'kenyans', 'kenyon', 'kenzie', 'keothavong', 'kept', 'kerr', 'kerrang', 'kerry', 'kerstin', 'keska', 'kessler', 'kevin', 'kewell', 'key', 'keyboard', 'keynes', 'keynote', 'keyobs', 'keypad', 'keys', 'keystroke', 'keystrokes', 'keyword', 'keywords', 'kezman', 'khan', 'khayelitsha', 'khodorkovsky', 'khomeini', 'khordokovsky', 'kick', 'kickable', 'kickboxing', 'kicked', 'kicker', 'kickers', 'kicking', 'kicks', 'kid', 'kidnapped', 'kidnappers', 'kidnapping', 'kidney', 'kids', 'kiefer', 'kiely', 'kieran', 'kieron', 'kiev', 'kiki', 'kiknavelidze', 'kilbride', 'kilgore', 'kill', 'killed', 'killer', 'killers', 'killing', 'killings', 'killzone', 'kilmarnock', 'kilobit', 'kilometre', 'kilroy', 'kim', 'kimberly', 'kimmel', 'kind', 'kindly', 'kinds', 'king', 'kingdom', 'kingfisher', 'kings', 'kingsholm', 'kinnock', 'kinross', 'kinsey', 'kiole', 'kiosks', 'kipchoge', 'kiplagat', 'kirby', 'kirchner', 'kirin', 'kirkcaldy', 'kirsten', 'kirwan', 'kishishev', 'kisna', 'kiss', 'kit', 'kitchen', 'kits', 'kitted', 'kitts', 'kk', 'kleinberg', 'kleynhans', 'klinsmann', 'kluft', 'kluivert', 'knack', 'knapman', 'knee', 'knees', 'knell', 'knew', 'knife', 'knight', 'knit', 'knits', 'knock', 'knockback', 'knocked', 'knocking', 'knockout', 'knocks', 'knotty', 'know', 'knowing', 'knowingly', 'knowledge', 'knowledgeable', 'knowles', 'known', 'knows', 'knuckles', 'kobita', 'kodak', 'kodiak', 'koeman', 'koen', 'kofi', 'koh', 'kolo', 'komileva', 'kommersant', 'konami', 'konchesky', 'kong', 'konstantinos', 'koogle', 'kooyong', 'korchemny', 'korea', 'korean', 'korn', 'korzhanenko', 'kos', 'kosslick', 'kostanic', 'kostas', 'kotamaraja', 'koubek', 'kowalski', 'kp', 'kpmg', 'kraft', 'krajicek', 'kranks', 'kreme', 'kremlin', 'krim', 'krispy', 'krist', 'kristiansen', 'kristin', 'krivorizhstal', 'krol', 'krome', 'kronberg', 'kronenbourg', 'kruger', 'kuala', 'kuchma', 'kudos', 'kudrow', 'kulakov', 'kull', 'kumar', 'kumaratunga', 'kumars', 'kunzru', 'kursk', 'kurt', 'kutaragi', 'kuwait', 'kuznetsova', 'kwakye', 'kwame', 'kwayke', 'kwon', 'kyle', 'kylie', 'kyoto', 'kyrgiakos', 'kyrgyz', 'la', 'laah', 'lab', 'labadze', 'label', 'labelled', 'labelling', 'labels', 'labor', 'laboratories', 'laboratory', 'labour', 'laboured', 'labourers', 'labs', 'lack', 'lackadaisical', 'lacked', 'lacking', 'lacklustre', 'lacks', 'lacroix', 'lad', 'ladbrokes', 'ladder', 'laddish', 'laden', 'ladies', 'lads', 'lady', 'ladybird', 'ladykillers', 'ladyman', 'lag', 'lagaan', 'lagat', 'lager', 'lagging', 'laharrague', 'laid', 'laing', 'lake', 'lakers', 'lakshmi', 'lamacq', 'lambert', 'lamberty', 'lamboley', 'lamented', 'laminate', 'lammy', 'lamont', 'lamp', 'lampard', 'lan', 'lana', 'lanarkshire', 'lancashire', 'lancaster', 'land', 'landed', 'lander', 'landfill', 'landing', 'landlady', 'landline', 'landlines', 'landlocked', 'landlords', 'landmark', 'landmines', 'lands', 'landscape', 'landsdowne', 'landslide', 'lane', 'laneve', 'langdon', 'lange', 'langrishe', 'langtry', 'language', 'languages', 'languished', 'languishing', 'lanka', 'lankan', 'lankans', 'lanning', 'lansdowne', 'lantern', 'lanzarote', 'lanzone', 'lap', 'lapete', 'laporte', 'laps', 'lapse', 'lapsed', 'laptop', 'laptops', 'large', 'largely', 'larger', 'largest', 'larkin', 'larribeau', 'larry', 'lars', 'larsson', 'las', 'lash', 'lashawn', 'lashed', 'lasp', 'lasted', 'lasting', 'latch', 'latched', 'late', 'lately', 'later', 'latest', 'latham', 'latin', 'latinohiphopradio', 'laud', 'lauded', 'laugh', 'laughable', 'laughably', 'laugher', 'laughing', 'laughs', 'laulala', 'launch', 'launched', 'launchers', 'launches', 'launching', 'laundering', 'laundrette', 'laura', 'laureate', 'laurels', 'lauren', 'laurent', 'laursen', 'lava', 'lavagna', 'lavatory', 'lavigne', 'lavish', 'law', 'lawful', 'lawfully', 'lawless', 'lawmakers', 'lawn', 'lawrence', 'laws', 'lawsuit', 'lawsuits', 'lawyer', 'lawyers', 'laxton', 'lay', 'laying', 'layout', 'laze', 'laziness', 'lazio', 'lazy', 'lcd', 'lcf', 'le', 'lea', 'lead', 'leaden', 'leader', 'leaderless', 'leaders', 'leadership', 'leading', 'leads', 'leaf', 'leaflet', 'leaflets', 'league', 'leagues', 'leak', 'leaked', 'leakers', 'leaking', 'leaks', 'leamy', 'leaned', 'leaning', 'leant', 'leap', 'leaped', 'leapfrog', 'leaping', 'leaps', 'leapt', 'learn', 'learned', 'learning', 'learnt', 'leary', 'lease', 'leased', 'leases', 'leave', 'leaves', 'leaving', 'lebanese', 'lebanon', 'lebedev', 'lebeouf', 'leblanc', 'leboff', 'leclerc', 'lecture', 'lecturer', 'lectures', 'lecturing', 'led', 'ledbury', 'ledgendary', 'lee', 'leeds', 'leeway', 'left', 'leftist', 'leftwing', 'leg', 'legacy', 'legal', 'legalisation', 'legalise', 'legalising', 'legality', 'legally', 'legend', 'legendary', 'legislate', 'legislation', 'legislative', 'legitimacy', 'legitimate', 'legitimately', 'legitimise', 'lego', 'legs', 'lehmann', 'leicester', 'leicestershire', 'leigh', 'leinster', 'leipzig', 'leisure', 'leisurely', 'lemony', 'lena', 'lend', 'lender', 'lenders', 'lending', 'lendl', 'length', 'lengthy', 'lennon', 'lennox', 'leno', 'lenovo', 'lenses', 'leo', 'leon', 'leonard', 'leonardo', 'leonid', 'lerach', 'leroi', 'les', 'lesbian', 'lesbianism', 'leslie', 'lesotho', 'lessening', 'lessens', 'lesser', 'lessons', 'lester', 'let', 'lethargic', 'letisha', 'letitia', 'lets', 'letter', 'letters', 'letting', 'letwin', 'leukoencephalopathy', 'leveaux', 'level', 'levelled', 'levelling', 'levels', 'lever', 'leverkusen', 'levied', 'levy', 'lewd', 'lewis', 'lewsey', 'lexus', 'lg', 'li', 'liabilities', 'liable', 'liaison', 'liam', 'lian', 'liang', 'liar', 'lib', 'libel', 'libelled', 'libelling', 'liberal', 'liberalisation', 'liberalise', 'liberalised', 'liberating', 'liberation', 'liberia', 'liberian', 'liberians', 'libertarian', 'liberties', 'libertines', 'liberty', 'librarian', 'libraries', 'library', 'libretto', 'licence', 'licenced', 'licences', 'licencing', 'license', 'licensed', 'licensee', 'licensing', 'lichtenstein', 'lick', 'lid', 'lie', 'liebenberg', 'lieberman', 'liechtenstein', 'lied', 'lies', 'lieu', 'lieutenant', 'lievin', 'life', 'lifeblood', 'lifeline', 'lifelong', 'lifeplus', 'lifestyle', 'lifestyles', 'lifetime', 'liffe', 'lift', 'lifted', 'lifting', 'lifts', 'liga', 'ligament', 'ligaments', 'light', 'lightbody', 'lighter', 'lighting', 'lightly', 'lightness', 'lights', 'lightweight', 'like', 'likeable', 'liked', 'likelier', 'likeliest', 'likelihood', 'likely', 'likened', 'likes', 'likewise', 'likhotseva', 'likhovtseva', 'liking', 'lil', 'lilian', 'lille', 'lily', 'lim', 'limb', 'limbo', 'limbs', 'limelight', 'limit', 'limitation', 'limitations', 'limited', 'limiting', 'limitless', 'limits', 'limos', 'limped', 'lincolnshire', 'linda', 'lindblom', 'lindemans', 'linden', 'lindsay', 'line', 'linear', 'lined', 'lineout', 'liners', 'lines', 'linesman', 'linford', 'lingering', 'lingus', 'lining', 'link', 'linked', 'linkin', 'linking', 'links', 'linpack', 'linux', 'linvoy', 'lion', 'lionel', 'lions', 'lipietz', 'lips', 'lipstick', 'liquefied', 'liquid', 'liquidated', 'liquidating', 'liquidation', 'liquidity', 'liquor', 'lira', 'lisa', 'lisbon', 'lishman', 'lissavetzky', 'list', 'listed', 'listen', 'listened', 'listener', 'listeners', 'listening', 'listens', 'listing', 'listings', 'lists', 'lit', 'lite', 'literacy', 'literally', 'literary', 'literate', 'literature', 'litigation', 'litre', 'little', 'littlefeather', 'liu', 'live', 'lived', 'livelihoods', 'lively', 'livened', 'liver', 'livermore', 'liverpool', 'liverpudlians', 'lives', 'livestock', 'livid', 'living', 'livingston', 'livingstone', 'liz', 'ljubicic', 'ljungberg', 'll', 'llanelli', 'llewellyn', 'lleyton', 'lloyd', 'llu', 'lma', 'lng', 'lnm', 'lo', 'load', 'loaded', 'loads', 'loan', 'loaned', 'loans', 'lob', 'lobbing', 'lobby', 'lobbying', 'lobs', 'local', 'localised', 'locally', 'locate', 'located', 'location', 'locations', 'loch', 'lock', 'locked', 'locking', 'locks', 'lodge', 'lodged', 'lodgers', 'lodhi', 'log', 'logged', 'logging', 'logic', 'logical', 'login', 'logistical', 'logistics', 'logo', 'logs', 'logue', 'lomana', 'lomax', 'lombard', 'lomond', 'lomu', 'london', 'londonderry', 'londoner', 'londoners', 'lone', 'loneliness', 'lonely', 'lonesome', 'long', 'longbridge', 'longer', 'longest', 'longevity', 'longhorn', 'longo', 'longtime', 'longwell', 'lonsdale', 'look', 'looked', 'looking', 'lookout', 'looks', 'looming', 'looms', 'loop', 'loophole', 'loopholes', 'loops', 'loose', 'loosehead', 'loosen', 'loosened', 'loosening', 'lopez', 'lopping', 'lord', 'lords', 'lorna', 'lorraine', 'los', 'lose', 'loser', 'losers', 'loses', 'losing', 'loss', 'losses', 'lossless', 'lost', 'lostprophets', 'lot', 'lots', 'lotta', 'lottery', 'loud', 'louder', 'loudmouth', 'louis', 'louisa', 'louise', 'louisiana', 'lousy', 'louvre', 'love', 'loved', 'lovely', 'lovenkrands', 'lover', 'lovers', 'loves', 'lovin', 'loving', 'low', 'lowe', 'lowell', 'lower', 'lowered', 'lowering', 'lowest', 'lows', 'loyal', 'loyalty', 'loynes', 'lpg', 'lse', 'lt', 'lta', 'lualua', 'luanda', 'lucas', 'luciano', 'lucid', 'lucie', 'lucio', 'luck', 'luckily', 'lucky', 'lucrative', 'lucy', 'ludacris', 'ludicrous', 'ludovico', 'lueders', 'lufthansa', 'luggage', 'luis', 'luiz', 'luke', 'lukewarm', 'lula', 'lull', 'lulu', 'lump', 'lumpur', 'lunar', 'lunch', 'lunchtime', 'lund', 'lundgren', 'lung', 'lunge', 'lunging', 'lure', 'lured', 'lurking', 'luscombe', 'lush', 'luther', 'luton', 'luxembourg', 'luxemburgo', 'luxury', 'lvmh', 'lw', 'lycos', 'lydon', 'lying', 'lynch', 'lynda', 'lyngstad', 'lynne', 'lynton', 'lynyrd', 'lyon', 'lyons', 'lyricist', 'lyrics', 'lyttelton', 'lzw', 'm6', 'ma', 'mab', 'mac', 'macaefa', 'macaulay', 'macbeth', 'macdonald', 'macduff', 'macedonia', 'macedonian', 'macey', 'macfadyen', 'macfarlane', 'machimura', 'machine', 'machinery', 'machines', 'macintosh', 'mack', 'mackay', 'mackel', 'macken', 'mackenzie', 'mackie', 'macklin', 'maclaine', 'macleod', 'macmillan', 'macphisto', 'macrae', 'macroeconomic', 'macrospace', 'macs', 'macworld', 'macy', 'mad', 'madame', 'madea', 'madeley', 'madly', 'madness', 'madonna', 'madrid', 'madsen', 'maduaka', 'mae', 'maeve', 'mafeca', 'mafia', 'magath', 'magazin', 'magazine', 'magazines', 'magdalena', 'magdalene', 'maggie', 'maggs', 'magic', 'magical', 'magician', 'magistrates', 'magnate', 'magnenat', 'magnetic', 'magnier', 'magnificent', 'magnificently', 'magnitude', 'magnus', 'magpies', 'maguire', 'maharajas', 'mahendra', 'mahinda', 'mahmoud', 'maid', 'maiden', 'maids', 'mail', 'mailed', 'mailers', 'mailing', 'mailings', 'mails', 'mailshot', 'main', 'maine', 'mainland', 'mainline', 'mainly', 'mains', 'mainstay', 'mainstream', 'maintain', 'maintained', 'maintaining', 'maintains', 'maintenance', 'maitland', 'majeed', 'major', 'majorities', 'majority', 'majumdar', 'make', 'makelele', 'maker', 'makers', 'makes', 'makeup', 'making', 'makisa', 'malaria', 'malarkey', 'malaysia', 'malcolm', 'maldini', 'maldives', 'male', 'maleeha', 'maleeva', 'males', 'malfunction', 'malfunctioning', 'malfunctions', 'malibu', 'malicious', 'malign', 'malisse', 'mallorcan', 'malloy', 'mallya', 'malone', 'maloney', 'maloti', 'malpractice', 'malt', 'malta', 'malware', 'mama', 'mamma', 'mammal', 'mammals', 'mammoth', 'man', 'manage', 'managed', 'management', 'manager', 'managerial', 'managers', 'manages', 'managing', 'manchester', 'mandaric', 'mandarin', 'mandate', 'mandated', 'mandatory', 'mandela', 'mandelson', 'mandir', 'mandolin', 'mandula', 'maneuvers', 'manga', 'mangala', 'manged', 'manger', 'manhunt', 'manic', 'manics', 'manifest', 'manifesto', 'manifestos', 'manipulate', 'manipulated', 'manipulating', 'manipulation', 'mankind', 'manmohan', 'mann', 'manner', 'manoeuvre', 'manoeuvring', 'manor', 'manpower', 'mansfield', 'mansion', 'manslaughter', 'manson', 'mansoor', 'mantle', 'mantooth', 'mantras', 'manual', 'manually', 'manuel', 'manufacture', 'manufactured', 'manufacturer', 'manufacturers', 'manufacturing', 'manuscript', 'manuscripts', 'map', 'mapping', 'maps', 'maracana', 'maracas', 'maran', 'marat', 'marathon', 'marathons', 'marc', 'marcel', 'march', 'marchak', 'marched', 'marchionne', 'marcia', 'marco', 'marconnet', 'marcoussis', 'mardell', 'mardy', 'marek', 'margaret', 'margherita', 'margin', 'marginal', 'marginally', 'marginals', 'margins', 'margot', 'marguerite', 'maria', 'mariah', 'marianne', 'mariano', 'marie', 'marigny', 'marijuana', 'marilyn', 'marine', 'mariner', 'mario', 'marion', 'marital', 'marivaux', 'mark', 'marked', 'markedly', 'marker', 'market', 'marketed', 'marketers', 'marketing', 'marketplace', 'markets', 'markfield', 'marking', 'markos', 'markova', 'marks', 'marley', 'marlin', 'marlon', 'marlu', 'marmalade', 'maroon', 'marple', 'marque', 'marques', 'marquez', 'marr', 'marred', 'marriage', 'marriages', 'married', 'marrow', 'marry', 'marrying', 'mars', 'marseilles', 'marsh', 'marshall', 'marshalled', 'marshals', 'marson', 'marston', 'mart', 'martens', 'martika', 'martin', 'martinez', 'marts', 'marty', 'martyn', 'martyrs', 'marvel', 'marvellous', 'marvin', 'mary', 'maryland', 'mas', 'masai', 'maserati', 'maseru', 'masi', 'mask', 'maso', 'masochistic', 'masonry', 'mass', 'massachusetts', 'massacre', 'massaged', 'masse', 'masses', 'massive', 'massively', 'massoud', 'massu', 'master', 'mastered', 'mastering', 'mastermind', 'masterminded', 'masterminding', 'masterminds', 'masterpieces', 'masters', 'mastery', 'masts', 'match', 'matchday', 'matched', 'matches', 'matching', 'mate', 'mateja', 'material', 'materialised', 'materialists', 'materials', 'maternity', 'mates', 'mathematical', 'mather', 'mathew', 'mathieson', 'mathieu', 'maths', 'matisse', 'matrix', 'matron', 'mats', 'matsushita', 'matt', 'matteo', 'matter', 'matters', 'matthew', 'matthieu', 'mattress', 'mature', 'matured', 'maturing', 'maturity', 'mauger', 'maul', 'mauls', 'mauresmo', 'maurice', 'mauritius', 'mauro', 'maury', 'mauskopf', 'maverick', 'mavis', 'mawrey', 'mawson', 'max', 'maximisation', 'maximise', 'maximov', 'maximum', 'maxis', 'maxwell', 'maya', 'maybe', 'mayer', 'mayerhofler', 'mayerholfer', 'mayland', 'mayock', 'mayor', 'mazy', 'mbe', 'mbeki', 'mbes', 'mblox', 'mc', 'mcalinden', 'mcb', 'mcbride', 'mcbryde', 'mccafe', 'mccafferty', 'mccain', 'mccall', 'mccambridge', 'mccarthy', 'mccartney', 'mccaughrean', 'mcclaren', 'mcclelland', 'mcconnell', 'mccormack', 'mccormick', 'mccourt', 'mccririck', 'mccullough', 'mccune', 'mccurry', 'mcdonald', 'mcdonalds', 'mcdowell', 'mcenroe', 'mcentee', 'mcewen', 'mcfadden', 'mcfadyen', 'mcfarlane', 'mcfly', 'mcgeady', 'mcgee', 'mcgraw', 'mcgreal', 'mcgregor', 'mcguigan', 'mcguinness', 'mcguire', 'mcgurk', 'mci', 'mcilroy', 'mcindoe', 'mckee', 'mckendry', 'mckenzie', 'mckiernan', 'mckillop', 'mclean', 'mcleish', 'mclennan', 'mclibel', 'mcmanaman', 'mcmanus', 'mcmillan', 'mcnamara', 'mcnamee', 'mcnicholas', 'mcnulty', 'mcqueen', 'mcrae', 'mcshane', 'mcwhirter', 'mda', 'mdas', 'mdr', 'meadows', 'meagre', 'meal', 'meals', 'mean', 'meaning', 'meaningful', 'meaningless', 'means', 'meant', 'meantime', 'mear', 'measure', 'measured', 'measures', 'measuring', 'meat', 'mecca', 'mech', 'mechanical', 'mechanics', 'mechanism', 'mechanisms', 'medal', 'medalist', 'medallist', 'medallists', 'medals', 'media', 'medial', 'mediametrie', 'mediate', 'mediating', 'mediation', 'medical', 'medically', 'medicine', 'mediobanca', 'mediterranean', 'medium', 'medley', 'meersseman', 'meet', 'meeting', 'meetings', 'meets', 'mef', 'mefin', 'megabit', 'megabits', 'megabyte', 'megabytes', 'megaflops', 'megapixel', 'megapixels', 'megastars', 'megastores', 'megawatts', 'meghan', 'meghann', 'megson', 'mehdi', 'mehta', 'mekong', 'mel', 'melancholy', 'melbourne', 'melinda', 'melissa', 'mellberg', 'mellon', 'mellow', 'meltdown', 'melton', 'meltus', 'melua', 'melville', 'melzer', 'member', 'members', 'membership', 'memoir', 'memon', 'memorabilia', 'memorable', 'memorably', 'memorandum', 'memorial', 'memories', 'memory', 'memphis', 'men', 'menace', 'menacing', 'menagerie', 'menatep', 'mencap', 'mendaciously', 'mendelsohn', 'mendes', 'mendis', 'mensing', 'mental', 'mentality', 'mentally', 'mention', 'mentioned', 'mentioning', 'mentions', 'mentoring', 'menu', 'menus', 'menzies', 'meo', 'mep', 'meps', 'mercantile', 'mercedes', 'mercer', 'merchandise', 'merchandising', 'merchant', 'merchants', 'mercury', 'mere', 'meredith', 'merely', 'merengue', 'merge', 'merged', 'merger', 'mergers', 'merges', 'merging', 'merit', 'meritocracy', 'merits', 'merle', 'merrier', 'merrill', 'merritt', 'merry', 'mervyn', 'meryl', 'meseret', 'mesmeric', 'mess', 'message', 'messageboard', 'messaged', 'messagelabs', 'messages', 'messaging', 'messed', 'messenger', 'messianic', 'messing', 'messy', 'met', 'meta', 'metadata', 'metal', 'metallica', 'metals', 'metaphor', 'meted', 'meteor', 'meters', 'method', 'methodology', 'methods', 'meticulous', 'meticulously', 'metlife', 'metre', 'metres', 'metropolitan', 'metrovias', 'mexican', 'mexicans', 'mexico', 'meyer', 'mfa', 'mg', 'mgm', 'mgs', 'mi', 'mi5', 'mi6', 'mia', 'miami', 'mic', 'micah', 'micha', 'michael', 'michaella', 'michalak', 'michalis', 'michel', 'michell', 'michelle', 'michelmore', 'michigan', 'mick', 'micro', 'microphone', 'microphones', 'microsoft', 'microsystems', 'mid', 'midday', 'middle', 'middleman', 'middlemen', 'middlesbrough', 'middlesex', 'middleware', 'midfield', 'midfielder', 'midlands', 'midnight', 'midsomer', 'midst', 'midstream', 'midway', 'mighty', 'mignoni', 'migrant', 'migrants', 'migrated', 'migration', 'mihir', 'mijatov', 'mikael', 'mike', 'mikel', 'mikhail', 'mikko', 'mikoliunas', 'mikosz', 'milan', 'milanesi', 'milburn', 'mild', 'milder', 'mile', 'mileage', 'miles', 'milestone', 'milestones', 'miliband', 'militancy', 'militant', 'military', 'militias', 'milk', 'milkman', 'millan', 'millar', 'millennium', 'miller', 'million', 'millionaire', 'millionaires', 'millions', 'milliseconds', 'milloud', 'mills', 'millstone', 'millwall', 'millward', 'milton', 'milverton', 'mim', 'mimic', 'mimicked', 'minar', 'minciu', 'mind', 'minded', 'mindedness', 'minder', 'minds', 'miner', 'miners', 'mines', 'mineta', 'minety', 'minghella', 'mini', 'miniature', 'minicabs', 'minidisc', 'minimal', 'minimixa', 'minimum', 'mining', 'minions', 'minis', 'minister', 'ministerial', 'ministers', 'ministries', 'ministry', 'mink', 'minneapolis', 'minnows', 'minogue', 'minor', 'minorities', 'minority', 'minors', 'mins', 'minus', 'minuscule', 'minute', 'minutes', 'miracle', 'miralab', 'miramax', 'mirapoint', 'mirco', 'mired', 'mirnyi', 'mirren', 'mirror', 'mirroring', 'mirvish', 'mirza', 'mis', 'miscarriages', 'mischer', 'mischief', 'misconception', 'misconduct', 'misdeeds', 'misdirected', 'misdirection', 'misel', 'miserable', 'misery', 'misfeasance', 'misgivings', 'mishaps', 'misjudged', 'misjudgement', 'misleading', 'misled', 'mismanagement', 'misr', 'misrepresentation', 'misrepresented', 'miss', 'missed', 'misses', 'missile', 'missiles', 'missing', 'mission', 'missionairies', 'missions', 'missive', 'misspell', 'missy', 'mistake', 'mistaken', 'mistakes', 'mister', 'mistiming', 'mistletoe', 'mistress', 'mistresses', 'mistrust', 'misunderstandings', 'misunderstood', 'misuse', 'misusing', 'mit', 'mitch', 'mitchell', 'mitsubishi', 'mitsui', 'mittal', 'mitts', 'mix', 'mixed', 'mixes', 'mixing', 'mixture', 'miyagishima', 'miyazaki', 'mkandawire', 'mladenovic', 'mmc', 'mmf', 'mms', 'moazzam', 'mobbed', 'mobil', 'mobile', 'mobiles', 'moblogs', 'mobo', 'mobos', 'mock', 'mocked', 'mockery', 'mockingly', 'mod', 'modafinil', 'mode', 'model', 'modelled', 'modelling', 'models', 'modem', 'moderate', 'moderating', 'moderation', 'moderators', 'modern', 'modernisation', 'modernise', 'modernised', 'modes', 'modest', 'modifications', 'modified', 'modify', 'moet', 'moffat', 'moghadam', 'mogul', 'mohammed', 'mohi', 'mohieldin', 'moines', 'mojtaba', 'molecular', 'molester', 'molik', 'molineux', 'molly', 'molsiris', 'molten', 'mom', 'moment', 'momentous', 'moments', 'momentum', 'monaco', 'monarchy', 'monday', 'mondays', 'monetary', 'monetise', 'money', 'moneychangers', 'mongolian', 'monica', 'monitor', 'monitored', 'monitoring', 'monitors', 'monk', 'monkeys', 'monkhouse', 'monolithic', 'monologues', 'monopolies', 'monopoly', 'monotony', 'monsanto', 'monsoon', 'monster', 'monsters', 'monte', 'monteiro', 'monteith', 'montenegro', 'monterrey', 'month', 'monthly', 'months', 'montieth', 'montpellier', 'montreal', 'monty', 'monumental', 'mood', 'moody', 'moor', 'moorcroft', 'moore', 'mooted', 'mop', 'moped', 'mopped', 'moral', 'morale', 'morality', 'morals', 'moran', 'moratorium', 'morehouse', 'moreno', 'morgan', 'morgenstern', 'mori', 'morientes', 'moritz', 'morley', 'morning', 'moroccan', 'morocco', 'morpeth', 'morpheme', 'morquendi', 'morris', 'morrison', 'morrisons', 'morrissey', 'morrow', 'mortgage', 'mortgages', 'morton', 'moscow', 'mosh', 'mosquito', 'mother', 'motherboards', 'mothercare', 'motherhood', 'mothers', 'motion', 'motions', 'motivate', 'motivated', 'motivates', 'motivating', 'motivation', 'motive', 'motives', 'motley', 'motor', 'motorbike', 'motorcades', 'motorcycle', 'motorcyle', 'motorhead', 'motoring', 'motorised', 'motorists', 'motormouth', 'motorola', 'motors', 'motorsport', 'mott', 'motto', 'mouflon', 'mould', 'moulded', 'moulds', 'mount', 'mountain', 'mountainous', 'mountains', 'mounted', 'mounting', 'mourinho', 'mourn', 'mourned', 'mousa', 'mouse', 'mouskouri', 'moustache', 'mouth', 'mouthing', 'mouths', 'moved', 'movement', 'movements', 'moves', 'movie', 'movies', 'moving', 'mowbray', 'mowden', 'moxey', 'moya', 'moyes', 'moynihan', 'mozambique', 'mozart', 'mp', 'mp3', 'mp3s', 'mpc', 'mpeg', 'mpeg4', 'mph', 'mpio', 'mps', 'mpx', 'mr', 'mrs', 'ms', 'msc', 'msci', 'mscps', 'msn', 'msps', 'mtfg', 'mtn', 'mtsensk', 'mtv', 'mubanga', 'muck', 'mud', 'muddied', 'muddled', 'muddy', 'muggings', 'mugs', 'muhammad', 'mukasa', 'mukherjee', 'mule', 'mulle', 'mullen', 'muller', 'mullet', 'mulligan', 'mulls', 'multi', 'multicore', 'multidimensional', 'multifocal', 'multilateral', 'multilaterally', 'multilingual', 'multimedia', 'multiplayer', 'multiple', 'multiples', 'multiplex', 'multitude', 'mum', 'mumbai', 'mums', 'muna', 'mundane', 'munich', 'municipal', 'munoz', 'munster', 'munsterman', 'murder', 'murdered', 'murderer', 'murderers', 'murdering', 'murders', 'murdoch', 'murky', 'murphy', 'murray', 'murrayfield', 'musampa', 'muscle', 'muscles', 'muscling', 'muse', 'museum', 'museums', 'musharraf', 'mushroomed', 'mushy', 'music', 'musical', 'musically', 'musicals', 'musician', 'musicians', 'musicologist', 'musicology', 'musings', 'musiwave', 'muslim', 'muslims', 'mustafa', 'muster', 'mutant', 'mutants', 'mutates', 'muted', 'mutilation', 'mutiny', 'mutola', 'mutu', 'mutual', 'mutually', 'mutv', 'mw', 'mycokemusic', 'mydoom', 'myers', 'myrio', 'myron', 'myskina', 'mysteries', 'mystery', 'mysticism', 'mystified', 'myth', 'mythical', 'mythology', 'n64', 'na', 'naamsa', 'nacho', 'nadal', 'nadia', 'nadu', 'nagano', 'nagged', 'naik', 'nailed', 'nairobi', 'naive', 'naively', 'naked', 'nalbandian', 'named', 'names', 'naming', 'namouchi', 'nan', 'nana', 'nancy', 'nanga', 'nanjing', 'nanny', 'nano', 'nanoparticles', 'nanoscale', 'nanotechnology', 'nao', 'naoki', 'naomi', 'napalm', 'napkin', 'napoleon', 'napster', 'napsterization', 'narbonne', 'narcotics', 'naresh', 'narrative', 'narratives', 'narraway', 'narrow', 'narrowed', 'narrowing', 'narrowly', 'narrows', 'nas', 'nasa', 'nasdaq', 'nash', 'nashville', 'nassau', 'nastiest', 'nasty', 'nat', 'natalie', 'natasha', 'nate', 'natexis', 'nath', 'nathalie', 'nathan', 'nation', 'national', 'nationalisation', 'nationalise', 'nationality', 'nationally', 'nationals', 'nations', 'nationwide', 'native', 'nato', 'natural', 'nature', 'naude', 'nauseating', 'naval', 'navigate', 'navigating', 'navigation', 'navy', 'nazarbayev', 'nazi', 'nba', 'nbc', 'ncb', 'nea', 'neal', 'neale', 'neaptide', 'near', 'nearby', 'nearing', 'nearly', 'nears', 'neasden', 'neat', 'neath', 'neatly', 'nebraska', 'nec', 'necessarily', 'necessary', 'neck', 'necklace', 'necks', 'need', 'needed', 'needing', 'needless', 'needlessly', 'needs', 'neeson', 'negate', 'negative', 'negatives', 'neglect', 'neglected', 'negligence', 'negotiate', 'negotiated', 'negotiating', 'negotiation', 'negotiations', 'negotiator', 'negroponte', 'neidl', 'neighbour', 'neighbourhood', 'neighbouring', 'neighbours', 'neil', 'neill', 'nellie', 'nelly', 'nelson', 'nem', 'nemesis', 'nemeth', 'nemo', 'neo', 'neon', 'nepal', 'nerdy', 'nerve', 'nervelessly', 'nerves', 'nervous', 'nervously', 'nervy', 'ness', 'nest', 'nestor', 'net', 'netcraft', 'netherdale', 'netherlands', 'netmd', 'netratings', 'nets', 'netsky', 'netsurity', 'netted', 'netting', 'nettles', 'network', 'networked', 'networking', 'networks', 'neurone', 'neuroprosthesis', 'neuroscientist', 'neurosis', 'neutral', 'neverland', 'nevermind', 'neville', 'nevis', 'nevo', 'nevosl', 'nevzlin', 'new', 'newark', 'newbury', 'newcastle', 'newcombe', 'newcomer', 'newcomers', 'newer', 'newest', 'newham', 'newly', 'newmarket', 'newport', 'news', 'newscasters', 'newsgaming', 'newsletter', 'newsnight', 'newspaper', 'newspapers', 'newsround', 'newton', 'nexus', 'nfl', 'ngos', 'nhs', 'nhtcu', 'nhtsa', 'ni', 'nia', 'nibble', 'nibbled', 'nice', 'nicely', 'nicer', 'niche', 'niches', 'nicholas', 'nicholls', 'nichols', 'nicholson', 'nick', 'nicked', 'nickel', 'nicki', 'nickname', 'nicknamed', 'nicky', 'nicola', 'nicolaisen', 'nicolas', 'nicole', 'niebaum', 'niekerk', 'niel', 'nielsen', 'nielson', 'nienhuis', 'niesr', 'nigel', 'nigeria', 'nigerian', 'niggle', 'niggles', 'niggling', 'night', 'nightclub', 'nightclubs', 'nightfire', 'nightmare', 'nights', 'nighty', 'nighy', 'nihon', 'nike', 'nikkei', 'nikkocitigroup', 'niklas', 'nikolay', 'nile', 'nimble', 'nineteen', 'ninety', 'nintendo', 'ninth', 'nioc', 'nip', 'nipple', 'nippon', 'niro', 'nirupama', 'nirvana', 'niscc', 'nishikawa', 'nishioka', 'nissan', 'nistelrooy', 'nitoglia', 'niven', 'nm', 'nm2', 'nme', 'nobel', 'nobutaka', 'nod', 'nodded', 'nodding', 'node', 'nods', 'noel', 'nogar', 'noise', 'noises', 'noisy', 'nokia', 'nolberto', 'nomad', 'nominally', 'nominated', 'nominating', 'nomination', 'nominations', 'nominee', 'nominees', 'nomura', 'non', 'nonchantly', 'nonetheless', 'nonethless', 'nonsense', 'nonu', 'noon', 'nop', 'nora', 'norah', 'norbert', 'norfolk', 'normal', 'normalcy', 'normally', 'norman', 'norrell', 'nortel', 'north', 'northampton', 'northamptonshire', 'northeast', 'northern', 'northolt', 'northstar', 'northwest', 'norton', 'norway', 'norwegian', 'norwegians', 'norwich', 'nose', 'noses', 'nostalgia', 'notable', 'notables', 'notably', 'notch', 'notched', 'notching', 'note', 'notebaert', 'notebook', 'notebooks', 'noteboook', 'noted', 'notes', 'notice', 'noticeable', 'noticeably', 'noticed', 'notices', 'noticing', 'notification', 'notified', 'notify', 'noting', 'notion', 'notional', 'notions', 'notoriety', 'notorious', 'notoriously', 'nots', 'nottingham', 'nottinghamshire', 'nottm', 'notts', 'notwithstanding', 'nou', 'nous', 'novastream', 'novel', 'novelist', 'novelists', 'novels', 'november', 'novo', 'novoselic', 'nowadays', 'nozaki', 'npd', 'nspcc', 'nt', 'ntl', 'ntpc', 'ntt', 'nu', 'nuclear', 'nude', 'nudge', 'nudges', 'nudging', 'nudity', 'nuisance', 'number', 'numbered', 'numbering', 'numbers', 'numerical', 'numerique', 'numerous', 'nunez', 'nureyev', 'nurse', 'nursery', 'nurses', 'nursing', 'nursultan', 'nurture', 'nurtured', 'nut', 'nutritional', 'nuts', 'nutter', 'nutters', 'ny', 'nyanga', 'nymex', 'nyse', 'o2', 'oak', 'oaps', 'oasis', 'oaten', 'oatley', 'obe', 'obermann', 'obesity', 'obey', 'obie', 'obikwelu', 'obituary', 'object', 'objected', 'objection', 'objectionable', 'objections', 'objective', 'objectives', 'objectivity', 'objects', 'obligation', 'obligations', 'obligatory', 'oblige', 'obliged', 'obliges', 'oblon', 'obscene', 'obscure', 'obscured', 'obscurity', 'observation', 'observed', 'observer', 'observers', 'observing', 'obsess', 'obsessed', 'obsession', 'obsessively', 'obst', 'obstacle', 'obstacles', 'obstruct', 'obstructing', 'obstruction', 'obtain', 'obtained', 'obtaining', 'obvious', 'obviously', 'oc', 'occasion', 'occasional', 'occasionally', 'occasions', 'occupancy', 'occupation', 'occupiers', 'occupies', 'occupy', 'occupying', 'occur', 'occurred', 'occurring', 'occurs', 'ocean', 'ochil', 'october', 'od2', 'oday', 'odd', 'oddie', 'oddities', 'oddjob', 'odds', 'odeon', 'odour', 'odpm', 'oecd', 'ofcom', 'ofdm', 'ofex', 'offence', 'offences', 'offend', 'offended', 'offender', 'offenders', 'offending', 'offensive', 'offer', 'offered', 'offering', 'offerings', 'offers', 'office', 'officer', 'officers', 'offices', 'official', 'officially', 'officials', 'offline', 'offload', 'offs', 'offset', 'offsetting', 'offshoots', 'offshore', 'offshoring', 'offside', 'offspring', 'ofheo', 'ofnew', 'oft', 'oftel', 'og', 'ogilvy', 'oh', 'ohio', 'oil', 'oiled', 'oilfield', 'oilfields', 'ok', 'okay', 'okayo', 'oklahoma', 'okonedo', 'old', 'older', 'oldest', 'oldham', 'olds', 'ole', 'oleg', 'oligarchs', 'oliver', 'olives', 'olivia', 'olivier', 'ollie', 'olly', 'olmert', 'olof', 'olsson', 'olympiad', 'olympiakos', 'olympian', 'olympians', 'olympic', 'olympics', 'omaha', 'ombudsman', 'ominously', 'omission', 'omitted', 'omni', 'omnicom', 'onatopp', 'onboard', 'one2one', 'onemusic', 'onerous', 'ones', 'ongaro', 'ongc', 'ongoing', 'onimusha', 'online', 'onrushing', 'ons', 'onside', 'onslaught', 'ontario', 'ontrack', 'onuoha', 'onus', 'onward', 'onwards', 'onyx', 'oona', 'opal', 'opec', 'opel', 'open', 'opened', 'opener', 'opening', 'openings', 'openly', 'openness', 'opens', 'opera', 'operate', 'operated', 'operates', 'operatic', 'operating', 'operation', 'operational', 'operationally', 'operations', 'operative', 'operator', 'operators', 'opiates', 'opic', 'opinion', 'opinions', 'oppenheim', 'opponent', 'opponents', 'opportunistic', 'opportunities', 'opportunity', 'oppose', 'opposed', 'opposes', 'opposing', 'opposite', 'opposition', 'oprah', 'opsahl', 'opt', 'opted', 'optimism', 'optimistic', 'optimists', 'opting', 'optinrealbig', 'optio', 'option', 'options', 'opts', 'opus', 'orange', 'orchestra', 'orchestrated', 'orchestrating', 'ordeal', 'order', 'ordered', 'ordering', 'orderly', 'orders', 'ordinary', 'ordinate', 'ordinated', 'ordinating', 'ordination', 'ordinator', 'ore', 'org', 'organic', 'organisation', 'organisations', 'organise', 'organised', 'organiser', 'organisers', 'organising', 'organism', 'organization', 'organizations', 'organizers', 'organs', 'oriel', 'oriental', 'orientated', 'origin', 'original', 'originality', 'originally', 'originals', 'originated', 'origins', 'orkneys', 'orlando', 'ormerod', 'ormond', 'orphanage', 'orphaned', 'orphans', 'orpington', 'orquera', 'orson', 'orthopaedic', 'orwell', 'os', 'osborne', 'osbourne', 'osbournes', 'oscar', 'oscars', 'osi', 'oslo', 'ospreys', 'ossie', 'oster', 'ostriches', 'osx', 'otc', 'othello', 'otis', 'otoku', 'ought', 'ounce', 'ounces', 'oust', 'ousted', 'ousting', 'outbid', 'outbreak', 'outbreaks', 'outburst', 'outclass', 'outcome', 'outcomes', 'outcry', 'outdated', 'outdo', 'outdoor', 'outen', 'outer', 'outfield', 'outfit', 'outfits', 'outflank', 'outgoing', 'outgunned', 'outing', 'outings', 'outkast', 'outlaw', 'outlawed', 'outlawing', 'outlets', 'outline', 'outlined', 'outlines', 'outling', 'outlining', 'outlook', 'outnumbered', 'outperform', 'outperformance', 'outperformed', 'outperforming', 'outplayed', 'outplays', 'outpouring', 'output', 'outrage', 'outraged', 'outrageous', 'outreach', 'outriders', 'outright', 'outs', 'outselling', 'outset', 'outside', 'outsider', 'outsiders', 'outskirts', 'outsold', 'outsource', 'outsourcing', 'outspent', 'outspoken', 'outsprinted', 'outstanding', 'outstrip', 'outstripped', 'outstripping', 'outwardly', 'outwards', 'outweigh', 'outweighed', 'outweight', 'ovation', 'overall', 'overarching', 'overbearing', 'overblown', 'overcame', 'overcapacity', 'overcharged', 'overcome', 'overcomes', 'overcrowded', 'overcrowding', 'overdose', 'overdoses', 'overdue', 'overhaul', 'overhauled', 'overhead', 'overheads', 'overheard', 'overheat', 'overheats', 'overlap', 'overlapping', 'overload', 'overlooked', 'overly', 'overmighty', 'overnight', 'overpeer', 'overreacted', 'overrule', 'overruling', 'overs', 'oversaw', 'overseas', 'oversee', 'overseeing', 'overseen', 'oversees', 'overshadow', 'overshadowed', 'overshadowing', 'overshot', 'oversight', 'overspill', 'overstating', 'overstretched', 'oversubscribed', 'overtake', 'overtaken', 'overtaking', 'overtime', 'overtones', 'overtook', 'overture', 'overtures', 'overturn', 'overturned', 'overturning', 'overview', 'overwhelm', 'overwhelmed', 'overwhelming', 'overwhelmingly', 'owain', 'owed', 'owen', 'owens', 'owes', 'owing', 'owned', 'owner', 'owners', 'ownership', 'owning', 'owns', 'oxfam', 'oxford', 'oxfordshire', 'oxley', 'oxycodone', 'oxymoron', 'oyepitan', 'ozkan', 'ozzy', 'p2p', 'p7131', 'p900', 'pa', 'pac', 'pace', 'paced', 'pacemaker', 'pacemakers', 'pacific', 'pacifier', 'pacing', 'pack', 'package', 'packaged', 'packages', 'packaging', 'packard', 'packed', 'packet', 'packets', 'packs', 'pact', 'padding', 'paddington', 'paddy', 'padova', 'paedophile', 'paedophilia', 'page', 'pager', 'pages', 'paid', 'pain', 'painful', 'painkiller', 'pains', 'painstaking', 'paint', 'painted', 'painter', 'painting', 'paintings', 'pair', 'paired', 'pairing', 'pakeerah', 'pakistan', 'pakistani', 'pakistanis', 'pal', 'palace', 'palaeontologists', 'palaniappan', 'palatable', 'palestinian', 'palestinians', 'palm', 'palme', 'palmed', 'palmer', 'palms', 'palookaville', 'palpable', 'paltry', 'pan', 'panacea', 'panagiotis', 'panagopoulos', 'panasonic', 'panavox', 'pancake', 'pancras', 'pandemic', 'pandering', 'panel', 'panels', 'panic', 'panicked', 'panics', 'panke', 'panoply', 'panorama', 'pans', 'pantech', 'panther', 'pants', 'paolo', 'pap', 'papadoyiannakis', 'paparazzi', 'paper', 'paperback', 'paperbacks', 'papering', 'papers', 'paperwork', 'paphitis', 'papo', 'par', 'parable', 'parade', 'paradis', 'paradise', 'paradorn', 'paragons', 'paraguay', 'paraguayan', 'parallel', 'parallels', 'paralysed', 'paramedics', 'paramount', 'paranoid', 'paraplegic', 'pararallying', 'parc', 'parcel', 'parchment', 'pardew', 'pardon', 'parent', 'parental', 'parenting', 'parents', 'parfitt', 'paring', 'paris', 'parisse', 'park', 'parker', 'parkes', 'parkhead', 'parking', 'parkinson', 'parks', 'parliament', 'parliamentarians', 'parliamentary', 'parliaments', 'parling', 'parlour', 'parma', 'parmalat', 'parmar', 'parmjit', 'parnaby', 'parody', 'parole', 'parr', 'parried', 'parrot', 'parry', 'parsons', 'parted', 'partial', 'partially', 'participant', 'participants', 'participate', 'participating', 'participation', 'particle', 'particuarly', 'particular', 'particularly', 'parties', 'parting', 'partisan', 'partly', 'partner', 'partnered', 'partnering', 'partners', 'partnership', 'partnerships', 'parton', 'partridge', 'parts', 'party', 'parul', 'pasadena', 'pascal', 'paseo', 'pasquale', 'pass', 'passage', 'passages', 'passcard', 'passed', 'passenger', 'passengers', 'passer', 'passes', 'passing', 'passion', 'passive', 'passport', 'passports', 'passwords', 'past', 'pat', 'patch', 'patched', 'patches', 'patchy', 'patel', 'patent', 'patentability', 'patented', 'patenting', 'patents', 'paternalistic', 'paternity', 'paterson', 'path', 'pathetic', 'patience', 'patient', 'patients', 'patriarch', 'patricia', 'patricio', 'patrick', 'patrik', 'patriots', 'patrol', 'patsy', 'pattaya', 'pattern', 'patterns', 'patterson', 'pattison', 'patty', 'paul', 'paula', 'paule', 'paulista', 'paulo', 'pause', 'paused', 'pave', 'paved', 'pavel', 'pavement', 'paves', 'pavey', 'pavilion', 'paving', 'pavlikowsky', 'pawel', 'pawlikowski', 'pax', 'paxman', 'pay', 'payable', 'paycuts', 'payers', 'paying', 'payment', 'payments', 'payne', 'payoff', 'payout', 'payouts', 'paypal', 'payroll', 'payrolls', 'pays', 'pb100', 'pbgc', 'pbs', 'pc', 'pco', 'pcs', 'pcsu', 'pda', 'pdas', 'pe', 'pea', 'peace', 'peaceful', 'peacefully', 'peacekeepers', 'peacekeeping', 'peacemakers', 'peak', 'peake', 'peaked', 'peaks', 'pearce', 'pearl', 'pearson', 'peas', 'pease', 'pecking', 'pedal', 'pedals', 'peddle', 'pedestrianisation', 'pedestrians', 'pedigree', 'pedrazzi', 'pedro', 'peek', 'peel', 'peels', 'peer', 'peers', 'peformance', 'peg', 'pegg', 'pegged', 'peirce', 'pelham', 'pellegrino', 'pellets', 'pelous', 'pelted', 'pen', 'penal', 'penalise', 'penalised', 'penalising', 'penalties', 'penalty', 'pence', 'pencil', 'pencilled', 'pendant', 'pending', 'pendleton', 'penetrated', 'penetrating', 'penetration', 'penfolds', 'peninsula', 'penn', 'penned', 'pennetta', 'penny', 'pension', 'pensioner', 'pensioners', 'pensions', 'pent', 'pentagon', 'pentathlon', 'pentax', 'penultimate', 'people', 'pepito', 'peppe', 'pepper', 'peppered', 'pepsi', 'peptides', 'peradventure', 'perakis', 'perceive', 'perceived', 'percent', 'percentage', 'percentages', 'percept', 'perception', 'perchesk', 'percy', 'peres', 'perez', 'perfect', 'perfecting', 'perfectly', 'perform', 'performance', 'performances', 'performed', 'performer', 'performers', 'performing', 'performs', 'perilous', 'perimeter', 'period', 'periods', 'peripheral', 'peripherals', 'perished', 'permanent', 'permanently', 'permission', 'permissive', 'permit', 'permits', 'permitted', 'permitting', 'pernod', 'perpetrators', 'perpetuated', 'perpetuating', 'perpignan', 'perry', 'persecuted', 'persecution', 'persia', 'persico', 'persie', 'persist', 'persistence', 'persistent', 'persistently', 'persisting', 'person', 'persona', 'personal', 'personalisation', 'personalise', 'personalised', 'personalities', 'personality', 'personally', 'personified', 'personnel', 'persons', 'perspective', 'persuade', 'persuaded', 'persuading', 'persuasion', 'persuasions', 'perthshire', 'pertinent', 'peru', 'perugini', 'peruvian', 'pervaded', 'pervades', 'pervan', 'pervasive', 'perverse', 'perversion', 'pessimism', 'pessimistic', 'pester', 'peston', 'pet', 'pete', 'peter', 'peterborough', 'petered', 'peterhead', 'peters', 'petersen', 'petition', 'petitioners', 'petr', 'petra', 'petrie', 'petrina', 'petrochemicals', 'petrol', 'petroleum', 'petrov', 'petrova', 'petty', 'petulance', 'peugeot', 'pew', 'pez', 'pfeifer', 'pg', 'ph', 'phantom', 'pharma', 'pharmaceutical', 'pharmaceuticals', 'pharrell', 'phase', 'phased', 'phases', 'phd', 'phenomenal', 'phenomenally', 'phenomenon', 'phi', 'phil', 'philadelphia', 'philandering', 'philharmonic', 'philip', 'philippe', 'philippines', 'philippoussis', 'philips', 'phillips', 'philosophy', 'phinnaeus', 'phishing', 'phoebe', 'phoenix', 'phone', 'phonecam', 'phoned', 'phones', 'phoney', 'phoning', 'phonographic', 'photo', 'photograph', 'photographer', 'photographers', 'photographs', 'photography', 'photos', 'phpbb', 'phrase', 'phuket', 'physical', 'physically', 'physicians', 'physics', 'physio', 'phytopharm', 'pianist', 'piano', 'piazza', 'pic', 'pick', 'picked', 'picker', 'picket', 'picketing', 'pickets', 'picking', 'pickings', 'picks', 'pickup', 'pickups', 'pictochat', 'picture', 'pictured', 'pictures', 'pidgeley', 'pie', 'piece', 'piecemeal', 'pieces', 'pierce', 'piercing', 'piero', 'pierre', 'piers', 'pierson', 'pieters', 'pietro', 'pig', 'pigs', 'pike', 'pile', 'piled', 'pilgrimage', 'piling', 'pill', 'pilot', 'piloted', 'pilots', 'pim', 'pin', 'pinchuk', 'pinewood', 'pink', 'pinks', 'pinnacle', 'pinned', 'pinnies', 'pinochet', 'pinpoint', 'pinpointing', 'pins', 'pinsent', 'pint', 'pioneer', 'pioneered', 'pioneering', 'pioneers', 'pipa', 'pipeline', 'pipex', 'pipped', 'piracy', 'pirate', 'pirated', 'pirates', 'pirating', 'pires', 'piri', 'pirouette', 'pistol', 'pistols', 'pit', 'pitch', 'pitched', 'pitches', 'pitfalls', 'pitiful', 'pitman', 'pits', 'pitt', 'pitted', 'pitting', 'pittsburgh', 'pity', 'pivotal', 'pixar', 'pixel', 'pixels', 'pixies', 'pizza', 'pj', 'placatory', 'place', 'placebo', 'placed', 'placements', 'places', 'placing', 'placings', 'plague', 'plagued', 'plaguing', 'plaid', 'plain', 'plainly', 'plaintiff', 'plan', 'plane', 'planes', 'planet', 'planetary', 'planets', 'planks', 'planned', 'planning', 'plans', 'plant', 'plantation', 'plante', 'planted', 'planting', 'plants', 'plasma', 'plaster', 'plasterboard', 'plastic', 'plastics', 'plate', 'plates', 'platform', 'platforms', 'plath', 'platinum', 'platon', 'plaudits', 'plausible', 'play', 'playability', 'playable', 'playback', 'played', 'player', 'players', 'playground', 'playing', 'playlist', 'playlists', 'playmaker', 'plays', 'playschool', 'playstation', 'playwright', 'playwrights', 'plea', 'plead', 'pleaded', 'pleading', 'pleads', 'pleas', 'pleasant', 'pleased', 'pleasing', 'pleasure', 'pleasures', 'pledge', 'pledged', 'pledges', 'pledging', 'plentiful', 'plenty', 'plethora', 'plight', 'plot', 'plots', 'plotting', 'plough', 'ploughed', 'ploy', 'plp', 'pluck', 'plug', 'plugged', 'plum', 'plummet', 'plummeting', 'plumping', 'plundered', 'plundering', 'plunders', 'plunge', 'plunged', 'plurality', 'plus', 'plusnet', 'plymouth', 'pm', 'pma430', 'pmc', 'pmi', 'pml', 'png', 'poach', 'poaching', 'pocket', 'pockets', 'podcasts', 'podium', 'poem', 'poems', 'poet', 'poetry', 'point', 'pointed', 'pointedly', 'pointer', 'pointing', 'pointless', 'points', 'pointsec', 'pointy', 'poised', 'poison', 'poisoned', 'poisonous', 'poiter', 'poitier', 'poked', 'poker', 'poking', 'poland', 'polar', 'polarised', 'pole', 'poliakoff', 'police', 'policies', 'policing', 'policy', 'policyholders', 'policymakers', 'polish', 'polite', 'political', 'politically', 'politicial', 'politician', 'politicians', 'politicisation', 'politics', 'poll', 'pollard', 'polled', 'polling', 'polls', 'polluted', 'polluter', 'polluting', 'pollution', 'polly', 'polo', 'polygons', 'pompei', 'pompeii', 'pompey', 'pompous', 'pondered', 'pontiac', 'pool', 'poole', 'pooled', 'pooling', 'poor', 'poorer', 'poorest', 'poorly', 'pop', 'pope', 'popped', 'popping', 'poppins', 'pops', 'populaires', 'popular', 'popularise', 'popularised', 'popularity', 'populated', 'population', 'populations', 'populist', 'populous', 'popz', 'porn', 'pornographers', 'pornographic', 'pornography', 'porsche', 'port', 'portability', 'portable', 'portal', 'portals', 'porter', 'portering', 'portfolio', 'portillo', 'portion', 'portions', 'portishead', 'portland', 'portly', 'portman', 'porto', 'portrait', 'portray', 'portrayal', 'portrayed', 'portrays', 'ports', 'portsmouth', 'portugal', 'portuguese', 'pose', 'posed', 'poses', 'posing', 'position', 'positional', 'positioned', 'positioning', 'positions', 'positive', 'positively', 'positives', 'possess', 'possessing', 'possession', 'possessions', 'possibilities', 'possibility', 'possible', 'possibly', 'post', 'postal', 'postbridge', 'posted', 'poster', 'posters', 'posthumous', 'posting', 'postponed', 'postponing', 'posts', 'posture', 'pot', 'potato', 'potatoes', 'potent', 'potential', 'potentially', 'potito', 'pottage', 'potter', 'potts', 'poulton', 'pounced', 'pouncing', 'pound', 'pounded', 'pounder', 'pounds', 'pountney', 'pour', 'poured', 'pouring', 'pouwelse', 'poverty', 'pow', 'powder', 'powell', 'power', 'powerbook', 'powered', 'powerful', 'powerfully', 'powerhouse', 'powering', 'powermac', 'powerpage', 'powers', 'powys', 'pozzebon', 'ppi', 'pr', 'practicable', 'practical', 'practically', 'practice', 'practices', 'practise', 'practised', 'practises', 'practising', 'pradesh', 'praful', 'pragmatic', 'pragmatist', 'prague', 'praise', 'praised', 'praising', 'prank', 'pratt', 'pray', 'prayer', 'prayers', 'pre', 'preachers', 'preaches', 'preaching', 'preachy', 'prebon', 'precautionary', 'precede', 'precedence', 'precedent', 'preceding', 'precinct', 'precious', 'precise', 'precisely', 'precursor', 'predator', 'preddy', 'predecessor', 'predecessors', 'predetermined', 'predict', 'predictable', 'predicted', 'predicting', 'prediction', 'predictions', 'predicts', 'predominantly', 'predominately', 'prefer', 'preferable', 'preference', 'preferences', 'preferential', 'prefering', 'preferred', 'preferring', 'prefers', 'pregnancy', 'pregnant', 'prejudge', 'prejudice', 'prejudiced', 'prejudices', 'preliminary', 'prelude', 'prem', 'premature', 'prematurely', 'premier', 'premiere', 'premiered', 'premiership', 'premise', 'premises', 'premium', 'premiums', 'premji', 'prentice', 'prentis', 'preoccupation', 'preparation', 'preparations', 'prepare', 'prepared', 'preparedness', 'prepares', 'preparing', 'preposterously', 'prequel', 'prescott', 'prescription', 'presence', 'present', 'presentable', 'presentation', 'presentations', 'presented', 'presenter', 'presenters', 'presenting', 'presently', 'presents', 'preserve', 'preserved', 'preserving', 'preside', 'presided', 'presidencies', 'presidency', 'president', 'presidential', 'presidents', 'presiding', 'presley', 'press', 'presse', 'pressed', 'presses', 'pressing', 'pressure', 'pressured', 'pressures', 'pressurised', 'prestigious', 'preston', 'presumably', 'presume', 'presumed', 'presuming', 'presumption', 'pretences', 'pretend', 'pretended', 'pretenders', 'pretending', 'prettejohn', 'prettier', 'pretty', 'prevail', 'prevails', 'prevalence', 'prevalent', 'prevent', 'preventable', 'preventative', 'prevented', 'preventing', 'prevention', 'preventon', 'prevents', 'preview', 'previews', 'previous', 'previously', 'prey', 'price', 'priced', 'priceless', 'prices', 'pricewaterhousecoopers', 'pricey', 'pricier', 'pricing', 'pricked', 'pride', 'priest', 'priet', 'prima', 'primarily', 'primary', 'prime', 'primer', 'primera', 'primetime', 'primus', 'prince', 'princes', 'princess', 'principal', 'principals', 'principle', 'principled', 'principles', 'print', 'printed', 'printer', 'printers', 'printing', 'prints', 'prior', 'priorities', 'prioritises', 'priority', 'prison', 'prisoner', 'prisoners', 'prisons', 'prius', 'privacy', 'private', 'privately', 'privatisation', 'privatisations', 'privatise', 'privatising', 'privatized', 'privilege', 'privileged', 'privileges', 'privy', 'prix', 'prize', 'prizes', 'pro', 'proactively', 'probably', 'probation', 'probe', 'probed', 'probem', 'probes', 'probing', 'problem', 'problematic', 'problematical', 'problems', 'probyn', 'procedural', 'procedure', 'procedures', 'proceed', 'proceeded', 'proceeding', 'proceedings', 'proceeds', 'process', 'processed', 'processes', 'processing', 'processor', 'processors', 'proclaimed', 'procter', 'prodigy', 'produce', 'produced', 'producer', 'producers', 'produces', 'producing', 'product', 'production', 'productions', 'productive', 'productivity', 'products', 'prof', 'profession', 'professional', 'professionalism', 'professionally', 'professionals', 'professions', 'professor', 'profile', 'profit', 'profitability', 'profitable', 'profited', 'profiteering', 'profiting', 'profits', 'profound', 'profoundly', 'progam', 'prognosis', 'program', 'programmable', 'programme', 'programmed', 'programmer', 'programmers', 'programmes', 'programming', 'programs', 'progress', 'progressed', 'progresses', 'progressing', 'progressive', 'progressively', 'prohibited', 'prohibitive', 'prohibits', 'project', 'projected', 'projecting', 'projection', 'projections', 'projectors', 'projects', 'proliferate', 'proliferated', 'proliferation', 'prolong', 'prolonged', 'prolonging', 'prominence', 'prominent', 'prominently', 'promise', 'promised', 'promises', 'promising', 'promote', 'promoted', 'promoter', 'promoters', 'promotes', 'promoting', 'promotion', 'promotional', 'promotions', 'prompt', 'prompted', 'prompting', 'promptly', 'prone', 'pronged', 'pronouncement', 'pronouncements', 'proof', 'prop', 'propaganda', 'propagating', 'propelled', 'proper', 'properly', 'properties', 'property', 'prophet', 'proponent', 'proponents', 'proportion', 'proportional', 'proportionate', 'proportionately', 'proportions', 'proposal', 'proposals', 'propose', 'proposed', 'proposes', 'proposing', 'proposition', 'propping', 'proprietary', 'props', 'prosecute', 'prosecuted', 'prosecuting', 'prosecution', 'prosecutions', 'prosecutor', 'prosecutors', 'prospect', 'prospective', 'prospects', 'prospectus', 'prosper', 'prospered', 'prosperity', 'prosperous', 'prostitutes', 'prostitution', 'protagonists', 'protect', 'protected', 'protecting', 'protection', 'protectionism', 'protections', 'protects', 'protege', 'protegees', 'protein', 'protest', 'protestant', 'protestants', 'protestation', 'protestations', 'protested', 'protester', 'protesters', 'protestors', 'protests', 'protocol', 'protocols', 'prototype', 'prototypes', 'protracted', 'proud', 'prove', 'proved', 'proven', 'proves', 'provide', 'provided', 'providence', 'provider', 'providers', 'provides', 'providing', 'province', 'provinces', 'provincial', 'proving', 'provision', 'provisional', 'provisionally', 'provisions', 'provocation', 'provocative', 'provoke', 'provoked', 'provoking', 'prowess', 'proxies', 'proximity', 'proxy', 'prso', 'prudence', 'prutton', 'pryce', 'ps2', 'ps3', 'psa', 'psion', 'psp', 'psps', 'psv', 'psychedelic', 'psychoacoustics', 'psychological', 'psychologist', 'psychology', 'psychopath', 'pub', 'public', 'publication', 'publications', 'publicise', 'publicised', 'publicising', 'publicist', 'publicists', 'publicity', 'publicly', 'publish', 'published', 'publisher', 'publishers', 'publishes', 'publishing', 'pubs', 'puerto', 'pull', 'pullback', 'pulled', 'pulling', 'pulls', 'pulp', 'pulsar', 'pulsating', 'pulses', 'pumas', 'pump', 'pumped', 'pumping', 'pumps', 'punch', 'punching', 'punctuated', 'pundit', 'pundits', 'punish', 'punished', 'punisher', 'punishing', 'punishment', 'punishments', 'punitive', 'punk', 'punky', 'punt', 'punter', 'pupil', 'pupils', 'purchase', 'purchased', 'purchasers', 'purchases', 'purchasing', 'purdie', 'pure', 'purely', 'purge', 'purkiss', 'purlie', 'purple', 'purport', 'purporting', 'purpose', 'purposefully', 'purposes', 'purr', 'purrs', 'purse', 'pursue', 'pursued', 'pursues', 'pursuing', 'pursuit', 'purveyors', 'purvis', 'push', 'pushed', 'pushing', 'putin', 'putrid', 'puts', 'putting', 'puzzle', 'puzzlement', 'puzzles', 'pvr', 'pvrs', 'pwc', 'pyra', 'pyres', 'python', 'qaeda', 'qantas', 'qatar', 'qc', 'qca', 'ql', 'qmv', 'qpr', 'qrio', 'quad', 'quadriplegics', 'quadruple', 'quagmire', 'quaid', 'quaintly', 'quake', 'quaking', 'qualification', 'qualifications', 'qualified', 'qualifier', 'qualifiers', 'qualify', 'qualifying', 'qualitative', 'qualitatively', 'qualities', 'quality', 'qualms', 'quango', 'quangos', 'quantitative', 'quantities', 'quantity', 'quarries', 'quarter', 'quarterly', 'quarters', 'quartet', 'quartz', 'quash', 'quashed', 'quashes', 'quashie', 'queen', 'queens', 'quell', 'quentin', 'queried', 'queries', 'query', 'quest', 'question', 'questioned', 'questioning', 'questionnaire', 'questionnaires', 'questions', 'questionsmarks', 'queudrue', 'queue', 'queued', 'queues', 'quick', 'quicker', 'quickest', 'quickly', 'quicksand', 'quiet', 'quieter', 'quietly', 'quiksilver', 'quincy', 'quinlan', 'quinn', 'quint', 'quip', 'quirkier', 'quirky', 'quit', 'quite', 'quits', 'quitting', 'quiz', 'quizzed', 'quo', 'quorn', 'quota', 'quotas', 'quotation', 'quote', 'quoted', 'quotes', 'quoting', 'qv', 'qwerty', 'qwest', 'r85', 'rab', 'rabah', 'rabb', 'rabbi', 'rabeni', 'rac', 'race', 'raced', 'racer', 'races', 'rachel', 'racial', 'racially', 'racing', 'racism', 'racist', 'rack', 'racked', 'racket', 'racketeering', 'rackets', 'racking', 'racy', 'rad', 'radcliffe', 'radical', 'radically', 'radicallyimproved', 'radicals', 'radicati', 'radio', 'radioactive', 'radioactivity', 'radios', 'radius', 'radley', 'radwan', 'rae', 'raf', 'rafa', 'rafael', 'rafferty', 'rafik', 'raft', 'rafter', 'raftery', 'rage', 'raged', 'ragged', 'raging', 'ragovoy', 'rags', 'rah', 'rahman', 'rahul', 'rai', 'raid', 'raided', 'raids', 'rail', 'railed', 'railtrack', 'railway', 'railways', 'raimi', 'rain', 'rainbow', 'raines', 'rainey', 'raining', 'rainsford', 'rainy', 'raise', 'raised', 'raises', 'raising', 'raitt', 'raj', 'rajapakse', 'rajasthan', 'raked', 'rallied', 'rallies', 'rally', 'rallying', 'ralph', 'ram', 'rambert', 'ramble', 'rambo', 'ramdhan', 'ramifications', 'ramming', 'ramp', 'rampant', 'ramping', 'ramps', 'ramrodded', 'ramsay', 'ran', 'ranch', 'ranchers', 'rancour', 'rand', 'randex', 'random', 'randomly', 'randt', 'rang', 'range', 'rangel', 'ranger', 'rangers', 'ranges', 'ranging', 'ranieri', 'raniers', 'rank', 'ranked', 'rankin', 'ranking', 'rankings', 'rankles', 'ranks', 'ransom', 'rap', 'rape', 'raped', 'rapes', 'raphael', 'rapid', 'rapidly', 'rapped', 'rapper', 'rappers', 'rapping', 'raps', 'rare', 'rarely', 'rarer', 'raring', 'rarity', 'ras', 'rascal', 'rash', 'rasheed', 'rasmussen', 'rat', 'ratchet', 'ratcheted', 'ratcheting', 'rate', 'rated', 'rates', 'ratification', 'ratified', 'ratify', 'rating', 'ratings', 'rational', 'rationale', 'rationally', 'rations', 'rato', 'rats', 'rattle', 'rattled', 'rattling', 'raucous', 'raul', 'ravaged', 'rave', 'ravencraft', 'ravenhill', 'ravi', 'raw', 'ray', 'rayman', 'raymond', 'rayne', 'raynsford', 'rays', 'razor', 'razorlight', 'razr', 'rbs', 'rca', 'rea', 'reach', 'reached', 'reaches', 'reaching', 'react', 'reacted', 'reacting', 'reaction', 'reactions', 'reacts', 'read', 'readable', 'reade', 'reader', 'readers', 'readership', 'readily', 'reading', 'reads', 'ready', 'reaffirming', 'reagan', 'real', 'realarcade', 'realisation', 'realise', 'realised', 'realising', 'realism', 'realistic', 'realistically', 'realities', 'reality', 'reallocated', 'really', 'reap', 'reaped', 'reaping', 'rear', 'reardon', 'rearing', 'rearranging', 'reason', 'reasonable', 'reasonably', 'reasoning', 'reasons', 'reassembled', 'reassert', 'reasserted', 'reassess', 'reassurance', 'reassure', 'reassuring', 'rebalance', 'rebalancing', 'rebate', 'rebates', 'rebel', 'rebellion', 'rebels', 'reboot', 'rebound', 'rebounding', 'rebrand', 'rebuild', 'rebuilding', 'rebuilds', 'rebuilt', 'rebuke', 'rebuts', 'rebuttal', 'rebuttals', 'recall', 'recalled', 'recalling', 'recalls', 'recapitalised', 'receded', 'receipt', 'receipts', 'receive', 'received', 'receiver', 'receivers', 'receives', 'receiving', 'recent', 'recently', 'recep', 'reception', 'receptionist', 'recession', 'recharge', 'rechargeable', 'rechargers', 'recipe', 'recipient', 'recipients', 'reckers', 'reckitt', 'reckless', 'reckon', 'reckoned', 'reckoning', 'reckons', 'reclaim', 'recluse', 'recognisable', 'recognise', 'recognised', 'recognises', 'recognising', 'recognition', 'recommend', 'recommendation', 'recommendations', 'recommended', 'recommends', 'recommissioned', 'recommissioning', 'reconditioned', 'reconnaissance', 'reconsider', 'reconstruct', 'reconstructed', 'reconstruction', 'reconvene', 'reconvicted', 'record', 'recordable', 'recorded', 'recorder', 'recorders', 'recording', 'recordings', 'records', 'recounted', 'recounts', 'recoup', 'recouped', 'recourse', 'recourses', 'recover', 'recovered', 'recovering', 'recovers', 'recovery', 'recreate', 'recreated', 'recreates', 'recreational', 'recruit', 'recruited', 'recruiting', 'rectified', 'rectify', 'recut', 'recycle', 'recycled', 'recycling', 'red', 'redder', 'redeemable', 'redemption', 'redemptions', 'redesign', 'redesigned', 'redesigning', 'redeveloped', 'redevelopment', 'redford', 'redirected', 'rediscover', 'rediscovered', 'redistribution', 'redknapp', 'redone', 'redpath', 'redraft', 'redress', 'reds', 'reduce', 'reduced', 'reduces', 'reducing', 'reduction', 'reductions', 'redundancies', 'redundancy', 'redundant', 'redvers', 'redwood', 'reel', 'reeled', 'reeling', 'rees', 'reeve', 'reeves', 'ref', 'refer', 'refered', 'referee', 'refereed', 'refereeing', 'referees', 'reference', 'references', 'referendum', 'referendums', 'referred', 'referring', 'refers', 'refine', 'refined', 'refineries', 'refinery', 'refining', 'reflect', 'reflected', 'reflecting', 'reflection', 'reflections', 'reflective', 'reflects', 'reflexes', 'refocused', 'reform', 'reformat', 'reformed', 'reforming', 'reforms', 'refrain', 'refrained', 'refreshing', 'refuge', 'refugee', 'refugees', 'refund', 'refurbish', 'refusal', 'refusals', 'refuse', 'refused', 'refuseniks', 'refuses', 'refusing', 'refute', 'refutes', 'reg', 'regain', 'regained', 'regaining', 'regains', 'regal', 'regard', 'regarded', 'regarding', 'regardless', 'regards', 'regency', 'regenerate', 'regeneration', 'regent', 'reggae', 'regime', 'regiment', 'regiments', 'region', 'regional', 'regions', 'register', 'registered', 'registering', 'registrar', 'registrars', 'registration', 'registrations', 'registries', 'registry', 'regressive', 'regret', 'regrets', 'regretted', 'regretting', 'regular', 'regularly', 'regulars', 'regulate', 'regulated', 'regulates', 'regulating', 'regulation', 'regulations', 'regulator', 'regulators', 'regulatory', 'rehabilitated', 'rehabilitation', 'rehearsal', 'rehearsed', 'rehearsing', 'reheated', 'reid', 'reidar', 'reign', 'reigning', 'reignite', 'reilly', 'reimburse', 'reimbursed', 'reimbursement', 'reimburses', 'rein', 'reinforce', 'reinforces', 'reinforcing', 'reins', 'reinstate', 'reinstated', 'reinstatement', 'reinsurance', 'reinsurer', 'reintegration', 'reintroduce', 'reintroduced', 'reintroducing', 'reinvented', 'reinvest', 'reinvigorate', 'reissued', 'reissues', 'reiterated', 'reiterating', 'reithofer', 'reiziger', 'reject', 'rejected', 'rejecting', 'rejection', 'rejects', 'rejoiced', 'rejoined', 'rekindled', 'relate', 'related', 'relates', 'relating', 'relation', 'relations', 'relationship', 'relationships', 'relative', 'relatively', 'relatives', 'relaunch', 'relaunched', 'relax', 'relaxation', 'relaxed', 'relay', 'relayed', 'relays', 'release', 'released', 'releases', 'releasing', 'relegate', 'relegated', 'relegation', 'relentless', 'relevance', 'relevant', 'reliability', 'reliable', 'reliance', 'reliant', 'relied', 'relief', 'relies', 'relieve', 'relieved', 'religion', 'religions', 'religious', 'relinquish', 'relish', 'relished', 'relishing', 'relive', 'rellie', 'relocate', 'relocated', 'relocating', 'relocation', 'reluctance', 'reluctant', 'rely', 'relying', 'rem', 'remade', 'remain', 'remainder', 'remained', 'remaining', 'remains', 'remake', 'remark', 'remarkable', 'remarkably', 'remarking', 'remarks', 'remarriage', 'remedial', 'remedies', 'remedy', 'remember', 'remembered', 'remembering', 'remembers', 'remembrance', 'remind', 'reminded', 'reminder', 'reminders', 'reminds', 'reminiscent', 'remiss', 'remit', 'remittance', 'remittances', 'remix', 'remonstrating', 'remote', 'remotely', 'remotes', 'removable', 'removal', 'remove', 'removed', 'removing', 'remy', 'renaissance', 'renamed', 'renationalisation', 'renationalise', 'renaud', 'renault', 'render', 'rendered', 'rendition', 'rene', 'renee', 'renegade', 'reneged', 'reneging', 'renegotiation', 'renew', 'renewable', 'renewal', 'renewed', 'renewing', 'renfrewshire', 'renminbi', 'rennard', 'rennick', 'rennie', 'reno', 'renovated', 'renovating', 'renowned', 'rent', 'rental', 'rentals', 'rented', 'renting', 'renton', 'reoffending', 'reopen', 'reopens', 'reorganisation', 'reorganised', 'reorganising', 'repaid', 'repair', 'repairing', 'repairs', 'reparations', 'repay', 'repayable', 'repayment', 'repayments', 'repeal', 'repealed', 'repeat', 'repeated', 'repeatedly', 'repeating', 'repeats', 'repelled', 'repercussions', 'repertoire', 'repertory', 'repetition', 'repetitive', 'replace', 'replaced', 'replacement', 'replacements', 'replaces', 'replacing', 'replay', 'replays', 'replica', 'replicate', 'replied', 'replies', 'reply', 'report', 'reported', 'reportedly', 'reporter', 'reporters', 'reporting', 'reports', 'repossessed', 'repossessions', 'represent', 'representation', 'representative', 'representatives', 'represented', 'representing', 'represents', 'repressors', 'reprimanded', 'reprise', 'reproduction', 'republic', 'republican', 'republicans', 'republics', 'repurchase', 'reputable', 'reputation', 'reputations', 'reputedly', 'request', 'requested', 'requesting', 'requests', 'requiem', 'require', 'required', 'requirement', 'requirements', 'requires', 'requiring', 'requisite', 'rescheduled', 'rescue', 'rescued', 'rescues', 'rescuing', 'research', 'researched', 'researcher', 'researchers', 'researching', 'resemblance', 'resembled', 'resent', 'resentment', 'reservations', 'reserve', 'reserved', 'reserves', 'reshape', 'reshuffle', 'reshuffled', 'reside', 'residence', 'residency', 'resident', 'residential', 'residents', 'residue', 'resign', 'resignation', 'resignations', 'resigned', 'resigning', 'resigns', 'resilience', 'resist', 'resistance', 'resistant', 'resisted', 'resisting', 'resold', 'resolute', 'resolution', 'resolutions', 'resolve', 'resolved', 'resolving', 'resort', 'resorted', 'resorts', 'resource', 'resourced', 'resources', 'respect', 'respectable', 'respected', 'respectful', 'respective', 'respectively', 'respects', 'respiratory', 'respond', 'responded', 'respondents', 'responding', 'responds', 'response', 'responses', 'responsibilities', 'responsibility', 'responsible', 'responsibly', 'responsive', 'rest', 'restart', 'restate', 'restated', 'restatement', 'restatements', 'restating', 'restaurant', 'restaurants', 'resting', 'restitution', 'restoration', 'restore', 'restored', 'restoring', 'restrain', 'restrained', 'restraining', 'restrict', 'restricted', 'restricting', 'restrictions', 'restrictive', 'restructuing', 'restructure', 'restructuring', 'result', 'resultant', 'resulted', 'resulting', 'results', 'resume', 'resumed', 'resumes', 'resumption', 'resurgence', 'resurgent', 'resurrect', 'resurrected', 'resurrection', 'retail', 'retailer', 'retailers', 'retain', 'retained', 'retains', 'retaliate', 'retaliation', 'retaliatory', 'retention', 'rethink', 'reticent', 'retire', 'retired', 'retirees', 'retirement', 'retirements', 'retires', 'retiring', 'retract', 'retraining', 'retreat', 'retreated', 'retreating', 'retrieve', 'retrieved', 'retrieving', 'retro', 'retrofone', 'retrospective', 'retrospectively', 'retroviral', 'retrovirals', 'return', 'returned', 'returning', 'returns', 'reunification', 'reunified', 'reunion', 'reunite', 'reunited', 'reunites', 'reuniting', 'reuters', 'rev', 'revaluation', 'revalue', 'revaluing', 'revamp', 'revamped', 'reveal', 'revealed', 'revealing', 'reveals', 'revelation', 'revelations', 'revelatory', 'revellers', 'revels', 'revenge', 'revenue', 'revenues', 'revered', 'reverend', 'reversal', 'reverse', 'reversed', 'reverses', 'revert', 'reverted', 'reveta', 'review', 'reviewed', 'reviewing', 'reviews', 'revised', 'revision', 'revisions', 'revisit', 'revitalise', 'revitalised', 'revival', 'revive', 'revived', 'reviving', 'revolt', 'revolution', 'revolutionalised', 'revolutionary', 'revolutionise', 'revolutionised', 'revolutionising', 'revolved', 'revolver', 'revolves', 'revolving', 'reward', 'rewarded', 'rewarding', 'rewards', 'rewind', 'rewrite', 'rewriting', 'reyes', 'reynolds', 'reza', 'rfc', 'rfid', 'rfu', 'rhein', 'rhetoric', 'rheumatic', 'rhian', 'rhiel', 'rhinos', 'rhode', 'rhodes', 'rhodri', 'rhona', 'rhyme', 'rhys', 'rhythm', 'rhythms', 'rib', 'rican', 'ricard', 'ricardo', 'rice', 'rich', 'richard', 'richards', 'richardson', 'richer', 'riches', 'richest', 'richey', 'richfield', 'richie', 'richly', 'richmond', 'richness', 'richter', 'rick', 'ricksen', 'ricky', 'rico', 'ricochets', 'rid', 'riddick', 'riddled', 'ride', 'riders', 'rides', 'ridge', 'ridgeley', 'ridicule', 'ridiculed', 'ridiculous', 'ridiculously', 'ridiculousness', 'riding', 'rife', 'rifkin', 'rifle', 'rifled', 'rift', 'rifts', 'rig', 'rigged', 'rigging', 'riggott', 'riggs', 'right', 'rightful', 'rightly', 'rightmove', 'rights', 'rigid', 'rigoglioso', 'rigorous', 'rigorously', 'rigs', 'rigueur', 'riise', 'riley', 'rimmer', 'rinaldi', 'rinat', 'ring', 'ringing', 'ringleaders', 'rings', 'ringtone', 'ringtones', 'ringworld', 'rink', 'rio', 'riot', 'riotous', 'riots', 'rip', 'ripe', 'ripert', 'ripmobile', 'ripped', 'ripping', 'risciso', 'rise', 'risen', 'risers', 'rises', 'rising', 'risk', 'risked', 'risks', 'risky', 'risqu', 'rites', 'rittweger', 'ritzier', 'rival', 'rivaldo', 'rivalries', 'rivalry', 'rivals', 'river', 'riverbeds', 'rivers', 'riverside', 'rix', 'rk', 'rks', 'rnib', 'rnid', 'road', 'roadmap', 'roads', 'roadshow', 'roadside', 'roam', 'roaming', 'roaring', 'rob', 'robbed', 'robben', 'robbery', 'robbie', 'robbing', 'robbins', 'robby', 'robert', 'roberto', 'roberts', 'robertson', 'robin', 'robinov', 'robinson', 'robocop', 'robot', 'robotic', 'robotics', 'robotiquette', 'robots', 'robredo', 'robson', 'robust', 'robustly', 'rochdale', 'roche', 'rochus', 'rock', 'rocked', 'rockers', 'rocket', 'rocks', 'rockstar', 'rockwell', 'rockwool', 'rocky', 'rod', 'roddam', 'roddick', 'roderick', 'rodgers', 'rodick', 'rodney', 'rodrigo', 'rofe', 'roger', 'rogers', 'rogue', 'rohit', 'rohm', 'roland', 'role', 'roles', 'roll', 'rolled', 'rolling', 'rollo', 'rolls', 'roly', 'roma', 'roman', 'romancing', 'romania', 'romanian', 'romantic', 'rome', 'romeo', 'romitaand', 'roms', 'ron', 'ronald', 'ronaldino', 'ronaldo', 'ronan', 'ronco', 'roni', 'ronnie', 'ronnies', 'roof', 'room', 'rooms', 'rooney', 'rooneys', 'roosevelt', 'rooster', 'root', 'rooting', 'roots', 'rory', 'ros', 'rose', 'rosemount', 'rosenberg', 'rosenborg', 'rosencrantz', 'roses', 'roslynn', 'rosneft', 'ross', 'rossignol', 'roster', 'rosy', 'rosyth', 'rot', 'rotate', 'rotated', 'rotating', 'roth', 'rothemund', 'rotherham', 'rothschild', 'rotterdam', 'roubles', 'rougerie', 'rough', 'roughly', 'roukis', 'round', 'rounded', 'rounding', 'rounds', 'roundtable', 'rourke', 'roused', 'rousing', 'rout', 'route', 'routed', 'router', 'routes', 'routine', 'routinely', 'routines', 'routing', 'roux', 'rover', 'rovers', 'row', 'rowan', 'rowdy', 'rowetta', 'rowing', 'rowlands', 'rowling', 'rowntree', 'rows', 'roy', 'royal', 'royale', 'royalties', 'royalty', 'royce', 'royces', 'royer', 'rpm', 'rsa', 'rspca', 'rss', 'rt', 'rub', 'rubbed', 'rubber', 'rubbers', 'rubbing', 'rubbish', 'rubble', 'ruben', 'rubens', 'rubicam', 'rubik', 'rubin', 'ruby', 'ruck', 'rucking', 'rucks', 'ruddock', 'rude', 'ruerup', 'rues', 'ruffled', 'rugby', 'rugged', 'ruhi', 'rui', 'ruigang', 'ruin', 'ruined', 'ruing', 'ruins', 'rule', 'ruled', 'ruler', 'rules', 'ruling', 'rum', 'rumbled', 'rumors', 'rumour', 'rumoured', 'rumours', 'rump', 'run', 'runaway', 'runcorn', 'rung', 'runner', 'runners', 'running', 'runs', 'runway', 'runways', 'rupee', 'rupees', 'rupert', 'ruptured', 'rural', 'rusedski', 'rush', 'rushed', 'rushing', 'ruslana', 'russell', 'russes', 'russia', 'russian', 'russians', 'rust', 'rusty', 'ruth', 'ruthless', 'rutkowski', 'rutto', 'ruud', 'rwanda', 'rwandan', 'ryan', 'ryanair', 'ryder', 'ryman', 's6500', 'sa', 'saab', 'saakashvili', 'sabbath', 'sablan', 'sabotage', 'sacheen', 'sachs', 'sack', 'sacked', 'sacking', 'sacranie', 'sacrifices', 'sad', 'saddam', 'saddened', 'saddleworth', 'sadistic', 'sadler', 'sadly', 'sadness', 'safari', 'safe', 'safeguard', 'safeguards', 'safely', 'safer', 'safest', 'safety', 'saffron', 'safin', 'sag', 'saga', 'sage', 'sagem', 'saha', 'sahara', 'saharan', 'sahundi', 'saic', 'said', 'sail', 'sailed', 'sailing', 'sailor', 'sainsbury', 'saint', 'saints', 'sake', 'sakhalin', 'sal', 'salam', 'salaries', 'salary', 'sale', 'sales', 'salesman', 'salles', 'sally', 'salmon', 'salmond', 'saloon', 'salsa', 'salute', 'saluted', 'salvador', 'salvaged', 'salvation', 'salvo', 'salvoes', 'salween', 'sam', 'samantha', 'saminejad', 'samoa', 'sample', 'sampled', 'samples', 'sampling', 'sampras', 'samsung', 'samuel', 'san', 'sanction', 'sanctioned', 'sanctioning', 'sanctions', 'sanctuary', 'sand', 'sanders', 'sanderson', 'sandino', 'sandra', 'sands', 'sandy', 'sang', 'sanguine', 'sania', 'sanitation', 'sanitise', 'sanjay', 'sank', 'sankus', 'sans', 'sant', 'santa', 'santander', 'santini', 'santoro', 'santry', 'santy', 'sanyo', 'sanzar', 'sao', 'sap', 'sapphire', 'sapphires', 'sapping', 'sapporo', 'sara', 'saracens', 'sarah', 'sarbanes', 'sarcastically', 'saretta', 'sarft', 'sarin', 'sars', 'sasser', 'sat', 'satan', 'satchell', 'sate', 'satellite', 'satellites', 'satifex', 'satire', 'satisfaction', 'satisfactory', 'satisfied', 'satisfy', 'satisfying', 'sativex', 'satoru', 'saturation', 'saturday', 'saturdays', 'satyajit', 'satyanarayana', 'sauber', 'sauce', 'saud', 'saudi', 'saul', 'saulius', 'saulnier', 'saumarez', 'saunders', 'sav', 'savage', 'savages', 'savana', 'savante', 'save', 'saved', 'saver', 'saves', 'saving', 'savings', 'savoured', 'savouring', 'savours', 'savoy', 'savvy', 'saw', 'sawicki', 'sawyer', 'saxophone', 'say', 'sayeeda', 'saying', 'sayle', 'says', 'sbc', 'sberbank', 'scale', 'scaled', 'scaling', 'scalp', 'scam', 'scammed', 'scammers', 'scamper', 'scams', 'scan', 'scandal', 'scandals', 'scandinavia', 'scandinavian', 'scanned', 'scanner', 'scanning', 'scans', 'scant', 'scar', 'scarce', 'scare', 'scared', 'scares', 'scaring', 'scarlets', 'scarlett', 'scars', 'scary', 'scathing', 'scattered', 'scattergun', 'scenario', 'scenarios', 'scene', 'scenery', 'scenes', 'scenic', 'scent', 'sceptic', 'sceptical', 'sceptically', 'scepticism', 'schalk', 'schechter', 'schedule', 'scheduled', 'schedules', 'scheduling', 'scheme', 'schemes', 'scheming', 'schenck', 'schiavone', 'schiffer', 'schizophrenic', 'schlock', 'schmidt', 'schnaible', 'schneider', 'schnyder', 'schofield', 'scholarly', 'scholarship', 'scholes', 'scholl', 'scholls', 'school', 'schoolboys', 'schoolchildren', 'schooldays', 'schoolfriends', 'schools', 'schoolteacher', 'schrempp', 'schroeder', 'schulberg', 'schulte', 'schumacher', 'schwartz', 'schwarzenegger', 'schweppes', 'schwimmer', 'sci', 'science', 'sciences', 'scientific', 'scientist', 'scientists', 'scintillating', 'scissor', 'scissors', 'sclerosis', 'scoggins', 'scolded', 'scooby', 'scoop', 'scooped', 'scooping', 'scoops', 'scooted', 'scope', 'scorch', 'scorched', 'scorching', 'score', 'scoreboard', 'scored', 'scoreless', 'scoreline', 'scorer', 'scores', 'scoresheet', 'scoring', 'scorsese', 'scot', 'scotch', 'scotland', 'scots', 'scott', 'scottish', 'scoured', 'scouring', 'scours', 'scout', 'scouts', 'scragged', 'scramble', 'scrambler', 'scrambles', 'scrap', 'scraped', 'scrapped', 'scrapping', 'scrappy', 'scraps', 'scratch', 'scratches', 'screaming', 'screen', 'screened', 'screening', 'screenings', 'screenplay', 'screens', 'screensaver', 'screensavers', 'screenshots', 'screenwriter', 'screwed', 'scribe', 'scrichapan', 'script', 'scripted', 'scripts', 'scroll', 'scrolling', 'scrolls', 'scrub', 'scrubbed', 'scrubs', 'scruggs', 'scrum', 'scrummage', 'scrummaging', 'scrums', 'scrutinise', 'scrutinised', 'scrutinising', 'scrutiny', 'scuffed', 'sculptor', 'scunthorpe', 'scuppered', 'scuttle', 'scythed', 'sd', 'se', 'sea', 'seagate', 'seagram', 'seagrave', 'seal', 'sealed', 'sealing', 'seals', 'seaman', 'seamless', 'seamlessly', 'seamus', 'sean', 'search', 'searched', 'searchers', 'searches', 'searching', 'searing', 'seaside', 'season', 'seasonal', 'seasonally', 'seasoned', 'seasons', 'seat', 'seater', 'seating', 'seats', 'seawater', 'sebastian', 'sebastien', 'seberg', 'sebold', 'sec', 'secc', 'second', 'secondary', 'seconded', 'secondly', 'seconds', 'secrecy', 'secret', 'secretarial', 'secretary', 'secretive', 'secretly', 'secrets', 'secs', 'sectarian', 'sectarianism', 'section', 'sections', 'sector', 'sectors', 'secular', 'secure', 'secured', 'securely', 'secures', 'securing', 'securities', 'security', 'sedan', 'sedans', 'sedgefield', 'seed', 'seeded', 'seeds', 'seeing', 'seek', 'seeker', 'seekers', 'seeking', 'seeks', 'seemingly', 'seen', 'sees', 'seething', 'sega', 'segas', 'segment', 'segmented', 'segments', 'segregated', 'seibu', 'seifert', 'seismic', 'seize', 'seized', 'seizing', 'seizure', 'seizures', 'sejong', 'seldom', 'select', 'selected', 'selecting', 'selection', 'selections', 'selectors', 'selects', 'seles', 'self', 'selfish', 'selfishly', 'sell', 'sella', 'sellafield', 'seller', 'sellers', 'selling', 'sells', 'selma', 'semel', 'semen', 'semi', 'seminal', 'seminar', 'seminars', 'semitic', 'semitism', 'sempron', 'senator', 'send', 'senderos', 'sending', 'sendmail', 'sendo', 'sends', 'sener', 'senior', 'sensation', 'sensational', 'sense', 'sensed', 'senses', 'sensible', 'sensibly', 'sensing', 'sensitive', 'sensitivities', 'sensitivity', 'sensor', 'sensors', 'sent', 'sentence', 'sentenced', 'sentences', 'sentencing', 'sentiment', 'sentimental', 'sentiments', 'seoul', 'sepa', 'separate', 'separated', 'separately', 'separation', 'separations', 'september', 'sequel', 'sequels', 'sequence', 'sequencer', 'sequences', 'sequential', 'sequins', 'serbia', 'serena', 'serendipity', 'serge', 'sergeant', 'sergei', 'serginho', 'sergio', 'serial', 'serialisation', 'serialised', 'serie', 'series', 'seriously', 'serna', 'sertit', 'servant', 'servants', 'servat', 'serve', 'served', 'server', 'servers', 'serves', 'service', 'services', 'serving', 'serwotka', 'session', 'sessions', 'set', 'setback', 'setbacks', 'seth', 'seti', 'seton', 'sets', 'setter', 'setting', 'settings', 'settle', 'settled', 'settlement', 'settlements', 'settles', 'settling', 'seuss', 'sevastis', 'seven', 'sevens', 'seventh', 'seventies', 'seventy', 'severance', 'severe', 'severely', 'severn', 'sevilla', 'seville', 'sewn', 'sex', 'sexes', 'sexier', 'sexing', 'sexism', 'sextant', 'sexual', 'sexuality', 'sexually', 'sexy', 'seychelles', 'sfa', 'sg', 'sgc', 'sgt', 'shabazz', 'shade', 'shaders', 'shades', 'shadjareh', 'shadow', 'shadowcrew', 'shadows', 'shadrin', 'shady', 'shaftesbury', 'shah', 'shailendra', 'shaka', 'shake', 'shaken', 'shakespeare', 'shakin', 'shakur', 'shall', 'shallow', 'sham', 'shambles', 'shame', 'shamed', 'shameful', 'shameless', 'shamelessly', 'shami', 'shamil', 'shamrock', 'shanda', 'shane', 'shanghai', 'shanklin', 'shape', 'shaped', 'shaping', 'sharapova', 'share', 'shared', 'shareholder', 'shareholders', 'sharers', 'shares', 'sharing', 'shark', 'sharkey', 'sharking', 'sharks', 'sharma', 'sharon', 'sharp', 'sharpe', 'sharpens', 'sharper', 'sharply', 'shattering', 'shaughnessy', 'shaun', 'shaw', 'shawshank', 'shd', 'shea', 'sheahan', 'shearer', 'shed', 'shedding', 'sheep', 'sheer', 'sheerman', 'sheet', 'sheets', 'sheff', 'sheffield', 'sheila', 'shelf', 'shell', 'shelley', 'shells', 'shelter', 'shelves', 'shenfeld', 'shepherd', 'shepherds', 'shepherdson', 'sheppey', 'sher', 'sheridan', 'sheriff', 'sherlock', 'sherry', 'shevardnadze', 'shevchenko', 'shied', 'shield', 'shields', 'shift', 'shifted', 'shifting', 'shifts', 'shiga', 'shihab', 'shimbun', 'shimmering', 'shimon', 'shinawatra', 'shine', 'shiner', 'shines', 'shining', 'shinnama', 'shinobu', 'shiny', 'ship', 'shipment', 'shipments', 'shipped', 'shipping', 'ships', 'shipside', 'shirakawa', 'shirk', 'shirking', 'shirley', 'shirlie', 'shiro', 'shirt', 'shirted', 'shirts', 'shivering', 'shochu', 'shock', 'shocked', 'shocker', 'shocking', 'shocks', 'shockwaves', 'shoes', 'shola', 'shone', 'shook', 'shoot', 'shooter', 'shooters', 'shooting', 'shootings', 'shootout', 'shoots', 'shop', 'shopfronts', 'shoppers', 'shopping', 'shops', 'shore', 'short', 'shortage', 'shortages', 'shortcomings', 'shortened', 'shorter', 'shortfall', 'shortfalls', 'shortlist', 'shortlisted', 'shortlived', 'shortly', 'shorts', 'shot', 'shots', 'shoulder', 'shouldered', 'shouldering', 'shoulders', 'shouldn', 'shout', 'shouted', 'shouting', 'shove', 'shoving', 'showbiz', 'showbusiness', 'showcase', 'showcased', 'showcases', 'showcasing', 'showdown', 'showed', 'shower', 'showered', 'showing', 'shown', 'showpiece', 'showrooms', 'shows', 'showtime', 'shrank', 'shrek', 'shrewsbury', 'shri', 'shrine', 'shrinking', 'shropshire', 'shrugged', 'shrugs', 'shrunk', 'shuddering', 'shudders', 'shuffle', 'shuffled', 'shuffling', 'shun', 'shunned', 'shut', 'shutdown', 'shutting', 'shy', 'sibbald', 'siberia', 'sibierski', 'sibley', 'sibling', 'sic', 'sick', 'sickout', 'sid', 'sidecars', 'sided', 'sidefooted', 'sidefooting', 'sidekick', 'sideline', 'sidelined', 'sidelines', 'sides', 'sidestepped', 'sidesteps', 'sideway', 'sideways', 'siding', 'sidney', 'sidoli', 'siege', 'siemens', 'sienna', 'sierra', 'sigarchi', 'sigh', 'sight', 'sights', 'sightseeing', 'sigley', 'sign', 'signal', 'signalled', 'signals', 'signature', 'signatures', 'signed', 'significance', 'significant', 'significantly', 'signifies', 'signing', 'signs', 'sikhs', 'silence', 'silent', 'silhouette', 'silicon', 'silk', 'sillerman', 'silliere', 'silly', 'silva', 'silvas', 'silver', 'silverade', 'silvers', 'silverware', 'silvestre', 'silvia', 'silvio', 'sim', 'similar', 'similarities', 'similarly', 'simmering', 'simms', 'simon', 'simonetti', 'simple', 'simpler', 'simplest', 'simplify', 'simplifying', 'simplistic', 'simply', 'simpson', 'simpsons', 'sims', 'simulate', 'simulates', 'simulating', 'simulation', 'simulator', 'simultaneously', 'sin', 'sina', 'sinatra', 'sincerest', 'sincerity', 'sinche', 'sinclair', 'sindelfingen', 'sing', 'singapore', 'singer', 'singers', 'singh', 'singing', 'single', 'singled', 'singles', 'sings', 'siniscalco', 'sinister', 'sink', 'sinking', 'sinn', 'sinners', 'sion', 'sir', 'siregar', 'siriwan', 'sister', 'sisters', 'sit', 'sitcom', 'sitcoms', 'site', 'sited', 'sites', 'sith', 'sititi', 'sits', 'sitting', 'situated', 'situation', 'situations', 'sixfold', 'sixth', 'sixways', 'sizable', 'size', 'sizeable', 'sized', 'sizes', 'sizzla', 'sk', 'skateboards', 'skater', 'skates', 'skating', 'skeens', 'skeletal', 'skeleton', 'skeletons', 'sketch', 'sketching', 'ski', 'skilful', 'skilfully', 'skill', 'skilled', 'skilling', 'skills', 'skin', 'skinner', 'skinny', 'skip', 'skipper', 'skis', 'skolsky', 'skulls', 'sky', 'skynyrd', 'skype', 'skyscrapers', 'skywalker', 'slab', 'slack', 'slade', 'slain', 'slam', 'slamdance', 'slammed', 'slams', 'slang', 'slanging', 'slap', 'slapped', 'slaps', 'slash', 'slashed', 'slashing', 'slate', 'slater', 'slaughter', 'slaughtered', 'slavery', 'slaves', 'slavishly', 'slaying', 'sleaford', 'sledge', 'sleek', 'sleep', 'sleeping', 'sleepwalk', 'sleeves', 'sleigh', 'slender', 'slept', 'slew', 'slice', 'sliced', 'slicing', 'slick', 'slid', 'slide', 'slides', 'sliding', 'slight', 'slightly', 'slim', 'slimmer', 'slimming', 'slinkier', 'slip', 'slipped', 'slipping', 'slogan', 'sloncek', 'slopes', 'sloppy', 'slot', 'slots', 'slotted', 'slough', 'slovakia', 'slovaks', 'slovenia', 'slovenian', 'slow', 'slowdown', 'slowdowns', 'slowed', 'slower', 'slowest', 'slowing', 'slowly', 'slows', 'slug', 'sluggish', 'slump', 'slumping', 'slumps', 'slums', 'slung', 'slurry', 'slurs', 'slushier', 'sly', 'smacks', 'small', 'smaller', 'smallest', 'smart', 'smartcard', 'smartcards', 'smarter', 'smartphone', 'smartphones', 'smash', 'smashed', 'smashing', 'smashnova', 'smattering', 'smbc', 'smear', 'smearing', 'smell', 'smelling', 'smells', 'smertin', 'smes', 'smfg', 'smile', 'smiles', 'smiley', 'smiling', 'smillie', 'smith', 'smoke', 'smoking', 'smoky', 'smooth', 'smoothly', 'smother', 'smouldering', 'sms', 'smses', 'smuggler', 'smuggles', 'smuggling', 'snack', 'snaffled', 'snake', 'snalune', 'snap', 'snapped', 'snapping', 'snapple', 'snaps', 'snapshots', 'snatch', 'snatching', 'sneak', 'sneering', 'snicket', 'sniffed', 'snipes', 'sniping', 'snippets', 'snobbery', 'snooker', 'snoop', 'snow', 'snowball', 'snowballed', 'snowboards', 'snowmen', 'snowmobile', 'snp', 'snub', 'snubbed', 'snubbing', 'snyder', 'soap', 'soaps', 'soar', 'soared', 'soaring', 'sobbed', 'sober', 'soberly', 'soccer', 'soccerex', 'social', 'socialist', 'socially', 'sociedad', 'societe', 'societies', 'society', 'socks', 'soda', 'soderbergh', 'sofia', 'soft', 'softbank', 'soften', 'softening', 'softer', 'software', 'soham', 'sohn', 'soil', 'sol', 'solana', 'solano', 'solaris', 'sold', 'soldier', 'soldiers', 'sole', 'solely', 'solheim', 'solicit', 'solicitations', 'solicitor', 'solid', 'solidarity', 'solidere', 'solidifies', 'solidity', 'solo', 'solomon', 'solskjaer', 'solution', 'solutions', 'solve', 'solved', 'solvents', 'solver', 'solving', 'somali', 'somebody', 'someday', 'somersault', 'somerset', 'somewhat', 'son', 'sonaptic', 'song', 'songbook', 'songs', 'songwriter', 'songwriters', 'songwriting', 'sonia', 'sonny', 'sons', 'sony', 'sonybmg', 'sonyericsson', 'soon', 'sooner', 'sophie', 'sophisticated', 'sophistication', 'sophos', 'soprano', 'sopranos', 'sore', 'soros', 'sorrell', 'sorrow', 'sorrows', 'sorry', 'sort', 'sorted', 'sorting', 'sorts', 'sos', 'sotheby', 'sotherton', 'sotiris', 'sought', 'soul', 'soulful', 'souls', 'sound', 'soundbite', 'soundbites', 'sounded', 'sounding', 'sounds', 'soundtrack', 'soundtracks', 'souness', 'soup', 'souped', 'sour', 'source', 'sources', 'sourcing', 'soured', 'south', 'southall', 'southampton', 'southan', 'southcorp', 'southeast', 'southeastern', 'southern', 'southernplayalisticadillacmuzik', 'southgate', 'southwark', 'southwell', 'southwest', 'sovereign', 'sovereignty', 'soviet', 'soviets', 'sowden', 'sown', 'sox', 'soy', 'soybean', 'sp', 'sp2', 'space', 'spaces', 'spacey', 'spadea', 'spades', 'spaghetti', 'spain', 'spall', 'spam', 'spamhaus', 'spammer', 'spammers', 'span', 'spaniard', 'spanish', 'spanning', 'spans', 'spare', 'spared', 'sparingly', 'spark', 'sparkassen', 'sparked', 'sparking', 'sparkled', 'sparkling', 'sparks', 'sparrow', 'spasm', 'spat', 'spates', 'spawned', 'speaight', 'speak', 'speaker', 'speakerboxxx', 'speakers', 'speaking', 'speaks', 'spears', 'spec', 'special', 'specialise', 'specialised', 'specialises', 'specialist', 'specialists', 'specially', 'specials', 'species', 'specific', 'specifically', 'specifications', 'specifics', 'specified', 'specify', 'specifying', 'specimen', 'spectacle', 'spectacular', 'spectacularly', 'spectator', 'spectators', 'spector', 'spectrum', 'speculate', 'speculated', 'speculating', 'speculation', 'speculative', 'speculatively', 'sped', 'speech', 'speeches', 'speed', 'speeded', 'speedily', 'speeding', 'speeds', 'speedy', 'speegle', 'spell', 'spellar', 'spelled', 'spelling', 'spells', 'spelt', 'spencer', 'spend', 'spending', 'spends', 'spent', 'spice', 'spicejet', 'spices', 'spicy', 'spider', 'spiderman', 'spiders', 'spidey', 'spielberg', 'spike', 'spiked', 'spikes', 'spikey', 'spiky', 'spill', 'spilled', 'spin', 'spinal', 'spine', 'spines', 'spinner', 'spinners', 'spinning', 'spiral', 'spirit', 'spirited', 'spirits', 'spiritual', 'spit', 'spite', 'spiteful', 'spitting', 'spitzer', 'splash', 'splashed', 'splattered', 'splinter', 'splintering', 'split', 'splits', 'splitting', 'spoiled', 'spoilt', 'spoke', 'spokeman', 'spoken', 'spokesman', 'spokespeople', 'spokesperson', 'spokeswoman', 'sponsor', 'sponsored', 'sponsors', 'sponsorship', 'spoof', 'spoofed', 'spooks', 'spoon', 'spore', 'sport', 'sported', 'sporting', 'sports', 'sportscar', 'sportsman', 'sportswear', 'sportsweek', 'sportswoman', 'spot', 'spotless', 'spotlight', 'spots', 'spotted', 'spotting', 'sprawling', 'spray', 'sprayed', 'spread', 'spreading', 'spreads', 'spreadsheets', 'spree', 'sprees', 'sprem', 'spring', 'springboard', 'springboks', 'springer', 'springing', 'springs', 'springsteen', 'sprinkled', 'sprint', 'sprinted', 'sprinter', 'sprinters', 'sprinting', 'sprites', 'spruce', 'sps', 'spuds', 'spun', 'spur', 'spurlock', 'spurned', 'spurred', 'spurring', 'spurs', 'spurt', 'spurts', 'spy', 'spybot', 'spyware', 'squabbles', 'squabbling', 'squad', 'squads', 'squalor', 'square', 'squarely', 'squash', 'squashed', 'squatters', 'squeeze', 'squeezed', 'squibs', 'sr', 'srebotnik', 'sri', 'srichaphan', 'srs', 'sru', 'srx', 'ssempgani', 'sseyo', 'ssl', 'st', 'stabbed', 'stabbers', 'stabilise', 'stabilises', 'stability', 'stable', 'stacked', 'stade', 'stadium', 'stadiums', 'staff', 'staffordshire', 'stage', 'staged', 'stages', 'stagework', 'staggered', 'staggering', 'staging', 'stagnate', 'stagnated', 'stagnation', 'staid', 'stain', 'stairs', 'stairway', 'stake', 'stakeholders', 'stakes', 'stakonia', 'stalemate', 'stalin', 'stalked', 'stalker', 'stalkers', 'stall', 'stalled', 'stalling', 'stallone', 'stalwarts', 'stam', 'stamford', 'stammered', 'stamp', 'stamping', 'stamps', 'stan', 'stance', 'stand', 'standard', 'standards', 'standby', 'standing', 'standings', 'standout', 'standpoint', 'stands', 'standstill', 'stanford', 'stank', 'stanley', 'stanozolol', 'stansfield', 'stansted', 'staples', 'star', 'starace', 'stardom', 'stardust', 'starfox', 'stark', 'starkly', 'starred', 'starring', 'stars', 'starship', 'start', 'startac', 'started', 'starter', 'starters', 'starting', 'startling', 'starts', 'starved', 'stat', 'stata', 'state', 'stated', 'stategist', 'statement', 'statements', 'staten', 'states', 'stating', 'station', 'stations', 'statistical', 'statistics', 'statler', 'stats', 'statue', 'statues', 'statuette', 'statuettes', 'stature', 'status', 'statute', 'statutes', 'statutory', 'staunch', 'staunchest', 'staunton', 'stave', 'stay', 'stayed', 'staying', 'stays', 'stead', 'steadfastly', 'steadied', 'steadily', 'steady', 'steal', 'stealing', 'steals', 'stealth', 'steam', 'steamrolling', 'steams', 'stearns', 'steaua', 'steed', 'steel', 'steelmakers', 'steely', 'steer', 'steering', 'stefan', 'stefani', 'stefano', 'steinmetz', 'stelios', 'stellar', 'stem', 'stemmed', 'stemming', 'stems', 'stening', 'stent', 'stents', 'step', 'stepchild', 'stephane', 'stephanie', 'stephen', 'stephens', 'stephenson', 'stepney', 'stepped', 'stepping', 'steps', 'stereo', 'stereotype', 'stereotypes', 'stereotypical', 'sterling', 'stern', 'sternest', 'steroid', 'steroids', 'steve', 'steven', 'stevenage', 'stevens', 'stevenson', 'stevie', 'stewardship', 'stewart', 'steyn', 'stick', 'sticking', 'sticks', 'stiff', 'stiffen', 'stiffening', 'stifle', 'stifled', 'stifling', 'stilian', 'stilianos', 'stiller', 'stills', 'stilted', 'stimulant', 'stimulate', 'stimulating', 'sting', 'stinging', 'stink', 'stinks', 'stint', 'stipulate', 'stipulated', 'stipulates', 'stir', 'stirling', 'stirring', 'stitches', 'stitzer', 'stock', 'stockbrokers', 'stockholm', 'stocking', 'stockmarket', 'stockpile', 'stockpiles', 'stockport', 'stocks', 'stoddart', 'stoica', 'stoke', 'stoking', 'stole', 'stolen', 'stolichnaya', 'stollenmayer', 'stomach', 'stone', 'stones', 'stood', 'stooge', 'stool', 'stop', 'stoppage', 'stoppages', 'stopped', 'stopper', 'stopping', 'stops', 'storage', 'store', 'stored', 'stores', 'storey', 'stories', 'storing', 'storm', 'stormed', 'storming', 'storms', 'stormy', 'story', 'storyline', 'storylines', 'stosur', 'stowell', 'stoy', 'strachan', 'strafing', 'straight', 'straightforward', 'strain', 'strained', 'strains', 'straits', 'strand', 'stranded', 'stranding', 'strange', 'strangely', 'stranger', 'strangers', 'strangle', 'stranglehold', 'strapped', 'strasbourg', 'strategic', 'strategies', 'strategist', 'strategists', 'strategy', 'strathaus', 'strathclyde', 'stratocaster', 'stravinsky', 'straw', 'stray', 'straying', 'streak', 'streaked', 'streaking', 'stream', 'streamcast', 'streamed', 'streaming', 'streamlined', 'streamlining', 'streams', 'streep', 'street', 'streets', 'streetwise', 'streisand', 'strength', 'strengthen', 'strengthened', 'strengthening', 'stress', 'stressed', 'stresses', 'stressing', 'stretch', 'stretched', 'stretches', 'stretching', 'stricken', 'strict', 'stricter', 'strictly', 'stride', 'striders', 'strides', 'strife', 'strihavka', 'strike', 'striker', 'strikers', 'strikes', 'striking', 'string', 'stringent', 'stringer', 'stringfellow', 'stringing', 'strings', 'strip', 'stripe', 'stripes', 'stripped', 'strips', 'strive', 'strode', 'strohmaier', 'stroke', 'stroked', 'strokes', 'strokosch', 'stroll', 'strolled', 'stromstedt', 'strong', 'strongbow', 'stronger', 'strongest', 'strongly', 'struck', 'structural', 'structure', 'structured', 'structures', 'struggle', 'struggled', 'strugglers', 'struggles', 'struggling', 'strutted', 'stuart', 'stub', 'stubborn', 'stubbornly', 'stubbs', 'stuck', 'student', 'students', 'studied', 'studies', 'studio', 'studios', 'studiously', 'study', 'studying', 'stueker', 'stuff', 'stuffed', 'stumble', 'stumbled', 'stumbling', 'stump', 'stun', 'stunned', 'stunning', 'stunt', 'stunts', 'stupid', 'sturgeon', 'sturrock', 'stutter', 'stuttered', 'stuttering', 'stuttgart', 'style', 'styles', 'stylised', 'stylish', 'sub', 'subaru', 'subconsciously', 'subcontractors', 'subdued', 'subhash', 'subject', 'subjected', 'subjects', 'sublime', 'subliminal', 'submarine', 'submarines', 'submission', 'submissions', 'submit', 'submitted', 'submitting', 'subs', 'subscribe', 'subscribed', 'subscriber', 'subscribers', 'subscription', 'subscriptions', 'subsequent', 'subsequently', 'subset', 'subsidiaries', 'subsidiary', 'subsidies', 'subsidised', 'subsidising', 'substance', 'substances', 'substantial', 'substantially', 'substitute', 'substitutes', 'substitutions', 'subsumed', 'subtitute', 'subtle', 'subtlety', 'suburb', 'suburban', 'suburbs', 'subway', 'succeed', 'succeeded', 'succeeding', 'success', 'successes', 'successful', 'successfully', 'succession', 'successive', 'successor', 'succumbing', 'suck', 'sucked', 'sucking', 'sudan', 'sudanese', 'sudden', 'suddenly', 'suddenness', 'sudell', 'sue', 'sued', 'sues', 'suffer', 'suffered', 'sufferer', 'sufferers', 'suffering', 'suffers', 'sufficient', 'sufficiently', 'suffix', 'suffolk', 'sugababes', 'sugar', 'suge', 'suggest', 'suggested', 'suggesting', 'suggestion', 'suggestions', 'suggests', 'sugiyama', 'suhas', 'suicide', 'suing', 'suisse', 'suit', 'suitability', 'suitable', 'suitably', 'suitcase', 'suite', 'suited', 'suites', 'suitor', 'suitors', 'suits', 'sukul', 'sulk', 'sullivan', 'sulpice', 'sultan', 'sultry', 'sum', 'sumitomo', 'summarise', 'summary', 'summer', 'summit', 'summon', 'sums', 'sun', 'sundance', 'sundar', 'sunday', 'sundays', 'sunderland', 'sung', 'sunil', 'sunita', 'sunk', 'sunken', 'sunner', 'sunovate', 'sunset', 'sunshine', 'suntory', 'super', 'superb', 'superbly', 'supercharged', 'superclubs', 'supercomputer', 'supercomputers', 'supercomputing', 'superfast', 'superficial', 'supergroup', 'superhero', 'superheroes', 'superieur', 'superintendent', 'superior', 'superjumbo', 'superman', 'supermarket', 'supermarkets', 'supermodel', 'supernatural', 'supersede', 'supersize', 'supersized', 'superstar', 'superstars', 'superteam', 'supervision', 'supervisory', 'supervolcano', 'supplement', 'supplemented', 'supplements', 'supplied', 'supplier', 'suppliers', 'supplies', 'supply', 'supplying', 'support', 'supported', 'supporter', 'supporters', 'supporting', 'supportive', 'supports', 'supposed', 'supposedly', 'suppress', 'supremacy', 'supreme', 'supremo', 'suprnova', 'supt', 'sure', 'surely', 'surest', 'surf', 'surface', 'surfaced', 'surfaces', 'surfacing', 'surfer', 'surfers', 'surfing', 'surfwear', 'surge', 'surged', 'surgeries', 'surgery', 'surges', 'surgical', 'surging', 'surgutneftegas', 'surpass', 'surpassed', 'surplus', 'surpluses', 'surprise', 'surprised', 'surprises', 'surprising', 'surprisingly', 'surprisngly', 'surreal', 'surrendered', 'surrendering', 'surreptitious', 'surreptitiously', 'surrey', 'surround', 'surrounded', 'surrounding', 'surroundings', 'surrounds', 'surveillance', 'survey', 'surveyed', 'surveying', 'surveys', 'survival', 'survive', 'survived', 'survives', 'surviving', 'survivor', 'survivors', 'susan', 'susanna', 'suspect', 'suspected', 'suspects', 'suspend', 'suspended', 'suspending', 'suspends', 'suspense', 'suspension', 'suspensions', 'suspicion', 'suspicions', 'suspicious', 'suspiciously', 'sussex', 'sustain', 'sustainable', 'sustained', 'sustaining', 'sustains', 'sustenance', 'sutherland', 'sutton', 'suv', 'suvs', 'suzie', 'suzuki', 'sv', 'sven', 'sveta', 'svetlana', 'swagger', 'swallowing', 'swaminarayan', 'swamp', 'swamping', 'swan', 'swank', 'swansea', 'swansong', 'swap', 'swapped', 'swappers', 'swapping', 'swarm', 'swarms', 'swashbuckling', 'swastika', 'swathe', 'swayed', 'swear', 'swearing', 'swears', 'sweat', 'sweatshirt', 'sweatshops', 'swede', 'sweden', 'swedes', 'swedish', 'sweeney', 'sweep', 'sweeping', 'sweet', 'sweeteners', 'sweetening', 'sweeter', 'sweetheart', 'sweetman', 'swell', 'swelled', 'swept', 'swerving', 'swift', 'swiftly', 'swimming', 'swindle', 'swindon', 'swing', 'swings', 'swipe', 'swipes', 'swiss', 'switch', 'switched', 'switches', 'switching', 'switzerland', 'swivelled', 'swollen', 'swoop', 'swoosh', 'sworn', 'swung', 'sybari', 'sydney', 'sykes', 'syllables', 'sylphides', 'sylvain', 'sylvia', 'symantec', 'symbian', 'symbol', 'symbolic', 'symbolise', 'symbolises', 'symbologist', 'symbols', 'symmons', 'sympathetically', 'sympathised', 'sympathy', 'symphony', 'symptomatic', 'symptoms', 'syncing', 'syndication', 'syndol', 'synergies', 'synergistic', 'synonymous', 'synopsis', 'synthesised', 'synthesising', 'syria', 'systematic', 'systematically', 'systems', 'szilard', 'tabak', 'tabby', 'table', 'tabled', 'tables', 'tablet', 'tabling', 'tabloid', 'taboo', 'tabs', 'tacitus', 'tack', 'tackle', 'tackled', 'tacklers', 'tackles', 'tackling', 'tactic', 'tactical', 'tactically', 'tactics', 'taek', 'tag', 'tagged', 'tagging', 'tags', 'tai', 'taik', 'tail', 'tailed', 'tailored', 'tainted', 'taipei', 'tait', 'taiwan', 'takahashi', 'takashi', 'taken', 'takeover', 'takeovers', 'takes', 'taking', 'takings', 'takuo', 'talal', 'talbot', 'tale', 'talent', 'talented', 'talents', 'talisman', 'talismanic', 'talk', 'talkative', 'talked', 'talker', 'talking', 'talks', 'talktalk', 'tall', 'tallied', 'tally', 'tamagotchi', 'tambien', 'tambourine', 'tamely', 'tamil', 'tamimi', 'tampa', 'tampered', 'tampering', 'tamsin', 'tan', 'tandem', 'tandy', 'tangible', 'tango', 'tank', 'tankan', 'tanks', 'tanned', 'tansley', 'tanzania', 'tanzi', 'tap', 'tape', 'taped', 'tapers', 'tapes', 'tapped', 'tapping', 'taps', 'taran', 'tarantino', 'tarceva', 'tardy', 'target', 'targeted', 'targeting', 'targets', 'targetting', 'tariff', 'tariffs', 'tariku', 'tarnation', 'tarnished', 'tarpishchev', 'tartan', 'taser', 'task', 'tasks', 'tass', 'taste', 'taster', 'tastes', 'tasting', 'tasty', 'tat', 'tata', 'tate', 'tateson', 'tatiana', 'tatters', 'tattle', 'tatton', 'tattoo', 'tattooed', 'tattoos', 'taught', 'taunting', 'taunton', 'taunts', 'tautou', 'tav', 'taverns', 'tax', 'taxation', 'taxed', 'taxes', 'taxi', 'taxidermy', 'taxiing', 'taxing', 'taxpayer', 'taxpayers', 'taylor', 'tb', 'tbc', 'tbwa', 'tci', 'tcp', 'tdg', 'tea', 'teach', 'teacher', 'teachers', 'teaching', 'teachings', 'teag', 'teak', 'team', 'teamed', 'teams', 'teamwork', 'tear', 'tearing', 'tears', 'teased', 'tech', 'technical', 'technically', 'technicians', 'technique', 'techniques', 'techno', 'technocrat', 'technological', 'technologically', 'technologies', 'technology', 'technophobes', 'technorati', 'ted', 'tedious', 'teen', 'teena', 'teenage', 'teenager', 'teenagers', 'teetering', 'teeth', 'teething', 'tehran', 'teja', 'tel', 'telco', 'telcos', 'telecast', 'telecom', 'telecommunication', 'telecommunications', 'telecoms', 'telefonica', 'telegraph', 'telekom', 'telemetric', 'telephone', 'telephoned', 'telephoning', 'telephony', 'telethon', 'televentures', 'televised', 'television', 'televisions', 'telewest', 'tell', 'tellier', 'telling', 'tells', 'temperature', 'temperatures', 'tempered', 'tempers', 'tempest', 'template', 'templating', 'temple', 'tempo', 'temporarily', 'temporary', 'tempt', 'temptation', 'tempted', 'tempting', 'tend', 'tended', 'tendencies', 'tendency', 'tender', 'tendering', 'tenders', 'tendon', 'tendons', 'tends', 'tenfold', 'tennessee', 'tennis', 'tens', 'tense', 'tension', 'tensions', 'tent', 'tenth', 'tenure', 'tepid', 'terabyte', 'teraflops', 'tergat', 'teri', 'term', 'terminal', 'terminally', 'terminals', 'terminated', 'terms', 'terrell', 'terrestre', 'terrestrial', 'terrible', 'terrific', 'territories', 'territory', 'terror', 'terrorised', 'terrorism', 'terrorist', 'terrorists', 'terry', 'tesco', 'tess', 'tessa', 'test', 'testament', 'tested', 'testers', 'testified', 'testify', 'testimonial', 'testimonies', 'testimony', 'testing', 'tests', 'tether', 'tetrahydrocannabinol', 'tetris', 'tetsuro', 'texan', 'texas', 'text', 'textbook', 'textbooks', 'textile', 'textiles', 'textphones', 'texts', 'texture', 'tfl', 'thabo', 'thadao', 'thai', 'thailand', 'thaksin', 'thales', 'thalman', 'thame', 'thames', 'thank', 'thanked', 'thankfully', 'thanking', 'thanks', 'thanksgiving', 'thanou', 'thatcher', 'thatcherism', 'thayer', 'theater', 'theatre', 'theatres', 'theatrical', 'theede', 'thefirst', 'theft', 'theirfamilies', 'theirs', 'theme', 'themed', 'themes', 'theo', 'theodore', 'theolonius', 'theoretical', 'theories', 'theory', 'therapy', 'thereabouts', 'theresa', 'theriault', 'thermal', 'theron', 'thg', 'thie', 'thierry', 'thieves', 'thigh', 'thilo', 'thing', 'things', 'think', 'thinker', 'thinking', 'thinks', 'thinner', 'thion', 'thirds', 'thirst', 'thirteen', 'thirties', 'thirty', 'thoday', 'thomas', 'thompson', 'thomsen', 'thomson', 'thor', 'thorne', 'thornton', 'thorny', 'thorough', 'thoroughly', 'thought', 'thoughtfully', 'thoughts', 'thousand', 'thousands', 'thrash', 'thrashed', 'thrashing', 'threat', 'threaten', 'threatend', 'threatened', 'threatening', 'threatens', 'threats', 'threefold', 'threshold', 'thresholds', 'threw', 'thrill', 'thrilled', 'thriller', 'thrilling', 'thrills', 'thrive', 'thrived', 'throat', 'throats', 'throbs', 'throne', 'throngs', 'throttle', 'throttles', 'throw', 'throwing', 'thrown', 'throws', 'thrust', 'thuggish', 'thumb', 'thumbs', 'thump', 'thumped', 'thunderbirds', 'thunderous', 'thurman', 'thursday', 'thursdays', 'thurso', 'thwarted', 'thwarts', 'thx', 'thyssenkrupp', 'ti', 'tiago', 'tiananmen', 'tibbett', 'tick', 'ticket', 'ticketing', 'tickets', 'ticketweb', 'ticking', 'ticks', 'tidal', 'tide', 'tidier', 'tidy', 'tie', 'tiebreak', 'tied', 'tier', 'tierney', 'ties', 'tiff', 'tiger', 'tigers', 'tight', 'tighten', 'tightened', 'tightening', 'tighter', 'tightest', 'tighthead', 'tightly', 'till', 'tillen', 'tills', 'tim', 'timberlake', 'time', 'timed', 'timeframe', 'timeless', 'timely', 'timers', 'times', 'timescale', 'timeslot', 'timetable', 'timewarner', 'timing', 'timothy', 'tin', 'tina', 'tindall', 'tinker', 'tinkered', 'tinny', 'tinseltown', 'tinto', 'tiny', 'tio2', 'tip', 'tipped', 'tipping', 'tips', 'tiptoed', 'tirade', 'tired', 'tirunesh', 'tiscali', 'tit', 'titanic', 'titanium', 'titbit', 'titi', 'title', 'titled', 'titles', 'titterrell', 'tittle', 'tivo', 'tivos', 'tnk', 'tnt', 'tobacco', 'tobago', 'tobias', 'toby', 'today', 'todd', 'toe', 'toenails', 'toffees', 'toho', 'toilet', 'toilets', 'tok', 'tokyo', 'told', 'tolerance', 'tolerant', 'tolerate', 'tolerated', 'tolkien', 'toll', 'tolstoy', 'tom', 'tomas', 'tomasson', 'tomlinson', 'tommie', 'tommy', 'tomorrow', 'tone', 'tones', 'tonga', 'tongue', 'tongues', 'toni', 'tonight', 'tonna', 'tonne', 'tonnes', 'tonny', 'tony', 'took', 'tool', 'toolbar', 'toolbars', 'toolkit', 'tools', 'toothless', 'top500', 'topic', 'topics', 'topped', 'topper', 'toppers', 'topping', 'topple', 'toppled', 'toppling', 'tops', 'topsy', 'tor', 'torbay', 'tore', 'toren', 'tories', 'torn', 'toronto', 'torrential', 'torres', 'torrid', 'torture', 'tortured', 'torvill', 'tory', 'toshiba', 'toshihiko', 'toshiyuki', 'tossed', 'total', 'totality', 'totalled', 'totalling', 'totally', 'totallyradio', 'tote', 'toting', 'toto', 'totp2', 'tottenham', 'touch', 'touchdown', 'touche', 'touched', 'touches', 'touching', 'touchline', 'touchstone', 'touchy', 'tough', 'tougher', 'toughest', 'toughness', 'toulousain', 'toulouse', 'tour', 'toure', 'toured', 'touring', 'tourism', 'tourist', 'tourists', 'tournament', 'tournaments', 'tours', 'tous', 'tout', 'toutai', 'touted', 'touting', 'touts', 'tow', 'towel', 'tower', 'towers', 'town', 'townhouse', 'towns', 'townsden', 'townsend', 'township', 'townships', 'toxic', 'toy', 'toying', 'toyota', 'toys', 'tps', 'trace', 'traced', 'traces', 'tracey', 'tracing', 'track', 'trackball', 'tracked', 'tracker', 'trackers', 'tracking', 'trackpad', 'tracks', 'traction', 'tracts', 'trade', 'traded', 'trademark', 'trader', 'traders', 'trades', 'trading', 'tradition', 'traditional', 'traditionally', 'traditions', 'trafalgar', 'traffic', 'trafficked', 'trafficking', 'trafford', 'tragedies', 'tragedy', 'tragic', 'tragically', 'trail', 'trailblazed', 'trailblazer', 'trailblazers', 'trailed', 'trailer', 'trailers', 'trailing', 'traille', 'trails', 'train', 'trained', 'trainer', 'trainers', 'training', 'trains', 'transaction', 'transactions', 'transatlantic', 'transcript', 'transcripts', 'transfer', 'transferred', 'transferring', 'transform', 'transformation', 'transformed', 'transformers', 'transforming', 'transistor', 'transition', 'transitions', 'translate', 'translated', 'translates', 'translating', 'translation', 'transmigration', 'transmission', 'transmit', 'transmits', 'transmitted', 'transparency', 'transparent', 'transparently', 'transpired', 'transplant', 'transport', 'transportation', 'transsexual', 'traore', 'trap', 'trapped', 'traps', 'trauma', 'traumatic', 'travails', 'travel', 'travelers', 'travelled', 'traveller', 'travellers', 'travelling', 'travelodge', 'travels', 'travesty', 'travis', 'trawl', 'trawlers', 'trawling', 'treadmill', 'treason', 'treasure', 'treasured', 'treasurer', 'treasures', 'treasury', 'treat', 'treated', 'treating', 'treatment', 'treatments', 'treaty', 'tree', 'trees', 'trek', 'tremble', 'tremendous', 'tremors', 'trend', 'trends', 'tresco', 'trespassing', 'trev', 'trevin', 'treviso', 'trevor', 'trew', 'tri', 'trial', 'trialling', 'trials', 'tribes', 'tribunal', 'tribute', 'tributes', 'trice', 'trichet', 'trick', 'tricked', 'trickery', 'tricking', 'trickling', 'tricks', 'tricky', 'trident', 'tried', 'trier', 'tries', 'trigger', 'triggered', 'triggering', 'trillion', 'trillions', 'trilogy', 'trim', 'trimmed', 'trimming', 'trimmings', 'trims', 'trinidad', 'trinity', 'trio', 'trip', 'triple', 'tripled', 'tripped', 'trips', 'triumph', 'triumphant', 'triumphed', 'triumphing', 'triumphs', 'trivial', 'trivialises', 'trodden', 'troeber', 'troiani', 'troika', 'trojan', 'trojans', 'trombone', 'troncon', 'troopers', 'troops', 'trophies', 'trophy', 'tropical', 'trouble', 'troubled', 'troublemaker', 'troublemakers', 'troubles', 'troublesome', 'troubling', 'trough', 'troughs', 'trounced', 'troupe', 'trouper', 'trousers', 'trowbridge', 'troy', 'truancy', 'truant', 'truanted', 'truants', 'truce', 'truck', 'trucks', 'true', 'trueman', 'truer', 'truly', 'trumped', 'trumpet', 'trumpeted', 'trumpeting', 'truncated', 'trundled', 'trusses', 'trust', 'trusted', 'truth', 'trutnev', 'try', 'trying', 'tryscorers', 'tsar', 'tsuda', 'tsumani', 'tsunami', 'tsusaka', 'tsutsumi', 'tt', 'tu', 'tub', 'tube', 'tuberculosis', 'tubes', 'tuc', 'tuck', 'tucker', 'tudor', 'tuesday', 'tuesdays', 'tuilagi', 'tuiliagi', 'tuition', 'tulip', 'tumbled', 'tumbling', 'tune', 'tuned', 'tuner', 'tuners', 'tunes', 'tunisia', 'tunisian', 'tunnel', 'tupac', 'turban', 'turbulence', 'turbulent', 'turf', 'turin', 'turismo', 'turkcell', 'turkey', 'turkish', 'turks', 'turn', 'turnaround', 'turnbull', 'turned', 'turner', 'turners', 'turning', 'turnout', 'turnover', 'turnovers', 'turns', 'turvy', 'tussauds', 'tussle', 'tutsis', 'tutu', 'tuxford', 'tv', 'tver', 'tveter', 'tvs', 'tw', 'twats', 'tweaked', 'tweaking', 'twee', 'twelfth', 'twice', 'twickenham', 'twiddling', 'twigg', 'twin', 'twinkle', 'twins', 'twist', 'twisted', 'twitched', 'tycoon', 'tycoons', 'tying', 'tykes', 'tyler', 'tymoshenko', 'tyndall', 'tyne', 'tynecastle', 'tyneside', 'type', 'types', 'typhoons', 'typical', 'typically', 'tyranny', 'tyres', 'tyrie', 'tysabri', 'tyukanov', 'tzekos', 'u2', 'ubiquitous', 'ubiquitously', 'ubiquity', 'ubisense', 'ubisoft', 'ubs', 'ucas', 'uddin', 'uefa', 'uei', 'ufj', 'uganda', 'ugandan', 'ugly', 'uk', 'uka', 'ukif', 'ukip', 'ukraine', 'ukrainian', 'ulrich', 'ulster', 'ultimate', 'ultimately', 'ultimatum', 'ultimitely', 'ultra', 'ultraviolet', 'ulvaeus', 'uly', 'uma', 'umbilical', 'umbrage', 'umbrella', 'umbro', 'umd', 'umpire', 'umpteenth', 'unabashedly', 'unabated', 'unable', 'unacceptable', 'unaccompanied', 'unaccountable', 'unaccountably', 'unaccounted', 'unaffected', 'unaids', 'unanimous', 'unanimously', 'unanswered', 'unassailable', 'unattractive', 'unauthorised', 'unavailable', 'unavoidable', 'unaware', 'unbeatable', 'unbeaten', 'unbecoming', 'unbelievable', 'unbiased', 'unblighted', 'unblocked', 'unbroken', 'unbundling', 'uncapped', 'unceremoniously', 'uncertain', 'uncertainties', 'uncertainty', 'unchanged', 'uncharacteristic', 'uncharted', 'unchecked', 'uncle', 'unclear', 'uncles', 'unclogging', 'uncollected', 'uncomfortable', 'uncompromising', 'unconditional', 'unconscionable', 'unconscious', 'uncontrolled', 'unconvincing', 'uncooperative', 'uncosted', 'uncover', 'uncovered', 'uncredited', 'uncut', 'undaunted', 'undecided', 'undelivered', 'undemocratic', 'underachievement', 'underage', 'undercover', 'undercutting', 'underdogs', 'underestimate', 'underestimating', 'underexposure', 'undergo', 'undergoing', 'undergraduate', 'underground', 'underhand', 'underline', 'underlined', 'underlines', 'underlying', 'undermine', 'undermined', 'undermining', 'underneath', 'underpaid', 'underpin', 'underpinning', 'underpriced', 'underrated', 'underserved', 'understaffed', 'understand', 'understandable', 'understandably', 'understanding', 'understands', 'understated', 'understood', 'understudy', 'undertake', 'undertaken', 'undertaking', 'underused', 'undervaluation', 'undervalued', 'undervalues', 'undervaluing', 'underway', 'underwent', 'underwhelming', 'underwood', 'underwrite', 'underwriting', 'undetectable', 'undignified', 'undimmed', 'undisclosed', 'undo', 'undoing', 'undoubted', 'undoubtedly', 'undulating', 'unearned', 'unearth', 'unearthed', 'unearthing', 'uneasy', 'unece', 'unedited', 'uneducated', 'unemployed', 'unemployment', 'unencumbered', 'unenforceable', 'unequal', 'unequivocal', 'unerring', 'uneven', 'unexpected', 'unexpectedly', 'unfair', 'unfairly', 'unfairness', 'unfavourable', 'unfavourably', 'unfettered', 'unfolds', 'unforced', 'unforeseeable', 'unforgiven', 'unforgiving', 'unfortunate', 'unfortunately', 'unfounded', 'unfriendly', 'unfulfilling', 'unglamorous', 'unguarded', 'unguessable', 'unhappiness', 'unhappy', 'unhealthy', 'unheard', 'unhelpful', 'unheralded', 'uni', 'unicef', 'unicode', 'unidentified', 'unified', 'uniform', 'uniformity', 'unifying', 'unilaterally', 'unimaginable', 'unimpressed', 'uninformed', 'uninspired', 'uninspiring', 'unintentional', 'uninterested', 'uninterrupted', 'union', 'unions', 'unique', 'uniquely', 'unison', 'unit', 'unite', 'united', 'unites', 'uniting', 'units', 'unity', 'universal', 'universally', 'universe', 'universities', 'university', 'unjust', 'unjustified', 'unknown', 'unlawful', 'unleash', 'unleashed', 'unless', 'unlicensed', 'unlike', 'unlikely', 'unlimited', 'unlock', 'unlocking', 'unlucky', 'unmarked', 'unmask', 'unmatched', 'unmissable', 'unmistakable', 'unnamed', 'unnatural', 'unnecessarily', 'unnecessary', 'unnerved', 'uno', 'unofficial', 'unosat', 'unpaid', 'unpalatable', 'unpatched', 'unpatriotic', 'unpick', 'unplayable', 'unpleasant', 'unplug', 'unplugged', 'unpopular', 'unprecedented', 'unpredictability', 'unpredictable', 'unprofessional', 'unprofitability', 'unprotected', 'unpunished', 'unquestionable', 'unrealistic', 'unreasonable', 'unrecycled', 'unreformable', 'unregistered', 'unregulated', 'unrelated', 'unreleased', 'unremarkable', 'unremittingly', 'unrepentant', 'unrequited', 'unrest', 'unreturnable', 'unrevised', 'unrivalled', 'unruffled', 'unruly', 'unsatisfying', 'unscripted', 'unscrupulous', 'unsealed', 'unseat', 'unsecured', 'unseeded', 'unseen', 'unsettle', 'unsettled', 'unsettling', 'unsigned', 'unskilled', 'unsolicited', 'unspecified', 'unstoppable', 'unstructured', 'unstuck', 'unsubstantiated', 'unsuccessful', 'unsuccessfully', 'unsuitable', 'unsung', 'unsure', 'unsustainable', 'untaxed', 'unthinkable', 'untouchable', 'untouchables', 'untrammelled', 'untreated', 'untried', 'untrue', 'unusable', 'unused', 'unusual', 'unusually', 'unveil', 'unveiled', 'unveiling', 'unveils', 'unwanted', 'unwavering', 'unwelcome', 'unwell', 'unwilling', 'unwillingness', 'unwind', 'unwinnable', 'unwise', 'unwitting', 'unwittingly', 'unworkable', 'unwrapped', 'upbeat', 'upcoming', 'update', 'updated', 'updates', 'updating', 'upfield', 'upgrade', 'upgradeable', 'upgraded', 'upgrades', 'upgrading', 'upheaval', 'upheld', 'uphill', 'uphold', 'upkeep', 'uplift', 'uplights', 'upload', 'uploaded', 'uploading', 'upped', 'upper', 'upping', 'uprate', 'upright', 'uprising', 'uproar', 'ups', 'upset', 'upsets', 'upsetting', 'upside', 'upstage', 'upstairs', 'upstart', 'upsurge', 'upswing', 'uptake', 'upton', 'upturn', 'upturns', 'upward', 'upwards', 'uranium', 'urban', 'urbino', 'urge', 'urged', 'urgency', 'urgent', 'urgently', 'urges', 'urging', 'urine', 'urs', 'uruguay', 'uruguayan', 'usa', 'usability', 'usable', 'usada', 'usage', 'usatf', 'usb', 'use', 'used', 'useful', 'usefulness', 'useless', 'uselessness', 'user', 'users', 'uses', 'usher', 'ushered', 'using', 'usta', 'usual', 'usually', 'utah', 'utd', 'utgoff', 'utilise', 'utilising', 'utilities', 'utility', 'utmost', 'utter', 'utterly', 'uv', 'uwb', 'uzbekistan', 'v2', 'v3', 'v603sh', 'v8', 'vabres', 'vacant', 'vacated', 'vaccination', 'vaccine', 'vaccines', 'vacuity', 'vacuous', 'vader', 'vagina', 'vague', 'vaidyanathan', 'vaile', 'vaili', 'vain', 'vale', 'valencia', 'valente', 'valentine', 'valery', 'valid', 'validity', 'valium', 'valle', 'valley', 'valleys', 'valuable', 'valuation', 'value', 'valued', 'values', 'valuing', 'valve', 'vampire', 'vampires', 'van', 'vanadium', 'vance', 'vancheshwar', 'vandals', 'vanessa', 'vanish', 'vanished', 'vanity', 'vans', 'vantage', 'vapour', 'vapourware', 'varga', 'variant', 'variants', 'variation', 'variations', 'varied', 'varieties', 'variety', 'various', 'variously', 'varttina', 'vary', 'varying', 'vassilis', 'vast', 'vastly', 'vat', 'vatican', 'vaughan', 'vaughn', 'vault', 'vaulter', 'vauxhall', 'vcr', 'vcrs', 've', 'veer', 'vegas', 'vehicle', 'vehicles', 'veils', 'veinte', 'velimir', 'vellum', 'velvet', 'vendor', 'vendors', 'veneer', 'venezuela', 'venezuelan', 'vengeful', 'venice', 'venta', 'venting', 'venture', 'ventures', 'venue', 'venues', 'venus', 'vera', 'verbal', 'verbally', 'verdict', 'verdon', 'verge', 'verification', 'verify', 'verisign', 'veritable', 'veritas', 'verizon', 'verroken', 'versa', 'versace', 'versatile', 'version', 'versions', 'versus', 'vertical', 'vertigo', 'vessel', 'vestey', 'vesty', 'vet', 'veteran', 'veterans', 'vetham', 'veto', 'vetted', 'vettriano', 'vh1', 'vhs', 'viability', 'viable', 'viacom', 'viadana', 'vialli', 'vibrant', 'vibraphone', 'vic', 'vicar', 'vice', 'vicente', 'vices', 'vicious', 'vicissitudes', 'vickers', 'vickery', 'vicky', 'victim', 'victimisation', 'victimless', 'victims', 'victor', 'victoria', 'victorian', 'victories', 'victorious', 'victors', 'victory', 'video', 'videoing', 'videophones', 'videos', 'vie', 'vied', 'vieira', 'vienna', 'vietnam', 'view', 'viewed', 'viewer', 'viewers', 'viewfinders', 'viewing', 'viewpoint', 'viewpoints', 'views', 'vigilant', 'vigilantes', 'vigilantism', 'vignal', 'vigo', 'vigorous', 'vigorously', 'vijay', 'vijver', 'viktor', 'villa', 'village', 'villagers', 'villages', 'villain', 'villains', 'villalba', 'villar', 'villas', 'vin', 'vince', 'vincent', 'vinci', 'vindicate', 'vindictively', 'vinyl', 'violate', 'violated', 'violating', 'violation', 'violations', 'violator', 'violence', 'violent', 'violently', 'viral', 'virgil', 'virgin', 'virginia', 'virtual', 'virtually', 'virtue', 'virtues', 'virus', 'viruses', 'visa', 'visakhapatnam', 'visas', 'visibility', 'visible', 'vision', 'visit', 'visited', 'visiting', 'visitor', 'visitors', 'visits', 'vista', 'vistas', 'visual', 'visualised', 'visually', 'visuals', 'vitae', 'vital', 'vivaldi', 'vivancos', 'vivek', 'vivendi', 'vives', 'vivid', 'vivre', 'vladimir', 'vlore', 'vocal', 'vocals', 'vocational', 'vociferous', 'vociferously', 'vod', 'vodafone', 'vodka', 'vogts', 'vogue', 'voice', 'voiced', 'voices', 'void', 'voigt', 'voip', 'volatile', 'volatility', 'volcanic', 'volcano', 'volcanoes', 'voldemort', 'volkswagen', 'volley', 'volleyed', 'volleying', 'voltage', 'volume', 'volumes', 'voluntarily', 'voluntary', 'volunteer', 'volunteers', 'volvo', 'von', 'vote', 'voted', 'voter', 'voters', 'votes', 'voting', 'vouchers', 'vow', 'vowed', 'vows', 'voyce', 'vp', 'vpc', 'vs', 'vue', 'vuitton', 'vulcan', 'vulnerabilities', 'vulnerability', 'vulnerable', 'vw', 'vybz', 'vying', 'w800', 'waalwijk', 'waarschuwingsdienst', 'wada', 'wade', 'wadi', 'wadis', 'wafer', 'wage', 'waged', 'wager', 'wagers', 'wages', 'wagging', 'waggoner', 'waging', 'wagner', 'wagoner', 'wai', 'wait', 'waited', 'waiter', 'waiting', 'waiving', 'wake', 'wakeham', 'wal', 'walden', 'walder', 'waldorf', 'wales', 'walk', 'walked', 'walker', 'walking', 'walkington', 'walkman', 'walkout', 'walkouts', 'walks', 'wall', 'wallabies', 'wallace', 'waller', 'wallets', 'walliams', 'wallowing', 'wallpapers', 'walls', 'walsh', 'walt', 'walter', 'walters', 'walton', 'waltzing', 'wambo', 'wander', 'wandering', 'wanderley', 'wandsworth', 'wang', 'waning', 'want', 'wanted', 'wanting', 'wants', 'wap', 'war', 'warburton', 'warchus', 'warcraft', 'ward', 'wardens', 'wardrobe', 'warehouse', 'warehouses', 'wares', 'warez', 'warfare', 'warhol', 'warm', 'warmed', 'warmest', 'warming', 'warmly', 'warmonger', 'warmth', 'warn', 'warned', 'warner', 'warning', 'warnings', 'warnock', 'warns', 'warped', 'warps', 'warrant', 'warranted', 'warrants', 'warren', 'warrington', 'warrior', 'warriors', 'wars', 'warsi', 'wartime', 'warwick', 'wary', 'wasenius', 'wash', 'washed', 'washers', 'washing', 'washington', 'wasn', 'wasp', 'wasps', 'waste', 'wastealot', 'wasted', 'wasteful', 'wasting', 'watch', 'watchdog', 'watchdogs', 'watched', 'watcher', 'watchers', 'watches', 'watching', 'water', 'waterborne', 'watered', 'waterford', 'waterfront', 'waterreus', 'waters', 'watershed', 'waterstone', 'watford', 'watkins', 'watson', 'watts', 'wave', 'waved', 'wavelength', 'waverley', 'waves', 'waving', 'way', 'wayfarer', 'wayne', 'ways', 'wayside', 'wayward', 'weak', 'weaken', 'weakened', 'weakening', 'weaker', 'weakest', 'weakness', 'weaknesses', 'wealth', 'wealthiest', 'wealthy', 'weapon', 'weaponry', 'weapons', 'wear', 'wearable', 'wearer', 'wearing', 'weather', 'weave', 'weaver', 'web', 'webb', 'webber', 'webcam', 'webcams', 'webcast', 'webcasts', 'weblinks', 'weblog', 'weblogs', 'webmaster', 'webpage', 'webpages', 'webroot', 'webs', 'websidestory', 'website', 'websites', 'webster', 'wed', 'wedding', 'weddings', 'wedge', 'wednesday', 'wednesdays', 'wee', 'weed', 'weeded', 'weee', 'week', 'weekend', 'weekends', 'weekly', 'weeks', 'weeping', 'weepu', 'wef', 'weidensteiner', 'weighed', 'weight', 'weighted', 'weighty', 'weiner', 'weingarten', 'weir', 'weird', 'weirdest', 'weiss', 'weissler', 'weitzman', 'welch', 'welcome', 'welcomed', 'welcomes', 'welcoming', 'welfare', 'welford', 'welle', 'welles', 'welling', 'wellington', 'wells', 'welsh', 'welshman', 'welter', 'wembley', 'wendy', 'wenger', 'went', 'wentworth', 'wer', 'werder', 'weren', 'werewolf', 'werner', 'wernle', 'wes', 'wesley', 'wessels', 'wessex', 'west', 'westbrook', 'western', 'westerns', 'westfalen', 'westfallen', 'westlife', 'westminster', 'westmorland', 'weston', 'westwood', 'wet', 'wetherby', 'wgbh', 'whalley', 'wham', 'whampoa', 'wharf', 'whatsoever', 'wheatley', 'wheel', 'wheelchair', 'wheelchairs', 'wheelock', 'wheels', 'whelan', 'whereabouts', 'whichever', 'whilst', 'whim', 'whines', 'whining', 'whip', 'whipped', 'whipping', 'whirlwind', 'whishaw', 'whisker', 'whisky', 'whispered', 'whistle', 'whistleblower', 'whistler', 'whitbread', 'whitcomb', 'white', 'whitehall', 'whitlock', 'whitney', 'whittingdale', 'whittled', 'whizzy', 'wholesale', 'wholly', 'wi', 'widdecombe', 'wide', 'wideband', 'widely', 'widen', 'widened', 'widening', 'widens', 'wider', 'widespread', 'widow', 'widowed', 'widower', 'wiedersehen', 'wiesenthal', 'wife', 'wifi', 'wig', 'wigan', 'wigglesworth', 'wight', 'wigley', 'wikid', 'wilander', 'wilbur', 'wild', 'wildcard', 'wilderness', 'wildfire', 'wildlife', 'wildly', 'wiley', 'wilkin', 'wilkinson', 'willems', 'willetts', 'willey', 'william', 'williams', 'willie', 'willing', 'willingness', 'willis', 'willmean', 'wills', 'wilmslow', 'wilson', 'wilt', 'wiltshire', 'wimax', 'wimbledon', 'wimedia', 'wimpey', 'win', 'winchester', 'wind', 'windfall', 'winding', 'windo', 'window', 'windows', 'windshield', 'windsor', 'windswept', 'windy', 'wine', 'winemaker', 'winfrey', 'wing', 'winger', 'wingfield', 'wings', 'winick', 'winkfield', 'winks', 'winless', 'winn', 'winnable', 'winner', 'winners', 'winning', 'wins', 'winslet', 'winter', 'winterbottom', 'wipe', 'wiped', 'wiping', 'wipro', 'wire', 'wireless', 'wirelessly', 'wisdom', 'wise', 'wisely', 'wish', 'wished', 'wishes', 'wishful', 'wishing', 'wistful', 'witch', 'witchcraft', 'withdraw', 'withdrawal', 'withdrawing', 'withdrawn', 'withdraws', 'withdrew', 'withheld', 'withholding', 'withington', 'withstood', 'witness', 'witnessed', 'witnesses', 'witnessing', 'witney', 'wits', 'wives', 'wizard', 'wizardry', 'wmc', 'wobble', 'woeful', 'woefully', 'woes', 'wojahn', 'wojcicki', 'woken', 'wolf', 'wolfensohn', 'wolfgang', 'wolfram', 'wolpaw', 'wolverton', 'wolves', 'woman', 'womanising', 'women', 'won', 'wonder', 'wondered', 'wonderful', 'wonderfully', 'wondering', 'wonders', 'wong', 'wonks', 'wonky', 'woo', 'wood', 'woodbridge', 'wooden', 'woodford', 'woodhead', 'woodhill', 'woodley', 'woods', 'woodside', 'woodsman', 'woodward', 'wooing', 'wool', 'woolf', 'woollen', 'woolwich', 'woolworths', 'worcester', 'worcestershire', 'word', 'wording', 'words', 'wore', 'work', 'workable', 'worked', 'worker', 'workers', 'workforce', 'workforces', 'workgroups', 'workhorse', 'working', 'workings', 'workload', 'workmanlike', 'workouts', 'workplace', 'workrate', 'works', 'workshare', 'workshops', 'workspace', 'workstation', 'workstations', 'world', 'worldcom', 'worlds', 'worldwide', 'worm', 'worms', 'worn', 'worried', 'worries', 'worry', 'worrying', 'worryingly', 'worse', 'worsen', 'worsened', 'worsening', 'worsley', 'worst', 'worth', 'worthington', 'worthless', 'worthwhile', 'worthy', 'wouldn', 'wound', 'wounded', 'wounds', 'woven', 'wow', 'wowed', 'wpp', 'wracking', 'wrangles', 'wrangling', 'wrap', 'wray', 'wraz', 'wreck', 'wrecked', 'wrecks', 'wrested', 'wrestled', 'wrestling', 'wrexham', 'wright', 'wrist', 'wrists', 'wristwatch', 'write', 'writeback', 'writer', 'writers', 'writes', 'writing', 'written', 'wrong', 'wrongdoing', 'wrongful', 'wrongly', 'wrongs', 'wrote', 'wru', 'wsj', 'wta', 'wtih', 'wto', 'wttc', 'wwii', 'www', 'wyman', 'wynne', 'wyss', 'wyver', 'x1', 'xabi', 'xavier', 'xbox', 'xboxes', 'xda', 'xdance', 'xenia', 'xenon', 'xenophobia', 'xenophobic', 'xfm', 'xhosa', 'xie', 'xiluodi', 'xiluodu', 'xinhua', 'xlr', 'xp', 'xp2', 'xstrata', 'xuren', 'xv', 'xxl', 'xxx', 'xzibit', 'ya', 'yachvili', 'yadav', 'yadavaran', 'yahoo', 'yakubu', 'yamaha', 'yamane', 'yamanouchi', 'yan', 'yang', 'yangtze', 'yann', 'yannick', 'yaounde', 'yapp', 'yard', 'yardley', 'yards', 'yarnton', 'yaron', 'yassir', 'yauch', 'yawning', 'yea', 'yeading', 'yeah', 'yeahronimo', 'year', 'yearly', 'yearned', 'yearning', 'years', 'yearwood', 'yelena', 'yelling', 'yellow', 'yellowstone', 'yen', 'yeo', 'yeovil', 'yepp', 'yes', 'yesterday', 'yh', 'yiannis', 'yielded', 'ym', 'yoda', 'yoga', 'yonca', 'yoo', 'york', 'yorker', 'yorks', 'yorkshire', 'yoshiaki', 'yoshifumi', 'yougov', 'young', 'younger', 'youngest', 'youngster', 'youngsters', 'youth', 'youthful', 'youzhny', 'yoxall', 'yuan', 'yue', 'yuganksneftegas', 'yugansk', 'yuganskneftegas', 'yuganskneftegaz', 'yuganskneftgas', 'yugoslavia', 'yugoslavian', 'yukon', 'yukos', 'yulia', 'yungmin', 'yuppy', 'yuri', 'yushchenko', 'yusuf', 'yvette', 'zabaleta', 'zach', 'zack', 'zadie', 'zafi', 'zaidi', 'zajec', 'zambia', 'zambian', 'zar', 'zara', 'zdnet', 'zealand', 'zealander', 'zealous', 'zealousness', 'zed', 'zeeuw', 'zelda', 'zellweger', 'zen', 'zenden', 'zenith', 'zens', 'zeppelin', 'zero', 'zeta', 'zhang', 'zhaoxing', 'zheng', 'zib', 'zidane', 'zillion', 'zimbabwe', 'zinc', 'zinedine', 'zip', 'ziyi', 'zoe', 'zoellick', 'zola', 'zombie', 'zombies', 'zone', 'zonealarm', 'zones', 'zoom', 'zooms', 'zooropa', 'zorro', 'zuluaga', 'zurich', 'zutons', 'zvonareva']\n"
     ]
    }
   ],
   "source": [
    "feature_names = vectorizer.get_feature_names()\n",
    "\n",
    "print(len(feature_names))\n",
    "print(feature_names)"
   ]
  },
  {
   "cell_type": "code",
   "execution_count": 11,
   "metadata": {
    "scrolled": true
   },
   "outputs": [
    {
     "name": "stdout",
     "output_type": "stream",
     "text": [
      "  (0, 10469)\t8\n",
      "  (0, 3715)\t1\n",
      "  (0, 7842)\t1\n",
      "  (0, 20265)\t2\n",
      "  (0, 17239)\t1\n",
      "  (0, 2228)\t1\n",
      "  (0, 8702)\t5\n",
      "  (0, 12804)\t4\n",
      "  (0, 17866)\t1\n",
      "  (0, 11763)\t1\n",
      "  (0, 10514)\t1\n",
      "  (0, 13550)\t6\n",
      "  (0, 8589)\t3\n",
      "  (0, 20827)\t1\n",
      "  (0, 5358)\t1\n",
      "  (0, 13668)\t1\n",
      "  (0, 18921)\t1\n",
      "  (0, 12139)\t2\n",
      "  (0, 20023)\t2\n",
      "  (0, 1464)\t1\n",
      "  (0, 8138)\t3\n",
      "  (0, 13060)\t3\n",
      "  (0, 11693)\t1\n",
      "  (0, 16785)\t1\n",
      "  (0, 15141)\t1\n",
      "  :\t:\n",
      "  (1191, 14307)\t1\n",
      "  (1191, 710)\t1\n",
      "  (1191, 14474)\t2\n",
      "  (1191, 7170)\t1\n",
      "  (1191, 15619)\t1\n",
      "  (1191, 19469)\t1\n",
      "  (1191, 3600)\t1\n",
      "  (1191, 6277)\t1\n",
      "  (1191, 10874)\t1\n",
      "  (1191, 8603)\t1\n",
      "  (1191, 1820)\t1\n",
      "  (1191, 8561)\t1\n",
      "  (1191, 18015)\t1\n",
      "  (1191, 10098)\t1\n",
      "  (1191, 21607)\t1\n",
      "  (1191, 18469)\t1\n",
      "  (1191, 13420)\t1\n",
      "  (1191, 10121)\t1\n",
      "  (1191, 20565)\t1\n",
      "  (1191, 21576)\t1\n",
      "  (1191, 3087)\t1\n",
      "  (1191, 5527)\t2\n",
      "  (1191, 5205)\t1\n",
      "  (1191, 13269)\t1\n",
      "  (1191, 7634)\t1\n"
     ]
    }
   ],
   "source": [
    "print(train_vector_data)"
   ]
  },
  {
   "cell_type": "markdown",
   "metadata": {},
   "source": [
    "La siguiente función nos permite mostrar el mensaje original junto al mensaje vectorizado."
   ]
  },
  {
   "cell_type": "code",
   "execution_count": 12,
   "metadata": {},
   "outputs": [],
   "source": [
    "import numpy as np\n",
    "import numpy.ma as ma\n",
    "\n",
    "def write_terms (feature_names, data, vector_data, index):\n",
    "    '''\n",
    "    Escribe los términos presentes en un mensaje representado como bolsa de palabras.\n",
    "    \n",
    "    - feature_names: terminos usados para vectorizar\n",
    "    - data: lista de mensajes original (si data==None no se muestra el mensaje original)\n",
    "    - vector_data: matriz (dispersa) de mensaje vectorizados\n",
    "    - index: posición del mensaje a mostrar\n",
    "    '''\n",
    "    # máscara para seleccionar sólo el mensaje en posición index\n",
    "    mask=vector_data[index,:]>0\n",
    "    \n",
    "    # términos que aparecen en ese mensaje vectorizado\n",
    "    terminos = ma.array(feature_names, mask = ~(mask[0].toarray()))\n",
    "    \n",
    "    # mostrar mensaje original\n",
    "    if data is not None:\n",
    "        print('Mensaje', index, 'SIN vectorizar:', data[index], '\\n')\n",
    "    \n",
    "    # mostrar términos que aparecen en el mensaje vectorizado\n",
    "    print('Mensaje', index, 'vectorizado:', terminos.compressed(),'\\n')"
   ]
  },
  {
   "cell_type": "code",
   "execution_count": 13,
   "metadata": {
    "scrolled": true
   },
   "outputs": [
    {
     "name": "stdout",
     "output_type": "stream",
     "text": [
      "Mensaje 10 SIN vectorizar: blair ready to call election tony blair seems certain to end weeks of phoney war on monday and announce there will be a general election on 5 may.  the date has been pencilled into the diaries of politicians and political journalists for many months and  despite occasional panics that the prime minister was on the verge of calling a snap poll  it has not shifted. over the weeks  there have been any number of signs that 050505 was going to be the day mr blair would go for an historic third term. and the calling of a special political cabinet meeting has only added to the belief that the announcement is imminent. the prime minister and his campaign boss alan milburn have already insisted the election will be fought on the economy and what they claim is a stark choice between labour s stability and investment against tory cuts and boom and bust.  and chancellor gordon brown has stepped into the front line of the campaign - to the relief of many of his supporters in westminster - to underline that economic message. and it is certain one of the big arguments at the centre of the election battle will be around the big parties  tax and spend policies.  during the phoney campaign  labour got into trouble over its central claim that michael howard was planning £35 bn cuts in public services. the prime minister found himself struggling to explain how a smaller  slower increase in spending planned by the tories compared to labour s plans was a cut. and it looked like the labour campaign - which was already being criticised for being thrown into defensive mode by mr howard on issues such as immigration and health - was on the rocks. then deputy conservative chairman howard flight was reported to have suggested mr howard was secretly planning even bigger  cuts .  he was sacked for his gaffe  but the damage had been done and the faltering labour campaign was back on track. a second central argument will be over taxation  with the tories claiming the chancellor has to fill a black hole at the centre of his finances and will be forced to raise taxes if labour wins again. mr brown slaps that aside  claiming his forecasts are accurate and that previous claims of looming economic disaster have proved inaccurate. as usual  the liberal democrats will have to fight to get their voice heard over the sounds of battle between the two big parties. but leader charles kennedy believes he has set out a distinctive manifesto with plans for a tax rise for the wealthiest to finance extra spending and the abolition of the council tax in favour of a local income tax. other issues are certain to play a part - immigration and asylum  the war on iraq  law and order and education  for example. but  as ever  it will be the economy that will almost certainly decide the outcome. and  whatever that outcome  2005 is set to be a far more lively  even bitter campaign than 2001 s non-event. \n",
      "\n",
      "Mensaje 10 vectorizado: ['050505' '2001' '2005' '35' 'abolition' 'accurate' 'added' 'alan'\n",
      " 'announce' 'announcement' 'argument' 'arguments' 'aside' 'asylum'\n",
      " 'battle' 'belief' 'believes' 'big' 'bigger' 'bitter' 'black' 'blair' 'bn'\n",
      " 'boom' 'boss' 'brown' 'bust' 'cabinet' 'calling' 'campaign' 'central'\n",
      " 'centre' 'certain' 'certainly' 'chairman' 'chancellor' 'charles' 'choice'\n",
      " 'claim' 'claiming' 'claims' 'compared' 'conservative' 'council'\n",
      " 'criticised' 'cut' 'cuts' 'damage' 'date' 'day' 'decide' 'defensive'\n",
      " 'democrats' 'deputy' 'despite' 'diaries' 'disaster' 'distinctive'\n",
      " 'economic' 'economy' 'education' 'election' 'end' 'event' 'example'\n",
      " 'explain' 'extra' 'faltering' 'far' 'favour' 'fight' 'finance' 'finances'\n",
      " 'flight' 'forced' 'forecasts' 'fought' 'gaffe' 'general' 'going' 'gordon'\n",
      " 'got' 'health' 'heard' 'historic' 'hole' 'howard' 'immigration'\n",
      " 'imminent' 'inaccurate' 'income' 'increase' 'insisted' 'investment'\n",
      " 'iraq' 'issues' 'journalists' 'kennedy' 'labour' 'law' 'leader' 'liberal'\n",
      " 'like' 'line' 'lively' 'local' 'looked' 'looming' 'manifesto' 'meeting'\n",
      " 'message' 'michael' 'milburn' 'minister' 'mode' 'monday' 'months' 'mr'\n",
      " 'non' 'number' 'occasional' 'order' 'outcome' 'panics' 'parties'\n",
      " 'pencilled' 'phoney' 'planned' 'planning' 'plans' 'play' 'policies'\n",
      " 'political' 'politicians' 'poll' 'previous' 'prime' 'proved' 'public'\n",
      " 'raise' 'ready' 'relief' 'reported' 'rise' 'rocks' 'sacked' 'second'\n",
      " 'secretly' 'services' 'set' 'shifted' 'signs' 'slaps' 'slower' 'smaller'\n",
      " 'snap' 'sounds' 'special' 'spend' 'spending' 'stability' 'stark'\n",
      " 'stepped' 'struggling' 'suggested' 'supporters' 'tax' 'taxation' 'taxes'\n",
      " 'term' 'thrown' 'tony' 'tories' 'tory' 'track' 'trouble' 'underline'\n",
      " 'usual' 'verge' 'voice' 'war' 'wealthiest' 'weeks' 'westminster' 'wins'] \n",
      "\n"
     ]
    }
   ],
   "source": [
    "write_terms(feature_names, X_train, train_vector_data, 10)"
   ]
  },
  {
   "cell_type": "markdown",
   "metadata": {},
   "source": [
    "Como vemos, el mensaje vectorizado es un conjunto de todas las palabras que contiene el mensaje. Al ser un conjunto, cada palabra aparece una sola vez, pero internamente tiene almacenada la frecuencia de aparición de cada palabra, ya que así se lo hemos pedido al poner la variable `binary = False` en la inicialización de `vectorizer`.\n",
    "\n",
    "Para estudiar las palabras eliminadas al aplicar la vectorización vamos a hacer una función similar a la anterior. Esta función (`palabras_eliminadas`) va a iterar por cada palabra del texto original y la buscará en el conjunto del mensaje vectorizado. En caso de que el conjunto no incluya esta palabra, será porque se ha eliminado. Estas palabras serán impresas por la función."
   ]
  },
  {
   "cell_type": "code",
   "execution_count": 14,
   "metadata": {},
   "outputs": [],
   "source": [
    "def palabras_eliminadas (feature_names, data, vector_data, index):\n",
    "    # máscara para seleccionar sólo el mensaje en posición index\n",
    "    mask=vector_data[index,:]>0\n",
    "    \n",
    "    # términos que aparecen en ese mensaje vectorizado\n",
    "    terminos = ma.array(feature_names, mask = ~(mask[0].toarray()))\n",
    "    conjunto = terminos.compressed()\n",
    "    \n",
    "    # mensaje original\n",
    "    for palabra in data[index].split():\n",
    "        if palabra not in conjunto:\n",
    "            print(palabra)"
   ]
  },
  {
   "cell_type": "code",
   "execution_count": 15,
   "metadata": {
    "scrolled": true
   },
   "outputs": [
    {
     "name": "stdout",
     "output_type": "stream",
     "text": [
      "to\n",
      "call\n",
      "seems\n",
      "to\n",
      "of\n",
      "on\n",
      "and\n",
      "there\n",
      "will\n",
      "be\n",
      "a\n",
      "on\n",
      "5\n",
      "may.\n",
      "the\n",
      "has\n",
      "been\n",
      "into\n",
      "the\n",
      "of\n",
      "and\n",
      "for\n",
      "many\n",
      "and\n",
      "that\n",
      "the\n",
      "was\n",
      "on\n",
      "the\n",
      "of\n",
      "a\n",
      "it\n",
      "has\n",
      "not\n",
      "shifted.\n",
      "over\n",
      "the\n",
      "there\n",
      "have\n",
      "been\n",
      "any\n",
      "of\n",
      "that\n",
      "was\n",
      "to\n",
      "be\n",
      "the\n",
      "would\n",
      "go\n",
      "for\n",
      "an\n",
      "third\n",
      "term.\n",
      "and\n",
      "the\n",
      "of\n",
      "a\n",
      "has\n",
      "only\n",
      "to\n",
      "the\n",
      "that\n",
      "the\n",
      "is\n",
      "imminent.\n",
      "the\n",
      "and\n",
      "his\n",
      "have\n",
      "already\n",
      "the\n",
      "will\n",
      "be\n",
      "on\n",
      "the\n",
      "and\n",
      "what\n",
      "they\n",
      "is\n",
      "a\n",
      "between\n",
      "s\n",
      "and\n",
      "against\n",
      "and\n",
      "and\n",
      "bust.\n",
      "and\n",
      "has\n",
      "into\n",
      "the\n",
      "front\n",
      "of\n",
      "the\n",
      "-\n",
      "to\n",
      "the\n",
      "of\n",
      "many\n",
      "of\n",
      "his\n",
      "in\n",
      "-\n",
      "to\n",
      "that\n",
      "message.\n",
      "and\n",
      "it\n",
      "is\n",
      "one\n",
      "of\n",
      "the\n",
      "at\n",
      "the\n",
      "of\n",
      "the\n",
      "will\n",
      "be\n",
      "around\n",
      "the\n",
      "and\n",
      "policies.\n",
      "during\n",
      "the\n",
      "into\n",
      "over\n",
      "its\n",
      "that\n",
      "was\n",
      "£35\n",
      "in\n",
      "services.\n",
      "the\n",
      "found\n",
      "himself\n",
      "to\n",
      "how\n",
      "a\n",
      "in\n",
      "by\n",
      "the\n",
      "to\n",
      "s\n",
      "was\n",
      "a\n",
      "cut.\n",
      "and\n",
      "it\n",
      "the\n",
      "-\n",
      "which\n",
      "was\n",
      "already\n",
      "being\n",
      "for\n",
      "being\n",
      "into\n",
      "by\n",
      "on\n",
      "such\n",
      "as\n",
      "and\n",
      "-\n",
      "was\n",
      "on\n",
      "the\n",
      "rocks.\n",
      "then\n",
      "was\n",
      "to\n",
      "have\n",
      "was\n",
      "even\n",
      ".\n",
      "he\n",
      "was\n",
      "for\n",
      "his\n",
      "but\n",
      "the\n",
      "had\n",
      "been\n",
      "done\n",
      "and\n",
      "the\n",
      "was\n",
      "back\n",
      "on\n",
      "track.\n",
      "a\n",
      "will\n",
      "be\n",
      "over\n",
      "with\n",
      "the\n",
      "the\n",
      "has\n",
      "to\n",
      "fill\n",
      "a\n",
      "at\n",
      "the\n",
      "of\n",
      "his\n",
      "and\n",
      "will\n",
      "be\n",
      "to\n",
      "if\n",
      "again.\n",
      "that\n",
      "his\n",
      "are\n",
      "and\n",
      "that\n",
      "of\n",
      "have\n",
      "inaccurate.\n",
      "as\n",
      "the\n",
      "will\n",
      "have\n",
      "to\n",
      "to\n",
      "get\n",
      "their\n",
      "over\n",
      "the\n",
      "of\n",
      "between\n",
      "the\n",
      "two\n",
      "parties.\n",
      "but\n",
      "he\n",
      "has\n",
      "out\n",
      "a\n",
      "with\n",
      "for\n",
      "a\n",
      "for\n",
      "the\n",
      "to\n",
      "and\n",
      "the\n",
      "of\n",
      "the\n",
      "in\n",
      "of\n",
      "a\n",
      "tax.\n",
      "other\n",
      "are\n",
      "to\n",
      "a\n",
      "part\n",
      "-\n",
      "and\n",
      "the\n",
      "on\n",
      "and\n",
      "and\n",
      "for\n",
      "example.\n",
      "but\n",
      "as\n",
      "ever\n",
      "it\n",
      "will\n",
      "be\n",
      "the\n",
      "that\n",
      "will\n",
      "almost\n",
      "the\n",
      "outcome.\n",
      "and\n",
      "whatever\n",
      "that\n",
      "is\n",
      "to\n",
      "be\n",
      "a\n",
      "more\n",
      "even\n",
      "than\n",
      "s\n",
      "non-event.\n"
     ]
    }
   ],
   "source": [
    "palabras_eliminadas(feature_names, X_train, train_vector_data, 10)"
   ]
  },
  {
   "cell_type": "markdown",
   "metadata": {},
   "source": [
    "Si analizamos las palabras que han sido eliminadas, todas ellas son palabras en inglés que se repiten mucho y que no aportan conocimiento al mensaje. Simplemente aportan corrección sintáctica, pero son palabras vacías, lo que conocemos como **stop words**. Si revisamos la inicialización de `vectorizer`, vemos que le habíamos pedido que quitara las stop words del inglés, así que es correcto que estas palabras no hayan sido incluidas en la vectorización.\n",
    "\n",
    "A continuación, vamos a entrenar un clasificador Naive Bayes Multinomial para calcular su tasa de aciertos sobre el entrenamiento y sobre el test."
   ]
  },
  {
   "cell_type": "code",
   "execution_count": 16,
   "metadata": {},
   "outputs": [
    {
     "name": "stdout",
     "output_type": "stream",
     "text": [
      "  (0, 21733)\t0.0495262597284545\n",
      "  (0, 21604)\t0.060717983973740855\n",
      "  (0, 21550)\t0.0824359058701905\n",
      "  (0, 21505)\t0.08252333617096302\n",
      "  (0, 21408)\t0.09062548477099404\n",
      "  (0, 21293)\t0.05701264501891805\n",
      "  (0, 21135)\t0.06830041309300246\n",
      "  (0, 21014)\t0.062031928646565676\n",
      "  (0, 20695)\t0.0791248541016934\n",
      "  (0, 20443)\t0.053501115906383\n",
      "  (0, 20255)\t0.046746417737336426\n",
      "  (0, 20186)\t0.045482721229898534\n",
      "  (0, 20177)\t0.0913103632095874\n",
      "  (0, 20153)\t0.040750037279288095\n",
      "  (0, 20012)\t0.05846098620240091\n",
      "  (0, 19856)\t0.04274437322549303\n",
      "  (0, 19734)\t0.051069318508745805\n",
      "  (0, 19732)\t0.06520101853980405\n",
      "  (0, 19731)\t0.18193088491959414\n",
      "  (0, 19399)\t0.05284465114605887\n",
      "  (0, 19305)\t0.04733232256524685\n",
      "  (0, 19180)\t0.055722638197995396\n",
      "  (0, 18974)\t0.062031928646565676\n",
      "  (0, 18885)\t0.0791248541016934\n",
      "  (0, 18819)\t0.06274810705992143\n",
      "  :\t:\n",
      "  (0, 3211)\t0.04465627762517289\n",
      "  (0, 3172)\t0.060717983973740855\n",
      "  (0, 3077)\t0.08731322762257938\n",
      "  (0, 2971)\t0.12294503562492459\n",
      "  (0, 2958)\t0.05053225666888373\n",
      "  (0, 2949)\t0.07648878661388844\n",
      "  (0, 2889)\t0.05384355512567968\n",
      "  (0, 2888)\t0.10326296638966802\n",
      "  (0, 2745)\t0.04655740049095522\n",
      "  (0, 2740)\t0.062031928646565676\n",
      "  (0, 2623)\t0.09764854299606411\n",
      "  (0, 2179)\t0.06135669767757467\n",
      "  (0, 2102)\t0.060717983973740855\n",
      "  (0, 2000)\t0.06520101853980405\n",
      "  (0, 1999)\t0.060717983973740855\n",
      "  (0, 1816)\t0.051347291942571587\n",
      "  (0, 1814)\t0.057958215608305046\n",
      "  (0, 1514)\t0.050018552870979685\n",
      "  (0, 1258)\t0.028521450147532462\n",
      "  (0, 1171)\t0.06614658912919104\n",
      "  (0, 1077)\t0.08731322762257938\n",
      "  (0, 562)\t0.05384355512567968\n",
      "  (0, 365)\t0.03504107242891862\n",
      "  (0, 359)\t0.043158918421685594\n",
      "  (0, 23)\t0.08731322762257938\n"
     ]
    }
   ],
   "source": [
    "from sklearn.feature_extraction.text import TfidfTransformer\n",
    "\n",
    "# Calculamos el valor TF-IDF \n",
    "tfidfer = TfidfTransformer()\n",
    "\n",
    "train_preprocessed = tfidfer.fit_transform(train_vector_data)\n",
    "\n",
    "print(train_preprocessed[10])"
   ]
  },
  {
   "cell_type": "code",
   "execution_count": 17,
   "metadata": {},
   "outputs": [],
   "source": [
    "# Hacemos lo mismo pero para el conjunto de test:\n",
    "# IMPORTANTE: Para el conjunto de test no hace falta el \"fit\", ya que vamos a usar solo las palabras\n",
    "# encontradas en el conjunto de entrenamiento, por lo que haremos solo \"transform\"\n",
    "test_vector_data = vectorizer.transform(X_test)\n",
    "# Calculamos también su valor TF-IDF (el IDF es el del conjunto de entrenamiento)\n",
    "test_preprocessed = tfidfer.transform(test_vector_data)"
   ]
  },
  {
   "cell_type": "code",
   "execution_count": 18,
   "metadata": {},
   "outputs": [
    {
     "name": "stdout",
     "output_type": "stream",
     "text": [
      "Multinomial Naive Bayes, porcentaje de aciertos en entrenamiento: 0.9932885906040269\n",
      "Multinomial Naive Bayes, porcentaje de aciertos en test: 0.9697986577181208\n"
     ]
    }
   ],
   "source": [
    "from sklearn.naive_bayes import MultinomialNB\n",
    "\n",
    "mnb_classifier = MultinomialNB()\n",
    "\n",
    "mnb_classifier.fit(train_preprocessed, y_train)\n",
    "\n",
    "mnb_train_predictions = mnb_classifier.predict(train_preprocessed)\n",
    "mnb_test_predictions = mnb_classifier.predict(test_preprocessed)\n",
    "\n",
    "print(\"Multinomial Naive Bayes, porcentaje de aciertos en entrenamiento:\", np.mean(mnb_train_predictions == y_train))\n",
    "print(\"Multinomial Naive Bayes, porcentaje de aciertos en test:\", np.mean(mnb_test_predictions == y_test))"
   ]
  },
  {
   "cell_type": "markdown",
   "metadata": {},
   "source": [
    "Como podemos ver en los resultados, el clasificador funciona bastante bien a pesar de ser naive. El hecho de ser naive implica que asume que todas las variables son independientes entre sí. Es decir, que en nuestro ejemplo, el clasificador piensa que están igual de relacionadas las palabras _boss_ y _profit_ que las palabras _boss_ y _hardware_. Para nosotros es fácil darnos cuenta que _boss_ estará más relacionado con _profit_, siendo _business_ la categoría en la que más aparezca. Sin embargo, _boss_ y _hardware_ será más difícil encontrarlas en una misma noticia, ya que a priori pensamos que estarán en categorías distintas. A pesar de que el clasificador no tiene en cuenta estas relaciones, vemos que tanto el entrenamiento como el test tienen una tasa de aciertos muy elevada, por lo que concluimos que funciona muy bien.\n",
    "\n",
    "Vamos a ver ahora los valores de precisión, exhaustividad y puntuación F1 para cada una de las clases. También vamos a dibujar su matriz de confusión."
   ]
  },
  {
   "cell_type": "code",
   "execution_count": 19,
   "metadata": {},
   "outputs": [
    {
     "name": "stdout",
     "output_type": "stream",
     "text": [
      "               precision    recall  f1-score   support\n",
      "\n",
      "     business       0.93      1.00      0.96        67\n",
      "entertainment       1.00      0.95      0.97        55\n",
      "     politics       0.96      0.95      0.95        55\n",
      "        sport       0.99      1.00      0.99        69\n",
      "         tech       0.98      0.94      0.96        52\n",
      "\n",
      "     accuracy                           0.97       298\n",
      "    macro avg       0.97      0.97      0.97       298\n",
      " weighted avg       0.97      0.97      0.97       298\n",
      "\n"
     ]
    }
   ],
   "source": [
    "from sklearn.metrics import classification_report, confusion_matrix\n",
    "\n",
    "# NOTA: Aquí elegimos analizar un determinado clasificador y sus predicciones \n",
    "# Por ejemplo el naive bayes\n",
    "classifier = mnb_classifier\n",
    "predictions = mnb_test_predictions\n",
    "\n",
    "print(classification_report(y_test, predictions))"
   ]
  },
  {
   "cell_type": "markdown",
   "metadata": {},
   "source": [
    "Analizando los resultados vemos que la clasificación es muy buena y tiene un éxito muy elevado. Todos los valores de precisión, exhaustividad y puntuación F1 están por encima de 0.9, lo que implica que el clasificador encuentra fácilmente rasgos diferenciales para separar las noticias en clases (precisión), y que los textos no se confunden con otros (exhaustividad). Además, la puntuación F1 indica la media armónica entre los dos valores anteriores, y que esté cerca de 1 indica una valoración del clasificador muy buena."
   ]
  },
  {
   "cell_type": "code",
   "execution_count": 20,
   "metadata": {
    "scrolled": true
   },
   "outputs": [
    {
     "name": "stdout",
     "output_type": "stream",
     "text": [
      "['business', 'entertainment', 'politics', 'sport', 'tech']\n"
     ]
    }
   ],
   "source": [
    "# Para poder poner los nombres de las categorías en la matriz de confusión, necesitamos una lista\n",
    "# con valores únicos de las categorías. Para ello, pasamos de nuestro array a un set y del set a una lista\n",
    "\n",
    "my_set = set(y_test)\n",
    "categories = sorted(list(my_set))\n",
    "print(categories)"
   ]
  },
  {
   "cell_type": "code",
   "execution_count": 21,
   "metadata": {},
   "outputs": [
    {
     "data": {
      "text/plain": [
       "{'business': 67, 'entertainment': 55, 'politics': 55, 'sport': 69, 'tech': 52}"
      ]
     },
     "execution_count": 21,
     "metadata": {},
     "output_type": "execute_result"
    }
   ],
   "source": [
    "unique, counts = np.unique(y_test, return_counts=True)\n",
    "dict(zip(unique, counts))"
   ]
  },
  {
   "cell_type": "code",
   "execution_count": 22,
   "metadata": {},
   "outputs": [
    {
     "data": {
      "text/plain": [
       "(array([0.5, 1.5, 2.5, 3.5, 4.5]),\n",
       " [Text(0.5, 0, 'business'),\n",
       "  Text(1.5, 0, 'entertainment'),\n",
       "  Text(2.5, 0, 'politics'),\n",
       "  Text(3.5, 0, 'sport'),\n",
       "  Text(4.5, 0, 'tech')])"
      ]
     },
     "execution_count": 22,
     "metadata": {},
     "output_type": "execute_result"
    },
    {
     "data": {
      "image/png": "[encoded data removed]",
      "text/plain": [
       "<Figure size 1080x720 with 2 Axes>"
      ]
     },
     "metadata": {
      "needs_background": "light"
     },
     "output_type": "display_data"
    }
   ],
   "source": [
    "%matplotlib inline\n",
    "import pandas as pd\n",
    "import seaborn as sn\n",
    "import matplotlib.pyplot as plt\n",
    "\n",
    "conf_matrix = confusion_matrix(y_test, predictions)\n",
    "conf_matrix_df = pd.DataFrame(conf_matrix, index=categories, columns=categories)\n",
    "\n",
    "plt.figure(figsize=(15, 10))\n",
    "sn.heatmap(conf_matrix_df, annot=True, vmin=0, vmax=conf_matrix.max(), fmt='d', cmap=\"YlGnBu\")\n",
    "plt.yticks(rotation=0)\n",
    "plt.xticks(rotation=90)"
   ]
  },
  {
   "cell_type": "markdown",
   "metadata": {},
   "source": [
    "Los resultados de la matriz de confusión son una representación gráfica del análisis previo. Podemos ver que los valores de precisión (columnas) y exhaustividad (filas) son muy altos con valores muy concentrados en la diagonal principal, lo que indica una muy buena clasificación. Como se puede apreciar en la matriz de confusión, hay pequeños errores en la clasificación de algunas noticias, pero no es nada representativo si tenemos en cuenta los números."
   ]
  },
  {
   "cell_type": "markdown",
   "metadata": {},
   "source": [
    "Ahora vamos a entrenar un clasificador k-NN para comparar los resultados con el anterior."
   ]
  },
  {
   "cell_type": "code",
   "execution_count": 23,
   "metadata": {},
   "outputs": [
    {
     "name": "stdout",
     "output_type": "stream",
     "text": [
      "k-NN, porcentaje de aciertos en entrenamiento: 0.9580536912751678\n",
      "k-NN, porcentaje de aciertos en test: 0.9328859060402684\n"
     ]
    }
   ],
   "source": [
    "from sklearn import neighbors\n",
    "\n",
    "knn_classifier = neighbors.KNeighborsClassifier()\n",
    "knn_classifier.fit(train_preprocessed, y_train)\n",
    "\n",
    "knn_train_predictions = knn_classifier.predict(train_preprocessed)\n",
    "knn_test_predictions = knn_classifier.predict(test_preprocessed)\n",
    "\n",
    "print(\"k-NN, porcentaje de aciertos en entrenamiento:\", np.mean(knn_train_predictions == y_train))\n",
    "print(\"k-NN, porcentaje de aciertos en test:\", np.mean(knn_test_predictions == y_test))"
   ]
  },
  {
   "cell_type": "markdown",
   "metadata": {},
   "source": [
    "A pesar de que los resultados de este análisis también son muy buenos, vemos que son peores que los del Multinomial Naive Bayes. Esto se debe a que el k-NN no es el clasificador más adecuado para este tipo de problemas en el que hay tantísimas variables. En el caso de clasificación de textos, cada palabra diferente que aparece en el corpus es una variable nueva que tiene que considerar el clasificador, y teniendo en cuenta que el k-NN va a buscar proximidad entre vecinos, va a sufrir la maldición de la dimensionalidad. Además, la matriz que considera las variables va a ser muy dispersa, con muchos valores a cero. Esto tampoco ayuda al k-NN.\n",
    "\n",
    "Como conclusión, para clasificación de textos es mejor idea usar el clasificador anterior (Multinomial Naive Bayes)."
   ]
  },
  {
   "cell_type": "markdown",
   "metadata": {},
   "source": [
    "## 3) Representación basada en word-embeddings\n",
    "\n",
    "La segunda vectorización que vamos a usar representará los mensajes usando word-embeddings. Cada documento se representará como el vector que resulta de promediar los embeddings de cada una de sus palabras. Al igual que en el apartado anterior, usaremos monogramas y las _stop words_ que vienen configuradas por defecto para el inglés. Recuerda usar como vocabulario para vectorizar el vocabulario del fichero con las word-embeddings. \n",
    "\n",
    "Entrena un clasificador Naive Bayes Gaussiano (el Multinomial no admite valores negativos que sí aparecen en los embeddings). Analiza el error por clase y dibuja la matriz de confusión.\n",
    "\n",
    "Entrena otro clasificador kNN con la nueva vectorización y la configuración por defecto y analiza su error."
   ]
  },
  {
   "cell_type": "markdown",
   "metadata": {},
   "source": [
    "#### Solución:"
   ]
  },
  {
   "cell_type": "markdown",
   "metadata": {},
   "source": [
    "Vamos crear el modelo de word embedding"
   ]
  },
  {
   "cell_type": "code",
   "execution_count": 24,
   "metadata": {},
   "outputs": [],
   "source": [
    "from gensim.scripts.glove2word2vec import glove2word2vec\n",
    "from gensim.models import KeyedVectors\n",
    "\n",
    "# Traducimos el fichero glove a un fichero con formato word2vec\n",
    "glove_file = 'glove.6B.50d.txt'\n",
    "\n",
    "model = KeyedVectors.load_word2vec_format(glove_file, binary=False, no_header=True)"
   ]
  },
  {
   "cell_type": "markdown",
   "metadata": {},
   "source": [
    "Vamos a tomar la palabra `monkey` como ejemplo para ver su vector correspondiente"
   ]
  },
  {
   "cell_type": "code",
   "execution_count": 25,
   "metadata": {},
   "outputs": [
    {
     "data": {
      "text/plain": [
       "array([ 0.28704  , -0.60904  , -0.74821  ,  0.17686  ,  0.92118  ,\n",
       "        0.36994  ,  0.10464  , -1.0945   ,  0.45246  ,  0.75508  ,\n",
       "        0.041291 ,  0.61758  ,  0.82508  ,  0.7044   ,  0.12365  ,\n",
       "       -0.081073 , -0.060157 ,  0.90245  , -1.2025   ,  0.04606  ,\n",
       "       -0.57476  , -0.15483  ,  0.45276  , -0.087841 ,  0.49575  ,\n",
       "       -1.0462   , -0.59215  ,  0.40345  , -0.11113  , -1.3799   ,\n",
       "        0.97611  , -0.312    , -0.75014  ,  0.44309  , -0.0056967,\n",
       "        0.44116  ,  0.073432 , -0.76681  ,  0.12938  , -0.54472  ,\n",
       "       -0.74424  ,  0.19052  , -0.80318  ,  0.54953  ,  1.1741   ,\n",
       "        0.37876  ,  0.93837  , -1.0941   ,  0.2474   , -0.69492  ],\n",
       "      dtype=float32)"
      ]
     },
     "execution_count": 25,
     "metadata": {},
     "output_type": "execute_result"
    }
   ],
   "source": [
    "model['monkey']"
   ]
  },
  {
   "cell_type": "markdown",
   "metadata": {},
   "source": [
    "Usaremos como vocabulario solamente las palabras presentes en la word-embedding"
   ]
  },
  {
   "cell_type": "code",
   "execution_count": 26,
   "metadata": {},
   "outputs": [
    {
     "name": "stdout",
     "output_type": "stream",
     "text": [
      "['the', ',', '.', 'of', 'to', 'and', 'in', 'a', '\"', \"'s\", 'for', '-', 'that', 'on', 'is', 'was', 'said', 'with', 'he', 'as', 'it', 'by', 'at', '(', ')', 'from', 'his', \"''\", '``', 'an', 'be', 'has', 'are', 'have', 'but', 'were', 'not', 'this', 'who', 'they', 'had', 'i', 'which', 'will', 'their', ':', 'or', 'its', 'one', 'after', 'new', 'been', 'also', 'we', 'would', 'two', 'more', \"'\", 'first', 'about', 'up', 'when', 'year', 'there', 'all', '--', 'out', 'she', 'other', 'people', \"n't\", 'her', 'percent', 'than', 'over', 'into', 'last', 'some', 'government', 'time', '$', 'you', 'years', 'if', 'no', 'world', 'can', 'three', 'do', ';', 'president', 'only', 'state', 'million', 'could', 'us', 'most', '_', 'against', 'u.s.']\n"
     ]
    }
   ],
   "source": [
    "we_vocabulary = list(model.key_to_index.keys())\n",
    "\n",
    "print(we_vocabulary[0:100])"
   ]
  },
  {
   "cell_type": "markdown",
   "metadata": {},
   "source": [
    "Con el `CountVectorizer` calcularemos la frecuencia de las palabras que aparecen en cada documento. Para evitarnos tener que elminar las palabras que no pertenecen a la word-embedding, le pasaremos al `CountVectorizer` las palabras que queremos que reconozca mediante el parámetro `vocabulary`."
   ]
  },
  {
   "cell_type": "code",
   "execution_count": 27,
   "metadata": {},
   "outputs": [],
   "source": [
    "from sklearn.feature_extraction.text import CountVectorizer\n",
    "we_vectorizer = CountVectorizer(vocabulary = we_vocabulary,\n",
    "                                stop_words = 'english',\n",
    "                                binary = False, # frecuencia de aparición (NO simplemente si aparece o no)\n",
    "                                lowercase = False, # para considerar palabras del texto en mayusucla\n",
    "                                ngram_range=(1,1)) # solo monogramas"
   ]
  },
  {
   "cell_type": "code",
   "execution_count": 28,
   "metadata": {},
   "outputs": [],
   "source": [
    "train_we = we_vectorizer.fit_transform(X_train)"
   ]
  },
  {
   "cell_type": "code",
   "execution_count": 29,
   "metadata": {
    "scrolled": true
   },
   "outputs": [
    {
     "data": {
      "text/plain": [
       "array([[0, 0, 0, ..., 0, 0, 0],\n",
       "       [0, 0, 0, ..., 0, 0, 0],\n",
       "       [0, 0, 0, ..., 0, 0, 0],\n",
       "       ...,\n",
       "       [0, 0, 0, ..., 0, 0, 0],\n",
       "       [0, 0, 0, ..., 0, 0, 0],\n",
       "       [0, 0, 0, ..., 0, 0, 0]])"
      ]
     },
     "execution_count": 29,
     "metadata": {},
     "output_type": "execute_result"
    }
   ],
   "source": [
    "train_we.toarray()"
   ]
  },
  {
   "cell_type": "code",
   "execution_count": 30,
   "metadata": {
    "scrolled": true
   },
   "outputs": [
    {
     "name": "stdout",
     "output_type": "stream",
     "text": [
      "  (0, 16)\t3\n",
      "  (0, 62)\t2\n",
      "  (0, 85)\t3\n",
      "  (0, 104)\t1\n",
      "  (0, 117)\t1\n",
      "  (0, 123)\t1\n",
      "  (0, 129)\t1\n",
      "  (0, 132)\t3\n",
      "  (0, 139)\t1\n",
      "  (0, 141)\t3\n",
      "  (0, 154)\t1\n",
      "  (0, 159)\t2\n",
      "  (0, 175)\t1\n",
      "  (0, 184)\t2\n",
      "  (0, 185)\t3\n",
      "  (0, 231)\t1\n",
      "  (0, 234)\t1\n",
      "  (0, 241)\t1\n",
      "  (0, 251)\t2\n",
      "  (0, 252)\t2\n",
      "  (0, 275)\t1\n",
      "  (0, 277)\t1\n",
      "  (0, 286)\t4\n",
      "  (0, 287)\t1\n",
      "  (0, 304)\t2\n",
      "  :\t:\n",
      "  (1191, 14400)\t1\n",
      "  (1191, 16348)\t1\n",
      "  (1191, 16484)\t1\n",
      "  (1191, 17565)\t1\n",
      "  (1191, 17767)\t1\n",
      "  (1191, 18055)\t1\n",
      "  (1191, 18071)\t1\n",
      "  (1191, 19210)\t1\n",
      "  (1191, 20465)\t1\n",
      "  (1191, 22901)\t1\n",
      "  (1191, 23085)\t1\n",
      "  (1191, 23772)\t1\n",
      "  (1191, 25099)\t1\n",
      "  (1191, 25131)\t1\n",
      "  (1191, 27901)\t1\n",
      "  (1191, 31844)\t7\n",
      "  (1191, 36121)\t1\n",
      "  (1191, 43285)\t1\n",
      "  (1191, 48617)\t1\n",
      "  (1191, 52148)\t1\n",
      "  (1191, 70777)\t1\n",
      "  (1191, 81049)\t1\n",
      "  (1191, 158734)\t1\n",
      "  (1191, 160105)\t1\n",
      "  (1191, 160309)\t2\n"
     ]
    }
   ],
   "source": [
    "# Imprime los valores que no son 0:\n",
    "print(train_we)"
   ]
  },
  {
   "cell_type": "markdown",
   "metadata": {},
   "source": [
    "Vamos a definir una función que nos permita calcular los vectores medios de cada documento a partir del word-embedding"
   ]
  },
  {
   "cell_type": "code",
   "execution_count": 31,
   "metadata": {},
   "outputs": [],
   "source": [
    "from scipy.sparse import find\n",
    "\n",
    "\n",
    "def create_doc_embedding (doc_matrix_word_freq, keyedvectors):\n",
    "    \"\"\"\n",
    "    create_doc_embedding creates a doc-embedding matrix where rows are the \n",
    "    documents and columns are the dimensions of the word-embedding. Each row r\n",
    "    summarizes the vectors of the word-embeddings present in document r\n",
    "\n",
    "    :param doc_matrix_word_freq: frequency matrix of the terms in each document\n",
    "            It admits binary values, frequencies or weights.\n",
    "            It admits the output of vectorizer.fit_transform\n",
    "    :param keyedvectors: keyedvectors object from Gensim which has the \n",
    "            word-embedding information\n",
    "    :return: returns the doc-embedding matrix that summarizes the \n",
    "             vector-embeddings of the words present in each document\n",
    "    \"\"\" \n",
    "\n",
    "    \n",
    "    num_docs, num_words= doc_matrix_word_freq.get_shape()\n",
    "\n",
    "    # Creamos la matriz de documentos con tantas columnas como dimensiones tiene el we \n",
    "    doc_embed_matrix = np.zeros([num_docs,keyedvectors.vector_size])\n",
    "\n",
    "\n",
    "    # Obtenemos los documentos\n",
    "    docs, col, val = find(doc_matrix_word_freq)\n",
    "    docs = np.unique(docs)\n",
    "\n",
    "    # Para cada documento (esto se podrá hacer de forma más pythonica)\n",
    "    for doc in docs:\n",
    "      # Obtenemos las palabras presentes en el documento y su frecuencia\n",
    "      row, words, frecs = find(doc_matrix_word_freq[doc,:])\n",
    "\n",
    "      # Calculamos el vector medio para el documento\n",
    "      # Para ello recuperamos los vectores del we presentes en el documento y \n",
    "      # los promediamos teniendo en cuenta su frecuencia\n",
    "      count = 0\n",
    "      for w,f in zip(words,frecs):\n",
    "        doc_embed_matrix[doc,:] = doc_embed_matrix[doc,:] + (keyedvectors[w] * f)\n",
    "        count = count +1\n",
    "      doc_embed_matrix[doc,:] = doc_embed_matrix[doc,:]/count\n",
    "    \n",
    "      \n",
    "    return doc_embed_matrix"
   ]
  },
  {
   "cell_type": "markdown",
   "metadata": {},
   "source": [
    "Ahora vamos a calcular los vectores medios de cada documento"
   ]
  },
  {
   "cell_type": "code",
   "execution_count": 32,
   "metadata": {},
   "outputs": [],
   "source": [
    "train_embeding = create_doc_embedding(train_we, model)"
   ]
  },
  {
   "cell_type": "code",
   "execution_count": 33,
   "metadata": {},
   "outputs": [],
   "source": [
    "# Hacemos lo mismo pero para el conjunto de test:\n",
    "# IMPORTANTE: Para el conjunto de test no hace falta el \"fit\", ya que vamos a usar solo las palabras\n",
    "# encontradas en el conjunto de entrenamiento, por lo que haremos solo \"transform\"\n",
    "test_we = we_vectorizer.transform(X_test)\n",
    "# Calculamos también los vectores medios de cada documento\n",
    "test_embeding = create_doc_embedding(test_we, model)"
   ]
  },
  {
   "cell_type": "code",
   "execution_count": 34,
   "metadata": {},
   "outputs": [
    {
     "name": "stdout",
     "output_type": "stream",
     "text": [
      "Gaussian Naive Bayes, porcentaje de aciertos en entrenamiento: 0.9337248322147651\n",
      "Gaussian Naive Bayes, porcentaje de aciertos en test: 0.9463087248322147\n"
     ]
    }
   ],
   "source": [
    "from sklearn.naive_bayes import GaussianNB\n",
    "\n",
    "gnb_classifier = GaussianNB()\n",
    "\n",
    "gnb_classifier.fit(train_embeding, y_train)\n",
    "\n",
    "gnb_train_predictions = gnb_classifier.predict(train_embeding)\n",
    "gnb_test_predictions = gnb_classifier.predict(test_embeding)\n",
    "\n",
    "print(\"Gaussian Naive Bayes, porcentaje de aciertos en entrenamiento:\", np.mean(gnb_train_predictions == y_train))\n",
    "print(\"Gaussian Naive Bayes, porcentaje de aciertos en test:\", np.mean(gnb_test_predictions == y_test))"
   ]
  },
  {
   "cell_type": "markdown",
   "metadata": {},
   "source": [
    "Como análisis de estos resultados de momento solo podemos compararlos con los obtenidos anteriormente. Vemos que para un clasificador Naive Bayes basado en word-embeddings, los resultados son peores que los obtenidos con vectorización de frecuencias con cualquiera de los clasificadores obtenidos, siendo una diferencia bastante notoria.\n",
    "\n",
    "Analizaremos más adelante por qué ocurre esto con las word-embeddings."
   ]
  },
  {
   "cell_type": "code",
   "execution_count": 35,
   "metadata": {},
   "outputs": [
    {
     "name": "stdout",
     "output_type": "stream",
     "text": [
      "               precision    recall  f1-score   support\n",
      "\n",
      "     business       0.94      0.94      0.94        67\n",
      "entertainment       0.98      0.98      0.98        55\n",
      "     politics       0.85      0.93      0.89        55\n",
      "        sport       0.99      0.99      0.99        69\n",
      "         tech       0.98      0.88      0.93        52\n",
      "\n",
      "     accuracy                           0.95       298\n",
      "    macro avg       0.95      0.94      0.94       298\n",
      " weighted avg       0.95      0.95      0.95       298\n",
      "\n"
     ]
    }
   ],
   "source": [
    "from sklearn.metrics import classification_report, confusion_matrix\n",
    "\n",
    "classifier = gnb_classifier\n",
    "predictions = gnb_test_predictions\n",
    "\n",
    "print(classification_report(y_test, predictions))"
   ]
  },
  {
   "cell_type": "code",
   "execution_count": 36,
   "metadata": {},
   "outputs": [
    {
     "name": "stdout",
     "output_type": "stream",
     "text": [
      "['business', 'entertainment', 'politics', 'sport', 'tech']\n"
     ]
    }
   ],
   "source": [
    "# Para poder poner los nombres de las categorías en la matriz de confusión, necesitamos una lista\n",
    "# con valores únicos de las categorías. Para ello, pasamos de nuestro array a un set y del set a una lista\n",
    "\n",
    "my_set = set(y_test)\n",
    "categories = sorted(list(my_set))\n",
    "print(categories)"
   ]
  },
  {
   "cell_type": "code",
   "execution_count": 37,
   "metadata": {},
   "outputs": [
    {
     "data": {
      "text/plain": [
       "{'business': 67, 'entertainment': 55, 'politics': 55, 'sport': 69, 'tech': 52}"
      ]
     },
     "execution_count": 37,
     "metadata": {},
     "output_type": "execute_result"
    }
   ],
   "source": [
    "unique, counts = np.unique(y_test, return_counts=True)\n",
    "dict(zip(unique, counts))"
   ]
  },
  {
   "cell_type": "code",
   "execution_count": 38,
   "metadata": {
    "scrolled": false
   },
   "outputs": [
    {
     "data": {
      "text/plain": [
       "(array([0.5, 1.5, 2.5, 3.5, 4.5]),\n",
       " [Text(0.5, 0, 'business'),\n",
       "  Text(1.5, 0, 'entertainment'),\n",
       "  Text(2.5, 0, 'politics'),\n",
       "  Text(3.5, 0, 'sport'),\n",
       "  Text(4.5, 0, 'tech')])"
      ]
     },
     "execution_count": 38,
     "metadata": {},
     "output_type": "execute_result"
    },
    {
     "data": {
      "image/png": "[encoded data removed]",
      "text/plain": [
       "<Figure size 1080x720 with 2 Axes>"
      ]
     },
     "metadata": {
      "needs_background": "light"
     },
     "output_type": "display_data"
    }
   ],
   "source": [
    "%matplotlib inline\n",
    "import pandas as pd\n",
    "import seaborn as sn\n",
    "import matplotlib.pyplot as plt\n",
    "\n",
    "conf_matrix = confusion_matrix(y_test, predictions)\n",
    "conf_matrix_df = pd.DataFrame(conf_matrix, index=categories, columns=categories)\n",
    "\n",
    "plt.figure(figsize=(15, 10))\n",
    "sn.heatmap(conf_matrix_df, annot=True, vmin=0, vmax=conf_matrix.max(), fmt='d', cmap=\"YlGnBu\")\n",
    "plt.yticks(rotation=0)\n",
    "plt.xticks(rotation=90)"
   ]
  },
  {
   "cell_type": "markdown",
   "metadata": {},
   "source": [
    "Ahora vamos a entrenar un clasificador k-NN basado en word-embeddings para comparar los resultados con el anterior."
   ]
  },
  {
   "cell_type": "code",
   "execution_count": 39,
   "metadata": {},
   "outputs": [
    {
     "name": "stdout",
     "output_type": "stream",
     "text": [
      "k-NN, porcentaje de aciertos en entrenamiento: 0.9723154362416108\n",
      "k-NN, porcentaje de aciertos en test: 0.9765100671140939\n"
     ]
    }
   ],
   "source": [
    "from sklearn import neighbors\n",
    "\n",
    "knn_classifier = neighbors.KNeighborsClassifier()\n",
    "knn_classifier.fit(train_embeding, y_train)\n",
    "\n",
    "knn_train_predictions = knn_classifier.predict(train_embeding)\n",
    "knn_test_predictions = knn_classifier.predict(test_embeding)\n",
    "\n",
    "print(\"k-NN, porcentaje de aciertos en entrenamiento:\", np.mean(knn_train_predictions == y_train))\n",
    "print(\"k-NN, porcentaje de aciertos en test:\", np.mean(knn_test_predictions == y_test))"
   ]
  },
  {
   "cell_type": "markdown",
   "metadata": {},
   "source": [
    "Como vemos, el clasificador k-NN ha mejorado bastante los resultados obtenidos para word-embeddings, considerando el empeoramiento que suponía Naive Bayes para word-embeddings en comparación con vectorización de frecuencias.\n",
    "\n",
    "Teniendo en cuenta que las word-embeddings en la vectorización media de las palabras en un texto, tiene sentido que si categorizamos los textos según k-NN (vecinos más cercanos) nos dé un mejor resultado que con Naive Bayes. Naive Bayes asume que las variables utilizadas son independientes, y en muchos casos funciona bien, pero en el caso de las word-embeddings en el que vemos similitud de vectores según la importancia de las palabras, funcionará mejor un categorizador basado en esta similitud de vectores como es k-NN.\n",
    "\n",
    "Esto se debe a que las word-embeddings consisten en la vectorización media de cada texto dependiendo de las palabras que aparecen en él y el peso que tienen. En este caso en concreto, vemos que hay muchas noticias que es difícil categorizarlas incluso para nosotros. Veremos dos ejemplos de esta ambigüedad en el siguiente apartado."
   ]
  },
  {
   "cell_type": "markdown",
   "metadata": {},
   "source": [
    "## 4) Análisis comparativo final\n",
    "\n",
    "Hemos entrenado dos clasificadores usando dos vectorizaciones diferentes de los datos. Compara la tasa de acierto de todos ellos y explica a qué crees que se deben las diferencias.\n",
    "\n",
    "Busca un mensaje mal clasificado por el Naive Bayes con vectorización de frecuencias y otro mal clasificado por el k-NN con Word-embeddings. Analiza los vectores de términos de dichos mensajes e intenta razonar por qué ha sido clasificado erróneamente.\n",
    "\n",
    "Para el Naive Bayes con vectorización de frecuencias, elige dos clases donde el clasificador no haya funcionado bien y analiza las palabras más relevantes para clasificar una noticia como de dichas clases. Razona si lo que ves crees que influye en la posible confusión a la hora de clasificar entre dichas clases."
   ]
  },
  {
   "cell_type": "markdown",
   "metadata": {},
   "source": [
    "#### Solución:"
   ]
  },
  {
   "cell_type": "markdown",
   "metadata": {},
   "source": [
    "Para poder analizar más fácilmente los resultados, vamos a dibujar dos tablas, una para vectorización de frecuencias y otra para word-embeddings. De esta forma podremos visualizar las relaciones entre los resultados de las distintas vectorizaciones y sacar mejores conclusiones. Los porcentajes mostrados en las tablas son los porcentajes de aciertos de entrenamiento y test para cada clasificador y cada tipo de vectorización.\n",
    "\n",
    "| **VECTORIZACIÓN FRECUENCIAS** | **Entrenamiento** | **Test** |\n",
    "|-------------------------------|-------------------|----------|\n",
    "| **Naive Bayes (Multinomial)** | 99.33%            | 96.98%   |\n",
    "| **k-NN**                      | 95.81%            | 93.29%   |\n",
    "\n",
    "| **WORD-EMBEDDINGS**        | **Entrenamiento** | **Test** |\n",
    "|----------------------------|-------------------|----------|\n",
    "| **Naive Bayes (Gaussian)** | 93.37%            | 94.63%   |\n",
    "| **k-NN**                   | 97.23%            | 97.65%   |\n",
    "\n",
    "Como vemos, todos los porcentajes se mantienen muy similares. En todos los casos los resultados obtenidos son superiores al 90% de clasificación exitosa, lo cual indica una muy buena clasificación. Si analizamos los resultados para este estudio específico de nuestros textos (noticias de la BBC), a priori interesa seleccionar el clasificador Naive Bayes si nuestra vectorización se basa en la bolsa de palabras (vectorización de frecuencias) y seleccionar el clasificador k-NN si optamos por word-embeddings.\n",
    "\n",
    "El clasificador que mejor funciona de media es el Naive Bayes con vectorización de frecuencias. Para analizar el motivo de que esto ocurra, es importante tener en cuenta el hecho de que nos estamos basando en una similitud entre textos en la que asumimos que las palabras son independientes entre sí y que tenemos una bolsa de palabras. Teniendo esto en cuenta, concluimos que no existe una relación compleja entre los términos de cada categoría. Sin embargo, sí que tenemos una cantidad abundante de las mismas palabras en los textos correspondientes a cada categoría. Esto significa que al observar ciertas palabras en la bolsa de palabras de una noticia, será fácil categorizar esa noticia según qué palabras contenga.\n",
    "\n",
    "Por otro lado, si nos fijamos en los porcentajes de acierto de las word-embeddings, vemos una mejoría importante con el clasificador k-NN. Esto se debe a que k-NN se basa en la similitud entre los vectores de cada texto hechos por la word-embedding. Como hemos concluido antes, hay una gran abundancia de las mismas palabras en noticias de la misma categoría. Esto implica que el peso que tendrán estas palabras a la hora de categorizar será muy elevado, haciendo que vectores (textos) que contengan estos términos se parezcan entre sí. Esto hace que al analizar la similitud entre ellos (k-NN), los vectores de una categoría queden muy concentrados con los vectores de esa categoría, haciendo una diferenciación clara.\n",
    "\n",
    "Vamos a buscar un mensaje mal clasificado por el Naive Bayes con vectorización de frecuencias para analizar los vectores de términos de ese mensaje."
   ]
  },
  {
   "cell_type": "code",
   "execution_count": 40,
   "metadata": {
    "scrolled": true
   },
   "outputs": [
    {
     "name": "stdout",
     "output_type": "stream",
     "text": [
      "Naive Bayes: falla en la posicion 229\n",
      "Prediccion: business\n",
      "Categoria real: politics\n"
     ]
    }
   ],
   "source": [
    "errorFound = False\n",
    "i = 0\n",
    "\n",
    "while not errorFound and i < len(mnb_train_predictions):\n",
    "    if mnb_train_predictions[i] != y_train[i]:\n",
    "        errorFound = True\n",
    "    else:\n",
    "        i += 1 # solo incrementamos la i si son iguales, porque si no queremos guardar la i que falla\n",
    "\n",
    "# una vez hemos encontrado un mensaje mal categorizado, analizamos su vector (posicion i)\n",
    "print(\"Naive Bayes: falla en la posicion\", i)\n",
    "print(\"Prediccion:\", mnb_train_predictions[i])\n",
    "print(\"Categoria real:\", y_train[i])"
   ]
  },
  {
   "cell_type": "markdown",
   "metadata": {},
   "source": [
    "Una vez obtenida la primera categorización de noticia que falla, vamos a ver su texto impreso para poder analizar el fallo:"
   ]
  },
  {
   "cell_type": "code",
   "execution_count": 41,
   "metadata": {},
   "outputs": [
    {
     "name": "stdout",
     "output_type": "stream",
     "text": [
      "Mensaje 229 SIN vectorizar: eu fraud clampdown urged eu member states are failing to report fraud and irregularities in eu funds on a consistent basis  the uk s public spending watchdog has said.  the national audit office said although the latest figures showed reported fraud was falling  the eu still had no common definition of fraud. it also expressed concern that  for the 10th year  the european court of auditors had qualified the eu accounts. the nao urged the government to push for improvements in reporting fraud. it said member states needed to be more accountable on how money was spent. the report said:  member states still do not report fraud and other irregularities to the european anti-fraud office on a consistent basis.   as the court has now qualified its opinion on the community accounts for a decade  it is essential for all the authorities involved to contribute to the strengthening of the audit of eu revenue and expenditure and improving accountability for the financial management and use of eu resources.  it said there were 922 cases of reported fraud or irregularities in eu funds in the uk in 2003  worth £38.5m (52m euros)  up from 831 cases worth £35.7m in 2002. at the same time  reported fraud throughout the eu dropped from 10 276 cases worth £808m to 8 177 cases worth £644m. edward leigh  chairman of the commons public accounts committee  said britain had to set an example when it assumed the eu presidency.   any fraud in other member states is potentially fraud against the uk taxpayer  given that we are the second largest net contributor to the community   he said.  departments responsible for administering eu funds need to make sure that they re doing everything possible to weed out improper spending.  the government must take the opportunity afforded by the uk presidency of the eu to press the commission and other member states to take an equally robust stance against fraud and irregularity  and raise overall standards of financial management.  a spokesman for the european anti-fraud office said the organisation agreed with the nao s assessment of fraud reporting.  the quality of reporting does differ from member state to member state  and there is room for improvement   spokesman jorg wojahn said. he added that there is generally good co-operation with member states and the anti-fraud office on specific cases of fraud  with the statistics studied by nao providing a  good overview for planning strategic ways of detecting fraud . \n",
      "\n",
      "Mensaje 229 vectorizado: ['10' '10th' '177' '2002' '2003' '276' '35' '38' '52m' '5m' '644m' '7m'\n",
      " '808m' '831' '922' 'accountability' 'accountable' 'accounts' 'added'\n",
      " 'administering' 'afforded' 'agreed' 'anti' 'assessment' 'assumed' 'audit'\n",
      " 'auditors' 'authorities' 'basis' 'britain' 'cases' 'chairman' 'clampdown'\n",
      " 'commission' 'committee' 'common' 'commons' 'community' 'concern'\n",
      " 'consistent' 'contribute' 'contributor' 'court' 'decade' 'definition'\n",
      " 'departments' 'detecting' 'differ' 'does' 'doing' 'dropped' 'edward'\n",
      " 'equally' 'essential' 'eu' 'european' 'euros' 'example' 'expenditure'\n",
      " 'expressed' 'failing' 'falling' 'figures' 'financial' 'fraud' 'funds'\n",
      " 'generally' 'given' 'good' 'government' 'improper' 'improvement'\n",
      " 'improvements' 'improving' 'involved' 'irregularities' 'irregularity'\n",
      " 'jorg' 'largest' 'latest' 'leigh' 'make' 'management' 'member' 'money'\n",
      " 'nao' 'national' 'need' 'needed' 'net' 'office' 'operation' 'opinion'\n",
      " 'opportunity' 'organisation' 'overall' 'overview' 'planning' 'possible'\n",
      " 'potentially' 'presidency' 'press' 'providing' 'public' 'push'\n",
      " 'qualified' 'quality' 'raise' 'report' 'reported' 'reporting' 'resources'\n",
      " 'responsible' 'revenue' 'robust' 'room' 'said' 'second' 'set' 'showed'\n",
      " 'specific' 'spending' 'spent' 'spokesman' 'stance' 'standards' 'state'\n",
      " 'states' 'statistics' 'strategic' 'strengthening' 'studied' 'sure'\n",
      " 'taxpayer' 'time' 'uk' 'urged' 'use' 'watchdog' 'ways' 'weed' 'wojahn'\n",
      " 'worth' 'year'] \n",
      "\n"
     ]
    }
   ],
   "source": [
    "write_terms(feature_names, X_train, train_vector_data, 229)"
   ]
  },
  {
   "cell_type": "markdown",
   "metadata": {},
   "source": [
    "Como vemos, el primer mensaje cuya clasificación falla es el texto número 229. La predicción era que su categoría iba a ser de _business_, pero realmente era de _politics_. Para poder ver fallos potenciales a la hora de predecir según palabras encontradas, vamos a ver cuáles son los términos más relevantes para cada una de estas dos categorías:"
   ]
  },
  {
   "cell_type": "code",
   "execution_count": 42,
   "metadata": {},
   "outputs": [],
   "source": [
    "def print_top20_features_per_class_in_NB(vectorizer, clf, class_labels):\n",
    "    \"\"\"Prints features with the highest coefficient values, per class\"\"\"\n",
    "    feature_names = vectorizer.get_feature_names()\n",
    "    print(\"Top 20 features per class\\n\")\n",
    "    for i, class_label in enumerate(class_labels):\n",
    "        l = min(20, len(clf.feature_log_prob_[i]))\n",
    "        top20 = np.argsort(clf.feature_log_prob_[i])[-l:]\n",
    "        reversed_top = top20[::-1]\n",
    "        \n",
    "        print(\"%s: %s\" % (class_label,\n",
    "              \" / \".join(feature_names[j] for j in reversed_top)),'\\n')\n",
    "        \n",
    "        #Descomentar para ver el índice de los términos en el diccionario\n",
    "        #print(\"%s \" % (\" / \".join(str(j) for j in reversed_top)),'\\n')"
   ]
  },
  {
   "cell_type": "code",
   "execution_count": 43,
   "metadata": {
    "scrolled": true
   },
   "outputs": [
    {
     "name": "stdout",
     "output_type": "stream",
     "text": [
      "Top 20 features per class\n",
      "\n",
      "business: said / growth / economy / market / bank / firm / year / mr / sales / economic / company / shares / oil / 2004 / dollar / china / prices / rates / business / profits \n",
      "\n",
      "entertainment: film / best / music / band / said / awards / album / actor / year / star / award / number / films / chart / oscar / tv / festival / director / won / comedy \n",
      "\n",
      "politics: mr / labour / said / election / blair / party / government / brown / minister / howard / prime / tax / people / tory / tories / lib / public / plans / chancellor / secretary \n",
      "\n",
      "sport: england / game / said / win / cup / match / chelsea / team / season / world / players / injury / arsenal / ireland / coach / club / time / wales / final / year \n",
      "\n",
      "tech: people / mobile / said / software / users / technology / microsoft / digital / phone / broadband / net / music / phones / games / search / service / computer / video / use / virus \n",
      "\n"
     ]
    }
   ],
   "source": [
    "print_top20_features_per_class_in_NB(vectorizer, mnb_classifier, sorted(list(set(y_test))))    "
   ]
  },
  {
   "cell_type": "markdown",
   "metadata": {},
   "source": [
    "Si analizamos las palabras más relevantes de las categorías _business_ y _politics_, vemos que muchas de ellas se repiten. Esto implica que estas dos categorías son similares y será difícil diferenciarlas. Si a esto le sumamos que la noticia en la posición 229 específicamente habla de economía política, tiene sentido que nuestro categorizador falle.\n",
    "\n",
    "Un ejemplo más simple para entender la justificación del fallo es pensar en una noticia que habla de que los políticos de un partido están organizando un torneo de tenis. La noticia tendría palabras muy específicas de ambas categorías, como por ejemplo el nombre del partido para _politics_ y \"raqueta\" para _sport_. Esto dificultaría mucho la categorización de la noticia."
   ]
  },
  {
   "cell_type": "markdown",
   "metadata": {},
   "source": [
    "Ahora vamos a buscar un mensaje mal clasificado por el k-NN con word-embeddings:"
   ]
  },
  {
   "cell_type": "code",
   "execution_count": 44,
   "metadata": {
    "scrolled": true
   },
   "outputs": [
    {
     "name": "stdout",
     "output_type": "stream",
     "text": [
      "k-NN: falla en la posicion 137\n",
      "Prediccion: politics\n",
      "Categoria real: entertainment\n"
     ]
    }
   ],
   "source": [
    "errorFound = False\n",
    "i = 0\n",
    "\n",
    "while not errorFound and i < len(knn_train_predictions):\n",
    "    if knn_train_predictions[i] != y_train[i]:\n",
    "        errorFound = True\n",
    "    else:\n",
    "        i += 1 # solo incrementamos la i si son iguales, porque si no queremos guardar la i que falla\n",
    "\n",
    "# una vez hemos encontrado un mensaje mal categorizado, analizamos su vector (posicion i)\n",
    "print(\"k-NN: falla en la posicion\", i)\n",
    "print(\"Prediccion:\", knn_train_predictions[i])\n",
    "print(\"Categoria real:\", y_train[i])"
   ]
  },
  {
   "cell_type": "markdown",
   "metadata": {},
   "source": [
    "Veamos el texto de la noticia cuya categorización falla:"
   ]
  },
  {
   "cell_type": "code",
   "execution_count": 45,
   "metadata": {
    "scrolled": false
   },
   "outputs": [
    {
     "name": "stdout",
     "output_type": "stream",
     "text": [
      "Mensaje 137 SIN vectorizar: tv show unites angolan families angolan families who are attempting to track each other down  after being separated by nearly 30 years of war  are succeeding thanks to a hugely popular tv show.  meeting point has become one of tv angola s most watched programmes  and has reunited hundreds of families. it runs daily  not only on the television but also on the radio. every friday  hundreds of people gather in luanda s independence square to record a message in front of the tv cameras  in the hope that a lost relative will see it. many relatives have been reunited on air.  at the beginning there was an absolute explosion - huge  huge crowds   sergio gera  the programme s chief co-ordinator  told bbc world service s assignment programme.  now things are a little calmer  there are slightly less people - but  after two and a half years of broadcasting  there are still a lot of people going.   the media in the southern african country  twice the size of france  has been gripped by the quest of so many people to find their relatives. hundreds of thousands of people died in angola s 30-year civil war  which finally ended in 2002  and tens of thousands of people are still missing. many have not heard anything for 10 or more years - in all  90% of angolan families have lost someone.  the idea of recording in independence square was modelled on a square in the argentine capital buenos aries  where mothers go to talk about the dead and the missing  and to exchange news. one woman  victoria lapete  found her sister - the only remaining member of her family - in independence square live on meeting point. she had not seen her sibling for 28 years.  when we saw each other  we threw ourselves into each other s arms   she told assignment.  we started to cry. i felt very  very happy  because i d spent so long without any family. suddenly i had a sister again.  however  angola is one of the poorest countries in africa  and the number of people with access to either a television or radio is comparatively few. this means that elsewhere in the country  the task of reuniting families lies primarily with the international committee of the red cross (icrc). in the city of wambo  the icrc runs the gazetta - a 200-page  tabloid-size book which contains 13 000 names of missing or displaced.  their task is made much harder by the huge number of landmines dotted around the country.  it s very difficult - there are many displaced   stated joaquim sahundi  head of tracing in wambo.   as they try to go back [home]  others are trying to relocate their relatives. many people are getting injured because of that - in the villages  in the bush  there has been no clearance of mines.  when people are crossing these areas  they step on mines.  the icrc also uses the media where it can  running four daily broadcasts of their lists of the missing on radio angola. meanwhile  there remain massive challenges to angolan families even once they are reunited.  the programme of family reunification is extremely important  but for these families to remain reunified  there has to be social integration  job access  education  healthcare   said rafael marques of the pro-democracy george soros foundation for southern africa.  essentially the government is waiting for the international community to pay for the reconstruction - that s why it has been persistently calling for a donor s conference. that is just a way of detaching itself from its political responsibilities. \n",
      "\n",
      "Mensaje 137 vectorizado: ['000' '10' '13' '200' '2002' '28' '30' '90' 'absolute' 'access' 'africa'\n",
      " 'african' 'air' 'angola' 'angolan' 'areas' 'argentine' 'aries' 'arms'\n",
      " 'assignment' 'attempting' 'bbc' 'beginning' 'book' 'broadcasting'\n",
      " 'broadcasts' 'buenos' 'bush' 'calling' 'calmer' 'cameras' 'capital'\n",
      " 'challenges' 'chief' 'city' 'civil' 'clearance' 'committee' 'community'\n",
      " 'comparatively' 'conference' 'contains' 'countries' 'country' 'cross'\n",
      " 'crossing' 'crowds' 'daily' 'dead' 'democracy' 'detaching' 'died'\n",
      " 'difficult' 'displaced' 'donor' 'dotted' 'education' 'ended'\n",
      " 'essentially' 'exchange' 'explosion' 'extremely' 'families' 'family'\n",
      " 'felt' 'finally' 'foundation' 'france' 'friday' 'gather' 'gazetta'\n",
      " 'george' 'gera' 'getting' 'going' 'government' 'gripped' 'half' 'happy'\n",
      " 'harder' 'head' 'healthcare' 'heard' 'home' 'hope' 'huge' 'hugely'\n",
      " 'hundreds' 'icrc' 'idea' 'important' 'independence' 'injured'\n",
      " 'integration' 'international' 'joaquim' 'job' 'just' 'landmines' 'lapete'\n",
      " 'lies' 'lists' 'little' 'live' 'long' 'lost' 'lot' 'luanda' 'marques'\n",
      " 'massive' 'means' 'media' 'meeting' 'member' 'message' 'mines' 'missing'\n",
      " 'modelled' 'mothers' 'names' 'nearly' 'news' 'number' 'ordinator' 'page'\n",
      " 'pay' 'people' 'persistently' 'point' 'political' 'poorest' 'popular'\n",
      " 'primarily' 'pro' 'programme' 'programmes' 'quest' 'radio' 'rafael'\n",
      " 'reconstruction' 'record' 'recording' 'red' 'relative' 'relatives'\n",
      " 'relocate' 'remain' 'remaining' 'responsibilities' 'reunification'\n",
      " 'reunified' 'reunited' 'reuniting' 'running' 'runs' 'sahundi' 'said'\n",
      " 'saw' 'seen' 'separated' 'sergio' 'service' 'sibling' 'sister' 'size'\n",
      " 'slightly' 'social' 'soros' 'southern' 'spent' 'square' 'started'\n",
      " 'stated' 'step' 'succeeding' 'suddenly' 'tabloid' 'talk' 'task'\n",
      " 'television' 'tens' 'thanks' 'things' 'thousands' 'threw' 'told'\n",
      " 'tracing' 'track' 'try' 'trying' 'tv' 'twice' 'unites' 'uses' 'victoria'\n",
      " 'villages' 'waiting' 'wambo' 'war' 'watched' 'way' 'woman' 'world' 'year'\n",
      " 'years'] \n",
      "\n"
     ]
    }
   ],
   "source": [
    "write_terms(feature_names, X_train, train_vector_data, 137)"
   ]
  },
  {
   "cell_type": "markdown",
   "metadata": {},
   "source": [
    "Como vemos al leer el texto, la noticia habla sobre una serie de televisión que trata de las miserias de familias de Angola dadas por años de guerra. Es por eso que en la word-embedding tomarán importancia palabras tanto de _entertainment_ como de _politics_. Por el mismo motivo que el mencionado en el análisis de la anterior noticia, el error del clasificador es justificable.\n",
    "\n",
    "En este caso tenemos el clasificador k-NN y la vectorización basada en word-embeddings. Como el tema de la noticia es el argumento de la serie y el argumento está basado en política, el clasificador lo mete en la categoría _politics_ porque tiene más términos relevantes de _politics_ que de _entertainment_.\n",
    "\n",
    "Han quedado analizados los motivos por los que fallan estas clasificaciones, y consideramos que son fallos justificables, comprensibles y con poca importancia."
   ]
  },
  {
   "cell_type": "markdown",
   "metadata": {},
   "source": [
    "Ahora, para poder ver dos categorías que se confunden mucho para el Naive Bayes con vectorización de frecuencias, vamos a ir mensaje a mensaje viendo cuáles han fallado. Cada vez que dos de ellos fallen, sumaremos 1 a la cuenta de fallos de ambas categorías (real y predicha). De esta forma, al final podremos ver cuáles son las dos categorías que más fallan:"
   ]
  },
  {
   "cell_type": "code",
   "execution_count": null,
   "metadata": {},
   "outputs": [],
   "source": [
    "for i in range(len(mnb_train_predictions)):\n",
    "    if mnb_train_predictions[i] != y_train[i]:\n",
    "        # el clasificador falla, sumamos 1 a ambas categorias\n",
    "        if mnb_train_predictions[i] == \"business\" or y_train[i] == \"business\":\n",
    "            business += 1\n",
    "        if mnb_train_predictions[i] == \"entertainment\" or y_train[i] == \"entertainment\":\n",
    "            entertainment += 1\n",
    "        if mnb_train_predictions[i] == \"politics\" or y_train[i] == \"politics\":\n",
    "            politics += 1\n",
    "        if mnb_train_predictions[i] == \"sport\" or y_train[i] == \"sport\":\n",
    "            sport += 1\n",
    "        if mnb_train_predictions[i] == \"tech\" or y_train[i] == \"tech\":\n",
    "            tech += 1\n",
    "\n",
    "print(\"Numero de fallos de cada categoria:\")\n",
    "print(\"business:\", business)\n",
    "print(\"entertainment:\", entertainment)\n",
    "print(\"politics:\", politics)\n",
    "print(\"sport:\", sport)\n",
    "print(\"tech:\", tech)"
   ]
  },
  {
   "cell_type": "markdown",
   "metadata": {},
   "source": [
    "Teniendo el número de fallos de cada categoría, ahora sí que podemos comparar los términos más relevantes de las dos categorías que más se confunden entre ellas."
   ]
  }
 ],
 "metadata": {
  "kernelspec": {
   "display_name": "Python 3 (ipykernel)",
   "language": "python",
   "name": "python3"
  },
  "language_info": {
   "codemirror_mode": {
    "name": "ipython",
    "version": 3
   },
   "file_extension": ".py",
   "mimetype": "text/x-python",
   "name": "python",
   "nbconvert_exporter": "python",
   "pygments_lexer": "ipython3",
   "version": "3.8.10"
  }
 },
 "nbformat": 4,
 "nbformat_minor": 2
}
