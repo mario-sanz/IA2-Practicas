{
 "cells": [
  {
   "cell_type": "markdown",
   "metadata": {
    "id": "jpd0gkGnpzXT"
   },
   "source": [
    "# Práctica 2: Procesamiento del Lenguaje Natural\n",
    "\n",
    "__Fecha de entrega: 17 de abril de 2022__\n",
    "\n",
    "El objetivo de esta práctica es aplicar los conceptos teóricos vistos en clase en el módulo de PLN. La práctica consta de 2 notebooks que se entregarán simultáneamente en la tarea de entrega habilitada en el Campus  Virtual.\n",
    "\n",
    "Lo más importante en esta práctica no es el código Python, sino el análisis de los datos y modelos que construyas y las explicaciones razonadas de cada una de las decisiones que tomes. __No se valorarán trozos de código o gráficas sin ningún tipo de contexto o explicación__.\n",
    "\n",
    "Finalmente, recuerda establecer el parámetro `random_state` en todas las funciones que tomen decisiones aleatorias para que los resultados sean reproducibles (los resultados no varíen entre ejecuciones)."
   ]
  },
  {
   "cell_type": "code",
   "execution_count": 1,
   "metadata": {
    "id": "IBx1oG6bpzXY"
   },
   "outputs": [],
   "source": [
    "RANDOM_STATE = 22"
   ]
  },
  {
   "cell_type": "markdown",
   "metadata": {
    "id": "TkJPtLPRpzXa"
   },
   "source": [
    "# Apartado 2: Recuperación de información"
   ]
  },
  {
   "cell_type": "markdown",
   "metadata": {
    "id": "RWQ9sB-ApzXc"
   },
   "source": [
    "__Número de grupo: 15__\n",
    "\n",
    "__Nombres de los estudiantes: Javier Sande Ríos y Mario Sanz Guerrero__"
   ]
  },
  {
   "cell_type": "markdown",
   "metadata": {
    "id": "W1iFIS_EpzXc"
   },
   "source": [
    "## 1) Carga del conjunto de datos\n",
    "\n",
    "El fichero `BBC News.csv` contiene noticias clasificadas en 5 categorías diferentes. \n",
    "\n",
    "Carga los datos en un dataframe teniendo en cuenta que la columna `ArticleId` es un identificador de la noticia y por lo tanto no lo vamos a usar. \n",
    "\n",
    "Estudia el tamaño del conjunto de datos y la proporción de noticias que pertenecen a cada una de las categorías.\n",
    "\n",
    "Crea una partición estratificada de los datos dejando el 80% para entrenamiento y el 20% restante para test usando la función `train_test_split` de sklearn. "
   ]
  },
  {
   "cell_type": "markdown",
   "metadata": {},
   "source": [
    "#### Solución:"
   ]
  },
  {
   "cell_type": "code",
   "execution_count": 2,
   "metadata": {
    "id": "ufbBvGcnpzXe"
   },
   "outputs": [],
   "source": [
    "import numpy as np\n",
    "import pandas as pd\n",
    "\n",
    "pd.set_option('display.float_format', lambda x: '%.3f' % x)"
   ]
  },
  {
   "cell_type": "code",
   "execution_count": 3,
   "metadata": {},
   "outputs": [
    {
     "data": {
      "text/html": [
       "<div>\n",
       "<style scoped>\n",
       "    .dataframe tbody tr th:only-of-type {\n",
       "        vertical-align: middle;\n",
       "    }\n",
       "\n",
       "    .dataframe tbody tr th {\n",
       "        vertical-align: top;\n",
       "    }\n",
       "\n",
       "    .dataframe thead th {\n",
       "        text-align: right;\n",
       "    }\n",
       "</style>\n",
       "<table border=\"1\" class=\"dataframe\">\n",
       "  <thead>\n",
       "    <tr style=\"text-align: right;\">\n",
       "      <th></th>\n",
       "      <th>ArticleId</th>\n",
       "      <th>Text</th>\n",
       "      <th>Category</th>\n",
       "    </tr>\n",
       "  </thead>\n",
       "  <tbody>\n",
       "    <tr>\n",
       "      <th>0</th>\n",
       "      <td>1833</td>\n",
       "      <td>worldcom ex-boss launches defence lawyers defe...</td>\n",
       "      <td>business</td>\n",
       "    </tr>\n",
       "    <tr>\n",
       "      <th>1</th>\n",
       "      <td>154</td>\n",
       "      <td>german business confidence slides german busin...</td>\n",
       "      <td>business</td>\n",
       "    </tr>\n",
       "    <tr>\n",
       "      <th>2</th>\n",
       "      <td>1101</td>\n",
       "      <td>bbc poll indicates economic gloom citizens in ...</td>\n",
       "      <td>business</td>\n",
       "    </tr>\n",
       "    <tr>\n",
       "      <th>3</th>\n",
       "      <td>1976</td>\n",
       "      <td>lifestyle  governs mobile choice  faster  bett...</td>\n",
       "      <td>tech</td>\n",
       "    </tr>\n",
       "    <tr>\n",
       "      <th>4</th>\n",
       "      <td>917</td>\n",
       "      <td>enron bosses in $168m payout eighteen former e...</td>\n",
       "      <td>business</td>\n",
       "    </tr>\n",
       "    <tr>\n",
       "      <th>...</th>\n",
       "      <td>...</td>\n",
       "      <td>...</td>\n",
       "      <td>...</td>\n",
       "    </tr>\n",
       "    <tr>\n",
       "      <th>1485</th>\n",
       "      <td>857</td>\n",
       "      <td>double eviction from big brother model caprice...</td>\n",
       "      <td>entertainment</td>\n",
       "    </tr>\n",
       "    <tr>\n",
       "      <th>1486</th>\n",
       "      <td>325</td>\n",
       "      <td>dj double act revamp chart show dj duo jk and ...</td>\n",
       "      <td>entertainment</td>\n",
       "    </tr>\n",
       "    <tr>\n",
       "      <th>1487</th>\n",
       "      <td>1590</td>\n",
       "      <td>weak dollar hits reuters revenues at media gro...</td>\n",
       "      <td>business</td>\n",
       "    </tr>\n",
       "    <tr>\n",
       "      <th>1488</th>\n",
       "      <td>1587</td>\n",
       "      <td>apple ipod family expands market apple has exp...</td>\n",
       "      <td>tech</td>\n",
       "    </tr>\n",
       "    <tr>\n",
       "      <th>1489</th>\n",
       "      <td>538</td>\n",
       "      <td>santy worm makes unwelcome visit thousands of ...</td>\n",
       "      <td>tech</td>\n",
       "    </tr>\n",
       "  </tbody>\n",
       "</table>\n",
       "<p>1490 rows × 3 columns</p>\n",
       "</div>"
      ],
      "text/plain": [
       "      ArticleId                                               Text  \\\n",
       "0          1833  worldcom ex-boss launches defence lawyers defe...   \n",
       "1           154  german business confidence slides german busin...   \n",
       "2          1101  bbc poll indicates economic gloom citizens in ...   \n",
       "3          1976  lifestyle  governs mobile choice  faster  bett...   \n",
       "4           917  enron bosses in $168m payout eighteen former e...   \n",
       "...         ...                                                ...   \n",
       "1485        857  double eviction from big brother model caprice...   \n",
       "1486        325  dj double act revamp chart show dj duo jk and ...   \n",
       "1487       1590  weak dollar hits reuters revenues at media gro...   \n",
       "1488       1587  apple ipod family expands market apple has exp...   \n",
       "1489        538  santy worm makes unwelcome visit thousands of ...   \n",
       "\n",
       "           Category  \n",
       "0          business  \n",
       "1          business  \n",
       "2          business  \n",
       "3              tech  \n",
       "4          business  \n",
       "...             ...  \n",
       "1485  entertainment  \n",
       "1486  entertainment  \n",
       "1487       business  \n",
       "1488           tech  \n",
       "1489           tech  \n",
       "\n",
       "[1490 rows x 3 columns]"
      ]
     },
     "execution_count": 3,
     "metadata": {},
     "output_type": "execute_result"
    }
   ],
   "source": [
    "df = pd.read_csv('BBC News.csv')\n",
    "df"
   ]
  },
  {
   "cell_type": "code",
   "execution_count": 4,
   "metadata": {},
   "outputs": [
    {
     "data": {
      "text/plain": [
       "sport            346\n",
       "business         336\n",
       "politics         274\n",
       "entertainment    273\n",
       "tech             261\n",
       "Name: Category, dtype: int64"
      ]
     },
     "execution_count": 4,
     "metadata": {},
     "output_type": "execute_result"
    }
   ],
   "source": [
    "df['Category'].value_counts()"
   ]
  },
  {
   "cell_type": "code",
   "execution_count": 5,
   "metadata": {
    "scrolled": true
   },
   "outputs": [
    {
     "data": {
      "text/plain": [
       "<AxesSubplot:>"
      ]
     },
     "execution_count": 5,
     "metadata": {},
     "output_type": "execute_result"
    },
    {
     "data": {
      "image/png": "[encoded data removed]",
      "text/plain": [
       "<Figure size 432x288 with 1 Axes>"
      ]
     },
     "metadata": {
      "needs_background": "light"
     },
     "output_type": "display_data"
    }
   ],
   "source": [
    "df['Category'].hist()"
   ]
  },
  {
   "cell_type": "markdown",
   "metadata": {},
   "source": [
    "Como podemos ver al hacer la funcion `value_counts()` y al ver el histograma, la cantidad de noticias pertenecientes a cada categoría varía bastante, pero no lo suficiente como para suponer un problema a la hora de clasificar las noticias según su categoría porque tenemos una cantidad suficiente de cada una.\n",
    "\n",
    "A continuación vamos a crear las particiones de los datos, a las que le daremos un 80% de los datos para entrenamiento y el 20% restante para test."
   ]
  },
  {
   "cell_type": "code",
   "execution_count": 6,
   "metadata": {},
   "outputs": [],
   "source": [
    "from sklearn.model_selection import train_test_split\n",
    "\n",
    "news = df['Text'].to_numpy()\n",
    "categories = df['Category'].to_numpy()\n",
    "\n",
    "X_train, X_test, y_train, y_test = train_test_split(news,\n",
    "                                                    categories,\n",
    "                                                    test_size = 0.2,\n",
    "                                                    random_state = RANDOM_STATE,\n",
    "                                                    shuffle = True,\n",
    "                                                    stratify = categories)"
   ]
  },
  {
   "cell_type": "markdown",
   "metadata": {
    "id": "3Fx5hJC7pzXf"
   },
   "source": [
    "## 2) Representación basada en bolsa de palabras y tf-idf\n",
    "\n",
    "La primera vectorización que vamos a usar representará los mensajes usando el modelo de bolsa de palabras, monogramas y el valor tf-idf de cada palabra. Usa como _stop words_ las que vienen configuradas por defecto para el inglés.\n",
    "\n",
    "Aplica la vectorización a los conjuntos de mensajes de entrenamiento y test. Muestra algún mensaje tanto en su formato de texto original como en la versión vectorizada. ¿Qué palabras se han eliminado y por qué?\n",
    "\n",
    "Calcula la precisión@5 de cada una de las clases usando como consultas los documentos de la partición de test y la similitud del coseno. Vamos a considerar que un documento recuperado es relevante cuando pertenezca a la misma clase que la consulta.\n",
    "\n",
    "Dibuja los resultados en un diagrama de barras y comenta las clases en las que se comporta mejor y peor. ¿Crees que los resultados son buenos?"
   ]
  },
  {
   "cell_type": "markdown",
   "metadata": {},
   "source": [
    "#### Solución:"
   ]
  },
  {
   "cell_type": "code",
   "execution_count": 7,
   "metadata": {
    "id": "wKdL2-VSpzXg"
   },
   "outputs": [],
   "source": [
    "from sklearn.feature_extraction.text import CountVectorizer\n",
    "\n",
    "vectorizer = CountVectorizer(stop_words = 'english',\n",
    "                             binary = False, # frecuencia de aparición (NO simplemente si aparece o no)\n",
    "                             ngram_range=(1,1), # solo monogramas\n",
    "                             token_pattern=r'(?u)\\b[A-Za-z]+\\b') # solo palabras que tengan letras\n",
    "\n",
    "train_vector_data = vectorizer.fit_transform(X_train)"
   ]
  },
  {
   "cell_type": "code",
   "execution_count": 8,
   "metadata": {},
   "outputs": [],
   "source": [
    "from sklearn.feature_extraction.text import TfidfTransformer \n",
    "\n",
    "tfidftrans = TfidfTransformer()\n",
    "train_preprocessed = tfidftrans.fit_transform(train_vector_data)"
   ]
  },
  {
   "cell_type": "code",
   "execution_count": 9,
   "metadata": {},
   "outputs": [],
   "source": [
    "import numpy as np\n",
    "import numpy.ma as ma\n",
    "\n",
    "def write_terms (feature_names, data, vector_data, index):\n",
    "    '''\n",
    "    Escribe los términos presentes en un mensaje representado como bolsa de palabras.\n",
    "    \n",
    "    - feature_names: terminos usados para vectorizar\n",
    "    - data: lista de mensajes original (si data==None no se muestra el mensaje original)\n",
    "    - vector_data: matriz (dispersa) de mensaje vectorizados\n",
    "    - index: posición del mensaje a mostrar\n",
    "    '''\n",
    "    # máscara para seleccionar sólo el mensaje en posición index\n",
    "    mask=vector_data[index,:]>0\n",
    "    \n",
    "    # términos que aparecen en ese mensaje vectorizado\n",
    "    terminos = ma.array(feature_names, mask = ~(mask[0].toarray()))\n",
    "    \n",
    "    # mostrar mensaje original\n",
    "    if data is not None:\n",
    "        print('Mensaje', index, 'SIN vectorizar:', data[index], '\\n')\n",
    "    \n",
    "    # mostrar términos que aparecen en el mensaje vectorizado\n",
    "    print('Mensaje', index, 'vectorizado:', terminos.compressed(),'\\n')"
   ]
  },
  {
   "cell_type": "code",
   "execution_count": 10,
   "metadata": {
    "scrolled": true
   },
   "outputs": [
    {
     "name": "stdout",
     "output_type": "stream",
     "text": [
      "Mensaje 10 SIN vectorizar: blair ready to call election tony blair seems certain to end weeks of phoney war on monday and announce there will be a general election on 5 may.  the date has been pencilled into the diaries of politicians and political journalists for many months and  despite occasional panics that the prime minister was on the verge of calling a snap poll  it has not shifted. over the weeks  there have been any number of signs that 050505 was going to be the day mr blair would go for an historic third term. and the calling of a special political cabinet meeting has only added to the belief that the announcement is imminent. the prime minister and his campaign boss alan milburn have already insisted the election will be fought on the economy and what they claim is a stark choice between labour s stability and investment against tory cuts and boom and bust.  and chancellor gordon brown has stepped into the front line of the campaign - to the relief of many of his supporters in westminster - to underline that economic message. and it is certain one of the big arguments at the centre of the election battle will be around the big parties  tax and spend policies.  during the phoney campaign  labour got into trouble over its central claim that michael howard was planning £35 bn cuts in public services. the prime minister found himself struggling to explain how a smaller  slower increase in spending planned by the tories compared to labour s plans was a cut. and it looked like the labour campaign - which was already being criticised for being thrown into defensive mode by mr howard on issues such as immigration and health - was on the rocks. then deputy conservative chairman howard flight was reported to have suggested mr howard was secretly planning even bigger  cuts .  he was sacked for his gaffe  but the damage had been done and the faltering labour campaign was back on track. a second central argument will be over taxation  with the tories claiming the chancellor has to fill a black hole at the centre of his finances and will be forced to raise taxes if labour wins again. mr brown slaps that aside  claiming his forecasts are accurate and that previous claims of looming economic disaster have proved inaccurate. as usual  the liberal democrats will have to fight to get their voice heard over the sounds of battle between the two big parties. but leader charles kennedy believes he has set out a distinctive manifesto with plans for a tax rise for the wealthiest to finance extra spending and the abolition of the council tax in favour of a local income tax. other issues are certain to play a part - immigration and asylum  the war on iraq  law and order and education  for example. but  as ever  it will be the economy that will almost certainly decide the outcome. and  whatever that outcome  2005 is set to be a far more lively  even bitter campaign than 2001 s non-event. \n",
      "\n",
      "Mensaje 10 vectorizado: ['abolition' 'accurate' 'added' 'alan' 'announce' 'announcement'\n",
      " 'argument' 'arguments' 'aside' 'asylum' 'battle' 'belief' 'believes'\n",
      " 'big' 'bigger' 'bitter' 'black' 'blair' 'bn' 'boom' 'boss' 'brown' 'bust'\n",
      " 'cabinet' 'calling' 'campaign' 'central' 'centre' 'certain' 'certainly'\n",
      " 'chairman' 'chancellor' 'charles' 'choice' 'claim' 'claiming' 'claims'\n",
      " 'compared' 'conservative' 'council' 'criticised' 'cut' 'cuts' 'damage'\n",
      " 'date' 'day' 'decide' 'defensive' 'democrats' 'deputy' 'despite'\n",
      " 'diaries' 'disaster' 'distinctive' 'economic' 'economy' 'education'\n",
      " 'election' 'end' 'event' 'example' 'explain' 'extra' 'faltering' 'far'\n",
      " 'favour' 'fight' 'finance' 'finances' 'flight' 'forced' 'forecasts'\n",
      " 'fought' 'gaffe' 'general' 'going' 'gordon' 'got' 'health' 'heard'\n",
      " 'historic' 'hole' 'howard' 'immigration' 'imminent' 'inaccurate' 'income'\n",
      " 'increase' 'insisted' 'investment' 'iraq' 'issues' 'journalists'\n",
      " 'kennedy' 'labour' 'law' 'leader' 'liberal' 'like' 'line' 'lively'\n",
      " 'local' 'looked' 'looming' 'manifesto' 'meeting' 'message' 'michael'\n",
      " 'milburn' 'minister' 'mode' 'monday' 'months' 'mr' 'non' 'number'\n",
      " 'occasional' 'order' 'outcome' 'panics' 'parties' 'pencilled' 'phoney'\n",
      " 'planned' 'planning' 'plans' 'play' 'policies' 'political' 'politicians'\n",
      " 'poll' 'previous' 'prime' 'proved' 'public' 'raise' 'ready' 'relief'\n",
      " 'reported' 'rise' 'rocks' 's' 'sacked' 'second' 'secretly' 'services'\n",
      " 'set' 'shifted' 'signs' 'slaps' 'slower' 'smaller' 'snap' 'sounds'\n",
      " 'special' 'spend' 'spending' 'stability' 'stark' 'stepped' 'struggling'\n",
      " 'suggested' 'supporters' 'tax' 'taxation' 'taxes' 'term' 'thrown' 'tony'\n",
      " 'tories' 'tory' 'track' 'trouble' 'underline' 'usual' 'verge' 'voice'\n",
      " 'war' 'wealthiest' 'weeks' 'westminster' 'wins'] \n",
      "\n"
     ]
    },
    {
     "name": "stderr",
     "output_type": "stream",
     "text": [
      "/home/mario/.local/lib/python3.8/site-packages/sklearn/utils/deprecation.py:87: FutureWarning: Function get_feature_names is deprecated; get_feature_names is deprecated in 1.0 and will be removed in 1.2. Please use get_feature_names_out instead.\n",
      "  warnings.warn(msg, category=FutureWarning)\n"
     ]
    }
   ],
   "source": [
    "feature_names = vectorizer.get_feature_names()\n",
    "write_terms(feature_names, X_train, train_preprocessed, 10)"
   ]
  },
  {
   "cell_type": "markdown",
   "metadata": {},
   "source": [
    "Como vemos, el mensaje vectorizado es un conjunto de todas las palabras que contiene el mensaje. Al ser un conjunto, cada palabra aparece una sola vez, pero internamente tiene almacenada la frecuencia de aparición de cada palabra, ya que así se lo hemos pedido al poner la variable `binary = False` en la inicialización de `vectorizer`.\n",
    "\n",
    "Para estudiar las palabras eliminadas al aplicar la vectorización vamos a hacer una función similar a la anterior. Esta función (`palabras_eliminadas`) va a iterar por cada palabra del texto original y la buscará en el conjunto del mensaje vectorizado. En caso de que el conjunto no incluya esta palabra, será porque se ha eliminado. Estas palabras serán impresas por la función."
   ]
  },
  {
   "cell_type": "code",
   "execution_count": 11,
   "metadata": {},
   "outputs": [],
   "source": [
    "def palabras_eliminadas (feature_names, data, vector_data, index):\n",
    "    # máscara para seleccionar sólo el mensaje en posición index\n",
    "    mask=vector_data[index,:]>0\n",
    "    \n",
    "    # términos que aparecen en ese mensaje vectorizado\n",
    "    terminos = ma.array(feature_names, mask = ~(mask[0].toarray()))\n",
    "    conjunto = terminos.compressed()\n",
    "    \n",
    "    # mensaje original\n",
    "    for palabra in data[index].split():\n",
    "        if palabra not in conjunto:\n",
    "            print(palabra)"
   ]
  },
  {
   "cell_type": "code",
   "execution_count": 12,
   "metadata": {},
   "outputs": [
    {
     "name": "stdout",
     "output_type": "stream",
     "text": [
      "to\n",
      "call\n",
      "seems\n",
      "to\n",
      "of\n",
      "on\n",
      "and\n",
      "there\n",
      "will\n",
      "be\n",
      "a\n",
      "on\n",
      "5\n",
      "may.\n",
      "the\n",
      "has\n",
      "been\n",
      "into\n",
      "the\n",
      "of\n",
      "and\n",
      "for\n",
      "many\n",
      "and\n",
      "that\n",
      "the\n",
      "was\n",
      "on\n",
      "the\n",
      "of\n",
      "a\n",
      "it\n",
      "has\n",
      "not\n",
      "shifted.\n",
      "over\n",
      "the\n",
      "there\n",
      "have\n",
      "been\n",
      "any\n",
      "of\n",
      "that\n",
      "050505\n",
      "was\n",
      "to\n",
      "be\n",
      "the\n",
      "would\n",
      "go\n",
      "for\n",
      "an\n",
      "third\n",
      "term.\n",
      "and\n",
      "the\n",
      "of\n",
      "a\n",
      "has\n",
      "only\n",
      "to\n",
      "the\n",
      "that\n",
      "the\n",
      "is\n",
      "imminent.\n",
      "the\n",
      "and\n",
      "his\n",
      "have\n",
      "already\n",
      "the\n",
      "will\n",
      "be\n",
      "on\n",
      "the\n",
      "and\n",
      "what\n",
      "they\n",
      "is\n",
      "a\n",
      "between\n",
      "and\n",
      "against\n",
      "and\n",
      "and\n",
      "bust.\n",
      "and\n",
      "has\n",
      "into\n",
      "the\n",
      "front\n",
      "of\n",
      "the\n",
      "-\n",
      "to\n",
      "the\n",
      "of\n",
      "many\n",
      "of\n",
      "his\n",
      "in\n",
      "-\n",
      "to\n",
      "that\n",
      "message.\n",
      "and\n",
      "it\n",
      "is\n",
      "one\n",
      "of\n",
      "the\n",
      "at\n",
      "the\n",
      "of\n",
      "the\n",
      "will\n",
      "be\n",
      "around\n",
      "the\n",
      "and\n",
      "policies.\n",
      "during\n",
      "the\n",
      "into\n",
      "over\n",
      "its\n",
      "that\n",
      "was\n",
      "£35\n",
      "in\n",
      "services.\n",
      "the\n",
      "found\n",
      "himself\n",
      "to\n",
      "how\n",
      "a\n",
      "in\n",
      "by\n",
      "the\n",
      "to\n",
      "was\n",
      "a\n",
      "cut.\n",
      "and\n",
      "it\n",
      "the\n",
      "-\n",
      "which\n",
      "was\n",
      "already\n",
      "being\n",
      "for\n",
      "being\n",
      "into\n",
      "by\n",
      "on\n",
      "such\n",
      "as\n",
      "and\n",
      "-\n",
      "was\n",
      "on\n",
      "the\n",
      "rocks.\n",
      "then\n",
      "was\n",
      "to\n",
      "have\n",
      "was\n",
      "even\n",
      ".\n",
      "he\n",
      "was\n",
      "for\n",
      "his\n",
      "but\n",
      "the\n",
      "had\n",
      "been\n",
      "done\n",
      "and\n",
      "the\n",
      "was\n",
      "back\n",
      "on\n",
      "track.\n",
      "a\n",
      "will\n",
      "be\n",
      "over\n",
      "with\n",
      "the\n",
      "the\n",
      "has\n",
      "to\n",
      "fill\n",
      "a\n",
      "at\n",
      "the\n",
      "of\n",
      "his\n",
      "and\n",
      "will\n",
      "be\n",
      "to\n",
      "if\n",
      "again.\n",
      "that\n",
      "his\n",
      "are\n",
      "and\n",
      "that\n",
      "of\n",
      "have\n",
      "inaccurate.\n",
      "as\n",
      "the\n",
      "will\n",
      "have\n",
      "to\n",
      "to\n",
      "get\n",
      "their\n",
      "over\n",
      "the\n",
      "of\n",
      "between\n",
      "the\n",
      "two\n",
      "parties.\n",
      "but\n",
      "he\n",
      "has\n",
      "out\n",
      "a\n",
      "with\n",
      "for\n",
      "a\n",
      "for\n",
      "the\n",
      "to\n",
      "and\n",
      "the\n",
      "of\n",
      "the\n",
      "in\n",
      "of\n",
      "a\n",
      "tax.\n",
      "other\n",
      "are\n",
      "to\n",
      "a\n",
      "part\n",
      "-\n",
      "and\n",
      "the\n",
      "on\n",
      "and\n",
      "and\n",
      "for\n",
      "example.\n",
      "but\n",
      "as\n",
      "ever\n",
      "it\n",
      "will\n",
      "be\n",
      "the\n",
      "that\n",
      "will\n",
      "almost\n",
      "the\n",
      "outcome.\n",
      "and\n",
      "whatever\n",
      "that\n",
      "2005\n",
      "is\n",
      "to\n",
      "be\n",
      "a\n",
      "more\n",
      "even\n",
      "than\n",
      "2001\n",
      "non-event.\n"
     ]
    }
   ],
   "source": [
    "palabras_eliminadas(feature_names, X_train, train_vector_data, 10)"
   ]
  },
  {
   "cell_type": "markdown",
   "metadata": {},
   "source": [
    "Si analizamos las palabras que han sido eliminadas, todas ellas son palabras en inglés que se repiten mucho y que no aportan conocimiento al mensaje. Simplemente aportan corrección sintáctica, pero son palabras vacías, lo que conocemos como **stop words**. Si revisamos la inicialización de `vectorizer`, vemos que le habíamos pedido que quitara las stop words del inglés, así que es correcto que estas palabras no hayan sido incluidas en la vectorización.\n",
    "\n",
    "Vamos a hacer lo mismo pero para el conjunto de test:"
   ]
  },
  {
   "cell_type": "code",
   "execution_count": 13,
   "metadata": {},
   "outputs": [],
   "source": [
    "# IMPORTANTE: Para el conjunto de test no hace falta el \"fit\", ya que vamos a usar solo las palabras\n",
    "# encontradas en el conjunto de entrenamiento, por lo que haremos solo \"transform\"\n",
    "test_vector_data = vectorizer.transform(X_test)\n",
    "# Calculamos también su valor TF-IDF (el IDF es el del conjunto de entrenamiento)\n",
    "test_preprocessed = tfidftrans.transform(test_vector_data)"
   ]
  },
  {
   "cell_type": "markdown",
   "metadata": {},
   "source": [
    "Definimos una serie de funciones para calcular la precisión@5 de cada una de las clases."
   ]
  },
  {
   "cell_type": "code",
   "execution_count": 14,
   "metadata": {},
   "outputs": [],
   "source": [
    "from sklearn.metrics.pairwise import cosine_similarity\n",
    "\n",
    "def knn(query, X_train, k):\n",
    "    '''Devuelve los índices de los k documentos de entrenamiento más similares a la consulta usando \n",
    "    la similitud del coseno.\n",
    "    \n",
    "    Parámetros:\n",
    "    - query: documento consulta vectorizado\n",
    "    - X_train: documentos de entrenamiento vectorizados\n",
    "    - k: número de documentos a recuperar\n",
    "    \n",
    "    Devuelve:\n",
    "    - índices de los k documentos más similares a la consulta.\n",
    "    '''\n",
    "    \n",
    "    # Necesitamos un vector de dimensión (1, X). Si se pasa un vector de dimensión X, transformarlo\n",
    "    if len(query.shape) == 1:\n",
    "        query = query.reshape(1, -1)\n",
    "\n",
    "    simil = cosine_similarity(query, X_train)\n",
    "    simil_idx = np.argsort(simil.flatten())\n",
    "    simil_idx = simil_idx[::-1]\n",
    "    return simil_idx[:k]"
   ]
  },
  {
   "cell_type": "code",
   "execution_count": 15,
   "metadata": {},
   "outputs": [],
   "source": [
    "def precision_at_k(y_selected, y_real, k):\n",
    "    '''Devuelve la precisión @k de los documentos seleccionados.\n",
    "    \n",
    "    Parametros:\n",
    "    - y_selected: etiquetas de los documentos seleccionados (se usan los k primeros)\n",
    "    - y_real: etiqueta de la categoría correcta\n",
    "    - k: número de documentos que se tienen en cuenta\n",
    "    \n",
    "    Devuelve:\n",
    "    - Precisión@k\n",
    "    '''\n",
    "    \n",
    "    return np.sum(y_selected[:k] == y_real) / k * 100"
   ]
  },
  {
   "cell_type": "code",
   "execution_count": 16,
   "metadata": {},
   "outputs": [],
   "source": [
    "def mean_precisions_per_class(X_train, y_train, X_test, y_test, k):\n",
    "    '''Devuelve las precision@k media para cada una de las classes.\n",
    "    \n",
    "    Parámetros:\n",
    "    - X_train: documentos de entrenamiento vectorizados.\n",
    "    - y_train: etiquetas de los documentos de entrenamiento.\n",
    "    - X_test: documentos vectorizados que se usan como consultas\n",
    "    - y_test: etiquetas de los documentos que se usan como consultas\n",
    "    - k: número de documentos considerados a recuperar por la consulta\n",
    "    \n",
    "    Devuelve:\n",
    "    - Diccionario clase -> precisión en tanto por ciento.\n",
    "    '''\n",
    "    \n",
    "    # diccionario categoría -> lista de precisiones\n",
    "    y_precisions = {y: [] for y in np.unique(y_test)}\n",
    "    \n",
    "    # Calcular precision@k para cada consulta\n",
    "    for x_query, y_query in zip(X_test, y_test):\n",
    "        idx = knn(x_query, X_train, k)\n",
    "        y_selected = np.take(y_train, idx)\n",
    "        precision = precision_at_k(y_selected, y_query, k)\n",
    "        y_precisions[y_query].append(precision)\n",
    "        \n",
    "    # Calcular medias\n",
    "    for y in y_precisions:\n",
    "        y_precisions[y] = np.mean(y_precisions[y])\n",
    "    \n",
    "    return y_precisions"
   ]
  },
  {
   "cell_type": "markdown",
   "metadata": {},
   "source": [
    "Vamos a realizar el cálculo y análisis de la precisión@5."
   ]
  },
  {
   "cell_type": "code",
   "execution_count": 17,
   "metadata": {},
   "outputs": [
    {
     "data": {
      "text/plain": [
       "{'business': 84.77611940298507,\n",
       " 'entertainment': 87.27272727272727,\n",
       " 'politics': 90.9090909090909,\n",
       " 'sport': 95.94202898550725,\n",
       " 'tech': 86.92307692307692}"
      ]
     },
     "execution_count": 17,
     "metadata": {},
     "output_type": "execute_result"
    }
   ],
   "source": [
    "p5_tfidf = mean_precisions_per_class(train_preprocessed, y_train, test_preprocessed, y_test, 5)\n",
    "p5_tfidf"
   ]
  },
  {
   "cell_type": "markdown",
   "metadata": {},
   "source": [
    "Para facilitar el análisis y lectura de estos resultados, vamos a dibujarlos en un diagrama de barras."
   ]
  },
  {
   "cell_type": "code",
   "execution_count": 18,
   "metadata": {},
   "outputs": [
    {
     "data": {
      "text/plain": [
       "<AxesSubplot:>"
      ]
     },
     "execution_count": 18,
     "metadata": {},
     "output_type": "execute_result"
    },
    {
     "data": {
      "image/png": "[encoded data removed]",
      "text/plain": [
       "<Figure size 432x288 with 1 Axes>"
      ]
     },
     "metadata": {
      "needs_background": "light"
     },
     "output_type": "display_data"
    }
   ],
   "source": [
    "import pandas as pd\n",
    "\n",
    "df_p5 = pd.DataFrame.from_dict(p5_tfidf, orient='index', columns=['precision@5'])\n",
    "\n",
    "df_p5[\"target\"] = list(set(y_test))\n",
    "\n",
    "d = df_p5.set_index(\"target\")\n",
    "\n",
    "df_p5.plot.bar()"
   ]
  },
  {
   "cell_type": "markdown",
   "metadata": {},
   "source": [
    "Vemos unos resultados muy buenos con una precisión muy alta. Los porcentajes de precisión varían entre el 85% y el 95%, aproximadamente. Estos son valores muy buenos.\n",
    "\n",
    "La categoría de deportes es la que mejor precisión tiene con bastante diferencia. Esto se debe a que seguramente se use vocabulario muy específico, ya que será complicado por ejemplo encontrar la palabra _gol_ en el resto de categorías.\n",
    "\n",
    "Las categorías con peor precisión son las de tecnología y negocios, seguramente por lo contrario al caso anterior. Usarán vocabulario más genérico o más compartido entre ellas. Por ejemplo, la palabra _Excel_ podría estar perfectamente en cualquiera de las dos categorías, refiriendose a una fuente de información económica (negocios) o a una actualización del software (tecnología).\n",
    "\n",
    "A pesar de estas pequeños fallos en la precisión, los resultados obtenidos son muy buenos."
   ]
  },
  {
   "cell_type": "markdown",
   "metadata": {
    "id": "lH7sldldpzXi"
   },
   "source": [
    "## 3) Representación basada en word-embeddings y tf-idf\n",
    "\n",
    "La segunda vectorización que vamos a usar representará los mensajes usando usando word-embeddings usando como pesos la frecuencia de aparición de cada palabra. Al igual que en el apartado anterior, usaremos monogramas y las _stop words_ que vienen configuradas por defecto para el inglés. Recuerda usar como vocabulario para vectorizar el vocabulario del fichero con las word-embeddings.\n",
    "\n",
    "Aplica la vectorización a los conjuntos de mensajes de entrenamiento y test.\n",
    "\n",
    "Calcula la precisión@5 de cada una de las clases usando como consultas los documentos de la partición de test y la similitud del coseno. Vamos a considerar que un documento recuperado es relevante cuando pertenezca a la misma clase que la consulta.\n",
    "\n",
    "Dibuja los resultados en un diagrama de barras y compara los resultados con los del apartado anterior."
   ]
  },
  {
   "cell_type": "markdown",
   "metadata": {},
   "source": [
    "#### Solución:"
   ]
  },
  {
   "cell_type": "markdown",
   "metadata": {},
   "source": [
    "Vamos crear el modelo de word-embedding"
   ]
  },
  {
   "cell_type": "code",
   "execution_count": 19,
   "metadata": {},
   "outputs": [],
   "source": [
    "from gensim.scripts.glove2word2vec import glove2word2vec\n",
    "from gensim.models import KeyedVectors\n",
    "\n",
    "# Traducimos el fichero glove a un fichero con formato word2vec\n",
    "glove_file = 'glove.6B.50d.txt'\n",
    "\n",
    "model = KeyedVectors.load_word2vec_format(glove_file, binary=False, no_header=True)"
   ]
  },
  {
   "cell_type": "markdown",
   "metadata": {},
   "source": [
    "Usaremos como vocabulario solamente las palabras presentes en la word-embedding"
   ]
  },
  {
   "cell_type": "code",
   "execution_count": 20,
   "metadata": {
    "scrolled": true
   },
   "outputs": [
    {
     "name": "stdout",
     "output_type": "stream",
     "text": [
      "['the', ',', '.', 'of', 'to', 'and', 'in', 'a', '\"', \"'s\", 'for', '-', 'that', 'on', 'is', 'was', 'said', 'with', 'he', 'as', 'it', 'by', 'at', '(', ')', 'from', 'his', \"''\", '``', 'an', 'be', 'has', 'are', 'have', 'but', 'were', 'not', 'this', 'who', 'they', 'had', 'i', 'which', 'will', 'their', ':', 'or', 'its', 'one', 'after', 'new', 'been', 'also', 'we', 'would', 'two', 'more', \"'\", 'first', 'about', 'up', 'when', 'year', 'there', 'all', '--', 'out', 'she', 'other', 'people', \"n't\", 'her', 'percent', 'than', 'over', 'into', 'last', 'some', 'government', 'time', '$', 'you', 'years', 'if', 'no', 'world', 'can', 'three', 'do', ';', 'president', 'only', 'state', 'million', 'could', 'us', 'most', '_', 'against', 'u.s.']\n"
     ]
    }
   ],
   "source": [
    "we_vocabulary = list(model.key_to_index.keys())\n",
    "\n",
    "print(we_vocabulary[0:100])"
   ]
  },
  {
   "cell_type": "markdown",
   "metadata": {},
   "source": [
    "Con el CountVectorizer calcularemos la frecuencia de las palabras que aparecen en cada documento. Para evitarnos tener que elminar las palabras que no pertenecen a la word-embedding, le pasaremos al CountVectorizer las palabras que queremos que reconozca mediante el atributo vocabulary."
   ]
  },
  {
   "cell_type": "code",
   "execution_count": 21,
   "metadata": {},
   "outputs": [],
   "source": [
    "from sklearn.feature_extraction.text import CountVectorizer\n",
    "we_vectorizer = CountVectorizer(vocabulary = we_vocabulary,\n",
    "                                stop_words = 'english',\n",
    "                                binary = False, # frecuencia de aparición (NO simplemente si aparece o no)\n",
    "                                lowercase = False, # para considerar palabras del texto en mayusucla\n",
    "                                ngram_range=(1,1)) # solo monogramas"
   ]
  },
  {
   "cell_type": "code",
   "execution_count": 22,
   "metadata": {},
   "outputs": [],
   "source": [
    "train_we = we_vectorizer.fit_transform(X_train)"
   ]
  },
  {
   "cell_type": "code",
   "execution_count": 23,
   "metadata": {},
   "outputs": [
    {
     "data": {
      "text/plain": [
       "array([[0, 0, 0, ..., 0, 0, 0],\n",
       "       [0, 0, 0, ..., 0, 0, 0],\n",
       "       [0, 0, 0, ..., 0, 0, 0],\n",
       "       ...,\n",
       "       [0, 0, 0, ..., 0, 0, 0],\n",
       "       [0, 0, 0, ..., 0, 0, 0],\n",
       "       [0, 0, 0, ..., 0, 0, 0]])"
      ]
     },
     "execution_count": 23,
     "metadata": {},
     "output_type": "execute_result"
    }
   ],
   "source": [
    "train_we.toarray()"
   ]
  },
  {
   "cell_type": "markdown",
   "metadata": {},
   "source": [
    "Vamos a definir una función que nos permita calcular los vectores medios de cada documento a partir del word-embedding:"
   ]
  },
  {
   "cell_type": "code",
   "execution_count": 24,
   "metadata": {},
   "outputs": [],
   "source": [
    "from scipy.sparse import find\n",
    "\n",
    "\n",
    "def create_doc_embedding (doc_matrix_word_freq, keyedvectors):\n",
    "    \"\"\"\n",
    "    create_doc_embedding creates a doc-embedding matrix where rows are the \n",
    "    documents and columns are the dimensions of the word-embedding. Each row r\n",
    "    summarizes the vectors of the word-embeddings present in document r\n",
    "\n",
    "    :param doc_matrix_word_freq: frequency matrix of the terms in each document\n",
    "            It admits binary values, frequencies or weights.\n",
    "            It admits the output of vectorizer.fit_transform\n",
    "    :param keyedvectors: keyedvectors object from Gensim which has the \n",
    "            word-embedding information\n",
    "    :return: returns the doc-embedding matrix that summarizes the \n",
    "             vector-embeddings of the words present in each document\n",
    "    \"\"\" \n",
    "\n",
    "    \n",
    "    num_docs, num_words= doc_matrix_word_freq.get_shape()\n",
    "\n",
    "    # Creamos la matriz de documentos con tantas columnas como dimensiones tiene el we \n",
    "    doc_embed_matrix = np.zeros([num_docs,keyedvectors.vector_size])\n",
    "\n",
    "\n",
    "    # Obtenemos los documentos\n",
    "    docs, col, val = find(doc_matrix_word_freq)\n",
    "    docs = np.unique(docs)\n",
    "\n",
    "    # Para cada documento (esto se podrá hacer de forma más pythonica)\n",
    "    for doc in docs:\n",
    "      # Obtenemos las palabras presentes en el documento y su frecuencia\n",
    "      row, words, frecs = find(doc_matrix_word_freq[doc,:])\n",
    "\n",
    "      # Calculamos el vector medio para el documento\n",
    "      # Para ello recuperamos los vectores del we presentes en el documento y \n",
    "      # los promediamos teniendo en cuenta su frecuencia\n",
    "      count = 0\n",
    "      for w,f in zip(words,frecs):\n",
    "        doc_embed_matrix[doc,:] = doc_embed_matrix[doc,:] + (keyedvectors[w] * f)\n",
    "        count = count +1\n",
    "      doc_embed_matrix[doc,:] = doc_embed_matrix[doc,:]/count\n",
    "    \n",
    "      \n",
    "    return doc_embed_matrix"
   ]
  },
  {
   "cell_type": "markdown",
   "metadata": {},
   "source": [
    "Ahora vamos a calcular los vectores medios de cada documento:"
   ]
  },
  {
   "cell_type": "code",
   "execution_count": 25,
   "metadata": {},
   "outputs": [],
   "source": [
    "train_embeding = create_doc_embedding(train_we, model)"
   ]
  },
  {
   "cell_type": "code",
   "execution_count": 26,
   "metadata": {},
   "outputs": [],
   "source": [
    "# Hacemos lo mismo pero para el conjunto de test:\n",
    "# IMPORTANTE: Para el conjunto de test no hace falta el \"fit\", ya que vamos a usar solo las palabras\n",
    "# encontradas en el conjunto de entrenamiento, por lo que haremos solo \"transform\"\n",
    "test_we = we_vectorizer.transform(X_test)\n",
    "# Calculamos también los vectores medios de cada documento\n",
    "test_embeding = create_doc_embedding(test_we, model)"
   ]
  },
  {
   "cell_type": "markdown",
   "metadata": {},
   "source": [
    "Vamos a realizar el cálculo y análisis de la precisión@5."
   ]
  },
  {
   "cell_type": "code",
   "execution_count": 27,
   "metadata": {},
   "outputs": [
    {
     "data": {
      "text/plain": [
       "{'business': 88.35820895522389,\n",
       " 'entertainment': 96.72727272727273,\n",
       " 'politics': 93.45454545454545,\n",
       " 'sport': 100.0,\n",
       " 'tech': 93.84615384615384}"
      ]
     },
     "execution_count": 27,
     "metadata": {},
     "output_type": "execute_result"
    }
   ],
   "source": [
    "p5_we = mean_precisions_per_class(train_embeding, y_train, test_embeding, y_test, 5)\n",
    "p5_we"
   ]
  },
  {
   "cell_type": "markdown",
   "metadata": {},
   "source": [
    "Para facilitar el análisis y lectura de estos resultados, vamos a dibujarlos en un diagrama de barras."
   ]
  },
  {
   "cell_type": "code",
   "execution_count": 28,
   "metadata": {
    "scrolled": true
   },
   "outputs": [
    {
     "data": {
      "text/plain": [
       "<AxesSubplot:>"
      ]
     },
     "execution_count": 28,
     "metadata": {},
     "output_type": "execute_result"
    },
    {
     "data": {
      "image/png": "[encoded data removed]",
      "text/plain": [
       "<Figure size 432x288 with 1 Axes>"
      ]
     },
     "metadata": {
      "needs_background": "light"
     },
     "output_type": "display_data"
    }
   ],
   "source": [
    "import pandas as pd\n",
    "\n",
    "df_p5 = pd.DataFrame.from_dict(p5_we, orient='index', columns=['precision@5'])\n",
    "\n",
    "df_p5[\"target\"] = list(set(y_test))\n",
    "\n",
    "d = df_p5.set_index(\"target\")\n",
    "\n",
    "df_p5.plot.bar()"
   ]
  },
  {
   "cell_type": "markdown",
   "metadata": {},
   "source": [
    "Si analizamos los resultados, vuelven a ser muy buenos, incluso mejor que los anteriores. Notamos una mejoría proporcional en la clasificación de todas las categorías que, aunque sea leve, es una mejoría importante teniendo en cuenta lo cerca que estamos del 100%.\n",
    "\n",
    "Como se ha visto en la teoría, las word-embeddings van a reducir los vectores a solo uno por cada texto, que será el vector medio, y si multiplicamos los vectores de palabras por su TF/IDF para luego reducirlos al vector medio, estamos evitando la maldición de la dimensionalidad, que en el caso de bolsa de palabras es enorme. Es por eso que tiene sentido un incremento en la calidad de las soluciones."
   ]
  },
  {
   "cell_type": "markdown",
   "metadata": {
    "id": "d-J6GYut4DGu"
   },
   "source": [
    "## 4) Análisis de errores\n",
    "\n",
    "Vamos a investigar los resultados para entender mejor dónde están fallando los procesos de recuperación. Sigue los siguientes pasos.\n",
    "\n",
    "\n",
    "1. Identifica la categoría de noticias donde la precisión media haya mejorado más al incorporar word-embeddings\n",
    "2. Para dicha categoría, identifica la consulta donde la precisión haya mejorado más al usar word-embeddings\n",
    "3. Muestra el texto original de la consulta y los términos que aparecen en las dos vectorizaciones tf-idf que usamos (recuerda que usamos diccionarios distintos para las vectorizaciones bolsa de palabras y word-embeddings).\n",
    "4. Identifica las noticias recuperadas para dicha consulta para las dos aproximaciones y sus categorías (TF-IDF puro y con word-embeddings)\n",
    "5. Muestra la intersección de términos entre la consulta y la primera noticia mal recuperada usando TF-IDF puro.\n",
    "6. Muestra la intersección de términos entre la consulta y la última noticia bien recuperada usando word-embeddings.\n",
    "7. A la luz de todo lo anterior, razona sobre por qué crees que el TF-IDF no fue capaz de clasificar bien la noticia y el word-embedding sí.\n",
    "\n",
    "\n",
    "Puedes usar el código que calcula la intersección de términos que ponemos a continuación"
   ]
  },
  {
   "cell_type": "code",
   "execution_count": 29,
   "metadata": {
    "id": "RUat8DCRLYs1"
   },
   "outputs": [],
   "source": [
    "def terms_in_message(feature_names,vector_data,index):\n",
    "    '''\n",
    "    Devuelve un conjunto los términos presentes en un mensaje representado como bolsa de palabras.\n",
    "    \n",
    "    - feature_names: terminos usados para vectorizar\n",
    "    - vector_data: matriz (dispersa) de mensaje vectorizados\n",
    "    - index: posición del mensaje a mostrar\n",
    "    '''\n",
    "    mensaje=vector_data[index,:]>0\n",
    "    terminos_presentes = ma.array(feature_names, mask = ~(mensaje[0].toarray()))\n",
    "\n",
    "    return set(terminos_presentes.compressed())"
   ]
  },
  {
   "cell_type": "markdown",
   "metadata": {},
   "source": [
    "#### Solución:"
   ]
  },
  {
   "cell_type": "markdown",
   "metadata": {},
   "source": [
    "Vamos a analizar la mejora en la precisión en cada una de las categorías al incorporar word-embeddings"
   ]
  },
  {
   "cell_type": "code",
   "execution_count": 30,
   "metadata": {},
   "outputs": [
    {
     "name": "stdout",
     "output_type": "stream",
     "text": [
      "business improves: 3.5820895522388128%\n",
      "entertainment improves: 9.454545454545467%\n",
      "politics improves: 2.5454545454545467%\n",
      "sport improves: 4.05797101449275%\n",
      "tech improves: 6.92307692307692%\n"
     ]
    }
   ],
   "source": [
    "for k in p5_we.keys():\n",
    "    print(\"{} improves: {}%\".format(k, p5_we[k] - p5_tfidf[k]))"
   ]
  },
  {
   "cell_type": "markdown",
   "metadata": {},
   "source": [
    "Observamos que la mayor mejora se encuentra en la categoría `entertainment`. Ahora vamos a buscar en qué consulta de esa categoría se produce la mayor mejora:"
   ]
  },
  {
   "cell_type": "code",
   "execution_count": 31,
   "metadata": {},
   "outputs": [],
   "source": [
    "def precisions_at_class(X_train, y_train, X_test, y_test, k, queryClass):\n",
    "    '''Devuelve las precision@k media para cada una de las classes.\n",
    "    \n",
    "    Parámetros:\n",
    "    - X_train: documentos de entrenamiento vectorizados.\n",
    "    - y_train: etiquetas de los documentos de entrenamiento.\n",
    "    - X_test: documentos vectorizados que se usan como consultas\n",
    "    - y_test: etiquetas de los documentos que se usan como consultas\n",
    "    - k: número de documentos considerados a recuperar por la consulta\n",
    "    - queryClass: clase de documentos considerados a recuperar por la consulta\n",
    "    \n",
    "    Devuelve:\n",
    "    - Diccionario clase -> precisión en tanto por ciento.\n",
    "    '''\n",
    "    \n",
    "    # diccionario categoría -> lista de precisiones\n",
    "    y_precisions = []\n",
    "    \n",
    "    # Calcular precision@k para cada consulta\n",
    "    for x_query, y_query in zip(X_test, y_test):\n",
    "        if y_query == queryClass:\n",
    "            idx = knn(x_query, X_train, k)\n",
    "            y_selected = np.take(y_train, idx)\n",
    "            precision = precision_at_k(y_selected, y_query, k)\n",
    "            y_precisions.append(precision)\n",
    "    \n",
    "    return (y_precisions, y_precisions.index(min(y_precisions)))"
   ]
  },
  {
   "cell_type": "code",
   "execution_count": 32,
   "metadata": {},
   "outputs": [
    {
     "name": "stdout",
     "output_type": "stream",
     "text": [
      "Mean precision: 87.27272727272727\n",
      "Worst precision: 0.0\n",
      "Worst query index: 50\n"
     ]
    }
   ],
   "source": [
    "precisions, worstIndex = precisions_at_class(train_preprocessed, y_train, test_preprocessed, y_test, 5, \"entertainment\")\n",
    "print(\"Mean precision: {}\".format(sum(precisions)/len(precisions)))\n",
    "print(\"Worst precision: {}\".format(min(precisions)))\n",
    "print(\"Worst query index: {}\".format(worstIndex))"
   ]
  },
  {
   "cell_type": "markdown",
   "metadata": {},
   "source": [
    "La query con peor precisión se encuentra en la posición 50 de las queries de `entertainment`, pero queremos saber su posición global en la queries:"
   ]
  },
  {
   "cell_type": "code",
   "execution_count": 33,
   "metadata": {},
   "outputs": [
    {
     "data": {
      "text/plain": [
       "270"
      ]
     },
     "execution_count": 33,
     "metadata": {},
     "output_type": "execute_result"
    }
   ],
   "source": [
    "list(X_test).index([q for (i,q) in enumerate(X_test) if y_test[i] == \"entertainment\"][50])"
   ]
  },
  {
   "cell_type": "markdown",
   "metadata": {},
   "source": [
    "Ahora que sabemos su posición, podemos mostrar la query y su vectorización:"
   ]
  },
  {
   "cell_type": "code",
   "execution_count": 34,
   "metadata": {
    "scrolled": false
   },
   "outputs": [
    {
     "name": "stdout",
     "output_type": "stream",
     "text": [
      "Mensaje 270 SIN vectorizar: singer ian brown  in gig arrest  former stone roses singer ian brown was arrested after a fight during a concert in san francisco on tuesday  his spokesman has said.  a fan jumped on stage and attacked the singer  who then became involved in a fracas with a security guard  fiction records spokesman paul smernicki said. he said brown was arrested at his hotel after the show at the great american music hall but released without charge. san francisco police said they could find no record of his arrest. mr smernicki said he had been told a fan  rugby-tackled  the singer during the gig  which resulted in  pushing and shoving .  brown then got into a brawl with another man who tried to restrain him - without realising he was a security guard  mr smernicki added. the star went off for 15 minutes before returning to finish his set. police took witness statements and apprehended brown at his hotel  mr smernicki said. but he was released without charge and  as far as we re aware  that s the end of it   mr smernicki added. a spokesperson for the san francisco police department said he may have been detained but they could find no record of the incident. brown  42  was lead singer with the stone roses  one of the most seminal bands in british rock  until they split in 1996. he has since forged a successful solo career  scoring nine uk top 30 singles since 1998. in 1998  he was sentenced to four months in jail for using threatening behaviour towards an aeroplane captain and stewardess. \n",
      "\n",
      "Mensaje 270 vectorizado: ['added' 'american' 'arrest' 'arrested' 'attacked' 'aware' 'bands'\n",
      " 'behaviour' 'british' 'brown' 'captain' 'career' 'charge' 'concert'\n",
      " 'department' 'detained' 'end' 'fan' 'far' 'fiction' 'fight' 'finish'\n",
      " 'forged' 'fracas' 'francisco' 'gig' 'got' 'great' 'guard' 'hall' 'hotel'\n",
      " 'ian' 'incident' 'involved' 'jail' 'jumped' 'lead' 'man' 'minutes'\n",
      " 'months' 'mr' 'music' 'paul' 'police' 'pushing' 'realising' 'record'\n",
      " 'records' 'released' 'restrain' 'resulted' 'returning' 'rock' 'roses'\n",
      " 'rugby' 's' 'said' 'san' 'scoring' 'security' 'seminal' 'sentenced' 'set'\n",
      " 'shoving' 'singer' 'singles' 'solo' 'split' 'spokesman' 'spokesperson'\n",
      " 'stage' 'star' 'statements' 'stone' 'successful' 'tackled' 'threatening'\n",
      " 'told' 'took' 'tried' 'tuesday' 'uk' 'using' 'went' 'witness'] \n",
      "\n"
     ]
    }
   ],
   "source": [
    "# Vectorización con bolsa de palabras\n",
    "write_terms(feature_names, X_test, test_preprocessed, 270)"
   ]
  },
  {
   "cell_type": "code",
   "execution_count": 35,
   "metadata": {},
   "outputs": [
    {
     "name": "stdout",
     "output_type": "stream",
     "text": [
      "Mensaje 270 vectorizado: ['singer', 'ian', 'brown', 'in', 'gig', 'arrest', 'former', 'stone', 'roses', 'singer', 'ian', 'brown', 'was', 'arrested', 'after', 'a', 'fight', 'during', 'a', 'concert', 'in', 'san', 'francisco', 'on', 'tuesday', 'his', 'spokesman', 'has', 'said.', 'a', 'fan', 'jumped', 'on', 'stage', 'and', 'attacked', 'the', 'singer', 'who', 'then', 'became', 'involved', 'in', 'a', 'fracas', 'with', 'a', 'security', 'guard', 'fiction', 'records', 'spokesman', 'paul', 'said.', 'he', 'said', 'brown', 'was', 'arrested', 'at', 'his', 'hotel', 'after', 'the', 'show', 'at', 'the', 'great', 'american', 'music', 'hall', 'but', 'released', 'without', 'san', 'francisco', 'police', 'said', 'they', 'could', 'find', 'no', 'record', 'of', 'his', 'mr', 'said', 'he', 'had', 'been', 'told', 'a', 'fan', 'the', 'singer', 'during', 'the', 'gig', 'which', 'resulted', 'in', 'pushing', 'and', 'shoving', '.', 'brown', 'then', 'got', 'into', 'a', 'brawl', 'with', 'another', 'man', 'who', 'tried', 'to', 'restrain', 'him', '-', 'without', 'realising', 'he', 'was', 'a', 'security', 'guard', 'mr', 'the', 'star', 'went', 'off', 'for', '15', 'minutes', 'before', 'returning', 'to', 'finish', 'his', 'police', 'took', 'witness', 'statements', 'and', 'apprehended', 'brown', 'at', 'his', 'hotel', 'mr', 'said.', 'but', 'he', 'was', 'released', 'without', 'charge', 'and', 'as', 'far', 'as', 'we', 're', 'aware', 'that', 's', 'the', 'end', 'of', 'it', 'mr', 'a', 'spokesperson', 'for', 'the', 'san', 'francisco', 'police', 'department', 'said', 'he', 'may', 'have', 'been', 'detained', 'but', 'they', 'could', 'find', 'no', 'record', 'of', 'the', 'brown', '42', 'was', 'lead', 'singer', 'with', 'the', 'stone', 'roses', 'one', 'of', 'the', 'most', 'seminal', 'bands', 'in', 'british', 'rock', 'until', 'they', 'split', 'in', 'he', 'has', 'since', 'forged', 'a', 'successful', 'solo', 'career', 'scoring', 'nine', 'uk', 'top', '30', 'singles', 'since', 'in', '1998', 'he', 'was', 'sentenced', 'to', 'four', 'months', 'in', 'jail', 'for', 'using', 'threatening', 'behaviour', 'towards', 'an', 'aeroplane', 'captain', 'and']\n"
     ]
    }
   ],
   "source": [
    "# Vectorización con word-embedings\n",
    "vector = []\n",
    "for word in X_test[270].split():\n",
    "    if word in we_vocabulary:\n",
    "        vector.append(word)\n",
    "print(\"Mensaje 270 vectorizado: {}\".format(vector));"
   ]
  },
  {
   "cell_type": "markdown",
   "metadata": {},
   "source": [
    "Observamos bastantes diferencias en la vectorización del mensaje con las distintas vectorizaciones. Si nos fijamos, la vectorización con bolsa de palabras es mucho más restrictiva a la hora de retirar términos de la vectorización. Para la vectorización con word-embeddings, además de tener palabras menos significativas, incluye muchas de ellas repetidas.\n",
    "# TO-DO: STEWARDESS -> NO EN EL VOCAB DE W.E.\n",
    "# Comentar diferencia entre vectorizaciones"
   ]
  },
  {
   "cell_type": "markdown",
   "metadata": {},
   "source": [
    "Ahora vamos a identificar las noticias recuperadas para dicha consulta para las dos aproximaciones y sus categorías."
   ]
  },
  {
   "cell_type": "code",
   "execution_count": 36,
   "metadata": {},
   "outputs": [],
   "source": [
    "def results_for_Query(X_train, y_train, X_test, y_test, k, data, index):\n",
    "    '''Devuelve las precision@k media para cada una de las classes.\n",
    "    \n",
    "    Parámetros:\n",
    "    - X_train: documentos de entrenamiento vectorizados.\n",
    "    - y_train: etiquetas de los documentos de entrenamiento.\n",
    "    - X_test: documentos vectorizados que se usan como consultas\n",
    "    - y_test: etiquetas de los documentos que se usan como consultas\n",
    "    - k: número de documentos considerados a recuperar por la consulta\n",
    "    \n",
    "    Devuelve:\n",
    "    - Diccionario clase -> precisión en tanto por ciento.\n",
    "    '''\n",
    "    \n",
    "    idx = knn(X_test[index], X_train, k)\n",
    "    x_selected = np.take(data, idx)\n",
    "    y_selected = np.take(y_train, idx)\n",
    "    \n",
    "    return list(zip(idx,x_selected, y_selected))"
   ]
  },
  {
   "cell_type": "markdown",
   "metadata": {},
   "source": [
    "Primero veamos la consulta usando TF-IDF puro con bolsa de palabras. Viendo los resultados obtenidos previamente, la predicción es que debería dar un resultado muy malo, ya que lo que estamos buscando es una mejoría muy pronunciada al usar word-embeddings:"
   ]
  },
  {
   "cell_type": "code",
   "execution_count": 37,
   "metadata": {
    "scrolled": true
   },
   "outputs": [
    {
     "name": "stdout",
     "output_type": "stream",
     "text": [
      "Index: 205\n",
      "Category: politics\n",
      "New: \n",
      "profile: gordon brown the ultimate prize of 10 downing street may continue to elude him but  as he prepares to deliver a record-breaking ninth budget  gordon brown can at least console himself with the thought that he is the longest serving chancellor of modern times.  he reached that milestone last june  when he overtook david lloyd george  who served for seven years and 43 days between 1908 and 1915. how much longer mr brown will continue in the job is not clear (he once said there are two types of chancellor:  those who fail and those who get out in time. ) there are rumours he will be moved to the foreign office if labour wins the general election. but  for now  mr brown dominates the domestic political scene like few chancellors - or politicians - before him.  gordon brown was born in glasgow on 20 february 1951  the son of a church of scotland minister in the small fife town of kirkcaldy. at 12  he was canvassing for labour and by his 20s he was a leading political activist in scotland. he achieved a first class degree in history from edinburgh university  where he went on to complete a phd. his early career was spent lecturing  working in television and making a name for himself in the scottish labour party.  his first attempt to enter westminster  for edinburgh south in 1979  was thwarted by the present tory spokesman on foreign affairs  michael ancram. but in 1983  he took dunfermline east  a new constituency including rosyth naval base  pit villages and coastal towns.  entering westminster  he came to share an office with the newly elected mp for sedgefield  tony blair. within four years  mr brown had gained his first frontbench post as shadow chief secretary to the treasury. he became shadow chancellor under john smith s leadership in 1992. after the death of leader john smith in 1994 he stood aside  agreeing to give tony blair a clear run at the leadership during a now infamous meal at the granita restaurant in islington.  the other part of the deal  that mr blair will one day stand down in favour of the chancellor  is the stuff of westminster legend. mr blair s supporters say such a deal never existed and endless newspaper columns - and even a television film - have been devoted to the alleged deal. but if his leadership ambitions were at least temporarily thwarted in 1994  mr brown continued his devotion to politics. during the 1997 election campaign  he is said to have worked an average of 18 hours a day  six days a week after running on a treadmill for an hour each morning.  this dedication to his career was underlined by a comment by mr brown s former girlfriend of five years  princess marguerite of romania  the eldest daughter of ex-king michael of romania  who said a relationship with him was  politics  politics  politics .  if that was true then  mr brown  who married pr executive sarah macaulay in 2000  changed his perspective when the couple were hit by tragedy early in 2002. their daughter jennifer died in edinburgh royal infirmary  10 days after being born seven weeks prematurely. a year later  in october 2003  the couple had a son - john - an event which again gave the chancellor an opportunity to show his softer side. a trip to africa earlier this year  to publicise his scheme to cancel the debt of poor nations  also gave the chancellor an opportunity to show his more human side.  the ideological differences between mr brown and mr blair remain relatively modest. the chancellor opposes the further encroachment of the market into the nhs and is seen as being more  old labour  than mr blair in his approach to wealth redistribution. but their shared belief that market economics are compatible with social justice continues to form the ideological heart of the new labour project. yet they are portrayed by the media as being locked in almost permanent conflict  with mr brown supposedly nursing resentment at being betrayed by his younger downing street neighbour over the succession. mr blair  for his part  is said to be frustrated that his public service reforms are being thwarted by a vengeful mr brown  who reportedly delights in keeping the prime minister in the dark over the contents of his budget until the last possible minute. after a recent run of negative headlines  labour mps took the unprecedented step of making a direct appeal to the two men stop bickering  for the good of the party. events like this  and the testimony of former ministerial colleagues  make it impossible to dismiss the brown/blair feud as just journalistic hearsay  cooked up by hacks and camp followers in the hothouse atmosphere of westminster. how much it damages the ability of government to do its job is open to question.  a truce appears to have been called in the run up to the general election after a fresh spat was sparked by blairite alan milburn being brought in over the head of mr brown to run the election campaign. but with the tories having appeared to get the better of the pre-election campaign thus far there are reports that mr brown - using the budget as a springboard - is to revitalise labour s campaign. amid all this it is easy to forget that mr brown remains the man most likely to succeed mr blair as labour leader. there may be no shortage of possible contenders for the crown - including mr milburn - but none can command the sort of support in the parliamentary party and beyond that mr brown can. and mr blair s decision to name his own retirement date has at least given mr brown something to aim for - even if the prime minister s intention to  serve a full third term  if elected  took the shine off the announcement for the chancellor and his supporters. \n",
      "\n",
      "\n",
      "Index: 954\n",
      "Category: politics\n",
      "New: \n",
      "blair and brown criticised by mps labour mps have angrily criticised tony blair and gordon brown amid renewed reports of a rift between the two men.  a meeting of the parliamentary labour party saw a succession of normally loyal members warn that feuding could jeopardise labour s election hopes. the pm insisted nothing would derail labour s campaign  despite a new book saying he has upset his chancellor by backing out of a pledge to stand aside. mr brown will again be in the public eye at the party s new poster launch. in what the party had hoped would be perceived as a show of unity  he is due to line up alongside alan milburn - the man controversially appointed as the party s election supremo - and deputy leader john prescott for the event in london on tuesday. relations between mr brown and mr milburn are widely reported to be cool ever since mr blair brought the latter back into the cabinet to run labour s election campaign  a role successfully carried out by mr brown in both 1997 and 2001.  mr blair told the parliamentary labour party on monday:  i know from everyone here  in cabinet and government  nothing is going to get in the way of a unified labour party with a unified position and winning the third term people desperately need.   the prime minister and his chancellor arrived within seconds of each other for the meeting of the plp and were seemingly in good spirits as it started. new speculation about the state of their relationship was sparked by claims in brown s britain  by sunday telegraph journalist robert peston  which suggested mr blair went back on a pledge to make way for mr brown. labour s paul flynn said mr blair and mr brown had a  scorching  from mps adding:  it was a parliamentary labour party meeting like no other.   backbencher stephen pound said some mps had threatend to expose those fuelling the reports if mr blair and mr brown did not  stop this nonsense  this poisonous briefing . lord campbell-savours  a former mp  challenged mr brown to deny reports that he had told the prime minister he did not believe anything he said. mr prescott said mps were entitled to complain about discipline after reading recent press reports.   they told us very clearly  it was the troops telling the leaders: get in line   he told bbc radio 4 s today on tuesday. mr prescott said there were occasional disagreements in any government. but he argued mr blair and mr brown could work successfully together and had produced a strong economy and better public services.  the new book claims mr prescott hosted a dinner in november 2003 where the prime minister told mr brown he would stand down before the next election because he had lost trust over the iraq war. he had then changed his mind in june 2004  following intervention from cabinet allies and suspicion that the chancellor was manoeuvring against him  writes mr peston. mr prescott said there was a dinner but the discussions were confidential.  of course as a waiter for 10 years i have a professional ability here   he joked. mr blair has insisted he has done no deals over the premiership while mr brown says he will not let  gossip  distract him from helping a unified election campaign. the conservatives say the two men are behaving like squabbling schoolboys and the liberal democrats claim personal ambition is obstructing good government. \n",
      "\n",
      "\n",
      "Index: 970\n",
      "Category: politics\n",
      "New: \n",
      "brown shrugs off economy fears gordon brown is to freeze petrol duty increases  fund a £1bn package to avoid big council tax rises and boost childcare and maternity leave.  in an upbeat pre-budget report  he slightly increased borrowing but insisted economic targets would be met. the chancellor also hailed the longest period of growth in uk  industrial history  but denied he was  gloating . but oliver letwin  for the tories  attacked government red tape and debt  dubbing mr brown  sir wastealot .  the shadow chancellor said mr brown s  golden rule  had  turned to dross in his hands  and said he was borrowing to spend  not invest  with predicted debt over the coming years totalling £170bn. mr letwin told mps:  the tide is going out on the chancellor s credibility. he is spending  borrowing and taxing so much because he is not getting value for taxpayer s money.   vincent cable  for the liberal democrats  accused mr brown of ducking tough choices.  he said:  last week the prime minister gave us the politics of fear; this week the chancellor has offered the economics of complacency.  there are serious challenges ahead from the falling dollar and from the rapid downturn in the uk housing market and rising personal debt. but they have not been confronted.  mr brown rejected the lib dem s call to open up the government s books to the national audit office  saying decisions on tax and spending should be made by ministers. some economists say his forecasts on public finances are wishful thinking. bbc economic editor evan davis said the figures were plausible but also a gamble.  mr brown s insistence he was not  gloating  was a pointed rebuttal of a warning from new european commissioner peter mandelson. in his speech  he set out a 10-year childcare strategy for if labour wins the next election.  it includes a £285m cash injection to extend paid maternity leave from six months to nine  with parents able to transfer leave from the mother to the father. he also promised to increase free nursery education for three and four-year-olds to 15 hours from april 2007. and funds would be provided to keep schools open from 0800 to 1800gmt to look after children while their parents were at work. taken together  the measures would create a  welfare state that is truly family-friendly for the first time in its history   said mr brown. he also announced a cash hand-out for older pensioners  with payments of £50 for the over-70s as part of the winter fuel allowance. in a move ministers say should keep council tax rises below 5% next year  the chancellor said he was providing an extra £1bn for local councils. the money is expected to come from government departments such as health and education.  mr brown said he was set to meet his two fiscal rules - to borrow only to invest and keep debt  low and sustainable  - both in this economic cycle and the next. borrowing figures for 2003/4 are £35bn - £2.5bn less than the £37.5bn predicted in march s budget  as already announced by the office for national statistics. borrowing is tipped to fall to £31bn by 2005/06 - but that is still £2bn more than mr brown predicted in his march budget. inflation would be 1.75% next year and 2% in the years to follow  mr brown forecast. he also pledged an extra £105m for security and counter-terrorism. business groups have welcomed efforts to improve competitiveness and invest more in skills and innovation. but there worries about the costs of more family-friendly working. simon sweetman  from the federation of small businesses  said:  the proposals on maternity leave have clearly been made with a general election in mind and with little thought to the impact on small employers. \n",
      "\n",
      "\n",
      "Index: 1189\n",
      "Category: politics\n",
      "New: \n",
      "brown targets oaps and homebuyers gordon brown has doubled the level at which house buyers pay stamp duty to £120 000 as he put the economy at the heart of labour s election campaign.  the chancellor also unveiled a one-off £200 council tax refund for pensioners and a rise in child tax credit. mr brown put 1p a pint on beer  4p on a bottle of wine and 7p on 20 cigarettes but froze petrol duty until september. the tories called it a  vote now  pay later  budget. the lib dems branded it a  sticking plaster  for the election.  tory leader michael howard predicted the budget would do nothing to help labour s  faltering  election campaign.   this government and this chancellor have run out of solutions to the problems britain faces   mr howard told mps.  their only answer is to tax  to spend and to waste - to get people to vote now and pay later.  he ended his response with an election challenge to labour  saying  bring it on . liberal democrat leader charles kennedy attacked mr brown for failing to mention the environment and for his record on social justice.  how can it be right in britain today that the poorest 20% pay more in tax  as a proportion of their income  than the richest 20%   he asked.  mr kennedy criticised mr brown for failing to mention the  ticking bomb  of council tax revaluation  saying it was  high time  the system was replaced by a  local tax based on the ability to pay . during his 49 minute speech mr brown told mps he had defied the pundits by hitting his growth target of 3.1% for 2004.  he said his budget struck a balance  between tax cuts that are affordable  investments that are essential and stability that is paramount . he rejected across-the-board tax cuts in favour of targeted help for families. the child tax credit will rise in line with earnings  giving families an extra £5 a week. in contrast  the personal income tax allowance will rise only in line with inflation from £4 745 to £4 895 next month. mr brown told mps child benefit would rise to a maximum of £63 a week for the first child and £111 for two children. despite his giveaways  budget documents show mr brown clawed back £265m through a clampdown on tax avoidance and increased revenue from a windfall tax on oil companies. he also scrapped stamp duty relief for commercial property in disadvantaged areas - a measure brought in just over three years ago. bbc political editor andrew marr suggested the sweeteners were not big enough to have a transforming effect on voters. but trust in mr brown s economic stewardship would be a central election issue  he said.  mr brown also unveiled plans for a memorial to the queen mother  funded through a special coin to celebrate the queen s 80th birthday. other measures include equal tax status for same-sex couples and a deal with the council of mortgage lenders to boost low cost home ownership. the level where people start paying inheritance tax will also rise from £263 000 to £275 000 from april. mr brown said he had met his financial  golden rule  with a £6bn surplus and he said public borrowing would continue to fall over the next five years.  the economy had grown for 50 consecutive quarters  he said  and was forecast to continue doing so over the next year  with a forecast of 3% to 3.5% in 2005 and 2.5% to 3% in 2006. the first £2bn of value-for-money savings identified in the gershon review have been achieved  the chancellor said. some 12 500 civil servant posts have been axed  and 7 800 relocated out of the south east of england  he added. snp leader alex salmond said mr brown had failed the  tartan test  as there were no measures to boost the scottish economy. simon thomas  of plaid cymru  called it a budget for middle england. uk independence party leader roger knapman attacked the plans for pensioners saying they needed  more money and the dignity of being allowed to spend it how they want   not  free bus rides . the green party said the budget was a  wasted opportunity  for environmental protection  adding:  brown obviously has an eye on the coming election  and has taken his eye off the needs of the planet. \n",
      "\n",
      "\n",
      "Index: 1120\n",
      "Category: politics\n",
      "New: \n",
      "blair stresses prosperity goals tony blair says his party s next manifesto will be  unremittingly new labour  and aimed at producing  personal prosperity for all .  the prime minister is trying to draw a line under speculation over the state of his relationship with gordon brown with the speech in chatham  kent. he is saying that prosperity means both individual wealth and ensuring  radically improved  public services. he is also claiming labour is more ideologically united than ever. mr brown is currently touring africa after a week of facing questions about reports of his splits with downing street.  with the election widely predicted for may  angry labour mps this week warned mr blair and mr brown about the dangers of disunity. now mr blair is trying to put the focus on the substance of labour s platform for a third term in government. labour made low inflation  unemployment and mortgage rates the centrepiece of a new poster campaign this week.  and on thursday mr blair is saying:  i want to talk about the central purpose ofnew labour - which is to increase personal prosperity and well-being  not justfor a few but for all.  by prosperity i mean both the income and wealth of individuals and theirfamilies  and the opportunity and security available to them through radicallyimproved public services and a reformed welfare state.   the tories are trying to capitalise on the apparent feud at the top of government. on wednesday they unveiled a poster which pictured the prime minister and mr brown under the words  how can they fight crime when they are fighting each other   michael howard and frontbencher john redwood on thursday launched new plans to abolish hundreds of quangos. they say government is spending too much and lower taxes are needed to make britain more competitive.  the liberal democrats have also claimed infighting its obstructing good government. the latest speculation about relations between new labour s two most powerful figures came after the publication of a new book  brown s britain by robert preston. in it he alleges that mr blair told mr brown in 2003 he would step down as prime minister before the coming general election. the book claims the premier went back on his pledge after support from cabinet allies and suspicion that mr brown was manoeuvring against him. mr peston s book claimed that mr brown told mr blair:  there is nothing you could ever say to me now that i could ever believe.  on wednesday mr blair directly denied mr brown made that quote  and before he left for africa on tuesday the chancellor told reporters:  of course i trust the prime minister. \n",
      "\n",
      "\n"
     ]
    }
   ],
   "source": [
    "for (i,n,c) in results_for_Query(train_preprocessed, y_train, test_preprocessed, y_test, 5, X_train, 270):\n",
    "    print(\"Index: {}\".format(i))\n",
    "    print(\"Category: {}\".format(c))\n",
    "    print(\"New: \\n{} \\n\\n\".format(n))"
   ]
  },
  {
   "cell_type": "markdown",
   "metadata": {},
   "source": [
    "Podemos comprobar que todos los resultados pertenecen a la categoría `politics` en lugar de a `entertainment`, por lo que es lógico que nuestro clasificador decida que nuestra noticia es de `politics` también.\n",
    "\n",
    "Ahora vamos a mostrar los resultados de la misma query usando word-embeddings para tratar de demostrar la mejoría que comentábamos anteriormente:"
   ]
  },
  {
   "cell_type": "code",
   "execution_count": 38,
   "metadata": {
    "scrolled": true
   },
   "outputs": [
    {
     "name": "stdout",
     "output_type": "stream",
     "text": [
      "Index: 154\n",
      "Category: entertainment\n",
      "New: \n",
      "singer knight backs anti-gun song r&b star beverley knight said she sang on an anti-gun single after being  haunted  by the fatal 2003 shooting of two teenage girls in birmingham.  knight and drum  n  bass star roni size have released no more in a bid to reduce gun use among young people. she said she was  horrified  by the deaths of charlene ellis  18  and letisha shakespeare  17. size  whose new forms album won the 1997 mercury music prize  said gun use was  nothing to be glamorised .  there were more than 10 500 firearms offences and 70 gun crime deaths in england and wales between june 2003 and 2004  according to home office figures. knight said the scale of the problem became clear to her after the 2003 shootings in aston  near knight s birmingham home.   it haunted me to be honest  it haunted my sleep   she said. size became involved after two friends  donna small and asha jama  were shot in his bristol hometown in october. jama  25  lost her sight in one eye while 22-year-old small suffered serious head injuries. size said he collaborated on the single  which was released on monday  because he has  a bird s eye view of what s going on .  over the last 10 years  i have seen a lot of things happen and it is nothing to be glamorised  it really isn t   he said. \n",
      "\n",
      "\n",
      "Index: 239\n",
      "Category: entertainment\n",
      "New: \n",
      "rap feud in 50 cent s g-unit crew us rap star 50 cent has said he has thrown protege the game out of his g-unit gang in a feud that has apparently involved two shootings.  in a radio interview on monday  50 cent said the newcomer was disloyal in conflicts with other rappers. a man was shot in the thigh outside new york s hot 97 studios while 50 cent was on air. more shots were fired outside his management offices two hours later. 50 cent appeared on the game s debut album  which was number one in the us. 50 cent  whose second album is about to be released after his debut made him one of hip-hop s biggest stars  has been involved in recent rivalries with fellow artists including fat joe  nas and jadakiss.  he has claimed credit for the success of the game  who has become the hottest new star on the rap scene. both were drug dealers and were shot before turning to music.  in an interview with hot 97 on saturday  the game described some of 50 cent s rivals as  my friends  and said he would not turn on them.  nas is one of my friends  and jada s really a homie   he said.  50 s beef is 50 s beef and i really don t know where all this stems from.  when 50 cent appeared on the same station two days later  he said the game was no longer a member of g-unit.  every record he s selling is based on me being on his record with him   he said. when the shooting took place outside the studio  the interview was ended and the rapper was escorted out of the building by security personnel.  an unidentified 24-year-old los angeles man is stable with a gunshot wound to the upper thigh. police say the game s associates may have heard the interview and gone to the studio  where they confronted 50 cent s entourage. officers are also investigating a later shooting in which eight bullets were fired into the door of 50 cent s management company  violator. no arrests have been made in relation to either incident. 50 cent s second album  the massacre  is released on thursday  five weeks after the game s debut  documentary  went to number one.  elliott wilson  editor-in-chief of hip-hop magazine xxl  said the feud would boost publicity for 50 cent s release.  it helps him obviously in terms of exposure. you can t ask for better promotion   he said. but he added:  i think he s making more and more enemies.  you definitely feel like is he doing too much of a tupac spiral  like me against the world. you bring more people wanting to see you fail.  tupac shakur was shot dead in 1996. \n",
      "\n",
      "\n",
      "Index: 387\n",
      "Category: entertainment\n",
      "New: \n",
      "court halts mark morrison album premiership footballer and record company boss kevin campbell has gained a court injunction stopping r&b singer mark morrison from releasing an album.  the everton striker signed morrison to his fledging 2 wikid records label and claims he spent thousands of pounds producing his album innocent man. now he is attempting to prevent morrison releasing the album on monday through another label. but morrison vowed to ignore the order  saying  no judge is gonna stop me .  morrison  who is now as well known for his brushes with the law than his music career  rose to fame with the 1996 single return of the mack.  but the leicester singer has struggled to repeat its success following two spells in jail. one was for hiring a stand-in to complete his community service for possession of a stun gun and three-months following a nightclub fracas. he signed to mr campbell s label a year ago and has released one single  with the label saying the album was due for release on 24 january. but mr campbell said he learned that morrison planned to release the album through jet star  which is advertising it on its website. mr campbell said:  i m glad we were granted the injunction but i m completely gutted that we have had to go that far.  mark morrison was given everything he asked for by 2 wikid but it seems that he couldn t help but return to his old ways.   i ve worked hard to realise my ambition in football but had hoped that my future career would be in the music business.  i have always dreamt of starting a record label but now mark morrison has spoilt that dream for me. there is no loyalty in this business - just greed.   but morrison is determined the album will be released on monday. he said:  the injunction is ludicrous.  i signed a new deal with a new record company because i was not getting the support i needed from 2 wikid.  i was with that label for a year and in that time released just one record  which was not properly promoted. he added:  the whole world is waiting for this album and it will come out on december 27. no injunction or judge will stop it. the mack will return.  the case is set to be heard in the high court on 20 december. \n",
      "\n",
      "\n",
      "Index: 206\n",
      "Category: entertainment\n",
      "New: \n",
      "police praise  courageous  ozzy rock star ozzy osbourne has been praised by police for  very courageously  tackling a burglar who stole jewellery from his house.  the singer grabbed an intruder who then jumped 30ft (10m) from a first floor window as the star gave chase at his buckinghamshire home on monday.  i acted on impulse   osbourne said.  in hindsight  it could have been a lot worse. it could ve got really ugly.  a £100 000 reward has been offered for information leading to a conviction. his wife sharon  who called the police  said her wedding rings were taken from her bedside table as she slept.  the heavy metal star said he could have met the same fate as late beatle george harrison  who was repeatedly stabbed in a break-in in 1999.  i could have been badly injured or shot or anything   osbourne said.  i just thank god that no-one got injured.  he added he was glad the intruders were not hurt.  i wouldn t want anyone to get injured.  the singer did not want to talk in detail about his actions but when asked whether he would do the same again replied:  is the pope a catholic   the incident happened at 0400 gmt on monday in chalfont st peter. detective inspector paul miller of thames valley police said it appeared a man used a ladder to get into the house through a first floor bedroom window.  whilst selecting items of jewellery  the burglar was disturbed by ozzy who very courageously tackled this burglar and pursued him from the house   he said. ozzy said he was  just coming to grips  with what had happened and his opinion of the uk had been lowered after 12 relatively trouble-free years in the us.   we lived in los angeles where people get shot every day and have been trailed by lots of different stalkers - and yet we come back to england and i m very disappointed.  at a press conference on tuesday  sharon osbourne gave details of nine stolen items. they included a diamond wedding ring and two handmade wedding bands ozzy gave her when they renewed their vows two years ago. she said she wished she had worn them at night.  i always take them off and put them beside my bed and that s where they were  right beside me on my bedside table.  also taken were a pearl necklace and a sapphire bought as an investment for their daughters described by sharon as  one of the only 24-carat sapphires that is absolutely pure .  a daisy chain necklace that was a 20th anniversary present and a franck muller watch sharon said was one of only 10 made were also stolen. she expressed her anger at the person who  hasn t worked and wants to take what s yours .  but the thing is  we worked for everything. i came from brixton. ozzy came from not a very nice part of birmingham and everything we ve got we have worked our arses off for.   if i choose to make an investment for my kids in whatever way i choose to make it  that s my business and i worked for every god damn penny.  ozzy also lamented two years in which the family has been plagued by problems  including his critical injury in a quad bike accident  his wife s colon cancer  their childrens  drug problems and now the burglary.  on sunday night  the osbournes had been celebrating the birthday of singer sir elton john s partner david furnish. police described the intruder as well-built  about 5  10  tall and said he was wearing a ski-mask  a light-coloured jacket and trainers. they believe he may have injured himself when he jumped from the window. there is no description of his accomplice. police think the pair were driving a large vehicle  possibly a van  and are keen to hear from anyone who may have seen one leaving chalfont st peter at speed. police appealed for public help to find the perpetrators and stolen items on 0845 8 505 505 or 0800 555 111. \n",
      "\n",
      "\n",
      "Index: 1152\n",
      "Category: entertainment\n",
      "New: \n",
      "celebrities get to stay in jungle all four contestants still remain in i m a celebrity ... get me out of here as no evictions were made on the television show on saturday.  contestants paul burrell  joe pasquale  janet street-porter and fran cosgrave were told by hosts ant and dec. natalie appleton s decision to quit the show last monday had given them all a stay of execution  the group were told. model sophie anderton was the last person to be voted off the itv1 show  set in the australian jungle. the four remaining stars will do a joint bushtucker trial on sunday.  former all saints singer natalie appleton 31  walked out of the show after learning she would face a fifth so-called bushtucker trial. the celebrities are chosen by the viewers to pass trials in order to win food for the rest of the camp. appleton had endured a torrid time during the programme  including a well-publicised row with sophie anderton. and on 26 november singer brian harvey quit as a contestant after he had a blazing row with janet street-porter. \n",
      "\n",
      "\n"
     ]
    }
   ],
   "source": [
    "for (i,n,c) in results_for_Query(train_embeding, y_train, test_embeding, y_test, 5, X_train, 270):\n",
    "    print(\"Index: {}\".format(i))\n",
    "    print(\"Category: {}\".format(c))\n",
    "    print(\"New: \\n{} \\n\\n\".format(n))"
   ]
  },
  {
   "cell_type": "markdown",
   "metadata": {},
   "source": [
    "Podemos comprobar que la precisión es de un 100%, por lo que el clasificador tomará una buena decisión metiendo nuestra noticia como `entertainment`.\n",
    "\n",
    "Ahora vamos a mostrar la intersección entre la consulta y la primera noticia mal recuperada usando TF-IDF puro:"
   ]
  },
  {
   "cell_type": "code",
   "execution_count": 39,
   "metadata": {
    "scrolled": false
   },
   "outputs": [
    {
     "name": "stdout",
     "output_type": "stream",
     "text": [
      "{'man', 'spokesman', 'brown', 'went', 'career', 'mr', 's', 'using', 'took', 'far', 'said', 'record'}\n"
     ]
    }
   ],
   "source": [
    "words_query = set(terms_in_message(feature_names, test_preprocessed, 270))\n",
    "words_first_result = set(terms_in_message(feature_names, train_preprocessed, 205))\n",
    "print(words_query & words_first_result)"
   ]
  },
  {
   "cell_type": "markdown",
   "metadata": {},
   "source": [
    "Como vemos, hay varias palabras que se repiten en ambas noticias. "
   ]
  },
  {
   "cell_type": "markdown",
   "metadata": {},
   "source": [
    "Ahora vamos a mostrar la intersección entre la consulta y la primera noticia bien recuperada usando word-embeddings:"
   ]
  },
  {
   "cell_type": "code",
   "execution_count": 44,
   "metadata": {
    "scrolled": true
   },
   "outputs": [
    {
     "name": "stdout",
     "output_type": "stream",
     "text": [
      "{'s', 'told', 'singer', 'paul', 'set'}\n"
     ]
    }
   ],
   "source": [
    "words_query = set(terms_in_message(feature_names, test_preprocessed, 270))\n",
    "words_first_result = set(terms_in_message(feature_names, train_preprocessed, 1152))\n",
    "print(words_query & words_first_result)"
   ]
  },
  {
   "cell_type": "markdown",
   "metadata": {},
   "source": [
    "Si observamos los dos resultados anteriores, vemos que hay varias palabras que se repiten en la noticia de la consulta y en las noticias recuperadas como similares. Vamos a analizar por qué el TF-IDF no ha sido capaz de clasificar bien la noticia y el word-embedding sí.\n",
    "\n",
    "Lo que hace el TF-IDF es asignar un peso a cada término de cada documento, dependiendo de la frecuencia de ese término en ese documento (TF) y de la inversa del número de documentos del total del corpus en los que aparece ese término (IDF). Teniendo esto en cuenta, vemos que las palabras recuperadas por la intersección no son muy numerosas, lo cual indica que son términos relativamente relevantes en esa categoría en comparación con las demás. La palabra más clara para ejemplificar esto es el uso de _brown_, que es de mucha relevancia en la categoría _politics_ cuando se habla de Gordon Brown, antiguo Primer Ministro del Reino Unido. Aunque la noticia de la consulta hable sobre Ian Brown (músico y compositor inglés), tiene sentido que en el momento en el que nuestro clasificador detecta la palabra _brown_ se piense que hace referencia a las numerosas veces que se menciona a Gordon Brown en las noticias de la categoría _politics_. La importancia de la palabra _brown_ en la categoría _politics_ se puede ver fácilmente en los resultados obtenidos en la anterior celda de código.\n",
    "\n",
    "Para este caso en concreto hemos visto que el TF-IDF fallaba con bolsa de palabras, pero mejoraba a una precisión del 100% con word-embeddings. Lo que hacen las word-embeddings con el transformador TF-IDF es vectorizar cada término de cada noticia, multiplicar el vector por el TF-IDF de ese término y unificar los vectores en uno solo, al que conocemos como vector medio. Este vector medio representará la noticia y la importancia de cada palabra en esa noticia. Es por eso que en vez de considerar palabras independientes de la noticia y con una maldición de la dimensionalidad enorme por el elevado número de vairables que contiene, vamos a considerar la noticia conjunta y buscar vectores lo más similares posible. Gracias a no considerar palabras sueltas, evitamos que palabras con gran relevancia en una categoría decidan la categorización de esa noticia como pasaba en el caso anterior con la palabra _brown_. Sin embargo, al considerar el vector en conjunto, conseguimos una categorización correcta."
   ]
  },
  {
   "cell_type": "markdown",
   "metadata": {},
   "source": [
    "El primero se basa en la aparicion de las palabras y su frecuencia (nº de palabras en comun)\n",
    "\n",
    "La w.e. se basa en el significado de esas palabras a pesar de tener menos palabras en comun\n",
    "\n",
    "La bolsa de palabras solo tiene en cuenta las palabras compartidas teniendo en cuenta su peso\n",
    "Por ejemplo, la w.e seria capaz de reconocer relaciones entre futbol y balonc pero para la bolsa de palabras serian independientes"
   ]
  },
  {
   "cell_type": "code",
   "execution_count": null,
   "metadata": {},
   "outputs": [],
   "source": []
  }
 ],
 "metadata": {
  "colab": {
   "name": "P2_recuperacion_informacion_2122_enunciado.ipynb",
   "provenance": []
  },
  "kernelspec": {
   "display_name": "Python 3 (ipykernel)",
   "language": "python",
   "name": "python3"
  },
  "language_info": {
   "codemirror_mode": {
    "name": "ipython",
    "version": 3
   },
   "file_extension": ".py",
   "mimetype": "text/x-python",
   "name": "python",
   "nbconvert_exporter": "python",
   "pygments_lexer": "ipython3",
   "version": "3.8.10"
  }
 },
 "nbformat": 4,
 "nbformat_minor": 1
}
