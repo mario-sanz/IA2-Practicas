{
 "cells": [
  {
   "cell_type": "markdown",
   "metadata": {
    "id": "p7CielRvPjtu"
   },
   "source": [
    "# Clasificación de textos mediante bolsa de palabras"
   ]
  },
  {
   "cell_type": "markdown",
   "metadata": {
    "id": "tWxKyWD0Pjtx"
   },
   "source": [
    "Este notebook muestra cómo hacer procesamiento de lenguaje natural representando los textos mediante bolsas de palabras (es decir, vectores de términos) y usando técnicas cuantitativas. \n",
    "\n",
    "En él veremos cómo clasificar textos con algoritmos clásicos de aprendizaje automático. \n",
    "\n",
    "\n",
    "*Este notebook reutiliza y modifica el notebook preparado de [NLP Town](http://www.nlp.town) [disponible en github](https://github.com/nlptown/nlp-notebooks/blob/master/Traditional%20text%20classification%20with%20Scikit-learn.ipynb).*"
   ]
  },
  {
   "cell_type": "markdown",
   "metadata": {
    "id": "Fy4rsaeePjt3"
   },
   "source": [
    "## Conjunto de datos"
   ]
  },
  {
   "cell_type": "markdown",
   "metadata": {
    "id": "j5IHW9usPjt6"
   },
   "source": [
    "El conjunto de datos será el de [20 Newsgroups](http://qwone.com/~jason/20Newsgroups/), que es usado a menudo como benchmark para modelos de clasificación de textos y que se encuentra disponible en [Scikit-learn](https://scikit-learn.org/stable/). \n",
    "\n",
    "El conjunto consiste en textos sobre diferentes temas, desde hardware hasta religión. Algunos temas están muy relacionados, p.ej. \"IBM PC hardware\" y \"Mac hardware\", mientras que otros son más diversos, p.ej. \"religion\" o \"hockey\"). \n",
    "\n",
    "Está dividido de forma predeterminada en entrenamiento (train) y prueba (test) en porcentajes de 60 y 40, respectivamente. "
   ]
  },
  {
   "cell_type": "code",
   "execution_count": 1,
   "metadata": {
    "id": "-ZM39VWiPjt9"
   },
   "outputs": [],
   "source": [
    "from sklearn.datasets import fetch_20newsgroups"
   ]
  },
  {
   "cell_type": "code",
   "execution_count": 2,
   "metadata": {
    "colab": {
     "base_uri": "https://localhost:8080/"
    },
    "executionInfo": {
     "elapsed": 19594,
     "status": "ok",
     "timestamp": 1647812190747,
     "user": {
      "displayName": "JAVIER ARROYO GALLARDO",
      "photoUrl": "https://lh3.googleusercontent.com/a/default-user=s64",
      "userId": "02428824756029313673"
     },
     "user_tz": -60
    },
    "id": "9I0MexOiPjuA",
    "outputId": "4542d7b1-393b-4bab-8526-5b27ece10cd6"
   },
   "outputs": [
    {
     "name": "stdout",
     "output_type": "stream",
     "text": [
      "Training texts: 11314\n",
      "Test texts: 7532\n"
     ]
    }
   ],
   "source": [
    "train_data = fetch_20newsgroups(subset='train', shuffle=True, random_state=42)\n",
    "test_data = fetch_20newsgroups(subset='test')\n",
    "\n",
    "print(\"Training texts:\", len(train_data.data))\n",
    "print(\"Test texts:\", len(test_data.data))"
   ]
  },
  {
   "cell_type": "markdown",
   "metadata": {
    "id": "7gDzV0ecPjuD"
   },
   "source": [
    "Siempre es adecuado observar el texto de partida con el que vamos a trabajar, ya que nos permite anticipar posibles problemas o limitaciones."
   ]
  },
  {
   "cell_type": "code",
   "execution_count": 3,
   "metadata": {
    "colab": {
     "base_uri": "https://localhost:8080/"
    },
    "executionInfo": {
     "elapsed": 262,
     "status": "ok",
     "timestamp": 1647812625564,
     "user": {
      "displayName": "JAVIER ARROYO GALLARDO",
      "photoUrl": "https://lh3.googleusercontent.com/a/default-user=s64",
      "userId": "02428824756029313673"
     },
     "user_tz": -60
    },
    "id": "8WokBH41PjuF",
    "outputId": "2e84a2ac-3388-40c3-9987-5b1565277be1"
   },
   "outputs": [
    {
     "name": "stdout",
     "output_type": "stream",
     "text": [
      "From: irwin@cmptrc.lonestar.org (Irwin Arnstein)\n",
      "Subject: Re: Recommendation on Duc\n",
      "Summary: What's it worth?\n",
      "Distribution: usa\n",
      "Expires: Sat, 1 May 1993 05:00:00 GMT\n",
      "Organization: CompuTrac Inc., Richardson TX\n",
      "Keywords: Ducati, GTS, How much? \n",
      "Lines: 13\n",
      "\n",
      "I have a line on a Ducati 900GTS 1978 model with 17k on the clock.  Runs\n",
      "very well, paint is the bronze/brown/orange faded out, leaks a bit of oil\n",
      "and pops out of 1st with hard accel.  The shop will fix trans and oil \n",
      "leak.  They sold the bike to the 1 and only owner.  They want $3495, and\n",
      "I am thinking more like $3K.  Any opinions out there?  Please email me.\n",
      "Thanks.  It would be a nice stable mate to the Beemer.  Then I'll get\n",
      "a jap bike and call myself Axis Motors!\n",
      "\n",
      "-- \n",
      "-----------------------------------------------------------------------\n",
      "\"Tuba\" (Irwin)      \"I honk therefore I am\"     CompuTrac-Richardson,Tx\n",
      "irwin@cmptrc.lonestar.org    DoD #0826          (R75/6)\n",
      "-----------------------------------------------------------------------\n",
      "\n"
     ]
    }
   ],
   "source": [
    "print(train_data.data[10])"
   ]
  },
  {
   "cell_type": "code",
   "execution_count": 4,
   "metadata": {
    "colab": {
     "base_uri": "https://localhost:8080/"
    },
    "executionInfo": {
     "elapsed": 274,
     "status": "ok",
     "timestamp": 1647812628437,
     "user": {
      "displayName": "JAVIER ARROYO GALLARDO",
      "photoUrl": "https://lh3.googleusercontent.com/a/default-user=s64",
      "userId": "02428824756029313673"
     },
     "user_tz": -60
    },
    "id": "Yxc08IVRPjuI",
    "outputId": "b8f1138b-8b33-4191-8ecd-4a55706f7825"
   },
   "outputs": [
    {
     "name": "stdout",
     "output_type": "stream",
     "text": [
      "From: tchen@magnus.acs.ohio-state.edu (Tsung-Kun Chen)\n",
      "Subject: ** Software forsale (lots) **\n",
      "Nntp-Posting-Host: magnusug.magnus.acs.ohio-state.edu\n",
      "Organization: The Ohio State University\n",
      "    ****   This is a post for my friend,  You can either call    ****\n",
      "    ****    him  J.K Lee  (614)791-0748    or Drop me a mail     ****\n",
      "Distribution: usa\n",
      "Lines: 39\n",
      "\n",
      "1.  Software publishing SuperBase 4 windows v.1.3           --->$80\n",
      "\n",
      "2.  OCR System ReadRight v.3.1 for Windows                  --->$65\n",
      "\n",
      "3.  OCR System ReadRight  v.2.01 for DOS                    --->$65\n",
      "\n",
      "4.  Unregistered Zortech 32 bit C++ Compiler v.3.1          --->$ 250\n",
      "     with Multiscope windows Debugger,\n",
      "     WhiteWater Resource Toolkit, Library Source Code\n",
      "\n",
      "5.  Glockenspiel/ImageSoft Commonview 2 Windows\n",
      "     Applications Framework for Borland C++                 --->$70\n",
      "\n",
      "6.  Spontaneous Assembly Library With Source Code           --->$50\n",
      "\n",
      "7.  Microsoft Macro Assembly 6.0                            --->$50\n",
      "\n",
      "8.  Microsoft Windows v.3.1 SDK Documentation               --->$125\n",
      "\n",
      "9.  Microsoft FoxPro V.2.0                                  --->$75\n",
      "\n",
      "10.  WordPerfect 5.0 Developer's Toolkit                    --->$20\n",
      "\n",
      "11.  Kedwell Software DataBoss v.3.5 C Code Generator       --->$100\n",
      "\n",
      "12.  Kedwell InstallBoss v.2.0 Installation Generator       --->$35\n",
      "\n",
      "13.  Liant Software C++/Views v.2.1\n",
      "       Windows Application Framework with Source Code       --->$195\n",
      "\n",
      "14.  IBM OS/2 2.0 & Developer's Toolkit                     --->$95\n",
      "\n",
      "15.  CBTree DOS/Windows Library with Source Code            --->$120\n",
      "\n",
      "16.  Symantec TimeLine for Windows                          --->$90\n",
      "\n",
      "17.  TimeSlip TimeSheet Professional for Windows            --->$30\n",
      "\n",
      "         Many More Software/Books Available,Price Negotiable\n",
      "\n"
     ]
    }
   ],
   "source": [
    "print(train_data.data[100])"
   ]
  },
  {
   "cell_type": "markdown",
   "metadata": {
    "id": "6heqBSnEPjuK"
   },
   "source": [
    "El primer paso será transformar cada texto en un vector de variables descriptivas y, por tanto, el conjunto de textos pasará a ser una matriz de datos donde por columnas tengamos las variables de entrada y por filas cada uno de los textos del conjunto. Además habrá una columna indicando la clase del texto, es decir, el tema del grupo de noticias al que pertenece el texto.\n",
    "\n",
    "Seguiremos la aproximación de la \"bolsa-de-palabras\". Cada texto, será transformado en un vector de palabras con su frecuencia de aparición en el texto. El orden de aparición dejar de ser relevante. Las palabras que no aparecen en dicho texto, pero sí en otros del conjunto de datos, tendrán frecuencia cero.\n",
    "\n",
    "Lo vemos a continuación"
   ]
  },
  {
   "cell_type": "markdown",
   "metadata": {
    "id": "2-gcM5BgPjuN"
   },
   "source": [
    "## Preprocesado de datos"
   ]
  },
  {
   "cell_type": "markdown",
   "metadata": {
    "id": "pevFW4aKPjuO"
   },
   "source": [
    "\n",
    "\n",
    "En Scikit-learn, podemos construir esa matriz de datos con `CountVectorizer`, que transforma el texto en variables, donde cada variable es una palabra, y cuenta las veces que aparece dicha palabra en el corpus de documentos. Si no le facilitamos un diccionario (en nuestro caso no lo hará), las variables que extraerá serán aquellas palabras encontradas analizando el corpus. EStos son algunos de los parámetros más importantes:\n",
    "- `analyzer`: para nuestros casos hay que usar `word`\n",
    "- `binary`: es un valor booleano que si está a `True` indica que la bolsa de palabras solamente refleja si un término está presente o ausente, mientras que si está a `False` (opción por defecto) indica que se contabilizará la frecuencia de dicho término.\n",
    "- `vocabulary`: le facilita la lista de términos que se van a usar (términos del vector) en forma de diccionario de Python (clave son los términos y el valor el índice de la matriz) o en forma de un objeto iterable (p.ej. una lista). Si no se da este parámetro, el vocabulario se construye en base a los términos del corpus.\n",
    "- `stop_words`: hay que pasar una lista o el string 'english' que es la única lista de palabras que maneja sklearn (es imperfecta).\n",
    "- `ngram_range`: el rango de los n-gramas que se van a extraer, si queremos solamente monogramas usamos `(1,1)`\n",
    "- `max_df` y `min_df`: sirve para ignorar palabras cuya frecuencia en el corpus de documentos sea mayor que el número indicado, es decir, identifica palabras tan frecuentes en el corpus que no discriminan. Por el contario, `min_df` elimina términos muy infrecuentes del corpus para reducir la dimensionalidad.\n",
    "- `max_features`: indica el número de términos máximo que se usará, para ello filtra el top de la lista ordenada de mayor a menor frecuencia.\n",
    "\n",
    "\n",
    "El `CountVectorizer` nos devuelve un vector de términos con valores binarios (indicando la presencia de términos en un documento) o valores enteros positivos indicando su frecuencia (según el parámetro `binary`). \n",
    "\n",
    "Sin embargo, la frecuencia de un término en un documento puede no ser muy útil ya que contendrá palabras que son muy frecuentes en inglés y no necesariamente stop-words, que las hemos podido eliminar, sino palabras como *like*, *think*, *have*. Estas palabras no tienen un gran poder discriminante, como si lo tendrían en este caso palabras como  *computer* o *hardware*: palabras que son frecuentes en textos de una clase, pero no de otras.  \n",
    "\n",
    "Para matizar la frecuencia de un término según lo específico o general que sea se utiliza el TF-IDF. Esto suele ser más útil que la frecuencia en bruto en contextos de recuperación de información o clasificación. El TF-IDF cuenta el número de veces que una palabra aparece en un texto, divido entre el logaritmo del porcentaje de documentos del corpus que contienen dicho término. Para poder generar estos pesos se utiliza el `TfidfTransformer` de Scikit-learn sobre la salida que genera el `CountVectorizer`.\n",
    "\n"
   ]
  },
  {
   "cell_type": "code",
   "execution_count": 5,
   "metadata": {
    "executionInfo": {
     "elapsed": 280,
     "status": "ok",
     "timestamp": 1647812633971,
     "user": {
      "displayName": "JAVIER ARROYO GALLARDO",
      "photoUrl": "https://lh3.googleusercontent.com/a/default-user=s64",
      "userId": "02428824756029313673"
     },
     "user_tz": -60
    },
    "id": "3lbpYalzPjuR"
   },
   "outputs": [],
   "source": [
    "from sklearn.feature_extraction.text import CountVectorizer\n",
    "from sklearn.feature_extraction.text import TfidfTransformer"
   ]
  },
  {
   "cell_type": "markdown",
   "metadata": {
    "id": "qB6c1WSWPjuS"
   },
   "source": [
    "### Ajustando la bolsa de palabras en entrenamiento "
   ]
  },
  {
   "cell_type": "markdown",
   "metadata": {
    "id": "1TDRGg-XPjuS"
   },
   "source": [
    "En primer lugar aplicaremos las transformaciones en el conjunto de entrenamiento. Observa que tanto el diccionario usado, como la frecuencia inversa de aparición de un término en los documentos (es decir, el término IDF), debe ser el mismo en los conjuntos de entrenamiento y de test. Los datos de test son datos que simulan el funcionamiento del algoritmo entrenado, por tanto no son conocidos en tiempo de entrenamiento.\n",
    "\n",
    "\n",
    "Por ello, debemos usar el método `fit_transform` para el conjunto de entrenamiento,  para fijar el dicccionario en `CountVectorizer` y el término idf del `TfidfTransformer`, mientras que usaremos simplemente el método `transform` en el conjunto de test (de forma que ambas herramientas usan lo aprendido en el conjunto de entrenamiento).\n",
    "\n",
    "Dicho de otra forma la función `fit_transform` hace dos pasos: primero ajusta `fit` y luego transforma `transform`. En los datos de entrenamiento corresponde hacer los dos pasos."
   ]
  },
  {
   "cell_type": "markdown",
   "metadata": {
    "id": "q_eiqOVbPjuT"
   },
   "source": [
    "#### Intento 1: Obteniendo la frecuencia de los términos de los documentos con un diccionario inferido del conjunto de entrenamiento"
   ]
  },
  {
   "cell_type": "markdown",
   "metadata": {
    "id": "gpG7k0m5PjuV"
   },
   "source": [
    "En primer lugar vamos a general la bolsa de palabras con TF-IDF.\n",
    "\n",
    "El primer paso es obtener las frecuencias de las palabras con `CountVectorizar` y lo haremos usando el diccionario que se inferirá de los términos de los documentos que se le pasan al `CountVectorizer` (esta opción es el funcionamiento por defecto por tanto no hay que hacer nada).  También queremos usar la lista de palabras que proporciona sklearn para el inglés (parámetro `stop_words` con el valor `english`)."
   ]
  },
  {
   "cell_type": "code",
   "execution_count": 6,
   "metadata": {
    "executionInfo": {
     "elapsed": 3405,
     "status": "ok",
     "timestamp": 1647812642298,
     "user": {
      "displayName": "JAVIER ARROYO GALLARDO",
      "photoUrl": "https://lh3.googleusercontent.com/a/default-user=s64",
      "userId": "02428824756029313673"
     },
     "user_tz": -60
    },
    "id": "F8fQkxcpPjuY"
   },
   "outputs": [],
   "source": [
    "vectorizer = CountVectorizer(stop_words='english', binary=False)\n",
    "# Tomamos los textos del conjunto de entrenamiento y los transformamos en \n",
    "# una matriz de datos (palabras) según el diccionario estándar\n",
    "train_vector_data=vectorizer.fit_transform(train_data.data)"
   ]
  },
  {
   "cell_type": "markdown",
   "metadata": {
    "id": "sPcTiOs6PjuZ"
   },
   "source": [
    "Vamos a ver cómo han quedado los términos con los parámetros por defecto y cuántos términos hay.\n"
   ]
  },
  {
   "cell_type": "code",
   "execution_count": 7,
   "metadata": {
    "colab": {
     "base_uri": "https://localhost:8080/"
    },
    "executionInfo": {
     "elapsed": 23,
     "status": "ok",
     "timestamp": 1647812642300,
     "user": {
      "displayName": "JAVIER ARROYO GALLARDO",
      "photoUrl": "https://lh3.googleusercontent.com/a/default-user=s64",
      "userId": "02428824756029313673"
     },
     "user_tz": -60
    },
    "id": "mExeZ4LDPjua",
    "outputId": "39d1c0dc-ea20-4131-fa91-e10843d93e27"
   },
   "outputs": [
    {
     "name": "stdout",
     "output_type": "stream",
     "text": [
      "129796\n",
      "['00', '000', '0000', '00000', '000000', '00000000', '0000000004', '0000000005', '00000000b', '00000001', '00000001b', '0000000667', '00000010', '00000010b', '00000011', '00000011b', '0000001200', '00000074', '00000093', '000000e5', '00000100', '00000100b', '00000101', '00000101b', '00000110', '00000110b', '00000111', '00000111b', '00000315', '000005102000', '00000510200001', '000007', '00000ee5', '00001000', '00001000b', '00001001', '00001001b', '00001010', '00001010b', '00001011', '00001011b', '000010af', '00001100', '00001100b', '00001101', '00001101b', '00001110', '00001110b', '00001111', '00001111b', '000021', '000042', '000062david42', '000094', '0000vec', '0001', '00010000', '00010000b', '00010001', '00010001b', '00010010', '00010010b', '00010011', '00010011b', '000100255pixel', '00010100', '00010100b', '00010101', '00010101b', '00010110', '00010110b', '00010111', '00010111b', '00011000', '00011000b', '00011001', '00011001b', '00011010', '00011010b', '00011011', '00011011b', '00011100', '00011100b', '00011101', '00011101b', '00011110', '00011110b', '00011111', '00011111b', '00014', '000152', '0001mpc', '0001x7c', '0002', '000246', '000256', '0003', '000359', '0004', '000406', '00041032', '000413', '0004136', '0004246', '0004422', '00044513', '0004847546', '0005', '0005111312', '0005111312na1em', '0005111312na3em', '000531', '0005895485', '000601', '0007', '000710', '00072', '0007259d', '00072741', '00072840', '00072a27', '000773b9', '00077bbe', '000851', '0009', '00090711', '000956', '000ds', '000k', '000mi', '000miles', '000rpm', '000s', '000th', '000usd', '001', '0010', '00100000', '00100000b', '00100001', '00100001b', '00100010', '00100010b', '00100011', '00100011b', '00100100', '00100100b', '00100101', '00100101b', '00100110', '00100110b', '00100111', '00100111b', '001004', '00101000', '00101000b', '00101001', '00101001b', '00101010', '00101010b', '00101011', '00101011b', '00101100', '00101100b', '00101101', '00101101b', '00101110', '00101110b', '00101111', '00101111b', '0010580b', '0011', '00110000', '00110000b', '00110001', '00110001b', '00110010', '00110010b', '00110011', '00110011b', '00110100', '00110100b', '00110101', '00110101b', '00110110', '00110110b', '00110111', '00110111b', '00111000', '00111000b', '00111001', '00111001b', '00111010', '00111010b', '00111011', '00111011b', '00111100', '00111100b', '00111101', '00111101b', '00111110', '00111110b', '00111111', '00111111b', '001116', '001125', '001127', '0012', '001200201pixel', '001211', '001230', '0013', '001319', '001321', '001323', '001338', '0014', '001428', '001555', '001642', '001707', '001718', '001757', '0018', '001813', '001934', '00196', '002', '0020', '002118', '002142', '0022', '002222', '002251w', '0023', '002302', '002339', '0024', '002651', '0028', '002811', '0029', '002937', '002d', '003', '0030', '003015', '003029', '00309', '00314', '003221', '003258u19250', '0033', '0034', '003522', '003719', '003749', '0038', '003800', '003848', '0039', '004', '0040000d', '004021809', '004158', '004253agrgb', '004325', '0044', '004418', '004532', '004627', '004808', '0049', '005', '00500', '005117', '005131', '005148', '005150', '005204', '005245', '005314', '005512', '005634', '0058', '0059', '006', '0060', '0062', '00630', '0065', '0066', '0068', '007', '0075', '0076', '0078', '0079', '008', '00800', '0082', '0084', '008561', '0086', '0087', '0088', '009', '00900001', '0094', '00969fba', '0096a95c', '0096b0f0', '0096b11b', '0096b130', '0096b294', '0098', '0099', '00_', '00acearl', '00am', '00bjgood', '00c', '00each', '00ecgillespi', '00ecgillespie', '00f', '00g', '00h', '00index', '00lz8bct', '00m', '00mbstultz', '00pm', '00q', '00r', '00tx', '00tzxb', '00tzxb2vyn', '00u', '00xkv', '01', '010', '0100', '01000', '01000000', '01000000b', '01000001', '01000001b', '01000010', '01000010b', '01000011', '01000011b', '01000100', '01000100b', '01000101', '01000101b', '01000110', '01000110b', '01000111', '01000111b', '01001000', '01001000b', '01001001', '01001001b', '01001010', '01001010b', '01001011', '01001011b', '01001100', '01001100b', '01001101', '01001101b', '01001110', '01001110b', '01001111', '01001111b', '01002', '01003', '01010000', '01010000b', '01010001', '01010001b', '01010010', '01010010b', '01010011', '01010011b', '01010100', '01010100b', '01010101', '01010101b', '01010110', '01010110b', '01010111', '01010111b', '01011000', '01011000b', '01011001', '01011001b', '01011010', '01011010b', '01011011', '01011011b', '01011100', '01011100b', '01011101', '01011101b', '01011110', '01011110b', '01011111', '01011111b', '010116', '010235', '010256', '010305', '010326', '010329', '01050810', '010517', '010533', '010702', '010734', '010745', '01075', '010808', '010821', '010834', '0109', '010908', '010955', '011', '01100000', '01100000b', '01100001', '01100001b', '01100010', '01100010b', '01100011', '01100011b', '01100100', '01100100b', '01100101', '01100101b', '01100110', '01100110b', '01100111', '01100111b', '01101000', '01101000b', '01101001', '01101001b', '01101010', '01101010b', '01101011', '01101011b', '01101100', '01101100b', '01101101', '01101101b', '01101110', '01101110b', '01101111', '01101111b', '011033', '011042', '0111', '01110000', '01110000b', '01110001', '01110001b', '01110010', '01110010b', '01110011', '01110011b', '01110100', '01110100b', '01110101', '01110101b', '01110110', '01110110b', '01110111', '01110111b', '01111000', '01111000b', '01111001', '01111001b', '01111010', '01111010b', '01111011', '01111011b', '01111100', '01111100b', '01111101', '01111101b', '01111110', '01111110b', '01111111', '01111111b', '011112', '0112', '011255', '011308pxf3', '0114', '0115', '011605', '011634edt', '011653', '011720', '011730', '011743', '011805', '011823', '011855', '0119', '012', '012011', '012019', '012344', '0123456789', '012451', '012536', '012537', '0126', '012714', '012946', '012c', '012i', '013', '013011', '013034', '013037', '0131', '013145', '0134', '013423tan102', '013433', '013559', '0136', '013611', '013651', '013653rap115', '013657', '013752', '0138', '013846', '013847', '0139', '013939', '014', '014135', '01420', '014237', '014305', '014506', '01451', '01463', '014638', '014646', '014t4', '015', '0150', '015043', '015209', '015225', '0154', '015415', '015442', '01545', '015518', '015551', '0158', '01580', '015844', '015908', '015931', '015936', '016', '01609', '0161', '0162', '0164', '0168', '01701', '01720', '01730', '01742', '01752', '01760', '01775', '01776', '0179', '018', '0180', '01800', '01801', '01803', '01810', '0182', '01821', '01826', '0183', '01830', '0184', '01852', '01854', '0186', '01867', '0188', '01880', '018801285', '01890', '018b', '019', '0192', '0195', '0199', '01_0', '01a', '01apr93', '01c', '01d', '01f6', '01h', '01h0', '01h5', '01ll', '01ne', '01o', '01ob', '01oe', '01wb', '02', '020', '0200', '02000', '020021', '020259', '02026', '0203', '020347', '020356', '020359', '020427', '0205', '020504', '020533', '020555', '020637', '020646', '020655', '020701tan102', '020751', '02086551', '0209', '020qw', '021', '021021', '02106', '021105', '02115', '021154', '02118', '021225', '02138', '02139', '02142', '02146', '02150', '02154', '0216', '02160', '021635', '02170289', '021708', '02172', '02173', '02174', '02178', '02180', '021846', '02194', '021lh2u', '022', '022011', '022113', '02215', '022218', '022222', '022233', '0223', '02238', '02254', '0226', '022621tan102', '0228', '02280936', '022903', '022922', '022926', '022947', '023', '023017', '023039', '023044', '0233', '023428', '0235', '0237', '023730', '023843', '0239', '023937', '023_', '023b', '024', '024036', '024103', '024128', '024150', '024222', '024246', '024257', '024423', '0245', '02451203', '024626', '024646', '024850', '024949', '025', '0250', '025027', '025031', '025240', '025258', '025426', '025636', '025818u28037', '025924', '02678944', '027', '0272', '0273', '0278', '0279', '02790', '027w', '028', '0280', '0283', '0284', '029', '02903', '02908', '02917', '0293', '02_', '02_8v', '02_9', '02at', '02bp1m51', '02bz', '02cents', '02d', '02h', '02ixl', '02j', '02l', '02m', '02njp', '02p', '02p4', '02qvq', '02r', '02r4e', '02s', '02t', '02tl', '02tm_', '02tmn', '02u', '02uv', '02v', '02va7pu', '02vx', '02vy', '02vyn', '02vz089', '02w', '02x', '03', '030', '0300', '03000', '030031', '0300ff', '030105', '0302', '030204', '0303', '030334', '030412', '03051', '030538', '03054', '0306', '030636', '030703', '030706', '030733mcartwr', '030734', '03083', '030934', '031', '031349', '0314', '031404', '031423', '031520', '031524', '031616', '0317', '031744', '0318', '031823', '031840', '031905saundrsg', '031l86', '0320', '032017', '032022', '032251', '032345', '032350', '0324', '032405', '032554', '032616mbs110', '032620', '032623', '032746', '032828', '032905', '033', '0330', '0332', '033213', '033230kevxu', '033258', '0334', '033446', '0335', '0338', '033802', '033843', '034', '0340', '034101', '034226', '034352', '034517', '0346', '034614', '0347', '034724', '034751', '0349', '035', '0350', '035020', '035125', '0353', '035406', '035544', '0356', '0357', '0358', '035941', '036', '0362', '0366', '0369', '037', '0372', '03756', '038', '0380', '03800', '0382', '03833', '0384', '038o8v', '039', '0391', '0395', '03_', '03e8', '03f', '03ho', '03hord', '03hz', '03hzri', '03i', '03i3', '03ii', '03imv', '03is', '03j1', '03j1d9', '03k', '03k8', '03k8rg', '03m4u', '03o', '03p', '03t', '03u', '03u0', '03vo', '03y', '03yqu', '04', '040', '0400', '0401', '040118', '040231', '040254', '040286', '0404', '040414', '040449', '04046', '040493023201', '040493161915', '0405', '040606', '040819', '040839', '040946', '041', '0410', '041033', '0411', '04110', '041300', '041343', '0414', '041411', '041493003715', '041505', '041741', '0418', '041810', '041929', '042', '042100', '0422', '042234', '0423', '042427', '042450', '04255', '042624', '042722mcartwr', '042749', '042918', '043', '0430', '043112', '0433nl', '0434', '043426', '0435', '043642', '043654', '0437', '043740', '0437643', '043935', '044', '0440', '044001', '044018', '044045', '044140', '044201', '044248', '0443', '044323', '0444', '044405', '0446', '044636', '04473', '044749', '044946', '044958', '045', '0450', '045019', '045032', '045040', '045046', '045221', '0453', '0454', '045526', '0456', '045612', '045651', '0458', '045903', '045q2', '045u', '046', '046p4', '046q2b5u', '046sau', '046um', '047', '047m', '0483', '0486', '0488', '049', '0490', '0493', '0494', '0498', '04ax', '04b', '04c', '04e', '04g', '04g55', '04glvr8a', '04he', '04hj', '04hlal', '04hm34u', '04jdj', '04mk', '04p', '04p2', '04q', '04qu0s_pb', '04qu145', '04w0', '04zb', '05', '050', '0500', '050046mvs104', '050127', '0502', '050302', '050303', '050311', '050451', '050493101102', '050493173709', '050524', '050550', '0506', '0507', '050750', '050956', '051', '0510', '051039', '0511', '051201', '051246', '0513', '051309', '0514', '051439', '0515', '051701', '051746', '0518', '051942', '051t', '052', '052005', '052013', '052025', '052120rap115', '0524', '052552', '052907', '053', '0530', '053035', '0531', '0532', '053221', '053250', '0533', '053333', '053516', '053553', '0536', '053718', '053736', '053748rap115', '053905', '0540', '05401', '05402', '0541', '0542', '054308', '05446', '0545', '054552', '054589e', '0546', '054600', '054820', '054843', '055', '055039', '055100', '055109', '055341', '0554', '055555556q', '055555556ql34u', '055903', '055958', '056', '0564m', '0565', '0570', '0578', '058', '05800', '0582', '0584', '0588773', '058soh9ra', '059', '0593', '0598', '05_', '05_c', '05a1h', '05apr93', '05bc5cvfq', '05gd87g', '05i420', '05ic', '05jl1i', '05l', '05ll', '05lma', '05lxm34', '05lxn', '05o', '05q', '05qnf', '05rov', '05s', '05u', '05xk87', '05z', '06', '060', '0600', '060010', '060043', '0600h', '0600lines', '060213', '0603', '060413', '060493075518', '060493101758', '060493114735', '060493114752', '060493121851', '060493132722', '060493151309', '060493161931', '060493164354', '0605', '060540', '060553', '06066', '0607', '0608', '060929', '060948', '061', '06108', '06111', '061326', '061329', '0615', '061532', '0616', '061736', '06179397', '061a', '062', '062055', '062219', '062328', '062557', '062622', '0628', '062802', '062907', '062908mvs104', '063', '063040', '06320', '063253', '063425', '0635', '0636', '0638', '0639', '064', '064028', '064421', '0646', '064702', '064720', '064804', '06482', '06487', '0649', '065', '065015', '06510', '06520', '065230', '065354', '065357', '0656', '06561', '065731', '0663', '0666', '0667', '0669', '067', '0674', '06762', '0678', '068', '0684', '06840', '0688', '069', '06902', '0695', '06dz', '06eh', '06f1', '06g', '06hwke', '06j', '06ku', '06kv', '06lm', '06mz', '06p', '06paul', '06s', '06t', '06tz', '06tzv', '06umv', '06w', '06w8', '06x', '06zkc4', '07', '070', '0700', '07000', '0701', '0702', '0704', '0705', '07059', '0706', '0707', '070759', '0709', '07090', '070905', '071', '0710', '07102', '0714', '0715', '071549', '071613j5j', '071624', '0717', '071740', '071791', '0718', '071814', '071823', '072', '0720', '0721', '07220yfz', '072253', '072291', '072429', '072523', '072706', '0729', '072905', '072q', '073', '073051', '07306', '073119ip06015', '073134', '073457ripbc', '0735', '073540', '073716', '073813', '0739', '073926', '073b', '073m', '074', '074054', '07410', '074352', '0747', '0748', '074836', '075', '0751', '0752', '075822', '0763', '07653', '077', '0772', '07748', '0777', '078', '0780', '07800', '0783', '07834', '0785', '0789', '079', '0790', '0791', '0792', '0793', '0795', '07974', '0798', '07aq', '07b', '07cgk', '07fi', '07i', '07iz', '07l99', '07tic', '07x2oa', '08', '080', '0800', '08000', '0801', '0804', '08054', '08057', '080644', '080719', '08080', '080842', '080r', '081', '081052', '0812', '081214', '0813', '081303', '0815', '081605', '082', '0820', '0821', '082102', '082152', '082253', '0823', '082430', '0824e', '0824e2vyn', '0825', '082502acps6992', '0825a', '0826', '082650finaid5', '08267', '0826j', '083', '083029', '083057', '0831', '0832', '0833', '083324', '0834', '083449', '0837', '083715', '083731', '0838', '0839', '083c', '084', '084042', '084236', '084258', '08439', '084432', '0845', '0846', '084g085', '084o', '085', '0850', '08502', '085129', '08520', '0853', '085337', '085358', '0854', '08540', '085435', '08544', '085526', '085638', '085651', '0856e16', '085717', '085848', '085p', '086', '0863', '0865', '0866', '08690', '087', '0877', '0878', '08786', '088', '0881', '08810', '08817', '0883', '08836', '08854', '088z', '089', '08903', '0891', '0892', '08934', '0895', '08a283a0', '08e', '08h', '08m9', '08mb', '08n', '08oz', '08t', '08u12', '08v', '08w', '08ws', '08x', '09', '090', '0900', '090030', '0901', '0903', '090306', '090493161019', '090534', '090626', '090638', '090647', '090707', '090731', '090735', '0908', '091', '091051', '0911', '091130', '091139', '091202', '091258', '09131', '091410', '091503rap115', '091844', '091859', '091938', '092', '092051', '092101', '0922', '092246dlmqc', '0926', '092618', '092830', '092913', '092954', '0930', '093209', '093227', '093231', '093300', '0934', '093527', '0936', '093812kevxu', '093828', '093904', '093914', '093952', '093957', '094', '0941', '0943', '094320', '094451', '094509', '094815mece7187', '094t', '095', '0950', '095119', '095127', '095148', '0952', '095220', '0953', '0954', '095653', '0962', '0965', '0969', '097', '0970', '0971', '098', '09800', '0987', '0988', '099', '0996', '0998', '09bbea0c', '09c', '09d3', '09fz', '09g9', '09k_', '09n', '09t', '09tcb0', '09w', '0_', '0_0', '0_1r_q', '0_33o', '0_35r', '0_4', '0_8ge', '0_9g', '0_9r', '0__', '0___', '0______________________________________________________________________0', '0_e8', '0_h', '0_kp82_5', '0_n', '0_p', '0_r', '0_s63', '0_ynu5', '0_zs', '0a', '0a000', '0a1', '0a3', '0a99', '0adh', '0as', '0ax', '0azojt', '0b', '0b10', '0b14', '0b15', '0b16', '0b1fatransfer', '0b6er', '0b800', '0b800h', '0b9w', '0bj', '0bla', '0bm2', '0bn', '0bnw', '0bp4', '0bqr', '0bs', '0bsjom', '0bt', '0bus', '0bz', '0c', '0c000', '0c5', '0c5r', '0c800', '0c8h', '0c8xmb', '0c_', '0c_l', '0c_n', '0c_x', '0ca', '0cb', '0cc9', '0cg', '0cgf', '0cgy2', '0ct1t', '0cwm', '0cy3', '0d', '0d1', '0d2', '0d36b', '0d3x', '0d4', '0d6', '0d63wi', '0d84', '0d86x4r', '0db', '0dc', '0ded', '0df', '0dfsx', '0dfvij', '0dfyl', '0dg', '0dga7', '0dgq', '0dgw83', '0dki', '0dl', '0dlp', '0dn1', '0do0s', '0dod', '0dod0d', '0dq3', '0dt', '0dte94ta5', '0du', '0dum', '0dvf2l', '0dy', '0e', '0e0', '0e000', '0e1', '0e1jc', '0e1k5', '0e4', '0e75', '0e75x', '0e9', '0e97pm4', '0e97pm8', '0e97pms8', '0ea', '0eg6g', '0ek', '0ekr', '0el', '0el05', '0el86', '0elu', '0elx', '0ely', '0em', '0ema86', '0emilh', '0emim2frm34u', '0emu', '0en36', '0ep', '0er', '0erdivbud', '0erv', '0etctapl', '0eu', '0ex', '0ex6', '0ez', '0f', '0f000', '0f1', '0f1u', '0f2', '0f3', '0f4', '0f4a86', '0f4a87', '0f5', '0f8', '0fe', '0ferjbhj', '0ffh', '0ffnm', '0ffrljfrj', '0fgj5', '0fh', '0fhj', '0fhmt', '0fk', '0fl_', '0forqfa00iuzmatnmz', '0fovj7i00wb4miumht', '0fq', '0fs', '0fu', '0fv8', '0g', '0g12o', '0g19', '0g4', '0g4u', '0g8', '0g894', '0g9p', '0ga', '0ga4', '0ga85', '0ga86', '0ge', '0ge30g', '0gg', '0ggu', '0ggv', '0gi', '0giyx', '0gj', '0gn', '0gx', '0h', '0h0', '0h1', '0h2', '0h23tc', '0h4g', '0h4ou', '0h5', '0h5107', '0h5p', '0h5pa7', '0h6', '0h64e', '0h659p', '0h6asvg', '0h6o481w8h1t2', '0h7wa4', '0h8', '0h9', '0h9_', '0ha', '0hb', '0hd', '0hdf', '0hg', '0hh9', '0hnz', '0hpg5x', '0hq', '0ht', '0hyx', '0hz', '0i', '0i0_', '0i1dg', '0i2', '0i281', '0i6', '0i7cx', '0i91n', '0ic', '0ieo2el', '0ih', '0ij', '0ija', '0im', '0ipz', '0ir6d5bm', '0is0', '0iv', '0ivbg6', '0ivbtm9', '0ivbud', '0ivbud9', '0ivbudk', '0ivbvl', '0ivc', '0ive', '0ive8', '0ivf1dk', '0ivf2l', '0ivmhm', '0ivmhm9', '0ivmiu', '0ivmk', '0iwx', '0iy4bn', '0j', '0j5', '0j7', '0j8', '0j981xk5oeopb', '0ja', '0ja3d', '0jb6pwzasj', '0jd', '0je', '0jf', '0jh', '0jkh', '0jp', '0jr', '0jt1', '0jx', '0jx5gvp', '0jy', '0k', '0k5', '0k6', '0k83a', '0k9jsu', '0kbfkp', '0kd', '0kh', '0khp', '0ki', '0kj', '0kk_', '0km', '0kma1rw34km0_g', '0kr', '0ks', '0kt', '0ku', '0kwbw', '0l', '0l0', '0l38', '0l5h06j', '0l5h06l', '0l7', '0l_', '0lc', '0le', '0lgq', '0lk', '0ll', '0lm', '0lnbq', '0lo', '0lowt', '0loz', '0lq', '0lu', '0lv', '0lx', '0lzi3', '0m', '0m1', '0m14', '0m2', '0m6', '0m6bq', '0m75', '0m75de06b4q', '0m75u', '0m75u9', '0m8', '0m8b', '0m8bnh', '0m8w', '0m9', '0ma', '0marr', '0max', '0mbz', '0mc', '0megyt', '0mez', '0mf', '0mi', '0mis', '0mjx9', '0mk', '0mk80', '0mkg', '0mm2', '0mph', '0mq69', '0msd', '0msf', '0mv_7', '0mvbdi', '0mvbf', '0mvbgt', '0mvbtmvo2', '0mvh', '0mvmk', '0mxb', '0n', '0n1', '0n2kmpz', '0nb', '0nds8', '0ne1', '0nfdh', '0nh', '0ni4', '0niy', '0np34', '0nq', '0nqb', '0nr', '0nt', '0ntmrn', '0ntv', '0nu', '0nua', '0o', '0o2', '0o2d', '0o6kgm', '0o_', '0o_2', '0oa', '0ods2b8', '0oft', '0ogl', '0oi', '0ol', '0oo', '0opco', '0oqis', '0otv', '0otz', '0ox', '0oy', '0p', '0p0', '0p01', '0p0e', '0p38', '0p3w', '0p4u', '0p5f', '0p6', '0p6a3b1w165w', '0p7', '0p8', '0p8er', '0p8jiac', '0p9c', '0p_7924x', '0pao', '0pd', '0pe0', '0pf', '0pfbd', '0pj', '0pl4', '0pm', '0pn', '0pob0dl', '0pr', '0prq', '0prum0q', '0ptm', '0pto', '0pvhr4', '0pvx', '0px8r', '0pxf1l', '0pxptb', '0pxve0b', '0pz', '0pzwx', '0q', '0q1t', '0q2', '0q99', '0qas', '0qax', '0qb', '0qhh', '0qi', '0qj', '0ql', '0qljfw', '0qq', '0qqiyay6s', '0qu', '0quh', '0qur', '0qv', '0qvn', '0qvq', '0qvql6s3b', '0qvqma', '0qvqn', '0qvqn1', '0qw', '0qwa', '0qwol6s3', '0qwomk4', '0qxp', '0r', '0r1l40', '0r2', '0r445', '0r66', '0r_', '0ra6abh107h', '0razbbh107h', '0rchzv', '0rdf', '0rfumrd', '0rhj', '0rljas', '0rn', '0rq', '0rr', '0rs', '0rtr', '0ru', '0rv', '0rxtd', '0s', '0s03', '0s2', '0s4', '0s792j8jdn', '0s7l', '0s8', '0s9', '0s_p', '0sbi', '0sc3', '0scr', '0sf', '0sf2', '0sk', '0sl', '0sla0t', '0slrmc', '0smpax', '0sn', '0spqw', '0sw', '0sx', '0sy3', '0sz6_f', '0t', '0t0', '0t0g', '0t0tl_b', '0t2o', '0t5', '0t7', '0t7s', '0t9t', '0ta4', '0ta6', '0ta85', '0ta87p', '0tb', '0tbu', '0tbxn', '0tbxom', '0tbxom4', '0tbxom4u', '0te', '0te30g', '0te30t', '0tfj', '0tg', '0tgm7', '0tgx', '0tgx8', '0th', '0thbq', '0tn', '0tq', '0tq33', '0tq6', '0tsq3', '0tu525vk', '0tv_g', '0tx', '0tzv', '0u', '0u1', '0u14', '0u140w', '0u2', '0u48c', '0u59', '0ud', '0ue', '0uf', '0uh9', '0ul', '0ul5w', '0ulx', '0umd', '0up9', '0uuv', '0uv', '0uwc', '0uxgblk', '0v', '0v0', '0v2', '0v34b', '0v35lf', '0v5', '0v6p', '0v7fs', '0v7vsllt', '0v9g', '0v_z', '0va', '0vah', '0vah8', '0vbs', '0vcol6s3', '0vcol6s3m', '0vet', '0vfhtw8s', '0vg09_', '0vkjsj1', '0vkjzl', '0vkzyrah8', '0vow8', '0vr', '0vuzc', '0vv6', '0vx48', '0vy4b', '0w', '0w0', '0w25z0r8p', '0w2z2b1w164w', '0w3', '0w4', '0w5', '0w5r', '0w7y', '0w8', '0wa', '0wa8nfu', '0wax0t', '0wc', '0we', '0wh', '0wiz', '0wj', '0wk', '0wkg', '0wkz', '0wm4', '0wmfhhm', '0wmx', '0wpv', '0ws', '0wtsuu', '0wu', '0wv', '0ww', '0wxb', '0wzu', '0x', '0x0', '0x00', '0x01', '0x02', '0x03', '0x04', '0x08', '0x0f', '0x10', '0x100', '0x14', '0x170', '0x1f', '0x2', '0x20', '0x201', '0x21', '0x22', '0x23', '0x24', '0x25', '0x27', '0x28', '0x2800001', '0x29', '0x2e0', '0x2e8', '0x30', '0x300', '0x360', '0x37a', '0x37f', '0x38', '0x3c', '0x3d4', '0x3f', '0x40', '0x4000', '0x400000', '0x500043', '0x6', '0x6kj4m', '0x7', '0x70016000', '0x8', '0x80', '0x800000', '0x9ma1f6', '0x9o01f6', '0xa00000', '0xa3', '0xa7', '0xa8', '0xb', '0xbe', '0xbum1', '0xc0', '0xc010', '0xc018', '0xd', '0xd0000d', '0xd0001d', '0xe0000d', '0xf776a96c', '0xff', '0xffbe', '0xffffffff', '0xh', '0xhb', '0xhi', '0xi', '0xj', '0xp', '0xs', '0xv', '0xw', '0xx', '0xy_c', '0y', '0y0', '0y4', '0y8', '0ycf', '0yg', '0yhk', '0yi0v', '0yj', '0yldm', '0yo', '0yo1', '0yt', '0ytj', '0yu71', '0z', '0z4', '0z4dw_lqxk', '0z4yb', '0z6m', '0zbozv', '0zd', '0zg', '0zl', '0zsq9', '0zsqk', '0zu', '0zv', '0zx', '0zy', '0zyp', '0zznm', '0zzum', '0zzum1', '10', '100', '1000', '10000', '100000', '10000000', '10000000b', '10000001', '10000001b', '10000010', '10000010b', '10000011', '10000011b', '10000100', '10000100b', '10000101', '10000101b', '10000110', '10000110b', '10000111', '10000111b', '10001000', '10001000b', '10001001', '10001001b', '10001010', '10001010b', '10001011', '10001011b', '10001100', '10001100b', '10001101', '10001101b', '10001110', '10001110b', '10001111', '10001111b', '100014', '100015', '1000227', '100024', '100039', '100042', '100043a', '10007', '10008', '10009', '1000a', '1000cc', '1000ff00', '1000ff01', '1000ff02', '1000ff03', '1000ff04', '1000ff05', '1000ff06', '1000ff07', '1000ff08', '1000ff09', '1000ff0a', '1000ff0b', '1000ff0c', '1000ff0d', '1000ff0e', '1000ff0f', '1000ff10', '1000ff11', '1000ff12', '1000ff13', '1000ff14', '1000ffa8', '1000ffa9', '1000hz', '1000km', '1000mg', '1000r', '1000s', '1000w', '1000yds', '1001', '10010000', '10010000b', '10010001', '10010001b', '10010010', '100100101111', '10010010b', '10010011', '10010011b', '10010100', '10010100b', '10010101', '10010101b', '10010110', '10010110b', '10010111', '10010111b', '10010717', '10011000', '10011000b', '10011001', '10011001b', '10011010', '10011010b', '10011011', '10011011b', '10011100', '10011100b', '10011101', '10011101b', '10011110', '10011110b', '10011111', '10011111b', '10012', '10016', '100170', '10017a', '10018', '10019', '1002', '10020', '10021', '10022', '10023', '1003', '10032', '10036', '10038', '100387', '1004', '100444', '100452', '100492', '1005', '100512', '100544', '10056', '100573', '1006', '100640', '100648', '10069', '1007', '1008', '1009', '100921rk0vsanu', '10098', '100bhp', '100c', '100cdn', '100db', '100dpi', '100grams', '100h', '100hz', '100k', '100km', '100lez', '100m', '100ma', '100mb', '100megs', '100mfd', '100mg', '100mhz', '100mips', '100mm', '100mph', '100nm', '100ns', '100r', '100s', '100st', '100th', '100uf', '100x', '101', '1010', '10100000', '10100000b', '10100001', '10100001b', '10100010', '10100010b', '10100011', '10100011b', '10100100', '10100100b', '10100101', '10100101b', '10100110', '10100110b', '10100111', '10100111b', '10101', '101010', '10101000', '10101000b', '10101001', '10101001b', '10101010', '10101010b', '10101011', '10101011b', '10101100', '10101100b', '10101101', '10101101b', '10101110', '10101110b', '10101111', '10101111b', '10103', '101044', '1011', '10110000', '10110000b', '10110001', '10110001b', '10110010', '10110010b', '10110011', '10110011b', '1011002', '10110100', '10110100b', '10110101', '10110101b', '10110110', '10110110b', '10110111', '10110111b', '10111000', '10111000b', '10111001', '10111001b', '10111010', '10111010b', '10111011', '10111011b', '10111100', '10111100b', '10111101', '10111101b', '10111110', '10111110b', '10111111', '10111111b', '10115', '10118', '1012', '101241', '1013', '101306', '101314fhm100f', '101323', '101356', '1014', '1015', '101507rsm2', '10158', '1015kb', '1016', '101636', '101669', '1017', '101747', '10176', '10179', '1018', '10182', '1019', '10193', '101944', '101957', '10196', '101c', '101e', '101h', '101k', '101st', '102', '1020', '102007', '10206', '10208', '1021', '10219', '1022', '102200', '1023', '1024', '10248b', '1024k', '1024x1024', '1024x1024x8', '1024x512', '1024x680', '1024x7', '1024x728', '1024x748', '1024x758', '1024x768', '1024x768x16', '1024x768x16bpp', '1024x768x24', '1024x768x256', '1024x768x32k', '1024x768x64k', '1024x768x65000', '1024x768x65536', '1024x768x70', '1024x768x8', '1024x768x8b', '1024x786x24', '1024x864', '1024xs768x256', '1025', '10250', '102525', '1026', '102626', '10263', '1026kb', '1027', '10273', '10274', '102756', '1028', '10280', '10281', '102810', '1029', '102a', '102nd', '103', '1030', '103038', '10308', '1031', '1032', '103230', '103237', '10326', '1033', '1034', '1035', '1036', '10367', '10368', '1037', '1038', '10382', '103895', '1039', '103953', '103d', '103hz', '103hzachz0', '103hzrd', '103ii', '103rd', '103th', '104', '1040', '1041', '104107', '104122', '104158', '10416', '1042', '1043', '104330', '10438', '1044', '1045', '1046', '10460', '10461', '1046kb', '1047', '104746', '104778752', '1048', '10480', '104856', '104890368', '1049', '104r', '105', '1050', '10500', '105021440', '10505', '105094', '1050meg', '1051', '10510', '10511', '1051kb', '1052', '1053', '105307', '10535', '105366', '1054', '1055', '105514', '10553', '10555', '1056', '1057', '105725', '105738', '1058', '10580', '105805', '105809', '1059', '105915', '10598', '105at', '105h', '105m', '105mb', '105w', '106', '1060', '10601', '1061', '10610', '10615', '10618', '1062', '106235', '1063', '10631', '1064', '10646', '10647', '1065', '10650', '1066', '10660', '10665', '10666', '10669', '1067', '10671', '10679', '1068', '10680', '106816', '1069', '10691', '10694', '106meg', '106ps', '107', '1070', '10700', '10706', '1071', '10711', '1072', '1073', '10738', '1074', '1074830076', '10748539', '1075', '1076', '1077', '1078', '10780', '10789', '1079', '10792', '108', '1080', '1080i', '1081', '108109', '10818', '1082', '10820', '10821', '10823', '1083', '1084', '10843', '10847', '1085', '1085350200f', '1086', '1087', '1088', '10886', '1089', '10890', '10893', '108mhz', '109', '1090', '10901', '1091', '109125', '109147', '1092', '1093', '10930', '10932', '1094', '10946', '1095', '1096', '1097', '109740', '1098', '10983', '10984', '1099', '10998', '109mb', '109th', '10_', '10a', '10amp', '10b', '10b2klao', '10b9', '10base', '10baset', '10bps', '10c', '10c25', '10cm', '10d', '10dbv', '10duj', '10e', '10e20', '10fps', '10g', '10h', '10h51a85pa86', '10h5pa84t', '10h6', '10k', '10kbit', '10khz', '10km', '10kw', '10l', '10lm_6', '10m', '10mb', '10megs', '10mg', '10mhz', '10mil', '10million', '10min', '10mm', '10mph', '10n', '10p', '10padk', '10pm', '10pnt', '10po', '10s', '10s3dh', '10s3dh4', '10sa', '10th', '10u', '10uf', '10us', '10v', '10vdc', '10w', '10w30', '10w40', '10watt', '10x', '10x20', '10x9', '10xlog', '10yo', '11', '110', '1100', '11000000', '11000000b', '11000001', '11000001b', '11000010', '11000010b', '11000011', '11000011b', '11000100', '11000100b', '11000101', '11000101b', '11000110', '11000110b', '11000111', '11000111b', '11001000', '11001000b', '11001001', '11001001b', '11001010', '11001010b', '11001011', '11001011b', '11001100', '11001100b', '11001101', '11001101b', '11001110', '11001110b', '11001111', '11001111b', '110021', '11003', '11004', '110048', '11009', '1101', '11010000', '11010000b', '11010001', '11010001b', '11010010', '11010010b', '11010011', '11010011b', '11010100', '11010100b', '11010101', '11010101b', '11010110', '11010110b', '11010111', '11010111b', '11011000', '11011000b', '11011001', '11011001b', '11011010', '11011010b', '11011011', '11011011b', '11011100', '11011100b', '11011101', '11011101b', '11011110', '11011110b', '11011111', '11011111b', '1102', '1103', '1104', '11048', '1105', '1106', '1107', '11074', '1108', '11080', '1108642', '1109', '11099', '110hz', '110m', '110mbytes', '110v', '110vac', '111', '1110', '11100000', '11100000b', '11100001', '11100001b', '11100010', '11100010b', '11100011', '11100011b', '11100100', '11100100b', '11100101', '11100101b', '11100110', '11100110b', '11100111', '11100111b', '11101000', '11101000b', '11101001', '11101001b', '11101010', '11101010b', '11101011', '11101011b', '11101100', '11101100b', '11101101', '11101101b', '11101110', '11101110b', '11101111', '11101111b', '1111', '11110000', '11110000b', '11110001', '11110001b', '11110010', '11110010b', '11110011', '11110011b', '11110100', '11110100b', '11110101', '11110101b', '11110110', '11110110b', '11110111', '11110111b', '11111000', '11111000b', '11111001', '11111001b', '11111010', '11111010b', '11111011', '11111011b', '11111100', '11111100b', '11111101', '11111101b', '11111110', '11111110b', '11111111', '11111111b', '11116', '1112', '1113', '11132', '11137', '1114', '1115', '11150', '1116', '111651', '111652', '1117', '111713', '1118', '11181', '111834', '11186', '11188', '1119', '111910', '111919', '11197', '111s', '112', '1120', '1121', '112127', '11213', '1122', '112203jer4', '112243', '11226', '11229', '11230', '112329', '1124', '11240', '112430', '1124i', '1125', '11255', '1126', '11264', '11265034aej7d', '1127', '1127apr', '1128', '112826', '1128635', '1129', '11292', '112f', '112mph', '113', '1130', '11300', '11303', '11311', '113128', '11314', '113152', '1132', '11320334aej7d', '11322', '113223', '113255', '11327', '11329', '1133', '11331', '113328', '113364', '1134', '113427', '113436', '1135', '113528', '11353', '113567', '1136', '11361', '11363', '1137', '113723', '1138', '113953', '113956', '113p', '113q', '113qs', '113qw', '113r6', '113r61', '113s', '113s1', '113s1t3s', '113s1t45', '113s1w', '114', '1140', '114028', '114041', '1141', '114106', '114127', '114133', '11414', '114140', '114152', '114158', '1142', '114208', '1143', '1144', '114428', '114432', '114440', '11448', '1145', '1145040', '1145s', '1145w', '1145w1', '1145w145', '1146', '114602', '11467', '1147', '11471', '11471t', '11473', '114746', '1147902781', '1148', '1149', '115', '1150', '115072', '115080', '1151', '1152', '11522', '115256', '115287', '115288', '115290', '115298', '1152x870', '1152x900', '11530', '115300', '115313', '115330', '115331', '115347', '11539', '115397', '1154', '115437', '11544', '11546', '115468', '11548', '1155', '115511', '115561', '115565', '115571', '1156', '115603', '115621', '11565', '115670', '115686', '115687', '115694', '1157', '115707', '115713', '115716', '11573', '1158', '115846', '115847', '115863', '115868', '115873', '1159', '115969', '115970', '115a', '115m', '115p', '115vac', '115wzc', '116', '1160', '116005', '1161', '11611', '11613', '1162', '1163', '116305', '11632', '1164', '11641', '1165', '11664', '11670', '11671', '11674cid', '11676', '11683', '1169', '11690', '116e', '116hr', '116mph', '117', '1170', '11705', '11710', '11716', '1172', '11721', '11729', '1173', '11732', '11737', '1174', '11743', '117441', '1175', '11751', '1176', '11766', '11769k', '1177', '11770', '11771', '11776', '117775', '11779', '1178', '117807', '11782', '1179', '11797', '117a', '117hf', '117mb', '117th', '117v', '118', '1180', '11800', '1181', '11810', '11812', '1182', '11820', '11825', '11826', '1183', '11830', '11836', '11838', '1184', '11841', '118466', '118467', '11847', '1185', '118520', '11857', '118590', '1186', '11861', '1187', '1188', '11888', '118jheoyo', '118mph', '119', '1190', '11903', '1191', '11915', '1192', '1192d', '1193', '1194', '1196', '11964', '11971', '11972', '11973', '11974', '1198', '1199', '119th', '11_', '11a', '11am', '11ax', '11b', '11dec89', '11h', '11hddn', '11hr', '11k', '11lth', '11mcpn', '11oq', '11p', '11p8', '11pm', '11qm9', '11s0', '11sdpa', '11t', '11th', '11vj', '11x10', '11x17', '12', '120', '1200', '12000', '12002', '12003', '12004', '12009', '1200b', '1200cc', '1200dpi', '1200mi', '1200x', '1200x900', '1201', '120108', '12012', '1202', '120204', '120229', '1203', '120311', '120352', '120365', '120399', '1204', '120466', '120493020107', '120493231310', '1205', '12050', '12056', '1206', '120664', '120665', '120666', '1207', '12073', '1207b', '1208', '120848', '12087', '1209', '12091', '12092', '120921', '120958', '120at', '120k', '120km', '120kvolt', '120lb', '120m', '120mb', '120meg', '120mph', '120ns', '120rtn_____________________', '120th', '120v', '120vac', '121', '1210', '121019', '121055', '1211', '121134', '1212', '121202', '121236', '1212kb', '1213', '12132', '12134', '121342', '121356', '12139', '1214', '121411', '121415', '12144', '1215', '12152', '12153', '12159', '1216', '121624', '1217', '121706', '121720', '121723', '121757', '12176', '12180', '121823', '121843', '12187', '1219', '12192', '121925', '121926io11330', '121rd', '121x48', '122', '1220', '122007', '122037', '122057', '1220am', '1221', '122146', '1222', '12222', '1223', '12231', '122329', '12234', '122356', '1224', '1224kb', '1225', '12252', '12253', '122543', '12261', '122613', '122643', '122647', '122649', '122651', '1227', '122738', '12274', '122758', '12279', '12288', '12289', '1229', '12295', '122nd', '123', '1230', '1230am', '1231', '12314', '1232', '123213', '12328', '1233', '123315', '123380', '1234', '123404', '123433', '12345', '1235', '123539', '1236', '123619', '12367', '1237', '123722', '1238', '123803', '123832', '123858', '1238805668', '1239', '123904', '123918', '123925u09579', '1239a', '124', '1240', '1240002', '12401', '124012', '12407', '12408', '1240am', '1240x1024x16', '1241', '124112', '124117rvesterm', '1242', '124216', '124221', '124228', '12424', '12426', '1243', '124301', '1244', '124456', '12449', '1245', '124518', '124526', '1246', '1247', '124722', '124724', '124753', '124759', '12480', '124824', '1249', '124do1r', '124do1t', '124doso', '124e', '124e1', '124e124e', '124e125', '124eq45', '124g', '124m', '124mg', '124mph', '125', '1250', '12500', '1250k', '1251', '125109', '125134', '125145', '125147', '12516', '1252', '125205', '125209', '125215', '125245', '1253', '12533', '1254', '125402', '125419', '1255', '125512', '125530', '125537', '125545', '1256', '125608', '12566', '1257', '125750', '12578', '12580', '125813', '125825', '1259', '125920', '125951pca103', '125dba', '125k', '125kb', '125mb', '125mi', '125ns', '125watts', '126', '1260', '12602', '12607', '1260wn31', '1261', '12613', '1262', '1263', '12649', '12650', '1266', '12664', '126645', '1268', '126k', '127', '1270', '12700', '12704w', '1270am', '1271', '12711', '12714', '12718', '1272', '127223', '1273', '12739', '12741', '1275', '1275gt', '1276', '1276kb', '1277', '12770', '12773', '1278', '12786', '12787', '12789', '1279', '12799', '127mb', '128', '1280', '12805', '12808', '1280am', '1280va', '1280x1024', '1280x1024x256', '1280xl', '1281', '1282', '12820', '12821', '1283', '1285', '1286', '1287', '12872', '12873', '1288', '12889', '1289', '128k', '128kb', '128m', '128oxl024', '129', '1290', '1291', '1292', '12920', '12934', '1294', '12959', '1296', '1297', '12974', '12977', '1298', '12989', '1298kb', '1299', '12998', '1299h751', '12a', '12aa8', '12am', '12ax7s', '12b', '12b5u', '12bhe', '12c65', '12cyl', '12ga', '12k', '12kd', '12km', '12m', '12mb', '12mg', '12mhz', '12month', '12mph', '12ms', '12n', '12p', '12pt', '12q', '12s', '12st', '12t', '12th', '12v', '12vac', '12vco', '12vdc', '12volts', '12vz0', '12vz089', '12w', '12w5c2', '12x12', '12x4', '12ze', '13', '130', '1300', '13000', '130037', '1301', '130112', '13012', '13013', '130132', '130150', '13017', '1302', '13021', '130213', '13025', '130259', '130317', '130393124328', '1304', '130427', '130430', '130432', '1304s', '1305', '130503', '130528', '13054', '130550', '1306', '130652', '13068', '1307', '13070', '1308', '130822', '130824', '130854', '1309', '130922', '130923', '130924pxf3', '130933', '130b', '130c', '130hp', '130k', '130kmh', '130mb', '130mg', '130mhd', '130mph', '130o8kp3j', '130xe', '131', '1310', '13101', '131018', '131032', '131036', '131041', '131102', '1311cr', '1312', '13120', '131239', '1313', '131311', '131336', '13144', '13148', '1315', '131508', '13153', '131548', '1316', '131610', '131615', '1317', '13177', '1318', '131800', '131843', '1319', '131900', '131908', '131941', '131954', '132', '1320', '132013', '1320am', '1321', '13213', '132133', '13214', '13217', '1322', '13224', '1323', '132300', '132316', '132318', '1324', '132410', '132424', '132429', '13247', '1325', '13253', '13255', '132569', '1326', '132604', '13267', '13269', '1327', '13273', '132741', '132748', '1328', '132813', '132906', '132914', '132954', '132k', '132mb', '133', '1330', '13300', '13308', '133114', '133130', '133138', '1331y', '13322', '133244', '133257', '1333', '133319', '1334', '133413', '1335', '133521edt', '133542', '13359', '133619', '133620', '13368', '1337', '13370', '133703', '1338', '13380', '13381', '133856', '13386', '133866082767180880e', '13389', '13394', '133941270127999174e', '133mhz', '134', '1340', '13400', '13401', '13404334aej7d', '1341', '1342', '1343', '134346', '13436', '1344', '134436', '13445', '1345', '134501', '134526', '1346', '13467', '1347', '134708finaid2', '134719io91748', '134725', '134746', '13476', '13478', '1348', '134802', '134848', '13487', '1349', '134938', '134943', '13495', '134a', '135', '1350', '13500', '13507', '1351', '135153', '13516', '1352', '135225u52885', '135227', '135232', '1353', '13536', '1354', '1355', '13550', '135514', '135521', '1356', '135650', '1357', '13575', '1358', '135829', '135926', '135934', '135941', '135945u56149', '135948', '135mb', '135mm', '135mph', '135x180', '136', '1360', '13600', '13601', '1360x1024', '1360x1024x16', '13612', '1362', '13622', '13635', '136390006', '1364', '1366', '13661642', '1367', '13676', '1368', '13682', '1369', '13693', '137', '1370', '1371', '1372', '13723', '1373', '13738', '1374', '1375', '1376', '13779', '1379', '137g', '138', '1380', '13800', '13801', '1381', '13811', '1382', '1383', '1385', '1387', '1388', '1389', '13892', '138p', '139', '1390', '13900', '13901', '13902', '13913', '139282', '1394', '1395', '1396', '13963', '1397', '1398', '1399', '13a', '13apr199308003715', '13apr93', '13b', '13c', '13e19', '13ff', '13h', '13hzj', '13k', '13kbit', '13m', '13meg', '13mhz', '13mm', '13o', '13p', '13pz', '13q', '13qm', '13qs', '13qsed5s', '13qst44', '13qst466t3q', '13qsv', '13qsw99seg', '13qw1', '13qww', '13r6', '13r61', '13r613p', '13r613r6', '13r6ed7', '13r6t', '13r6t7', '13r6w3q', '13r6w3qs', '13rj', '13s', '13s0', '13s1', '13s11', '13s1144', '13s1145s', '13s117', '13s1emt', '13s1t', '13s1t3q', '13s1t3s', '13s1t3s1t98', '13s1t471', '13s1t7', '13s1w', '13s1w3q', '13s1w3s1t47', '13s1w45', '13s8', '13th', '13vc', '13x0', '13y', '13yo', '13zy', '14', '140', '1400', '14000', '14002', '1400k', '1401', '140123', '140195', '14021', '140234', '14026', '1403br', '1404', '140401', '140493082909', '140493131545', '140493155620', '140493165729', '140493185034', '140493185248', '140493201843', '140493210752', '140493214334', '140493230024', '140493233557', '140529', '140541', '14060', '14061', '140642', '140649', '14068', '1407', '14072', '14076', '140804', '1409', '140929rfm', '140934', '140953', '140e', '140hp', '140m', '140mb', '140u', '140v4', '140wu4', '140wu8', '141', '1410', '141001e62763', '141034', '141046finaid5', '1411', '141112', '141123', '141137', '141148c09630gk', '1412', '141204', '14123', '141308', '141409', '141455', '141518', '141520', '141557', '141592654', '1416', '141637', '1417', '14171', '14179', '1418', '141820', '141824', '141842', '141927', '141930', '141959', '141r', '141rk', '141s', '141sk', '141skwa', '141skwe', '141skwf', '141z', '142', '1420', '142028', '142037', '14209', '1421', '142129', '142131', '14215', '142159', '1422', '14223', '14225', '14226', '14228', '14229', '142292', '1423', '142322', '14233', '142356', '1424', '142415', '142431', '14257', '1426', '14260', '14261', '142616', '14262', '14263', '142715', '142729', '142747', '1428', '142816', '142818', '142831', '142854', '1429', '142902', '142935', '143', '1430', '143048io30436', '14305', '143054', '1430am', '1431', '143121', '14313', '14321', '143224', '14323', '143232', '143250', '143255', '14329', '1433', '143320', '1434', '143400', '143434', '143450gks101', '143453', '14347', '14349', '1435', '14351', '143516', '1436', '143616', '14365', '14368', '1437', '143712', '143716', '14372', '14375', '143750', '143754', '1438', '14381', '143825', '143834', '14385', '143853', '14388', '1439', '14391', '143910', '143930', '143939', '14396', '143gk', '144', '1440', '14400', '144015', '144030', '1441', '144102', '144124dep', '14413', '144130', '144142', '144151', '14422', '14424', '144246', '14428', '1443', '144339saundrsg', '144340', '144358', '1444', '144415', '144427', '1445', '14451', '144520', '144533', '1446', '14463', '1447', '144750', '14479', '1448', '144814', '144825', '144826', '144843', '144853', '144859', '1449', '144909', '14496', '144do22', '144e', '144e1', '144e124e', '144e125', '144e144e', '144e144e125', '144e144e145', '144e144gm47', '144e145', '144el', '144eq24do1r', '144fx1r', '144fx22', '144fx24e', '144gm2', '144mhz', '145', '1450', '14501', '145045', '1452', '14521', '14522', '145238', '1453', '145322', '145325', '145338', '14540', '14544', '14545', '14548', '1455', '145502', '145519', '14555', '14556', '1456', '145635', '14570', '14571', '14572', '145753', '1458', '14581', '14583', '1459', '145914', '145955', '14595639', '145j', '145k', '145k0', '145k1', '145k145', '145k145k145', '145k145k7', '145k15o', '145k15rk16w', '145k16m', '145k16w', '145k16wk', '145k16wm', '145k6', '145k7', '145m', '145mm', '145mq45', '145mq5ok16mmq6m', '145mq6m', '145mq6mmq6wk6', '145mq6w', '145mq6wmzurk7', '145s', '145s13qm', '145s13qs', '145s13s1t', '145s145s17', '145s17', '145secq', '145seg', '145st466', '145w', '145w1', '145w145', '145wt7', '145ww7', '146', '1460', '14605', '1460am', '1461', '14620', '1462127590', '14623', '14627', '1463', '14642', '14653', '1466', '1466144f', '1466200011', '1466ecs116v617', '1466t44', '1466w', '1467', '1468ni', '1469', '1469100033', '14691229', '14692', '14697', '146gtl', '146ij_7ej_6k', '146p', '147', '1471', '14711', '14712', '14717', '1471t', '1471t44', '1471w', '1471w3p', '1472', '14721', '1473', '14731', '1475', '14752', '1475u', '14766', '1478', '1479', '148', '14801', '14804', '1481', '14817', '1482', '1483', '1483500341', '1483500342', '1483500343', '1483500344', '1483500345', '1483500346', '1483500347', '1483500348', '1483500349', '1483500350', '1483500351', '1483500352', '1483500353', '1483500354', '1483500355', '1483500356', '1483500357', '1483500358', '1483500359', '1483500360', '1483500361', '1483500362', '1483500363', '1483500364', '1483500365', '1483600108', '1484', '1484t', '1485', '14851', '1485107', '14851a7', '14853', '1486', '1487', '14870', '1488', '1489', '148k', '149', '1490', '1490pvf', '1491', '1492', '14921', '1493', '14939', '14943', '1495', '1496', '14962', '14964', '14966', '14969', '1496a', '1496e', '1499', '14992', '1499h751', '14a', '14apr199316550695', '14apr93', '14di', '14dm75u', '14e6', '14f', '14in', '14inch', '14k', '14k4', '14m', '14mb', '14ms', '14stw___c', '14t', '14th', '14u', '14v', '14x11', '14y', '14yu0kyuc', '14yu14y', '15', '150', '1500', '15000', '150018', '150031', '150038', '15005', '1500kg', '1500mb', '1500s', '1501', '15010', '15018', '1501vma', '150259', '15028', '15033', '1504', '150437', '150493082611', '150493092731', '150493114522', '150493132018', '150493134758', '150493144638', '150493174345', '150493181533', '1505', '150525', '150531', '150545', '15055', '150550', '1506', '1507', '15072', '150736', '150740', '15076', '1508', '150808', '150815', '150829', '15088', '1509', '150904', '150938', '150a', '150k', '150lb', '150m', '150mb', '150meg', '150mg', '150mhz', '150miles', '150mph', '150multidisk', '150ohm', '150ua', '150w', '151', '1510', '151035', '151108', '151120', '151131', '15118', '1512', '151202', '1513', '151323', '151347', '1514', '15140', '151405', '15142', '15148', '15149', '1515', '15150', '151502', '1516', '1517', '151718', '151726', '151729', '15177', '151809', '151818', '151834', '151840', '151843', '151899', '151912', '151914', '15196', '152', '1520', '15201', '15209', '1521', '15210', '15213', '152140', '15216', '15218', '15219', '1522', '152232', '15225', '15228', '15229', '15230', '15232', '152328', '152336', '15236', '15238', '1524', '15240', '15240077', '152408', '152424', '15245', '152455', '1525', '15250', '152527', '152528', '15260', '152611', '152619', '152634', '152706', '152722', '1528', '152819', '15283', '152833', '152834', '1529', '152921', '152922', '152937', '152944br4416a', '153', '1530', '153000', '15301', '15307', '1531', '15312', '15313', '153132', '153137', '15315', '153152', '153153', '1532', '15320', '1533', '153312', '153330', '153350', '15337', '15338', '1534', '153407', '15342', '153441', '15347', '1535', '153552', '15357', '1536', '153600', '15362', '153725', '153728', '153729', '153740', '15377', '15378', '1538', '153820', '153847166458030088e', '15389', '15395', '153951', '153959', '15397', '15398', '154', '1540', '154020', '15402582', '15407', '15409', '1541', '15413', '15416', '15418', '1541b', '1541c', '1542', '15421177', '154232', '154256', '15426', '15428', '1542a', '1542b', '1542bs', '1542c', '1543', '154316', '154348', '154349', '15441', '154418', '154449', '1545', '15453', '154544', '154620', '15469', '1547', '154706', '15472', '154828', '1549', '15490', '154952cda90038', '154m', '154xx', '155', '1550', '15500', '155002jsn104', '15502', '155057', '15505l', '1551', '155118', '155123', '15514', '155159', '15516', '15518', '155204', '155255', '155313', '1554', '15540', '155407', '155426', '15543', '1554b', '1554u', '155551', '155555', '15555l', '15556', '15556tdy', '15557', '155622', '155637', '155656', '15566', '1556ql', '155714', '155733', '155739', '155743', '155819', '155820', '155839pts102', '155856', '1559', '155915', '155919', '155924', '155933', '155955', '155b', '155mm', '155yegan', '156', '1560', '1561', '15612', '1563', '15631', '15639', '15644', '15645', '1564672', '1566', '15664', '1568', '1569', '15691', '15696', '157', '1570', '15707', '15709', '1571', '15710', '1572', '15720', '15723', '15729846', '1572fs', '1574', '1575', '157595', '1576', '1578', '1578kb', '15793', '157d', '157n', '158', '15806', '1581', '15812', '15818', '1582', '15825', '158288', '1583', '15845', '1585', '15865', '1587', '15878', '15879', '1588', '15882', '1589', '159', '1591', '1592', '1593', '15938', '15940', '1595', '15959', '159590', '1596', '15970', '15978', '15985', '15988', '15997', '15a', '15a86', '15am', '15amp', '15apr199303031064', '15apr199311534452', '15apr199312304021', '15apr199315012030', '15apr199316461058', '15apr199320293386', '15apr199320340428', '15apr199321275870', '15apr93', '15bit', '15d', '15e10', '15f', '15f7503', '15h', '15i6x', '15inch', '15j', '15ja7el', '15k', '15khz', '15l', '15la', '15m', '15mb', '15mg', '15mhz', '15mill', '15mph', '15ms', '15mv', '15ns', '15o']\n"
     ]
    }
   ],
   "source": [
    "feature_names = vectorizer.get_feature_names()\n",
    "\n",
    "print(len(feature_names))\n",
    "print(feature_names[:5000])"
   ]
  },
  {
   "cell_type": "code",
   "execution_count": 8,
   "metadata": {
    "colab": {
     "base_uri": "https://localhost:8080/"
    },
    "executionInfo": {
     "elapsed": 6,
     "status": "ok",
     "timestamp": 1647812645182,
     "user": {
      "displayName": "JAVIER ARROYO GALLARDO",
      "photoUrl": "https://lh3.googleusercontent.com/a/default-user=s64",
      "userId": "02428824756029313673"
     },
     "user_tz": -60
    },
    "id": "tDZEOYc8Pjuc",
    "outputId": "a756f450-8e9d-4d3d-930e-482ec0a4afb6"
   },
   "outputs": [
    {
     "name": "stdout",
     "output_type": "stream",
     "text": [
      "  (0, 111094)\t1\n",
      "  (0, 90192)\t1\n",
      "  (0, 75888)\t1\n",
      "  (0, 83103)\t1\n",
      "  (0, 114195)\t1\n",
      "  (0, 40419)\t1\n",
      "  (0, 111466)\t1\n",
      "  (0, 72244)\t1\n",
      "  (0, 47916)\t1\n",
      "  (0, 119441)\t1\n",
      "  (0, 33477)\t1\n",
      "  (0, 75863)\t1\n",
      "  (0, 75757)\t1\n",
      "  (0, 89911)\t1\n",
      "  (0, 124791)\t1\n",
      "  (0, 51190)\t1\n",
      "  (0, 76233)\t1\n",
      "  (0, 87002)\t1\n",
      "  (0, 55501)\t1\n",
      "  (0, 61849)\t1\n",
      "  (0, 6475)\t1\n",
      "  (0, 68389)\t4\n",
      "  (0, 40589)\t2\n",
      "  (0, 76537)\t2\n",
      "  (0, 90177)\t2\n",
      "  :\t:\n",
      "  (0, 89369)\t2\n",
      "  (0, 94786)\t1\n",
      "  (0, 8042)\t1\n",
      "  (0, 25566)\t1\n",
      "  (0, 106753)\t1\n",
      "  (0, 115875)\t1\n",
      "  (0, 74886)\t1\n",
      "  (0, 108498)\t1\n",
      "  (0, 33252)\t2\n",
      "  (0, 90996)\t1\n",
      "  (0, 122921)\t1\n",
      "  (0, 11976)\t1\n",
      "  (0, 114453)\t1\n",
      "  (0, 12963)\t1\n",
      "  (0, 109903)\t1\n",
      "  (0, 79638)\t1\n",
      "  (0, 32450)\t1\n",
      "  (0, 69372)\t1\n",
      "  (0, 30836)\t1\n",
      "  (0, 83757)\t1\n",
      "  (0, 116618)\t1\n",
      "  (0, 63785)\t1\n",
      "  (0, 48354)\t1\n",
      "  (0, 1410)\t1\n",
      "  (0, 98627)\t1\n"
     ]
    }
   ],
   "source": [
    "print(train_vector_data[10])"
   ]
  },
  {
   "cell_type": "markdown",
   "metadata": {
    "id": "4el5AtpSPjud"
   },
   "source": [
    "\n",
    "Vamos a ver los términos extraídos para los mensajes de antes."
   ]
  },
  {
   "cell_type": "code",
   "execution_count": 9,
   "metadata": {
    "executionInfo": {
     "elapsed": 289,
     "status": "ok",
     "timestamp": 1647812650135,
     "user": {
      "displayName": "JAVIER ARROYO GALLARDO",
      "photoUrl": "https://lh3.googleusercontent.com/a/default-user=s64",
      "userId": "02428824756029313673"
     },
     "user_tz": -60
    },
    "id": "3lr32ZgRPjue"
   },
   "outputs": [],
   "source": [
    "import numpy as np\n",
    "import numpy.ma as ma\n",
    "\n",
    "def write_terms (feature_names, data, vector_data, index):\n",
    "    '''\n",
    "    Escribe los términos presentes en un mensaje representado como bolsa de palabras.\n",
    "    \n",
    "    - feature_names: terminos usados para vectorizar\n",
    "    - data: lista de mensajes original (si data==None no se muestra el mensaje original)\n",
    "    - vector_data: matriz (dispersa) de mensaje vectorizados\n",
    "    - index: posición del mensaje a mostrar\n",
    "    '''\n",
    "    # máscara para seleccionar sólo el mensaje en posición index\n",
    "    mask=vector_data[index,:]>0\n",
    "    \n",
    "    # términos que aparecen en ese mensaje vectorizado\n",
    "    terminos = ma.array(feature_names, mask = ~(mask[0].toarray()))\n",
    "    \n",
    "    # mostrar mensaje original\n",
    "    if data is not None:\n",
    "        print('Mensaje', index, ':', data[index])\n",
    "    \n",
    "    # mostrar términos que aparecen en el mensaje vectorizado\n",
    "    print('Mensaje', index, 'vectorizado:', terminos.compressed(),'\\n')"
   ]
  },
  {
   "cell_type": "code",
   "execution_count": 10,
   "metadata": {
    "colab": {
     "base_uri": "https://localhost:8080/"
    },
    "executionInfo": {
     "elapsed": 685,
     "status": "ok",
     "timestamp": 1647812654832,
     "user": {
      "displayName": "JAVIER ARROYO GALLARDO",
      "photoUrl": "https://lh3.googleusercontent.com/a/default-user=s64",
      "userId": "02428824756029313673"
     },
     "user_tz": -60
    },
    "id": "jHpN_FEKPjuh",
    "outputId": "be5c46e2-c846-44b2-e6c6-23df33fd2f06"
   },
   "outputs": [
    {
     "name": "stdout",
     "output_type": "stream",
     "text": [
      "Mensaje 10 vectorizado: ['00' '05' '0826' '13' '17k' '1978' '1993' '1st' '3495' '3k' '900gts'\n",
      " 'accel' 'arnstein' 'axis' 'beemer' 'bike' 'bit' 'bronze' 'brown' 'clock'\n",
      " 'cmptrc' 'computrac' 'distribution' 'dod' 'duc' 'ducati' 'email'\n",
      " 'expires' 'faded' 'fix' 'gmt' 'gts' 'hard' 'honk' 'irwin' 'jap'\n",
      " 'keywords' 'leak' 'leaks' 'like' 'line' 'lines' 'll' 'lonestar' 'mate'\n",
      " 'model' 'motors' 'nice' 'oil' 'opinions' 'orange' 'org' 'organization'\n",
      " 'owner' 'paint' 'pops' 'r75' 'recommendation' 'richardson' 'runs' 'sat'\n",
      " 'shop' 'sold' 'stable' 'subject' 'summary' 'thanks' 'thinking' 'trans'\n",
      " 'tuba' 'tx' 'usa' 'want' 'worth'] \n",
      "\n",
      "Mensaje 100 vectorizado: ['01' '0748' '10' '100' '11' '12' '120' '125' '13' '14' '15' '16' '17'\n",
      " '195' '20' '250' '30' '32' '35' '39' '50' '614' '65' '70' '75' '791' '80'\n",
      " '90' '95' 'acs' 'application' 'applications' 'assembly' 'available' 'bit'\n",
      " 'books' 'borland' 'cbtree' 'chen' 'code' 'commonview' 'compiler'\n",
      " 'databoss' 'debugger' 'developer' 'distribution' 'documentation' 'dos'\n",
      " 'drop' 'edu' 'forsale' 'foxpro' 'framework' 'friend' 'generator'\n",
      " 'glockenspiel' 'host' 'ibm' 'imagesoft' 'installation' 'installboss'\n",
      " 'kedwell' 'kun' 'lee' 'liant' 'library' 'lines' 'lots' 'macro' 'magnus'\n",
      " 'magnusug' 'mail' 'microsoft' 'multiscope' 'negotiable' 'nntp' 'ocr'\n",
      " 'ohio' 'organization' 'os' 'post' 'posting' 'price' 'professional'\n",
      " 'publishing' 'readright' 'resource' 'sdk' 'software' 'source'\n",
      " 'spontaneous' 'state' 'subject' 'superbase' 'symantec' 'tchen' 'timeline'\n",
      " 'timesheet' 'timeslip' 'toolkit' 'tsung' 'university' 'unregistered'\n",
      " 'usa' 'views' 'whitewater' 'windows' 'wordperfect' 'zortech'] \n",
      "\n"
     ]
    }
   ],
   "source": [
    "#write_terms(feature_names, train_data.data, train_vector_data, 10)\n",
    "write_terms(feature_names, None, train_vector_data, 10)\n",
    "\n",
    "write_terms(feature_names, None, train_vector_data, 100)"
   ]
  },
  {
   "cell_type": "markdown",
   "metadata": {
    "id": "cvdEAenRPjui"
   },
   "source": [
    "Como observamos mucho ruido, incluido términos numéricos y alfanuméricos, vamos a probar una opción mucho más restrictiva que sería usar únicamente las palabras de un diccionario.\n",
    "\n",
    "Es posible que esos términos clasifiquen bien, pero no por las razones correctas. Por otro lado, usando otra herramienta más sofisticada que ``CountVectorizer`` podríamos inferir un mejor diccionario. O puliendo la lista de palabras eliminando términos numéricos y alfanuméricos. "
   ]
  },
  {
   "cell_type": "markdown",
   "metadata": {
    "id": "PqTGAk7jPjuk"
   },
   "source": [
    "#### Intento 2: Obteniendo la frecuencia de los términos de los documentos con un diccionario elaborado previamente"
   ]
  },
  {
   "cell_type": "markdown",
   "metadata": {
    "id": "N12HCBD6Pjul"
   },
   "source": [
    "En este segundo intento vamos a usar el diccionario que se encuentra en la siguiente URL y que debéis bajar para usar este notebook.\n",
    "https://github.com/dwyl/english-words/blob/master/words.txt\n",
    "    \n",
    "Al usar un diccionario sucede lo siguiente:\n",
    "- Los términos serán únicamente los presentes en el diccionario por lo que tenemos más control sobre ellos\n",
    "- El diccionario no incluirá términos que aparecen en el texto, y esto puede quitar ruido, pero eliminar jerga específica que no figure en el diccionario.\n",
    "    \n",
    "El diccionario será una lista de términos que se le pasará al `CountVectorizer` a través del parámetro `vocabulary`. En este caso volveremos a usar la lista de palabras vacías que proporciona sklearn para el inglés (parámetro `stop_words=english`).\n",
    "\n",
    "Como queremos usar TF-IDF una vez obtenida la frecuencia de los términos para este nuevo diccionario, debemos volver a usar `TfidfTransformer` para matizarla según lo frecuente que sea ese término en el conjunto de textos de entremiento."
   ]
  },
  {
   "cell_type": "markdown",
   "metadata": {
    "id": "Zim0Po1sPjum"
   },
   "source": [
    "El primer paso es configurar el nuevo `CountVectorizer` con el diccionario del archivo `words.txt`."
   ]
  },
  {
   "cell_type": "code",
   "execution_count": 11,
   "metadata": {
    "colab": {
     "base_uri": "https://localhost:8080/",
     "height": 246
    },
    "executionInfo": {
     "elapsed": 263,
     "status": "error",
     "timestamp": 1647812781050,
     "user": {
      "displayName": "JAVIER ARROYO GALLARDO",
      "photoUrl": "https://lh3.googleusercontent.com/a/default-user=s64",
      "userId": "02428824756029313673"
     },
     "user_tz": -60
    },
    "id": "ZTayDGk6Pjun",
    "outputId": "f108df84-fb50-4f40-8456-0e86ef1df934"
   },
   "outputs": [],
   "source": [
    "# Pasamos el fichero a una lista (una línea por item)\n",
    "with open('words.txt') as f:\n",
    "    dictionary = f.read().splitlines()\n",
    "\n",
    "# El diccionario cargado lo pasamos en el parámetro vocabulary    \n",
    "vectorizer = CountVectorizer(vocabulary=dictionary, stop_words='english')    "
   ]
  },
  {
   "cell_type": "markdown",
   "metadata": {
    "id": "CQ6cXB-APjun"
   },
   "source": [
    "Vamos a ver cuántos términos hay en el diccionario, veremos que hay muchos más términos en un diccionario de propósito general que en uno inferido de un corpus de textos sobre un pequeño subconjunto de temas. \n",
    "\n",
    "Recuerda que esto no quiere decir que el diccionario cargado contenga todos los términos del diccionario inferido porque este puede tener palabras propias (jerga, nombres comerciales, etc) y términos alfanuméricos que también observamos."
   ]
  },
  {
   "cell_type": "code",
   "execution_count": 12,
   "metadata": {
    "id": "hYqcgTv0Pjuq",
    "outputId": "a13b906c-f163-4f40-daff-b49e998dd602",
    "scrolled": false
   },
   "outputs": [
    {
     "name": "stdout",
     "output_type": "stream",
     "text": [
      "466551\n",
      "['2', '1080', '&c', '10-point', '10th', '11-point', '12-point', '16-point', '18-point', '1st', '2,4,5-t', '2,4-d', '20-point', '2D', '2nd', '30-30', '3D', '3-D', '3M', '3rd', '48-point', '4-D', '4GL', '4H', '4th', '5-point', '5-T', '5th', '6-point', '6th', '7-point', '7th', '8-point', '8th', '9-point', '9th', 'a', \"a'\", 'a-', 'A&M', 'A&P', 'A.', 'A.A.A.', 'A.B.', 'A.B.A.', 'A.C.', 'A.D.', 'A.D.C.', 'A.F.', 'A.F.A.M.', 'A.G.', 'A.H.', 'A.I.', 'A.I.A.', 'A.I.D.', 'A.L.', 'A.L.P.', 'A.M.', 'A.M.A.', 'A.M.D.G.', 'A.N.', 'a.p.', 'a.r.', 'A.R.C.S.', 'A.U.', 'A.U.C.', 'A.V.', 'a.w.', 'A.W.O.L.', 'A/C', 'A/F', 'A/O', 'A/P', 'A/V', 'A1', 'A-1', 'A4', 'A5', 'AA', 'AAA', 'AAAA', 'AAAAAA', 'AAAL', 'AAAS', 'Aaberg', 'Aachen', 'AAE', 'AAEE', 'AAF', 'AAG', 'aah', 'aahed', 'aahing', 'aahs', 'AAII', 'aal', 'Aalborg', 'Aalesund', 'aalii', 'aaliis', 'aals', 'Aalst', 'Aalto', 'AAM', 'AAMSI', 'Aandahl', 'A-and-R', 'Aani', 'AAO', 'AAP', 'AAPSS', 'Aaqbiye', 'Aar', 'Aara', 'Aarau', 'AARC', 'aardvark', 'aardvarks', 'aardwolf', 'aardwolves', 'Aaren', 'Aargau', 'aargh', 'Aarhus', 'Aarika', 'Aaron', 'Aaronic', 'Aaronical', 'Aaronite', 'Aaronitic', \"Aaron's-beard\", 'Aaronsburg', 'Aaronson', 'AARP', 'aarrgh', 'aarrghh', 'Aaru', 'AAS', \"A'asia\", 'aasvogel', 'aasvogels', 'AAU', 'AAUP', 'AAUW', 'AAVSO', 'AAX', 'A-axes', 'A-axis', 'AB', 'ab-', 'ABA', 'Ababa', 'Ababdeh', 'Ababua', 'abac', 'abaca', 'abacay', 'abacas', 'abacate', 'abacaxi', 'abaci', 'abacinate', 'abacination', 'abacisci', 'abaciscus', 'abacist', 'aback', 'abacli', 'Abaco', 'abacot', 'abacterial', 'abactinal', 'abactinally', 'abaction', 'abactor', 'abaculi', 'abaculus', 'abacus', 'abacuses', 'Abad', 'abada', 'Abadan', 'Abaddon', 'abadejo', 'abadengo', 'abadia', 'Abadite', 'abaff', 'abaft', 'Abagael', 'Abagail', 'Abagtha', 'abay', 'abayah', 'Abailard', 'abaisance', 'abaised', 'abaiser', 'abaisse', 'abaissed', 'abaka', 'Abakan', 'abakas', 'Abakumov', 'abalation', 'abalienate', 'abalienated', 'abalienating', 'abalienation', 'abalone', 'abalones', 'Abama', 'abamp', 'abampere', 'abamperes', 'abamps', 'Abana', 'aband', 'abandon', 'abandonable', 'abandoned', 'abandonedly', 'abandonee', 'abandoner', 'abandoners', 'abandoning', 'abandonment', 'abandonments', 'abandons', 'abandum', 'abanet', 'abanga', 'Abanic', 'abannition', 'Abantes', 'abapical', 'abaptiston', 'abaptistum', 'Abarambo', 'Abarbarea', 'Abaris', 'abarthrosis', 'abarticular', 'abarticulation', 'Abas', 'abase', 'abased', 'abasedly', 'abasedness', 'abasement', 'abasements', 'abaser', 'abasers', 'abases', 'Abasgi', 'abash', 'abashed', 'abashedly', 'abashedness', 'abashes', 'abashing', 'abashless', 'abashlessly', 'abashment', 'abashments', 'abasia', 'abasias', 'abasic', 'abasing', 'abasio', 'abask', 'abassi', 'Abassieh', 'Abassin', 'abastard', 'abastardize', 'abastral', 'abatable', 'abatage', 'Abate', 'abated', 'abatement', 'abatements', 'abater', 'abaters', 'abates', 'abatic', 'abating', 'abatis', 'abatised', 'abatises', 'abatjour', 'abatjours', 'abaton', 'abator', 'abators', 'ABATS', 'abattage', 'abattis', 'abattised', 'abattises', 'abattoir', 'abattoirs', 'abattu', 'abattue', 'Abatua', 'abature', 'abaue', 'abave', 'abaxial', 'abaxile', 'abaze', 'abb', 'Abba', 'abbacy', 'abbacies', 'abbacomes', 'Abbadide', 'Abbai', 'abbaye', 'abbandono', 'abbas', 'abbasi', 'Abbasid', 'abbassi', 'Abbassid', 'Abbasside', 'Abbate', 'abbatial', 'abbatical', 'abbatie', 'Abbe', 'Abbey', 'abbeys', \"abbey's\", 'abbeystead', 'abbeystede', 'abbes', 'abbess', 'abbesses', 'abbest', 'Abbevilean', 'Abbeville', 'Abbevillian', 'Abbi', 'Abby', 'Abbie', 'Abbye', 'Abbyville', 'abboccato', 'abbogada', 'Abbot', 'abbotcy', 'abbotcies', 'abbotnullius', 'abbotric', 'abbots', \"abbot's\", 'Abbotsen', 'Abbotsford', 'abbotship', 'abbotships', 'Abbotson', 'Abbotsun', 'Abbott', 'Abbottson', 'Abbottstown', 'Abboud', 'abbozzo', 'ABBR', 'abbrev', 'abbreviatable', 'abbreviate', 'abbreviated', 'abbreviately', 'abbreviates', 'abbreviating', 'abbreviation', 'abbreviations', 'abbreviator', 'abbreviatory', 'abbreviators', 'abbreviature', 'abbroachment', 'ABC', 'abcess', 'abcissa', 'abcoulomb', 'ABCs', 'abd', 'abdal', 'abdali', 'abdaria', 'abdat', 'Abdel', 'Abd-el-Kadir', 'Abd-el-Krim', 'Abdella', 'Abderhalden', 'Abderian', 'Abderite', 'Abderus', 'abdest', 'Abdias', 'abdicable', 'abdicant', 'abdicate', 'abdicated', 'abdicates', 'abdicating', 'abdication', 'abdications', 'abdicative', 'abdicator', 'Abdiel', 'abditive', 'abditory', 'abdom', 'abdomen', 'abdomens', \"abdomen's\", 'abdomina', 'abdominal', 'Abdominales', 'abdominalia', 'abdominalian', 'abdominally', 'abdominals', 'abdominoanterior', 'abdominocardiac', 'abdominocentesis', 'abdominocystic', 'abdominogenital', 'abdominohysterectomy', 'abdominohysterotomy', 'abdominoposterior', 'abdominoscope', 'abdominoscopy', 'abdominothoracic', 'abdominous', 'abdomino-uterotomy', 'abdominovaginal', 'abdominovesical', 'Abdon', 'Abdu', 'abduce', 'abduced', 'abducens', 'abducent', 'abducentes', 'abduces', 'abducing', 'abduct', 'abducted', 'abducting', 'abduction', 'abductions', \"abduction's\", 'abductor', 'abductores', 'abductors', \"abductor's\", 'abducts', 'Abdul', 'Abdul-Aziz', 'Abdul-baha', 'Abdulla', 'Abe', 'a-be', 'abeam', 'abear', 'abearance', 'Abebi', 'abecedaire', 'abecedary', 'abecedaria', 'abecedarian', 'abecedarians', 'abecedaries', 'abecedarium', 'abecedarius', 'abed', 'abede', 'abedge', 'Abednego', 'abegge', 'Abey', 'abeyance', 'abeyances', 'abeyancy', 'abeyancies', 'abeyant', 'abeigh', 'ABEL', 'Abelard', 'abele', 'abeles', 'Abelia', 'Abelian', 'Abelicea', 'Abelite', 'Abell', 'Abelmoschus', 'abelmosk', 'abelmosks', 'abelmusk', 'Abelonian', 'Abelson', 'abeltree', 'Abencerrages', 'abend', 'abends', 'Abenezra', 'abenteric', 'Abeokuta', 'abepithymia', 'ABEPP', 'Abercromby', 'Abercrombie', 'Aberdare', 'aberdavine', 'Aberdeen', 'Aberdeenshire', 'aberdevine', 'Aberdonian', 'aberduvine', 'Aberfan', 'Aberglaube', 'Aberia', 'Aberystwyth', 'Abernant', 'Abernathy', 'abernethy', 'Abernon', 'aberr', 'aberrance', 'aberrancy', 'aberrancies', 'aberrant', 'aberrantly', 'aberrants', 'aberrate', 'aberrated', 'aberrating', 'aberration', 'aberrational', 'aberrations', 'aberrative', 'aberrator', 'aberrometer', 'aberroscope', 'Abert', 'aberuncate', 'aberuncator', 'abesse', 'abessive', 'abet', 'abetment', 'abetments', 'abets', 'abettal', 'abettals', 'abetted', 'abetter', 'abetters', 'abetting', 'abettor', 'abettors', 'Abeu', 'abevacuation', 'abfarad', 'abfarads', 'ABFM', 'Abgatha', 'ABHC', 'abhenry', 'abhenries', 'abhenrys', 'abhinaya', 'abhiseka', 'abhominable', 'abhor', 'abhorred', 'abhorrence', 'abhorrences', 'abhorrency', 'abhorrent', 'abhorrently', 'abhorrer', 'abhorrers', 'abhorrible', 'abhorring', 'abhors', 'Abhorson', 'ABI', 'aby', 'Abia', 'Abiathar', 'Abib', 'abichite', 'abidal', 'abidance', 'abidances', 'abidden', 'abide', 'abided', 'abider', 'abiders', 'abides', 'abidi', 'abiding', 'abidingly', 'abidingness', 'Abidjan', 'Abydos', 'Abie', 'abye', 'abied', 'abyed', 'abiegh', 'abience', 'abient', 'Abies', 'abyes', 'abietate', 'abietene', 'abietic', 'abietin', 'Abietineae', 'abietineous', 'abietinic', 'abietite', 'Abiezer', 'Abigael', 'Abigail', 'abigails', 'abigailship', 'Abigale', 'abigeat', 'abigei', 'abigeus', 'Abihu', 'abying', 'Abijah', 'Abyla', 'abilao', 'Abilene', 'abiliment', 'Abilyne', 'abilitable', 'ability', 'abilities', \"ability's\", 'abilla', 'abilo', 'abime', 'Abimelech', 'Abineri', 'Abingdon', 'Abinger', 'Abington', 'Abinoam', 'Abinoem', 'abintestate', 'abiogeneses', 'abiogenesis', 'abiogenesist', 'abiogenetic', 'abiogenetical', 'abiogenetically', 'abiogeny', 'abiogenist', 'abiogenous', 'abiology', 'abiological', 'abiologically', 'abioses', 'abiosis', 'abiotic', 'abiotical', 'abiotically', 'abiotrophy', 'abiotrophic', 'Abipon', 'Abiquiu', 'abir', 'abirritant', 'abirritate', 'abirritated', 'abirritating', 'abirritation', 'abirritative', 'abys', 'Abisag', 'Abisha', 'Abishag', 'Abisia', 'abysm', 'abysmal', 'abysmally', 'abysms', 'Abyss', 'abyssa', 'abyssal', 'abysses', 'Abyssinia', 'Abyssinian', 'abyssinians', 'abyssobenthonic', 'abyssolith', 'abyssopelagic', \"abyss's\", 'abyssus', 'abiston', 'abit', 'Abitibi', 'Abiu', 'abiuret', 'Abixah', 'abject', 'abjectedness', 'abjection', 'abjections', 'abjective', 'abjectly', 'abjectness', 'abjectnesses', 'abjoint', 'abjudge', 'abjudged', 'abjudging', 'abjudicate', 'abjudicated', 'abjudicating', 'abjudication', 'abjudicator', 'abjugate', 'abjunct', 'abjunction', 'abjunctive', 'abjuration', 'abjurations', 'abjuratory', 'abjure', 'abjured', 'abjurement', 'abjurer', 'abjurers', 'abjures', 'abjuring', 'abkar', 'abkari', 'abkary', 'Abkhas', 'Abkhasia', 'Abkhasian', 'Abkhaz', 'Abkhazia', 'Abkhazian', 'abl', 'abl.', 'ablach', 'ablactate', 'ablactated', 'ablactating', 'ablactation', 'ablaqueate', 'ablare', 'A-blast', 'ablastemic', 'ablastin', 'ablastous', 'ablate', 'ablated', 'ablates', 'ablating', 'ablation', 'ablations', 'ablatitious', 'ablatival', 'ablative', 'ablatively', 'ablatives', 'ablator', 'ablaut', 'ablauts', 'ablaze', 'able', 'able-bodied', 'able-bodiedness', 'ableeze', 'ablegate', 'ablegates', 'ablegation', 'able-minded', 'able-mindedness', 'ablend', 'ableness', 'ablepharia', 'ablepharon', 'ablepharous', 'Ablepharus', 'ablepsy', 'ablepsia', 'ableptical', 'ableptically', 'abler', 'ables', 'ablesse', 'ablest', 'ablet', 'ablewhackets', 'ably', 'ablings', 'ablins', 'ablock', 'abloom', 'ablow', 'ABLS', 'ablude', 'abluent', 'abluents', 'ablush', 'ablute', 'abluted', 'ablution', 'ablutionary', 'ablutions', 'abluvion', 'ABM', 'abmho', 'abmhos', 'abmodality', 'abmodalities', 'abn', 'Abnaki', 'Abnakis', 'abnegate', 'abnegated', 'abnegates', 'abnegating', 'abnegation', 'abnegations', 'abnegative', 'abnegator', 'abnegators', 'Abner', 'abnerval', 'abnet', 'abneural', 'abnormal', 'abnormalcy', 'abnormalcies', 'abnormalise', 'abnormalised', 'abnormalising', 'abnormalism', 'abnormalist', 'abnormality', 'abnormalities', 'abnormalize', 'abnormalized', 'abnormalizing', 'abnormally', 'abnormalness', 'abnormals', 'abnormity', 'abnormities', 'abnormous', 'abnumerable', 'Abo', 'aboard', 'aboardage', 'Abobra', 'abococket', 'abodah', 'abode', 'aboded', 'abodement', 'abodes', \"abode's\", 'abody', 'aboding', 'abogado', 'abogados', 'abohm', 'abohms', 'aboideau', 'aboideaus', 'aboideaux', 'aboil', 'aboiteau', 'aboiteaus', 'aboiteaux', 'abolete', 'abolish', 'abolishable', 'abolished', 'abolisher', 'abolishers', 'abolishes', 'abolishing', 'abolishment', 'abolishments', \"abolishment's\", 'abolition', 'abolitionary', 'abolitionise', 'abolitionised', 'abolitionising', 'abolitionism', 'abolitionist', 'abolitionists', 'abolitionize', 'abolitionized', 'abolitionizing', 'abolitions', 'abolla', 'abollae', 'aboma', 'abomas', 'abomasa', 'abomasal', 'abomasi', 'abomasum', 'abomasus', 'abomasusi', 'A-bomb', 'abominability', 'abominable', 'abominableness', 'abominably', 'abominate', 'abominated', 'abominates', 'abominating', 'abomination', 'abominations', 'abominator', 'abominators', 'abomine', 'abondance', 'Abongo', 'abonne', 'abonnement', 'aboon', 'aborad', 'aboral', 'aborally', 'abord', 'Aboriginal', 'aboriginality', 'aboriginally', 'aboriginals', 'aboriginary', 'Aborigine', 'aborigines', \"aborigine's\", 'Abor-miri', 'Aborn', 'aborning', 'a-borning', 'aborsement', 'aborsive', 'abort', 'aborted', 'aborter', 'aborters', 'aborticide', 'abortient', 'abortifacient', 'abortin', 'aborting', 'abortion', 'abortional', 'abortionist', 'abortionists', 'abortions', \"abortion's\", 'abortive', 'abortively', 'abortiveness', 'abortogenic', 'aborts', 'abortus', 'abortuses', 'abos', 'abote', 'Abott', 'abouchement', 'aboudikro', 'abought', 'Aboukir', 'aboulia', 'aboulias', 'aboulic', 'abound', 'abounded', 'abounder', 'abounding']\n"
     ]
    }
   ],
   "source": [
    "feature_names = vectorizer.get_feature_names()\n",
    "\n",
    "print(len(feature_names))\n",
    "print(feature_names[:1000])"
   ]
  },
  {
   "cell_type": "code",
   "execution_count": 13,
   "metadata": {
    "id": "VMkKFxI2Pjuq",
    "outputId": "2bc82d51-17d7-444e-be4f-3bda579a782a"
   },
   "outputs": [
    {
     "name": "stdout",
     "output_type": "stream",
     "text": [
      "  (0, 9)\t1\n",
      "  (0, 1757)\t1\n",
      "  (0, 41738)\t2\n",
      "  (0, 51947)\t1\n",
      "  (0, 75060)\t1\n",
      "  (0, 110477)\t1\n",
      "  (0, 132560)\t1\n",
      "  (0, 134103)\t1\n",
      "  (0, 140288)\t1\n",
      "  (0, 167356)\t1\n",
      "  (0, 179841)\t1\n",
      "  (0, 205587)\t1\n",
      "  (0, 214233)\t1\n",
      "  (0, 214252)\t1\n",
      "  (0, 217831)\t1\n",
      "  (0, 218699)\t1\n",
      "  (0, 242690)\t1\n",
      "  (0, 246395)\t1\n",
      "  (0, 268032)\t2\n",
      "  (0, 270495)\t1\n",
      "  (0, 271433)\t2\n",
      "  (0, 271493)\t1\n",
      "  (0, 280043)\t1\n",
      "  (0, 281364)\t1\n",
      "  (0, 329669)\t1\n",
      "  (0, 345595)\t1\n",
      "  (0, 363664)\t1\n",
      "  (0, 374160)\t1\n",
      "  (0, 381304)\t1\n",
      "  (0, 389038)\t1\n",
      "  (0, 391937)\t1\n",
      "  (0, 404001)\t1\n",
      "  (0, 405634)\t1\n",
      "  (0, 413751)\t1\n",
      "  (0, 453620)\t1\n"
     ]
    }
   ],
   "source": [
    "train_vector_data = vectorizer.fit_transform(train_data.data)\n",
    "\n",
    "print(train_vector_data[10])"
   ]
  },
  {
   "cell_type": "code",
   "execution_count": 14,
   "metadata": {
    "id": "3Pa_Kp20Pjus",
    "outputId": "b507c232-b583-4867-fb33-577beb056b78"
   },
   "outputs": [
    {
     "name": "stdout",
     "output_type": "stream",
     "text": [
      "  (0, 453620)\t0.08223785040000445\n",
      "  (0, 413751)\t0.20745941264857076\n",
      "  (0, 405634)\t0.12630663204552256\n",
      "  (0, 404001)\t0.08240275224223274\n",
      "  (0, 391937)\t0.11599850260272905\n",
      "  (0, 389038)\t0.028643370882499276\n",
      "  (0, 381304)\t0.17471820508648153\n",
      "  (0, 374160)\t0.14555447227782797\n",
      "  (0, 363664)\t0.16742761175875065\n",
      "  (0, 345595)\t0.1328133263674183\n",
      "  (0, 329669)\t0.2061861643268736\n",
      "  (0, 281364)\t0.16942679765389698\n",
      "  (0, 280043)\t0.15228548086648816\n",
      "  (0, 271493)\t0.02979788741788264\n",
      "  (0, 271433)\t0.21437906522262268\n",
      "  (0, 270495)\t0.10641429257432349\n",
      "  (0, 268032)\t0.31773477293650904\n",
      "  (0, 246395)\t0.19857553000612893\n",
      "  (0, 242690)\t0.13224234325676273\n",
      "  (0, 218699)\t0.02873718805331436\n",
      "  (0, 217831)\t0.06149340719890839\n",
      "  (0, 214252)\t0.21320729780394224\n",
      "  (0, 214233)\t0.2061861643268736\n",
      "  (0, 205587)\t0.09951479425717663\n",
      "  (0, 179841)\t0.23643507274685185\n",
      "  (0, 167356)\t0.10282469952662128\n",
      "  (0, 140288)\t0.15044873822346277\n",
      "  (0, 134103)\t0.24467525704433427\n",
      "  (0, 132560)\t0.15839393154203715\n",
      "  (0, 110477)\t0.07039468372127294\n",
      "  (0, 75060)\t0.14466852420361817\n",
      "  (0, 51947)\t0.22040579018131548\n",
      "  (0, 41738)\t0.2696064986160779\n",
      "  (0, 1757)\t0.2402598619502527\n",
      "  (0, 9)\t0.15465732107697616\n"
     ]
    }
   ],
   "source": [
    "# Calculamos el valor TF-IDF \n",
    "tfidfer = TfidfTransformer()\n",
    "train_preprocessed = tfidfer.fit_transform(train_vector_data)\n",
    "\n",
    "print(train_preprocessed[10])"
   ]
  },
  {
   "cell_type": "markdown",
   "metadata": {
    "id": "Hc_RA7UvPjut"
   },
   "source": [
    "Vamos a mostrar los términos presentes en los mensajes de antes\n"
   ]
  },
  {
   "cell_type": "code",
   "execution_count": 15,
   "metadata": {
    "id": "phSqEsf5Pjuu",
    "outputId": "a4813a65-e779-4a9d-a518-a18a85983ba9"
   },
   "outputs": [
    {
     "name": "stdout",
     "output_type": "stream",
     "text": [
      "Mensaje 10 vectorizado: ['1st' 'accel' 'bike' 'bronze' 'clock' 'distribution' 'expires' 'faded'\n",
      " 'fix' 'hard' 'honk' 'keywords' 'leak' 'leaks' 'like' 'lines' 'model'\n",
      " 'motors' 'oil' 'opinions' 'org' 'organization' 'owner' 'paint'\n",
      " 'recommendation' 'runs' 'shop' 'sold' 'stable' 'subject' 'summary'\n",
      " 'thanks' 'thinking' 'trans' 'want'] \n",
      "\n",
      "Mensaje 100 vectorizado: ['application' 'applications' 'available' 'books' 'code' 'compiler'\n",
      " 'debugger' 'developer' 'distribution' 'documentation' 'drop' 'framework'\n",
      " 'generator' 'glockenspiel' 'installation' 'library' 'lines' 'macro'\n",
      " 'mail' 'negotiable' 'organization' 'posting' 'professional' 'publishing'\n",
      " 'resource' 'software' 'source' 'spontaneous' 'subject' 'toolkit'\n",
      " 'unregistered' 'views' 'windows' 'wordperfect'] \n",
      "\n"
     ]
    }
   ],
   "source": [
    "#write_terms(feature_names, train_data.data, train_vector_data, 10)\n",
    "write_terms(feature_names, None, train_vector_data, 10)\n",
    "\n",
    "write_terms(feature_names, None, train_vector_data, 100)"
   ]
  },
  {
   "cell_type": "markdown",
   "metadata": {
    "id": "2LpiTTXQPjuv"
   },
   "source": [
    "Ahora no observamos  ruido en las palabras seleccionadas, aunque hemos perdido palabras de jerga como ``bit``, ``sdk``, ``Ducati`` o ``jap`` (abreviatura de japanese) que podrían ser útiles para discriminar mejor los temas.\n",
    "\n",
    "Por tanto nos quedamos con la bolsa de palabras generada por este segundo intento y será la que usemos para entrenar a nuestros clasificadores."
   ]
  },
  {
   "cell_type": "markdown",
   "metadata": {
    "id": "W-qgFmIsPjuv"
   },
   "source": [
    "Para probar los clasificadores en el conjunto de prueba, debemos transformar también los mensajes en bolsas de palabras con TF/IDF usando el `CountVectorizer` y `TfidfTransformer` ajustados con el conjunto de entrenamiento."
   ]
  },
  {
   "cell_type": "code",
   "execution_count": 16,
   "metadata": {
    "id": "U2eZLPs7Pjuw"
   },
   "outputs": [],
   "source": [
    "# Tomamos los textos del conjunto de test y los transformamos en una matriz\n",
    "# de palabras. Al usar \"transform\" toma como referencia únicamente las palabras\n",
    "# encontradas en el conjunto de entrenamiento\n",
    "test_vector_data=vectorizer.transform(test_data.data)\n",
    "# Calculamos el valor TF-IDF \n",
    "# Al usar \"transform\" toma como IDF el del conjunto de entrenamiento \n",
    "test_preprocessed=tfidfer.transform(test_vector_data)"
   ]
  },
  {
   "cell_type": "markdown",
   "metadata": {
    "id": "DGcSmDxvPjux"
   },
   "source": [
    "## Entrenando los modelos de aprendizaje automático"
   ]
  },
  {
   "cell_type": "markdown",
   "metadata": {
    "id": "QMkczT1dPjux"
   },
   "source": [
    "Vamos a probar los clasificadores que ya conocemos en el problema de clasificación de textos.\n",
    "\n",
    "La versión que vamos a usar de los clasificadores es la versión por defecto. Sin embargo, es posible encontrar mejores clasificadores buscando combinaciones de parámetros más adecuadas durante el aprendizaje. Puedes usar la búsqueda en rejilla para ello (grid search) probando distintos valores de parámetros o combinaciones de ellos."
   ]
  },
  {
   "cell_type": "markdown",
   "metadata": {
    "id": "lVnrN-k5Pjuz"
   },
   "source": [
    "### Árbol de decisión "
   ]
  },
  {
   "cell_type": "code",
   "execution_count": null,
   "metadata": {
    "id": "lPjSuHJcPju0",
    "outputId": "6baa6291-adb4-404f-8935-1baaefe2b1cd"
   },
   "outputs": [
    {
     "name": "stdout",
     "output_type": "stream",
     "text": [
      "Árbol, porcentaje de aciertos en entrenamiento: 0.9998232278592893\n",
      "Árbol, porcentaje de aciertos en test: 0.4721189591078067\n"
     ]
    }
   ],
   "source": [
    "from sklearn import tree\n",
    "import numpy as np\n",
    "\n",
    "# Creamos el clasificador con los valores por defecto\n",
    "tree_classifier = tree.DecisionTreeClassifier()\n",
    "tree_classifier.fit(train_preprocessed, train_data.target)\n",
    "\n",
    "tree_train_predictions = tree_classifier.predict(train_preprocessed)\n",
    "tree_test_predictions = tree_classifier.predict(test_preprocessed)\n",
    "\n",
    "print(\"Árbol, porcentaje de aciertos en entrenamiento:\", np.mean(tree_train_predictions == train_data.target))\n",
    "print(\"Árbol, porcentaje de aciertos en test:\", np.mean(tree_test_predictions == test_data.target))"
   ]
  },
  {
   "cell_type": "markdown",
   "metadata": {
    "id": "P4ejrXdrPju1"
   },
   "source": [
    "Podemos ver un fuerte sobre-aprendizaje, por lo que es conveniente mejorar el árbol modificando los parámetros de entrenamiento para que aumente la capacidad de generalización del árbol."
   ]
  },
  {
   "cell_type": "markdown",
   "metadata": {
    "id": "f53omD0WPju2"
   },
   "source": [
    "### k Vecinos Más Cercanos (k-NN)"
   ]
  },
  {
   "cell_type": "markdown",
   "metadata": {
    "id": "L7F3NNr-Pju2"
   },
   "source": [
    "La implementación de sklearn de K-NN no permite usar la disimilaridad del coseno (1-similitud del coseno) porque no es propiamente una distancia. Tampoco podemos usar el coeficiente de Jaccard porque no está implementado para matrices dispersas. Por tanto, usamos la distancia euclídea (por defecto), aunque no sea adecuada para espacios de tantas dimensiones. "
   ]
  },
  {
   "cell_type": "code",
   "execution_count": null,
   "metadata": {
    "id": "GHvSdRK6Pju3",
    "outputId": "6fde3703-3418-4078-b0da-b574ab32e11d"
   },
   "outputs": [
    {
     "name": "stdout",
     "output_type": "stream",
     "text": [
      "k-NN, porcentaje de aciertos en entrenamiento: 0.8679512108891638\n",
      "k-NN, porcentaje de aciertos en test: 0.6255974508762613\n"
     ]
    }
   ],
   "source": [
    "from sklearn import neighbors\n",
    "\n",
    "knn_classifier = neighbors.KNeighborsClassifier()\n",
    "knn_classifier.fit(train_preprocessed, train_data.target)\n",
    "\n",
    "knn_train_predictions = knn_classifier.predict(train_preprocessed)\n",
    "knn_test_predictions = knn_classifier.predict(test_preprocessed)\n",
    "\n",
    "print(\"k-NN, porcentaje de aciertos en entrenamiento:\", np.mean(knn_train_predictions == train_data.target))\n",
    "print(\"k-NN, porcentaje de aciertos en test:\", np.mean(knn_test_predictions == test_data.target))"
   ]
  },
  {
   "cell_type": "markdown",
   "metadata": {
    "id": "4fsrVYsbPju5"
   },
   "source": [
    "Según los resultados es posible que se pueda encontrar parámetros para el que la diferencia entre el error de entrenamiento y test no sea tan acusada.\n",
    "\n",
    "No obstante, el k-NN no es una técnica adecuada para este tipo de problemas donde las variables son del orden de los millares (palabras diferentes en el corpus) ya que sufre de la maldición de la dimensionalidad. Intenta buscar vecinos en un espacio de dimensiones muy elevado y además muy escasamente poblado (sparsity). En este caso el problema es muy significativo ya que el número de instancias de entrenamiento (11.314) es incluso menor que el número de dimensiones que se usa para representarlas (466.551)."
   ]
  },
  {
   "cell_type": "markdown",
   "metadata": {
    "id": "JkTkkLBmPju6"
   },
   "source": [
    "### Perceptrón multicapa"
   ]
  },
  {
   "cell_type": "markdown",
   "metadata": {
    "id": "afl1KgP9Pju7"
   },
   "source": [
    "El perceptrón multicapa es también un clasificador adecuado. Sin embargo, el entrenamiento es mucho más costoso en tiempo. En este caso vamos a usar la implementación del perceptrón multicapa para problemas de clasificación.\n",
    "\n",
    "**AVISO: Ejecutar la celda siguiente lleva varias horas**"
   ]
  },
  {
   "cell_type": "code",
   "execution_count": null,
   "metadata": {
    "id": "qxpldQHoPju8",
    "outputId": "25ebb410-d846-4819-87ed-a4f5bcf12cc1"
   },
   "outputs": [
    {
     "name": "stdout",
     "output_type": "stream",
     "text": [
      "Iteration 1, loss = 2.79827004\n",
      "Iteration 2, loss = 2.00223938\n",
      "Iteration 3, loss = 1.14884283\n",
      "Iteration 4, loss = 0.65519995\n",
      "Iteration 5, loss = 0.41279953\n",
      "Iteration 6, loss = 0.28107305\n",
      "Iteration 7, loss = 0.20173862\n",
      "Iteration 8, loss = 0.15028860\n",
      "Iteration 9, loss = 0.11575551\n",
      "Iteration 10, loss = 0.09107942\n",
      "Iteration 11, loss = 0.07342451\n",
      "Iteration 12, loss = 0.06014838\n",
      "Iteration 13, loss = 0.05010403\n",
      "Iteration 14, loss = 0.04258777\n",
      "Iteration 15, loss = 0.03656183\n",
      "Iteration 16, loss = 0.03181622\n",
      "Iteration 17, loss = 0.02804711\n",
      "Iteration 18, loss = 0.02488557\n",
      "Iteration 19, loss = 0.02244766\n",
      "Iteration 20, loss = 0.02035345\n",
      "Iteration 21, loss = 0.01846260\n",
      "Iteration 22, loss = 0.01700766\n",
      "Iteration 23, loss = 0.01581652\n",
      "Iteration 24, loss = 0.01471735\n",
      "Iteration 25, loss = 0.01381872\n",
      "Iteration 26, loss = 0.01304839\n",
      "Iteration 27, loss = 0.01227258\n",
      "Iteration 28, loss = 0.01163682\n",
      "Iteration 29, loss = 0.01105233\n",
      "Iteration 30, loss = 0.01062074\n",
      "Iteration 31, loss = 0.01029201\n",
      "Iteration 32, loss = 0.00979797\n",
      "Iteration 33, loss = 0.00944704\n",
      "Iteration 34, loss = 0.00916556\n",
      "Iteration 35, loss = 0.00891716\n",
      "Iteration 36, loss = 0.00863540\n",
      "Iteration 37, loss = 0.00843684\n",
      "Iteration 38, loss = 0.00819190\n",
      "Iteration 39, loss = 0.00802671\n",
      "Iteration 40, loss = 0.00786357\n",
      "Iteration 41, loss = 0.00772243\n",
      "Iteration 42, loss = 0.00743027\n",
      "Iteration 43, loss = 0.00728039\n",
      "Iteration 44, loss = 0.00720302\n",
      "Iteration 45, loss = 0.00713545\n",
      "Iteration 46, loss = 0.00681052\n",
      "Iteration 47, loss = 0.00682277\n",
      "Iteration 48, loss = 0.00670940\n",
      "Iteration 49, loss = 0.00654434\n",
      "Iteration 50, loss = 0.00654806\n",
      "Iteration 51, loss = 0.00638647\n",
      "Iteration 52, loss = 0.00640163\n",
      "Iteration 53, loss = 0.00638542\n",
      "Iteration 54, loss = 0.00610979\n",
      "Iteration 55, loss = 0.00615750\n",
      "Iteration 56, loss = 0.00615648\n",
      "Iteration 57, loss = 0.00608717\n",
      "Iteration 58, loss = 0.00598049\n",
      "Iteration 59, loss = 0.00589934\n",
      "Iteration 60, loss = 0.00578908\n",
      "Iteration 61, loss = 0.00576115\n",
      "Iteration 62, loss = 0.00566561\n",
      "Iteration 63, loss = 0.00573506\n",
      "Iteration 64, loss = 0.00565782\n",
      "Iteration 65, loss = 0.00558384\n",
      "Iteration 66, loss = 0.00554568\n",
      "Iteration 67, loss = 0.00546066\n",
      "Iteration 68, loss = 0.00545171\n",
      "Iteration 69, loss = 0.00538912\n",
      "Iteration 70, loss = 0.00530753\n",
      "Iteration 71, loss = 0.00535868\n",
      "Training loss did not improve more than tol=0.000100 for 10 consecutive epochs. Stopping.\n",
      "Perceptrón, porcentaje de aciertos en entrenamiento: 0.999734841788934\n",
      "Perceptrón, porcentaje de aciertos en test: 0.7650026553372278\n"
     ]
    }
   ],
   "source": [
    "from sklearn.neural_network import MLPClassifier\n",
    "\n",
    "# Creamos el clasificador con los valores por defecto\n",
    "mlp_classifier = MLPClassifier(verbose=True)\n",
    "mlp_classifier.fit(train_preprocessed, train_data.target)\n",
    "\n",
    "mlp_train_predictions = mlp_classifier.predict(train_preprocessed)\n",
    "mlp_test_predictions = mlp_classifier.predict(test_preprocessed)\n",
    "\n",
    "print(\"Perceptrón, porcentaje de aciertos en entrenamiento:\", np.mean(mlp_train_predictions == train_data.target))\n",
    "print(\"Perceptrón, porcentaje de aciertos en test:\", np.mean(mlp_test_predictions == test_data.target))"
   ]
  },
  {
   "cell_type": "markdown",
   "metadata": {
    "id": "r74ufMPTPju-"
   },
   "source": [
    "### Naive Bayes"
   ]
  },
  {
   "cell_type": "markdown",
   "metadata": {
    "id": "FgqYeIqcPju_"
   },
   "source": [
    "El clasificador [Naive Bayes](https://en.wikipedia.org/wiki/Naive_Bayes_classifier) es un clasificador probabilístico muy simple y muy poderoso en este (y otros) contextos. \n",
    "\n",
    "El clasificador se llama \"naive\" es decir \"ingenuo\" porque asume que todas las variables son independientes entre sí. En este caso, que la ocurrencia de una palabra en un texto es independiente del resto de palabras. Esto no es así (en un texto de hardware es probable encontrar palabras como \"CPU\" y \"motherboard\", mientras que en uno de religión encontraremos \"pray\" y \"God\"). Pese a esta gran simplificación de la realidad el clasificador funciona muy bien.\n",
    "\n",
    "El clasificador aprende cómo de frecuente es cada clase y cómo de frecuente es que una palabra ocurra en cada clase. A la hora de clasificar un texto nuevo, el clasificador estima la probabilidad de que pertenezca a cada una de las clases y elige la más alta. \n",
    "Los clasificadores Naive Bayes Classifiers se entrenan muy rápido, pero no son los mejores. Suelen ser utilizados como clasificadores de referencia.\n"
   ]
  },
  {
   "cell_type": "markdown",
   "metadata": {
    "id": "DEuz99NlPju_"
   },
   "source": [
    "Existen tres tipos de Naive Bayes que se suelen utilizar en PLN según el tipo de problema:\n",
    "\n",
    " - __Naive Bayes Multinomial__ que se utiliza cuando las variables son enteras (como el número de apariciones de cada palabra en el documento) pero también se \"traga\" datos con decimales (como el valor TF/IDF). No admite números negativos.\n",
    "     - En algunos problemas, como en el análisis de sentimiento (sentiment analysis) de un texto, lo importante puede ser la presencia o ausencia de palabras que indiquen un sentimiento positivo o negativo, y no tanto su frecuencia. En estos casos se puede utilizar una versión binarizada del Naive Bayes Multinomial basada la representación binarizada de los vectores bolsa de palabras (CountVectorizer con el parámetro binary=True).\n",
    " \n",
    " - __Naive Bayes Gaussiano__ que se utiliza cuando interesa la variable es continua (por ejemplo TF/IDF). Admite valores positivos y negativos. \n",
    "\n",
    " - __Naive Bayes Bernoulli__ que se utiliza cuando es la ausencia de determinadas palabras la que importa. Por tanto, suele ser adecuado para clasificar documentos cortos (menos variedad de palabras) y para identificar contenido muy específico como SPAM y contenido adulto. "
   ]
  },
  {
   "cell_type": "markdown",
   "metadata": {
    "id": "Vz7ZnIOmPjvA"
   },
   "source": [
    "En primer lugar vamos a probar el **NB Multinomial** a ver qué resultado da."
   ]
  },
  {
   "cell_type": "code",
   "execution_count": 17,
   "metadata": {
    "id": "2SSIiBpgPjvA",
    "outputId": "a3d53ef6-7016-4762-dc65-f4ceef336a55"
   },
   "outputs": [
    {
     "name": "stdout",
     "output_type": "stream",
     "text": [
      "Multinomial Naive Bayes, porcentaje de aciertos en entrenamiento: 0.9178009545695598\n",
      "Multinomial Naive Bayes, porcentaje de aciertos en test: 0.7412373871481678\n"
     ]
    }
   ],
   "source": [
    "from sklearn.naive_bayes import MultinomialNB\n",
    "\n",
    "mnb_classifier = MultinomialNB()\n",
    "\n",
    "mnb_classifier.fit(train_preprocessed, train_data.target)\n",
    "\n",
    "mnb_train_predictions = mnb_classifier.predict(train_preprocessed)\n",
    "mnb_test_predictions = mnb_classifier.predict(test_preprocessed)\n",
    "\n",
    "print(\"Multinomial Naive Bayes, porcentaje de aciertos en entrenamiento:\", np.mean(mnb_train_predictions == train_data.target))\n",
    "print(\"Multinomial Naive Bayes, porcentaje de aciertos en test:\", np.mean(mnb_test_predictions == test_data.target))"
   ]
  },
  {
   "cell_type": "markdown",
   "metadata": {
    "id": "fql_ExtXPjvB"
   },
   "source": [
    "\n",
    "\n",
    "A continuación probamos el **NB Gaussiano**, pero nos da un problema de memoria, ya que no trabaja con matrices dispersas y al volverlas densas con ``toarray()`` falla. \n",
    "\n",
    "Para ello, usamos la opción de ``partial_fit`` que permite ajustar el Naive Bayes incrementalmente pasándole distintos fragmentos de la matriz de datos.\n",
    "\n",
    "Esto nos requiere dividir la matriz de datos en fragmentos pequeños para no sobrecargar la memoria. \n",
    "\n",
    "__Ejecutar la siguiente celda lleva varios minutos__."
   ]
  },
  {
   "cell_type": "code",
   "execution_count": null,
   "metadata": {
    "id": "ReShU7LQPjvC"
   },
   "outputs": [],
   "source": [
    "from sklearn.naive_bayes import GaussianNB\n",
    "\n",
    "gnb_classifier = GaussianNB()\n",
    "\n",
    "chunk_size=100\n",
    "num_rows=len(train_data.target)\n",
    "\n",
    "for i in range(0, (num_rows//chunk_size)):\n",
    "    train_chunk = train_preprocessed[i*chunk_size : (i+1)*chunk_size,:].toarray()\n",
    "    target_chunk = train_data.target[i*chunk_size : (i+1)*chunk_size]\n",
    "    gnb_classifier.partial_fit(train_chunk, target_chunk, classes=np.unique(train_data.target))"
   ]
  },
  {
   "cell_type": "markdown",
   "metadata": {
    "id": "y7VfRmIPPjvC"
   },
   "source": [
    "Para calcular las predicciones tenemos el mismo problema, así que tenemos que proceder a estimar por trozos y luego agregar los resultados.\n",
    "\n",
    "**Esta ejecución también tarda varias horas**"
   ]
  },
  {
   "cell_type": "code",
   "execution_count": null,
   "metadata": {
    "id": "Q4Eqo_A-PjvD",
    "outputId": "b241791e-6f3e-48c9-f558-2dd4c7cc5c21"
   },
   "outputs": [
    {
     "name": "stdout",
     "output_type": "stream",
     "text": [
      "Gaussian Naive Bayes, porcentaje de aciertos en entrenamiento: 0.965441046491073\n",
      "Gaussian Naive Bayes, porcentaje de aciertos en test: 0.5596123207647371\n"
     ]
    }
   ],
   "source": [
    "# Creamos los arrays antes para ser más eficiente (crea el array grande y luego lo rellena)\n",
    "gnb_train_predictions=np.zeros_like(train_data.target)\n",
    "gnb_test_predictions=np.zeros_like(test_data.target)\n",
    "\n",
    "for i in range(0, (num_rows//chunk_size)):\n",
    "    train_chunk = train_preprocessed[i*chunk_size : (i+1)*chunk_size,:].toarray()\n",
    "    gnb_train_predictions[i*chunk_size : (i+1)*chunk_size] = gnb_classifier.predict(train_chunk)\n",
    "    \n",
    "num_rows=len(test_data.target)\n",
    "for i in range(0, (num_rows//chunk_size)):\n",
    "    test_chunk = test_preprocessed[i*chunk_size : (i+1)*chunk_size,:].toarray()\n",
    "    gnb_test_predictions[i*chunk_size : (i+1)*chunk_size] = gnb_classifier.predict(test_chunk)\n",
    "\n",
    "print(\"Gaussian Naive Bayes, porcentaje de aciertos en entrenamiento:\", np.mean(gnb_train_predictions == train_data.target))\n",
    "print(\"Gaussian Naive Bayes, porcentaje de aciertos en test:\", np.mean(gnb_test_predictions == test_data.target))"
   ]
  },
  {
   "cell_type": "markdown",
   "metadata": {
    "id": "9BkFc6NqPjvE"
   },
   "source": [
    "Podemos observar como este Naive Bayes se degrada mucho en test. \n",
    "\n",
    "El mal funcionamiento de este clasificador tiene que ver con que la distribución de los valores que tienen los términos en un documento no siguen una distribución normal. Para empezar no es simétrica, sino asimétrica a la derecha.\n",
    "\n",
    "Podemos ver algunos ejemplos."
   ]
  },
  {
   "cell_type": "code",
   "execution_count": null,
   "metadata": {
    "id": "FRHkgovVPjvF",
    "outputId": "964c0eac-2d7c-4d2e-ad19-3c98f1bce1fb"
   },
   "outputs": [
    {
     "data": {
      "text/plain": [
       "<AxesSubplot:ylabel='Density'>"
      ]
     },
     "execution_count": 21,
     "metadata": {},
     "output_type": "execute_result"
    },
    {
     "data": {
      "image/png": "[encoded data removed]",
      "text/plain": [
       "<Figure size 432x288 with 1 Axes>"
      ]
     },
     "metadata": {
      "needs_background": "light"
     },
     "output_type": "display_data"
    },
    {
     "data": {
      "image/png": "[encoded data removed]",
      "text/plain": [
       "<Figure size 432x288 with 1 Axes>"
      ]
     },
     "metadata": {
      "needs_background": "light"
     },
     "output_type": "display_data"
    },
    {
     "data": {
      "image/png": "[encoded data removed]",
      "text/plain": [
       "<Figure size 432x288 with 1 Axes>"
      ]
     },
     "metadata": {
      "needs_background": "light"
     },
     "output_type": "display_data"
    }
   ],
   "source": [
    "import pandas as pd\n",
    "\n",
    "term=pd.DataFrame(data= train_preprocessed[:,460371].toarray(), columns=[feature_names[460371]])\n",
    "term.plot.density()\n",
    "\n",
    "term=pd.DataFrame(data= train_preprocessed[:,208543].toarray(), columns=[feature_names[208543]])\n",
    "term.plot.density()\n",
    "\n",
    "term=pd.DataFrame(data= train_preprocessed[:,27385].toarray(), columns=[feature_names[27385]])\n",
    "term.plot.density()"
   ]
  },
  {
   "cell_type": "markdown",
   "metadata": {
    "id": "mzbfDG3qPjvG"
   },
   "source": [
    "### Otros clasificadores"
   ]
  },
  {
   "cell_type": "markdown",
   "metadata": {
    "id": "W9tBk_jfPjvG"
   },
   "source": [
    "Otro clasificador que se usa en PLN es la [regresión logística](https://en.wikipedia.org/wiki/Logistic_regression) (sklearn.naive_bayes.MultinomialNB) que es básicamente un modelo de regresión para variables dependientes binarias, o las más sofisticadas Máquinas de Vectores de Soporte o  [Support Vector Machines](https://en.wikipedia.org/wiki/Support_vector_machine) (`sklearn.linear_model.LogisticRegression`). \n",
    "\n",
    "Por último, mencionar que existen otras corrientes más actuales que usan \"aprendizaje profundo\" o deep learning con aún mejores resultados."
   ]
  },
  {
   "cell_type": "markdown",
   "metadata": {
    "id": "rWZm07wJPjvH"
   },
   "source": [
    "## Evaluación detallada"
   ]
  },
  {
   "cell_type": "markdown",
   "metadata": {
    "id": "CwDBPcs8PjvI"
   },
   "source": [
    "En este caso vamos analizar el rendimiento del **Naive Bayes multinomial**.\n",
    "\n",
    "En un problema de clasificación multiclase suele ser muy interesante analizar dos cosas:\n",
    " - El rendimiento de la clasificación en cada una de las clases\n",
    " - La matriz de confusión\n",
    "\n",
    "Lo primero nos permite analizar en qué clases funciona mejor o peor el clasificador, de acuerdo a métricas como la precisión (cuando predice dicha clase cuánto acierta) y la exhaustividad  (cuántos ejemplos de una clase predice correctamente). También podemos ver la media (armònica) entre ambas medidas (F1 score).\n",
    "\n",
    "La matriz nos permite ver qué clases se confunden más entre sí y si dicha confusión es simétrica o no. \n",
    "    "
   ]
  },
  {
   "cell_type": "code",
   "execution_count": 18,
   "metadata": {
    "id": "2j9gcgzdPjvI",
    "outputId": "3ac519da-e65d-46fb-dfda-55158780a448"
   },
   "outputs": [
    {
     "name": "stdout",
     "output_type": "stream",
     "text": [
      "                          precision    recall  f1-score   support\n",
      "\n",
      "             alt.atheism       0.83      0.44      0.57       319\n",
      "           comp.graphics       0.66      0.69      0.67       389\n",
      " comp.os.ms-windows.misc       0.65      0.63      0.64       394\n",
      "comp.sys.ibm.pc.hardware       0.55      0.72      0.63       392\n",
      "   comp.sys.mac.hardware       0.73      0.59      0.65       385\n",
      "          comp.windows.x       0.75      0.74      0.75       395\n",
      "            misc.forsale       0.88      0.72      0.79       390\n",
      "               rec.autos       0.87      0.86      0.86       396\n",
      "         rec.motorcycles       0.88      0.87      0.87       398\n",
      "      rec.sport.baseball       0.93      0.88      0.91       397\n",
      "        rec.sport.hockey       0.91      0.95      0.93       399\n",
      "               sci.crypt       0.66      0.95      0.78       396\n",
      "         sci.electronics       0.76      0.63      0.69       393\n",
      "                 sci.med       0.92      0.81      0.86       396\n",
      "               sci.space       0.84      0.86      0.85       394\n",
      "  soc.religion.christian       0.50      0.94      0.65       398\n",
      "      talk.politics.guns       0.64      0.86      0.74       364\n",
      "   talk.politics.mideast       0.77      0.86      0.81       376\n",
      "      talk.politics.misc       0.92      0.39      0.55       310\n",
      "      talk.religion.misc       0.86      0.05      0.09       251\n",
      "\n",
      "                accuracy                           0.74      7532\n",
      "               macro avg       0.77      0.72      0.71      7532\n",
      "            weighted avg       0.77      0.74      0.73      7532\n",
      "\n"
     ]
    }
   ],
   "source": [
    "from sklearn.metrics import classification_report, confusion_matrix\n",
    "\n",
    "# NOTA: Aquí elegimos analizar un determinado clasificador y sus predicciones \n",
    "# Por ejemplo el naive bayes\n",
    "classifier=mnb_classifier\n",
    "predictions = mnb_test_predictions\n",
    "\n",
    "print(classification_report(test_data.target, predictions, target_names=test_data.target_names))"
   ]
  },
  {
   "cell_type": "markdown",
   "metadata": {
    "id": "4Ocg4HwdPjvJ"
   },
   "source": [
    "En el caso del Naive Bayes Multinomial hay clases que se clasifican muy bien, como `rec.sport.hockey`, `rec.sport.baseball` y `rec.motorcycles`.\n",
    "\n",
    "Sin embargo, es interesante que hay clases como `talk.religion.misc` con una precisión muy alta y una exhaustividad muy bajo, y por otro lado clases donde sucede lo contrario, aunque no tan acusado, como en `soc.religion.christian`.\n",
    "\n",
    "La exhaustividad muy baja indica que esos textos tienden a confundirse mucho con otros. Una precisión baja por el contrario quiere decir que el clasificador no ha sido capaz de encontrar rasgos distintivos para dichos textos que los diferencien de otros.\n",
    "\n",
    "Podemos echar un vistazo más a la matriz de confusión para entender mejor este problema."
   ]
  },
  {
   "cell_type": "code",
   "execution_count": null,
   "metadata": {
    "id": "msRdy-TfPjvK",
    "outputId": "e5f13a6f-e708-499b-e41b-c0738b5bc79e"
   },
   "outputs": [
    {
     "data": {
      "text/plain": [
       "(array([ 0.5,  1.5,  2.5,  3.5,  4.5,  5.5,  6.5,  7.5,  8.5,  9.5, 10.5,\n",
       "        11.5, 12.5, 13.5, 14.5, 15.5, 16.5, 17.5, 18.5, 19.5]),\n",
       " [Text(0.5, 0, 'alt.atheism'),\n",
       "  Text(1.5, 0, 'comp.graphics'),\n",
       "  Text(2.5, 0, 'comp.os.ms-windows.misc'),\n",
       "  Text(3.5, 0, 'comp.sys.ibm.pc.hardware'),\n",
       "  Text(4.5, 0, 'comp.sys.mac.hardware'),\n",
       "  Text(5.5, 0, 'comp.windows.x'),\n",
       "  Text(6.5, 0, 'misc.forsale'),\n",
       "  Text(7.5, 0, 'rec.autos'),\n",
       "  Text(8.5, 0, 'rec.motorcycles'),\n",
       "  Text(9.5, 0, 'rec.sport.baseball'),\n",
       "  Text(10.5, 0, 'rec.sport.hockey'),\n",
       "  Text(11.5, 0, 'sci.crypt'),\n",
       "  Text(12.5, 0, 'sci.electronics'),\n",
       "  Text(13.5, 0, 'sci.med'),\n",
       "  Text(14.5, 0, 'sci.space'),\n",
       "  Text(15.5, 0, 'soc.religion.christian'),\n",
       "  Text(16.5, 0, 'talk.politics.guns'),\n",
       "  Text(17.5, 0, 'talk.politics.mideast'),\n",
       "  Text(18.5, 0, 'talk.politics.misc'),\n",
       "  Text(19.5, 0, 'talk.religion.misc')])"
      ]
     },
     "execution_count": 23,
     "metadata": {},
     "output_type": "execute_result"
    },
    {
     "data": {
      "image/png": "[encoded data removed]",
      "text/plain": [
       "<Figure size 1080x720 with 2 Axes>"
      ]
     },
     "metadata": {
      "needs_background": "light"
     },
     "output_type": "display_data"
    }
   ],
   "source": [
    "%matplotlib inline\n",
    "import pandas as pd\n",
    "import seaborn as sn\n",
    "import matplotlib.pyplot as plt\n",
    "\n",
    "conf_matrix = confusion_matrix(test_data.target, predictions)\n",
    "conf_matrix_df = pd.DataFrame(conf_matrix, index=test_data.target_names, columns=test_data.target_names)\n",
    "\n",
    "plt.figure(figsize=(15, 10))\n",
    "sn.heatmap(conf_matrix_df, annot=True, vmin=0, vmax=conf_matrix.max(), fmt='d', cmap=\"YlGnBu\")\n",
    "plt.yticks(rotation=0)\n",
    "plt.xticks(rotation=90)"
   ]
  },
  {
   "cell_type": "markdown",
   "metadata": {
    "id": "uxqPD5s_PjvK"
   },
   "source": [
    "Ahora podemos comprobar la fuente de las confusiones. \n",
    "- Una fila con muchas observaciones fuera de la celda de la diagonal principal, indica una exhaustividad baja. \n",
    "    - Si las observaciones se concentran en alguna celda fuera de la diagonal, indica que son clasificadas (erróneamente) como de la clase a la que pertenezca su fila. Es el caso de las observaciones de `talk.religion.misc` que son clasificadas como `soc.religion.christian`, las de `talk.politics.misc`  ques son clasificadas como `talk.politics.guns` y las de `alt.atheism` que son clasificadas como `soc.religion.christian`. Es interesante que ninguna de estas confusiones es simétrica, lo que quiere decir que, por ejemplo, los textos de `soc.religion.christian` tienen suficientes rasgos distintivos para ser diferenciados de `alt.atheism`.\n",
    "- Una columna con muchas observaciones fuera de la celda de la diagonal principal, indica una una precisión baja, o una contaminación en la precisión del clasificador. \n",
    "    - Es el caso de `soc.religion.christian` (o de `comp.sys.ibm.pc.hardware`) que pese a tener una exhaustividad alta (>90%) tiene una precisión baja, ya que detecta como falsos positivos muchos textos de muchos otros temas."
   ]
  },
  {
   "cell_type": "markdown",
   "metadata": {
    "id": "MpRLng3JPjvM"
   },
   "source": [
    "### Importancia de las variables "
   ]
  },
  {
   "cell_type": "markdown",
   "metadata": {
    "id": "L5o588JcPjvM"
   },
   "source": [
    "Algunos algoritmos de clasificación permiten analizar cuáles son las variables más relevantes para la clasificación. Suele ser una buena idea para entender mejor los resultados analizar esas variables. En el caso de nuestro problema, lo que nos diría sería qué palabras son más útiles para realizar la clasificación. \n",
    "\n",
    "Este tipo de análisis es muy dependiente de la técnica que estemos utilizando, de los fundamentos en los que se base dicha técnica. De hecho, no todas las técnicas permiten hacer estos análisis ya que algunas son más \"caja negra\" que otras. \n",
    "\n",
    "Como información complementaria a lo que veremos en este notebook decir que el paquete [eli5](https://eli5.readthedocs.io/en/0.1/index.html) de Python que tiene como objetivo explicar las predicciones de algunos modelos de machine learning."
   ]
  },
  {
   "cell_type": "markdown",
   "metadata": {
    "id": "F3sUgLktPjvN"
   },
   "source": [
    "#### Árboles de decisión"
   ]
  },
  {
   "cell_type": "markdown",
   "metadata": {
    "id": "2tLdy16OPjvN"
   },
   "source": [
    "En el caso de los árboles de decisión podemos obtener las variables con mayor poder de discriminación en el árbol obtenido, es decir, aquellas que mayor reducción de Gini han producido a lo largo del árbol."
   ]
  },
  {
   "cell_type": "code",
   "execution_count": null,
   "metadata": {
    "id": "Jr7L-DxNPjvO"
   },
   "outputs": [],
   "source": [
    "def print_top20_features_in_trees(vectorizer, clf):\n",
    "    \"\"\"Prints features with the highest coefficient values\"\"\"\n",
    "    feature_names = vectorizer.get_feature_names()\n",
    "    \n",
    "    top20 = np.argsort(clf.feature_importances_)[-20:]\n",
    "    reversed_top = top20[::-1]\n",
    "    print(\"Top 20 features in the tree\\n\")\n",
    "    print(\"%s\" % ( \" / \".join(feature_names[j] for j in reversed_top)))"
   ]
  },
  {
   "cell_type": "code",
   "execution_count": null,
   "metadata": {
    "id": "-Yb2uj9MPjvO",
    "outputId": "f84a8a75-0bc3-40ca-f127-b8a0c7c12520"
   },
   "outputs": [
    {
     "name": "stdout",
     "output_type": "stream",
     "text": [
      "Top 20 features in the tree\n",
      "\n",
      "clipper / windows / bike / hockey / space / baseball / cars / christians / guns / graphics / atheists / lines / organization / subject / posting / turks / writes / team / window / motif\n"
     ]
    }
   ],
   "source": [
    "print_top20_features_in_trees(vectorizer,tree_classifier)"
   ]
  },
  {
   "cell_type": "markdown",
   "metadata": {
    "id": "Twk7ZfhRPjvQ"
   },
   "source": [
    "En este caso es muy claro que estamos encontrando palabras que rápidamente nos remiten a alguno de los temas de los que tratan las noticias como es el caso de `clipper` que es un [chip de criptografía](https://www.cryptomuseum.com/crypto/usa/clipper.htm), `windows` que es el sistema operativo, ``bike`` que se refiere a motos, etc."
   ]
  },
  {
   "cell_type": "markdown",
   "metadata": {
    "id": "c2aLQmJrPjvQ"
   },
   "source": [
    "#### Naive Bayes"
   ]
  },
  {
   "cell_type": "markdown",
   "metadata": {
    "id": "qqOBcrfAPjvR"
   },
   "source": [
    "En el caso del Naive Bayes, por cada una de las clases a predecir, podemos obtener aquellas palabras que es más verosímil que aparezcan.  "
   ]
  },
  {
   "cell_type": "code",
   "execution_count": null,
   "metadata": {
    "id": "f5Vc7eMlPjvR"
   },
   "outputs": [],
   "source": [
    "def print_top20_features_per_class_in_NB(vectorizer, clf, class_labels):\n",
    "    \"\"\"Prints features with the highest coefficient values, per class\"\"\"\n",
    "    feature_names = vectorizer.get_feature_names()\n",
    "    print(\"Top 20 features per class\\n\")\n",
    "    for i, class_label in enumerate(class_labels):\n",
    "        top20 = np.argsort(clf.feature_log_prob_[i])[-20:]\n",
    "        reversed_top = top20[::-1]\n",
    "        \n",
    "        print(\"%s: %s\" % (class_label,\n",
    "              \" / \".join(feature_names[j] for j in reversed_top)),'\\n')\n",
    "        \n",
    "        #Descomentar para ver el índice de los términos en el diccionario\n",
    "        #print(\"%s \" % (\" / \".join(str(j) for j in reversed_top)),'\\n')"
   ]
  },
  {
   "cell_type": "code",
   "execution_count": null,
   "metadata": {
    "id": "YyVfLw3WPjvS",
    "outputId": "459e293d-57a4-4398-a0ad-96a397b47850"
   },
   "outputs": [
    {
     "name": "stdout",
     "output_type": "stream",
     "text": [
      "Top 20 features per class\n",
      "\n",
      "alt.atheism: atheists / writes / atheism / people / morality / article / think / religion / moral / lines / subject / posting / organization / objective / said / believe / does / mantis / evidence / know \n",
      "\n",
      "comp.graphics: graphics / image / lines / subject / organization / thanks / posting / file / program / ac / polygon / format / images / need / help / windows / version / looking / package / know \n",
      "\n",
      "comp.os.ms-windows.misc: windows / file / driver / drivers / lines / subject / organization / thanks / using / program / problem / version / access / help / know / does / mail / posting / run / article \n",
      "\n",
      "comp.sys.ibm.pc.hardware: drive / ide / controller / thanks / lines / subject / organization / disk / monitor / drives / motherboard / help / floppy / posting / computer / board / does / windows / gateway / problem \n",
      "\n",
      "comp.sys.mac.hardware: quadra / drive / lines / subject / monitor / organization / posting / thanks / does / duo / problem / know / video / computer / article / speed / distribution / like / writes / internal \n",
      "\n",
      "comp.windows.x: window / motif / widget / application / lines / organization / subject / thanks / posting / windows / display / file / code / program / internet / problem / using / running / color / ac \n",
      "\n",
      "misc.forsale: offer / shipping / distribution / subject / lines / organization / condition / posting / asking / interested / mail / drive / computer / software / used / games / wanted / trade / excellent / monitor \n",
      "\n",
      "rec.autos: cars / article / engine / subject / writes / organization / lines / oil / dealer / posting / like / distribution / think / drive / speed / know / reply / auto / automotive / right \n",
      "\n",
      "rec.motorcycles: bike / article / ride / bikes / writes / motorcycle / riding / organization / subject / lines / posting / like / helmet / dog / org / motorcycles / know / right / ed / distribution \n",
      "\n",
      "rec.sport.baseball: baseball / year / players / team / game / games / article / writes / runs / organization / subject / lines / braves / pitching / cubs / hit / posting / think / sox / league \n",
      "\n",
      "rec.sport.hockey: hockey / team / game / play / players / games / leafs / cup / wings / year / teams / rangers / playoff / organization / playoffs / subject / writes / lines / devils / league \n",
      "\n",
      "sci.crypt: clipper / encryption / keys / escrow / government / crypto / security / algorithm / secret / secure / writes / people / privacy / wiretap / encrypted / phone / code / subject / lines / organization \n",
      "\n",
      "sci.electronics: lines / subject / organization / circuit / posting / know / does / phone / need / electronics / like / voltage / thanks / article / writes / number / current / audio / ground / ac \n",
      "\n",
      "sci.med: article / science / food / disease / medical / writes / subject / organization / lines / skepticism / intellect / cadre / know / shameful / reply / patients / people / surrender / medicine / health \n",
      "\n",
      "sci.space: space / orbit / access / launch / article / writes / shuttle / zoo / lunar / subject / organization / lines / like / posting / spacecraft / billion / station / research / solar / zoology \n",
      "\n",
      "soc.religion.christian: christians / people / believe / think / know / subject / does / lines / organization / question / like / writes / true / religion / way / article / group / come / things / eternal \n",
      "\n",
      "talk.politics.guns: guns / people / stratus / firearms / weapons / writes / article / government / control / right / like / posting / think / subject / organization / lines / rights / believe / crime / compound \n",
      "\n",
      "talk.politics.mideast: armenians / people / serdar / turks / writes / arabs / article / org / policy / soldiers / said / government / subject / lines / world / killed / organization / think / genocide / occupied \n",
      "\n",
      "talk.politics.misc: people / writes / article / government / president / tax / drugs / think / men / organization / subject / lines / sexual / homosexual / health / jobs / make / like / money / homosexuals \n",
      "\n",
      "talk.religion.misc: people / morality / writes / article / objective / christians / organization / know / subject / lines / order / religion / think / believe / posting / world / said / like / does / children \n",
      "\n"
     ]
    }
   ],
   "source": [
    "print_top20_features_per_class_in_NB(vectorizer,mnb_classifier,test_data.target_names)       "
   ]
  },
  {
   "cell_type": "markdown",
   "metadata": {
    "id": "Y0-KW91xPjvT"
   },
   "source": [
    "En general, vemos que hay las palabras tienen bastante sentido, aunque existen otras como ``people`` que aparecen en primeras posiciones en todas los grupos de ``talk`` y que aparecen también en otros. O palabras como ``like`` que aunque pueden querer decir gustar, también pueden significar como, y que en cualquier caso parecen palabras casi vacías (otro caso similar es el de ``does`` o el de ``thanks``. "
   ]
  }
 ],
 "metadata": {
  "colab": {
   "name": "PLN. Clasificación de textos.ipynb",
   "provenance": []
  },
  "kernelspec": {
   "display_name": "Python 3",
   "language": "python",
   "name": "python3"
  },
  "language_info": {
   "codemirror_mode": {
    "name": "ipython",
    "version": 3
   },
   "file_extension": ".py",
   "mimetype": "text/x-python",
   "name": "python",
   "nbconvert_exporter": "python",
   "pygments_lexer": "ipython3",
   "version": "3.8.12"
  }
 },
 "nbformat": 4,
 "nbformat_minor": 1
}
