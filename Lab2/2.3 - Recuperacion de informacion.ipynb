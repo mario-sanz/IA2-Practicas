{
 "cells": [
  {
   "cell_type": "markdown",
   "metadata": {
    "id": "wkDRJSx4gKT1"
   },
   "source": [
    "# Recuperación de información"
   ]
  },
  {
   "cell_type": "markdown",
   "metadata": {
    "id": "9BgNpXz0gKT_"
   },
   "source": [
    "Para ilustrar los conceptos de recuperación de información usaremos el conjunto de datos de [20 Newsgroups](http://qwone.com/~jason/20Newsgroups/) que se encuentra disponible en [Scikit-learn](https://scikit-learn.org/stable/). \n",
    "\n",
    "El conjunto consiste en mensajes en foros, en concreto, hay 20 foros de diversos temas desde hardware hasta religión. Algunos temas están muy relacionados, p.ej. \"IBM PC hardware\" y \"Mac hardware\", mientras que otros son más diversos, p.ej. \"baseball\" o \"hockey\"). \n",
    "\n",
    "## Emulando un buscador con un problema de clasificación en categorías múltiples\n",
    "\n",
    "Para ejemplificar los conceptos de recuperación de información consideraremos los mensajes del conjunto de entrenamiento del dataset como nuestros documentos a recuperar, y como consultas consideraremos los mensajes del conjunto de prueba. \n",
    "\n",
    "Como todos los mensajes tienen como etiqueta el foro al que pertenecen, usaremos esta etiqueta para determinar si la tarea de recuperación ha tenido éxito. En concreto, consideraremos que tomando como consulta un mensaje del foro X, si los mensajes devueltos por nuestra estrategia de recuperación de información son también del foro X consideraremos que la tarea ha tenido éxito, y si fueran de otro foro, querrá decir que no hemos tenido éxito. \n",
    "\n",
    "Los pasos que seguiremos serán los siguientes:\n",
    "1. Vectorización de los mensajes de entrenamiento. Y dado nuestra aproximación, también vectorizaremos cada uno de los mensajes de test que usaremos como consulta.\n",
    "2. Uso de la similitud del coseno entre el mensaje de consulta y los mensajes de entrenamiento. \n",
    "3. Ordenación los resultados de mayor a menor relevancia con la consulta.\n",
    "4. Cálculo para cada consulta de la precisión de la lista de resultados con nivel de exhaustividad 3 y 10.\n",
    "  -\tLa **precisión a un nivel de exhaustividad X** es el número de resultados que son relevantes (en nuestro caso, que son de la clase buscada) de entre los X primeros recuperados.\n",
    "\n",
    "\n",
    "\n"
   ]
  },
  {
   "cell_type": "code",
   "execution_count": 30,
   "metadata": {
    "executionInfo": {
     "elapsed": 267,
     "status": "ok",
     "timestamp": 1647958764902,
     "user": {
      "displayName": "JAVIER ARROYO GALLARDO",
      "photoUrl": "https://lh3.googleusercontent.com/a/default-user=s64",
      "userId": "02428824756029313673"
     },
     "user_tz": -60
    },
    "id": "0jdb126VgKUF"
   },
   "outputs": [],
   "source": [
    "from sklearn.datasets import fetch_20newsgroups"
   ]
  },
  {
   "cell_type": "markdown",
   "metadata": {
    "id": "mToY1UvZjDYD"
   },
   "source": [
    "El conjunto de datos está dividido de forma predeterminada en entrenamiento y prueba en porcentajes de 60 y 40, respectivamente. \n",
    "\n",
    "En primer lugar vamos a extraer los datos y vamos a mostrar un ejemplo."
   ]
  },
  {
   "cell_type": "code",
   "execution_count": 31,
   "metadata": {
    "colab": {
     "base_uri": "https://localhost:8080/"
    },
    "executionInfo": {
     "elapsed": 997,
     "status": "ok",
     "timestamp": 1647958767567,
     "user": {
      "displayName": "JAVIER ARROYO GALLARDO",
      "photoUrl": "https://lh3.googleusercontent.com/a/default-user=s64",
      "userId": "02428824756029313673"
     },
     "user_tz": -60
    },
    "id": "FnI4aFgmgKUH",
    "outputId": "fb546cc6-d702-4a91-8f3c-3882b96a1feb"
   },
   "outputs": [
    {
     "name": "stdout",
     "output_type": "stream",
     "text": [
      "Training texts: 11314\n",
      "Test texts: 7532\n"
     ]
    }
   ],
   "source": [
    "train_data = fetch_20newsgroups(subset='train', shuffle=True, random_state=42)\n",
    "test_data = fetch_20newsgroups(subset='test')\n",
    "\n",
    "print(\"Training texts:\", len(train_data.data))\n",
    "print(\"Test texts:\", len(test_data.data))"
   ]
  },
  {
   "cell_type": "code",
   "execution_count": 32,
   "metadata": {
    "colab": {
     "base_uri": "https://localhost:8080/"
    },
    "executionInfo": {
     "elapsed": 300,
     "status": "ok",
     "timestamp": 1647958769207,
     "user": {
      "displayName": "JAVIER ARROYO GALLARDO",
      "photoUrl": "https://lh3.googleusercontent.com/a/default-user=s64",
      "userId": "02428824756029313673"
     },
     "user_tz": -60
    },
    "id": "rnTXiZlUgKUJ",
    "outputId": "cf9f5e59-c03c-4968-cc6d-501c6a3cfc01"
   },
   "outputs": [
    {
     "name": "stdout",
     "output_type": "stream",
     "text": [
      "From: lerxst@wam.umd.edu (where's my thing)\n",
      "Subject: WHAT car is this!?\n",
      "Nntp-Posting-Host: rac3.wam.umd.edu\n",
      "Organization: University of Maryland, College Park\n",
      "Lines: 15\n",
      "\n",
      " I was wondering if anyone out there could enlighten me on this car I saw\n",
      "the other day. It was a 2-door sports car, looked to be from the late 60s/\n",
      "early 70s. It was called a Bricklin. The doors were really small. In addition,\n",
      "the front bumper was separate from the rest of the body. This is \n",
      "all I know. If anyone can tellme a model name, engine specs, years\n",
      "of production, where this car is made, history, or whatever info you\n",
      "have on this funky looking car, please e-mail.\n",
      "\n",
      "Thanks,\n",
      "- IL\n",
      "   ---- brought to you by your neighborhood Lerxst ----\n",
      "\n",
      "\n",
      "\n",
      "\n",
      "\n"
     ]
    }
   ],
   "source": [
    "print(train_data.data[0])"
   ]
  },
  {
   "cell_type": "markdown",
   "metadata": {
    "id": "tTI7ZLwlgKUL"
   },
   "source": [
    "## Vectorización de datos "
   ]
  },
  {
   "cell_type": "markdown",
   "metadata": {
    "id": "n5uUo28ooC9n"
   },
   "source": [
    "La vectorización se realiza con la utilidad de `CountVectorizer` y debemos  tomar decisiones que afectarán a los resultados de nuestra tarea de clasificación, principalmente:\n",
    "- Fijar el vocabulario que vamos a usar (parámetro `vocabulary`)\n",
    "- Determinar la lista de palabras vacías que vamos a usar (parámetro `stop_words`)\n",
    "- Decidir si vamos a optar por representar los vectores de palabras mediante valores binarios, frecuencias o TF/IDF. \n",
    "\n",
    "En nuestro caso usaremos:\n",
    "- El vocabulario inferido de analizar los mensajes del conjunto de entrenamiento\n",
    "- La lista de palabras vacías que tiene configurado el `CountVectorizer` de sklearln\n",
    "- Los vectores de palabras mediante TF/IDF, lo cual requiere usar `TfidfVectorizer` sobre la matriz devuelta por `CountVectorizer`\n",
    "\n"
   ]
  },
  {
   "cell_type": "code",
   "execution_count": 33,
   "metadata": {
    "executionInfo": {
     "elapsed": 419,
     "status": "ok",
     "timestamp": 1647958775928,
     "user": {
      "displayName": "JAVIER ARROYO GALLARDO",
      "photoUrl": "https://lh3.googleusercontent.com/a/default-user=s64",
      "userId": "02428824756029313673"
     },
     "user_tz": -60
    },
    "id": "tIMGRKVTgKUb"
   },
   "outputs": [],
   "source": [
    "from sklearn.feature_extraction.text import CountVectorizer\n",
    "\n",
    "vectorizer = CountVectorizer(stop_words='english', binary=False, ngram_range=(1,1))"
   ]
  },
  {
   "cell_type": "code",
   "execution_count": 35,
   "metadata": {
    "colab": {
     "base_uri": "https://localhost:8080/"
    },
    "executionInfo": {
     "elapsed": 3551,
     "status": "ok",
     "timestamp": 1647958810515,
     "user": {
      "displayName": "JAVIER ARROYO GALLARDO",
      "photoUrl": "https://lh3.googleusercontent.com/a/default-user=s64",
      "userId": "02428824756029313673"
     },
     "user_tz": -60
    },
    "id": "rh5U6xjVgKUf",
    "outputId": "e3ba65a6-002a-4ea4-8dd2-5c68490b76be"
   },
   "outputs": [
    {
     "name": "stdout",
     "output_type": "stream",
     "text": [
      "129796\n"
     ]
    }
   ],
   "source": [
    "train_vector_data=vectorizer.fit_transform(train_data.data)\n",
    "\n",
    "# Extraemos las palabras de nuestro vector de palabras\n",
    "feature_names = vectorizer.get_feature_names_out ()\n",
    "print(len(feature_names))"
   ]
  },
  {
   "cell_type": "markdown",
   "metadata": {
    "id": "508Q0gpTgKUg"
   },
   "source": [
    "Podemos ver que nuestro vocabulario consiste en más de 129.000 palabras. \n",
    "\n",
    "Vamos a ver algunas de ellas al azar para entender mejor nuestro vector de palabras.\n",
    "\n"
   ]
  },
  {
   "cell_type": "code",
   "execution_count": 36,
   "metadata": {
    "colab": {
     "base_uri": "https://localhost:8080/"
    },
    "executionInfo": {
     "elapsed": 14,
     "status": "ok",
     "timestamp": 1647958810518,
     "user": {
      "displayName": "JAVIER ARROYO GALLARDO",
      "photoUrl": "https://lh3.googleusercontent.com/a/default-user=s64",
      "userId": "02428824756029313673"
     },
     "user_tz": -60
    },
    "id": "Ha3EiIUqrFnK",
    "outputId": "11e6f294-9b0b-48d7-90d4-94c5067f2c83"
   },
   "outputs": [
    {
     "name": "stdout",
     "output_type": "stream",
     "text": [
      "['00' '000' '0000' '00000' '000000' '00000000' '0000000004' '0000000005'\n",
      " '00000000b' '00000001' '00000001b' '0000000667' '00000010' '00000010b'\n",
      " '00000011' '00000011b' '0000001200' '00000074' '00000093' '000000e5'\n",
      " '00000100' '00000100b' '00000101' '00000101b' '00000110' '00000110b'\n",
      " '00000111' '00000111b' '00000315' '000005102000']\n",
      "['185117' '185118' '185128' '185226' '185235' '1853' '185317' '185326'\n",
      " '185328' '18542' '185448' '18546' '1855' '185510' '1856' '185633'\n",
      " '185638' '1857' '185700' '185706' '185725' '185755' '185806' '185823'\n",
      " '18583' '18590' '18592' '185951' '185c' '185k']\n",
      "['zznkjz' 'zznkzz' 'zznp' 'zzo' 'zzr11' 'zzr1100' 'zzrk' 'zzt' 'zztop'\n",
      " 'zzy_3w' 'zzz' 'zzzoh' 'zzzz' 'zzzzzz' 'zzzzzzt' 'ªl' '³ation'\n",
      " 'º_________________________________________________º_____________________º'\n",
      " 'ºnd' 'çait' 'çon' 'ère' 'ée' 'égligent' 'élangea' 'érale' 'ête'\n",
      " 'íålittin' 'ñaustin' 'ýé']\n"
     ]
    }
   ],
   "source": [
    "print(feature_names[:30])\n",
    "print(feature_names[6000:6030])\n",
    "print(feature_names[-30:])"
   ]
  },
  {
   "cell_type": "markdown",
   "metadata": {
    "id": "bIrq7BKvq7QU"
   },
   "source": [
    "Es evidente que hay una gran cantidad de términos numéricos o alfanuméricos de dudoso significado y que pueden generar mucho ruido. \n",
    "\n",
    "Con ayuda del parámetro `token_pattern` del `CountVectorizer` y de la [sintaxis de Python para definir expresiones regulares](https://docs.python.org/3/library/re.html) podemos definir que solamente acepte palabras que tengan letras (sin considerar números u otros caracteres especiales)."
   ]
  },
  {
   "cell_type": "code",
   "execution_count": 44,
   "metadata": {
    "colab": {
     "base_uri": "https://localhost:8080/"
    },
    "executionInfo": {
     "elapsed": 3445,
     "status": "ok",
     "timestamp": 1647959051540,
     "user": {
      "displayName": "JAVIER ARROYO GALLARDO",
      "photoUrl": "https://lh3.googleusercontent.com/a/default-user=s64",
      "userId": "02428824756029313673"
     },
     "user_tz": -60
    },
    "id": "G19av3UKsymD",
    "outputId": "64819db0-cb73-4455-c0a6-9a685a260830"
   },
   "outputs": [
    {
     "name": "stdout",
     "output_type": "stream",
     "text": [
      "81461\n"
     ]
    }
   ],
   "source": [
    "vectorizer = CountVectorizer(stop_words='english', binary=False, ngram_range=(1,1), token_pattern=r'(?u)\\b[A-Za-z]+\\b') \n",
    "\n",
    "train_vector_data=vectorizer.fit_transform(train_data.data)\n",
    "\n",
    "feature_names = vectorizer.get_feature_names_out ()\n",
    "print(len(feature_names))\n"
   ]
  },
  {
   "cell_type": "code",
   "execution_count": 38,
   "metadata": {
    "colab": {
     "base_uri": "https://localhost:8080/"
    },
    "executionInfo": {
     "elapsed": 13,
     "status": "ok",
     "timestamp": 1647958816470,
     "user": {
      "displayName": "JAVIER ARROYO GALLARDO",
      "photoUrl": "https://lh3.googleusercontent.com/a/default-user=s64",
      "userId": "02428824756029313673"
     },
     "user_tz": -60
    },
    "id": "SxPS5DKwtWRG",
    "outputId": "40bf028c-48de-4dc3-ab1b-c7ffd2e44dfa"
   },
   "outputs": [
    {
     "name": "stdout",
     "output_type": "stream",
     "text": [
      "['aa' 'aaa' 'aaaa' 'aaaaaaaaaaaa'\n",
      " 'aaaaaaaaaaaaaaaaaaaaaaaaaaaaaaauuuuuuuuuuuuuuuuuuuuuuuuuuuuuuuugggggggggggggggg'\n",
      " 'aaaaagggghhhh' 'aaaarrgghhhh' 'aaah' 'aaahh' 'aaahhhh' 'aaai' 'aab'\n",
      " 'aacc' 'aachen' 'aacvkc' 'aad' 'aaf' 'aah' 'aai' 'aalac' 'aalborg'\n",
      " 'aaldoubo' 'aalternate' 'aam' 'aamazing' 'aamir'\n",
      " 'aammmaaaazzzzzziinnnnggggg' 'aamrl' 'aams' 'aan']\n",
      "['bdynamic' 'bdz' 'bea' 'beacause' 'beach' 'beachball' 'beachcomber'\n",
      " 'beaches' 'beachfront' 'beacon' 'beacons' 'beacuse' 'bead' 'beaded'\n",
      " 'beadles' 'beads' 'beagle' 'beahvioral' 'beakers' 'beal' 'beale' 'beales'\n",
      " 'beals' 'beam' 'beame' 'beamed' 'beamer' 'beamers' 'beaming' 'beamish']\n",
      "['zygot' 'zyj' 'zyklon' 'zymmr' 'zyr' 'zyra' 'zysec' 'zysv' 'zyt' 'zyu'\n",
      " 'zyv' 'zyxel' 'zz' 'zzcrm' 'zzd' 'zzneu' 'zznki' 'zznkj' 'zznkjz'\n",
      " 'zznkzz' 'zznp' 'zzo' 'zzrk' 'zzt' 'zztop' 'zzz' 'zzzoh' 'zzzz' 'zzzzzz'\n",
      " 'zzzzzzt']\n"
     ]
    }
   ],
   "source": [
    "print(feature_names[:30])\n",
    "print(feature_names[6000:6030])\n",
    "print(feature_names[-30:])"
   ]
  },
  {
   "cell_type": "markdown",
   "metadata": {
    "id": "iWlhM3ynw98B"
   },
   "source": [
    "Ahora vemos un número mucho menor de términos y, aunque hay palabras cuyo significado parece que sigue siendo ruido, el vector ha mejorado notablemente."
   ]
  },
  {
   "cell_type": "code",
   "execution_count": 46,
   "metadata": {
    "executionInfo": {
     "elapsed": 691,
     "status": "ok",
     "timestamp": 1647959197972,
     "user": {
      "displayName": "JAVIER ARROYO GALLARDO",
      "photoUrl": "https://lh3.googleusercontent.com/a/default-user=s64",
      "userId": "02428824756029313673"
     },
     "user_tz": -60
    },
    "id": "qAZWnkfjAAzj"
   },
   "outputs": [],
   "source": [
    "from sklearn.feature_extraction.text import TfidfTransformer \n",
    "\n",
    "tfidftrans = TfidfTransformer()\n",
    "train_preprocessed = tfidftrans.fit_transform(train_vector_data)"
   ]
  },
  {
   "cell_type": "code",
   "execution_count": 58,
   "metadata": {
    "executionInfo": {
     "elapsed": 302,
     "status": "ok",
     "timestamp": 1647960842439,
     "user": {
      "displayName": "JAVIER ARROYO GALLARDO",
      "photoUrl": "https://lh3.googleusercontent.com/a/default-user=s64",
      "userId": "02428824756029313673"
     },
     "user_tz": -60
    },
    "id": "QWEHYiiXgKUh"
   },
   "outputs": [],
   "source": [
    "import numpy as np\n",
    "import numpy.ma as ma\n",
    "\n",
    "def write_terms (feature_names, data, vector_data, index):\n",
    "    '''\n",
    "    Escribe los términos presentes en un mensaje representado como bolsa de palabras.\n",
    "    \n",
    "    - feature_names: terminos usados para vectorizar\n",
    "    - data: lista de mensajes original (si data==None no se muestra el mensaje original)\n",
    "    - vector_data: matriz (dispersa) de mensaje vectorizados\n",
    "    - index: posición del mensaje a mostrar\n",
    "    '''\n",
    "    # máscara para seleccionar sólo el mensaje en posición index\n",
    "    mask=vector_data[index,:]>0\n",
    "    \n",
    "    # términos que aparecen en ese mensaje vectorizado\n",
    "    terminos = ma.array(feature_names, mask = ~(mask[0].toarray()))\n",
    "    \n",
    "    # mostrar mensaje original\n",
    "    if data is not None:\n",
    "        print('Mensaje', index, ':', data[index])\n",
    "    \n",
    "    # mostrar términos que aparecen en el mensaje vectorizado\n",
    "    print('Mensaje', index, 'vectorizado:', terminos.compressed(),'\\n')"
   ]
  },
  {
   "cell_type": "markdown",
   "metadata": {
    "id": "Zl96JI1hXKYS"
   },
   "source": [
    "## Mostrando un documento vectorizado\n",
    "\n",
    "El mostrar un documento en su estado original y tras el proceso de vectorización ayuda a entender cómo han funcionado el proceso de vectorización y más adelante a cómo funciona el proceso de recuperación."
   ]
  },
  {
   "cell_type": "code",
   "execution_count": 61,
   "metadata": {
    "colab": {
     "base_uri": "https://localhost:8080/"
    },
    "executionInfo": {
     "elapsed": 252,
     "status": "ok",
     "timestamp": 1647960917481,
     "user": {
      "displayName": "JAVIER ARROYO GALLARDO",
      "photoUrl": "https://lh3.googleusercontent.com/a/default-user=s64",
      "userId": "02428824756029313673"
     },
     "user_tz": -60
    },
    "id": "MfezYCeugKUj",
    "outputId": "73500462-0a24-4d51-9ef2-6551a5acee7e"
   },
   "outputs": [
    {
     "name": "stdout",
     "output_type": "stream",
     "text": [
      "Mensaje 100 : From: tchen@magnus.acs.ohio-state.edu (Tsung-Kun Chen)\n",
      "Subject: ** Software forsale (lots) **\n",
      "Nntp-Posting-Host: magnusug.magnus.acs.ohio-state.edu\n",
      "Organization: The Ohio State University\n",
      "    ****   This is a post for my friend,  You can either call    ****\n",
      "    ****    him  J.K Lee  (614)791-0748    or Drop me a mail     ****\n",
      "Distribution: usa\n",
      "Lines: 39\n",
      "\n",
      "1.  Software publishing SuperBase 4 windows v.1.3           --->$80\n",
      "\n",
      "2.  OCR System ReadRight v.3.1 for Windows                  --->$65\n",
      "\n",
      "3.  OCR System ReadRight  v.2.01 for DOS                    --->$65\n",
      "\n",
      "4.  Unregistered Zortech 32 bit C++ Compiler v.3.1          --->$ 250\n",
      "     with Multiscope windows Debugger,\n",
      "     WhiteWater Resource Toolkit, Library Source Code\n",
      "\n",
      "5.  Glockenspiel/ImageSoft Commonview 2 Windows\n",
      "     Applications Framework for Borland C++                 --->$70\n",
      "\n",
      "6.  Spontaneous Assembly Library With Source Code           --->$50\n",
      "\n",
      "7.  Microsoft Macro Assembly 6.0                            --->$50\n",
      "\n",
      "8.  Microsoft Windows v.3.1 SDK Documentation               --->$125\n",
      "\n",
      "9.  Microsoft FoxPro V.2.0                                  --->$75\n",
      "\n",
      "10.  WordPerfect 5.0 Developer's Toolkit                    --->$20\n",
      "\n",
      "11.  Kedwell Software DataBoss v.3.5 C Code Generator       --->$100\n",
      "\n",
      "12.  Kedwell InstallBoss v.2.0 Installation Generator       --->$35\n",
      "\n",
      "13.  Liant Software C++/Views v.2.1\n",
      "       Windows Application Framework with Source Code       --->$195\n",
      "\n",
      "14.  IBM OS/2 2.0 & Developer's Toolkit                     --->$95\n",
      "\n",
      "15.  CBTree DOS/Windows Library with Source Code            --->$120\n",
      "\n",
      "16.  Symantec TimeLine for Windows                          --->$90\n",
      "\n",
      "17.  TimeSlip TimeSheet Professional for Windows            --->$30\n",
      "\n",
      "         Many More Software/Books Available,Price Negotiable\n",
      "\n",
      "Mensaje 100 vectorizado: ['acs' 'application' 'applications' 'assembly' 'available' 'bit' 'books'\n",
      " 'borland' 'c' 'cbtree' 'chen' 'code' 'commonview' 'compiler' 'databoss'\n",
      " 'debugger' 'developer' 'distribution' 'documentation' 'dos' 'drop' 'edu'\n",
      " 'forsale' 'foxpro' 'framework' 'friend' 'generator' 'glockenspiel' 'host'\n",
      " 'ibm' 'imagesoft' 'installation' 'installboss' 'j' 'k' 'kedwell' 'kun'\n",
      " 'lee' 'liant' 'library' 'lines' 'lots' 'macro' 'magnus' 'magnusug' 'mail'\n",
      " 'microsoft' 'multiscope' 'negotiable' 'nntp' 'ocr' 'ohio' 'organization'\n",
      " 'os' 'post' 'posting' 'price' 'professional' 'publishing' 'readright'\n",
      " 'resource' 's' 'sdk' 'software' 'source' 'spontaneous' 'state' 'subject'\n",
      " 'superbase' 'symantec' 'tchen' 'timeline' 'timesheet' 'timeslip'\n",
      " 'toolkit' 'tsung' 'university' 'unregistered' 'usa' 'v' 'views'\n",
      " 'whitewater' 'windows' 'wordperfect' 'zortech'] \n",
      "\n"
     ]
    }
   ],
   "source": [
    "write_terms(feature_names, train_data.data, train_preprocessed,100)\n"
   ]
  },
  {
   "cell_type": "markdown",
   "metadata": {
    "id": "tuveGH9lgKUl"
   },
   "source": [
    "## Transformación de los ejemplos del conjunto de test\n",
    "\n",
    "Para hacer nuestras pruebas seleccionaremos los primeros 3 mensajes de cada clase en el conjunto de test"
   ]
  },
  {
   "cell_type": "code",
   "execution_count": 49,
   "metadata": {
    "executionInfo": {
     "elapsed": 3386,
     "status": "ok",
     "timestamp": 1647959418489,
     "user": {
      "displayName": "JAVIER ARROYO GALLARDO",
      "photoUrl": "https://lh3.googleusercontent.com/a/default-user=s64",
      "userId": "02428824756029313673"
     },
     "user_tz": -60
    },
    "id": "b6s52qSwgKUk"
   },
   "outputs": [],
   "source": [
    "# Tomamos los textos del conjunto de test y los transformamos en una matriz\n",
    "# de palabras. Al usar \"transform\" toma como referencia únicamente las palabras\n",
    "# encontradas en el conjunto de entrenamiento\n",
    "test_vector_data = vectorizer.transform(test_data.data)\n",
    "\n",
    "# Si sobre la consulta también realizamos la ponderación TF/IDF estamos amplificando\n",
    "# el efecto de la misma a la hora de recuperar ejemplos relevantes\n",
    "test_preprocessed = tfidftrans.transform(test_vector_data)"
   ]
  },
  {
   "cell_type": "markdown",
   "metadata": {
    "id": "FigWeTBFgKUo"
   },
   "source": [
    "## Recuperación de ejemplos relevantes y cálculo de precisión a nivel X\n",
    "\n",
    "Definimos una serie de funciones que nos permiten calcular lo siguiente:\n",
    "\n",
    "*   Recuperación de los k índices de los documentos más relevantes dada una consulta, un conjunto de documentos y el valor de k\n",
    "*   Precisión@X, que es la precisión a nivel de exhaustividad X, que nos calcula cuantos de los X primeros documentos de una lista son de la clase deseada \n",
    "* Cálculo de la precisión@X media para cada una de las clases del documento\n",
    "\n"
   ]
  },
  {
   "cell_type": "code",
   "execution_count": 62,
   "metadata": {
    "executionInfo": {
     "elapsed": 377,
     "status": "ok",
     "timestamp": 1647961303058,
     "user": {
      "displayName": "JAVIER ARROYO GALLARDO",
      "photoUrl": "https://lh3.googleusercontent.com/a/default-user=s64",
      "userId": "02428824756029313673"
     },
     "user_tz": -60
    },
    "id": "krEAYsWEgKUq"
   },
   "outputs": [],
   "source": [
    "from sklearn.metrics.pairwise import cosine_similarity\n",
    "\n",
    "def knn(query, X_train, k):\n",
    "    '''Devuelve los índices de los k documentos de entrenamiento más similares a la consulta usando \n",
    "    la similitud del coseno.\n",
    "    \n",
    "    Parámetros:\n",
    "    - query: documento consulta vectorizado\n",
    "    - X_train: documentos de entrenamiento vectorizados\n",
    "    - k: número de documentos a recuperar\n",
    "    \n",
    "    Devuelve:\n",
    "    - índices de los k documentos más similares a la consulta.\n",
    "    '''\n",
    "    \n",
    "    # Necesitamos un vector de dimensión (1, X). Si se pasa un vector de dimensión X, transformarlo\n",
    "    if len(query.shape) == 1:\n",
    "        query = query.reshape(1, -1)\n",
    "\n",
    "    simil = cosine_similarity(query, X_train)\n",
    "    simil_idx = np.argsort(simil.flatten())\n",
    "    simil_idx = simil_idx[::-1]\n",
    "    return simil_idx[:k]"
   ]
  },
  {
   "cell_type": "code",
   "execution_count": 63,
   "metadata": {
    "executionInfo": {
     "elapsed": 311,
     "status": "ok",
     "timestamp": 1647961305433,
     "user": {
      "displayName": "JAVIER ARROYO GALLARDO",
      "photoUrl": "https://lh3.googleusercontent.com/a/default-user=s64",
      "userId": "02428824756029313673"
     },
     "user_tz": -60
    },
    "id": "klFx_s7gJTRs"
   },
   "outputs": [],
   "source": [
    "def precision_at_k(y_selected, y_real, k):\n",
    "    '''Devuelve la precisión @k de los documentos seleccionados.\n",
    "    \n",
    "    Parametros:\n",
    "    - y_selected: etiquetas de los documentos seleccionados (se usan los k primeros)\n",
    "    - y_real: etiqueta de la categoría correcta\n",
    "    - k: número de documentos que se tienen en cuenta\n",
    "    \n",
    "    Devuelve:\n",
    "    - Precisión@k\n",
    "    '''\n",
    "    \n",
    "    return np.sum(y_selected[:k] == y_real) / k * 100"
   ]
  },
  {
   "cell_type": "code",
   "execution_count": 64,
   "metadata": {
    "executionInfo": {
     "elapsed": 326,
     "status": "ok",
     "timestamp": 1647961307429,
     "user": {
      "displayName": "JAVIER ARROYO GALLARDO",
      "photoUrl": "https://lh3.googleusercontent.com/a/default-user=s64",
      "userId": "02428824756029313673"
     },
     "user_tz": -60
    },
    "id": "ADuI7rTlgKUp"
   },
   "outputs": [],
   "source": [
    "def mean_precisions_per_class(X_train, y_train, X_test, y_test, k):\n",
    "    '''Devuelve las precision@k media para cada una de las classes.\n",
    "    \n",
    "    Parámetros:\n",
    "    - X_train: documentos de entrenamiento vectorizados.\n",
    "    - y_train: etiquetas de los documentos de entrenamiento.\n",
    "    - X_test: documentos vectorizados que se usan como consultas\n",
    "    - y_test: etiquetas de los documentos que se usan como consultas\n",
    "    - k: número de documentos considerados a recuperar por la consulta\n",
    "    \n",
    "    Devuelve:\n",
    "    - Diccionario clase -> precisión en tanto por ciento.\n",
    "    '''\n",
    "    \n",
    "    # diccionario categoría -> lista de precisiones\n",
    "    y_precisions = {y: [] for y in np.unique(y_test)}\n",
    "    \n",
    "    # Calcular precision@k para cada consulta\n",
    "    for x_query, y_query in zip(X_test, y_test):\n",
    "        idx = knn(x_query, X_train, k)\n",
    "        y_selected = np.take(y_train, idx)\n",
    "        precision = precision_at_k(y_selected, y_query, k)\n",
    "        y_precisions[y_query].append(precision)\n",
    "        \n",
    "    # Calcular medias\n",
    "    for y in y_precisions:\n",
    "        y_precisions[y] = np.mean(y_precisions[y])\n",
    "    \n",
    "    return y_precisions"
   ]
  },
  {
   "cell_type": "markdown",
   "metadata": {
    "id": "BercuhAygKUs"
   },
   "source": [
    "## Recuperación de ejemplos relevantes y cálculo de precisión a nivel X\n",
    "\n",
    "Por simplificar los cálculos vamos a coger solamente los 200 primeros mensajes del conjunto de test y vamos a calcular la precisión@5."
   ]
  },
  {
   "cell_type": "code",
   "execution_count": 90,
   "metadata": {
    "colab": {
     "base_uri": "https://localhost:8080/"
    },
    "executionInfo": {
     "elapsed": 7469,
     "status": "ok",
     "timestamp": 1647963699825,
     "user": {
      "displayName": "JAVIER ARROYO GALLARDO",
      "photoUrl": "https://lh3.googleusercontent.com/a/default-user=s64",
      "userId": "02428824756029313673"
     },
     "user_tz": -60
    },
    "id": "SlzTdlxqgKUs",
    "outputId": "ae9b6dda-b92c-47b1-aa7e-dd628c2d89b2"
   },
   "outputs": [
    {
     "data": {
      "text/plain": [
       "{0: 45.55555555555556,\n",
       " 1: 38.18181818181818,\n",
       " 2: 26.25,\n",
       " 3: 43.75,\n",
       " 4: 29.285714285714285,\n",
       " 5: 45.0,\n",
       " 6: 25.714285714285715,\n",
       " 7: 49.0,\n",
       " 8: 77.6923076923077,\n",
       " 9: 70.9090909090909,\n",
       " 10: 73.07692307692308,\n",
       " 11: 81.66666666666667,\n",
       " 12: 40.0,\n",
       " 13: 52.22222222222222,\n",
       " 14: 72.72727272727273,\n",
       " 15: 34.285714285714285,\n",
       " 16: 66.36363636363636,\n",
       " 17: 67.0,\n",
       " 18: 49.09090909090909,\n",
       " 19: 37.5}"
      ]
     },
     "execution_count": 90,
     "metadata": {},
     "output_type": "execute_result"
    }
   ],
   "source": [
    "p10 = mean_precisions_per_class(train_preprocessed, train_data.target, test_preprocessed[:200,], test_data.target[:200], 10)\n",
    "    \n",
    "p10\n",
    "\n"
   ]
  },
  {
   "cell_type": "markdown",
   "metadata": {
    "id": "5HqaREZEWfPn"
   },
   "source": [
    "A continuación vamos a mostrar los valores en un gráfico que nos facilite la el análisis visual de los datos."
   ]
  },
  {
   "cell_type": "code",
   "execution_count": 106,
   "metadata": {
    "colab": {
     "base_uri": "https://localhost:8080/",
     "height": 422
    },
    "executionInfo": {
     "elapsed": 796,
     "status": "ok",
     "timestamp": 1647964165274,
     "user": {
      "displayName": "JAVIER ARROYO GALLARDO",
      "photoUrl": "https://lh3.googleusercontent.com/a/default-user=s64",
      "userId": "02428824756029313673"
     },
     "user_tz": -60
    },
    "id": "sNGWpIcwSTYf",
    "outputId": "da51cd87-de00-44ae-bd89-ebb528a79b91"
   },
   "outputs": [
    {
     "data": {
      "text/plain": [
       "<matplotlib.axes._subplots.AxesSubplot at 0x7f8ae61439d0>"
      ]
     },
     "execution_count": 106,
     "metadata": {},
     "output_type": "execute_result"
    },
    {
     "data": {
      "image/png": "[encoded data removed]",
      "text/plain": [
       "<Figure size 432x288 with 1 Axes>"
      ]
     },
     "metadata": {
      "needs_background": "light"
     },
     "output_type": "display_data"
    }
   ],
   "source": [
    "import pandas as pd\n",
    "\n",
    "df_p10 = pd.DataFrame.from_dict(p10, orient='index', columns=['precision@10'])\n",
    "\n",
    "df_p10[\"target\"] =  test_data.target_names\n",
    "\n",
    "d = df_p10.set_index(\"target\")\n",
    "\n",
    "d.plot.bar()\n",
    "\n"
   ]
  },
  {
   "cell_type": "markdown",
   "metadata": {
    "id": "kaN3ciUagKUu"
   },
   "source": [
    "Si analizamos los valores de precisión medios para las distintas clases del conjunto de datos podemos ver cosas interesantes, como por ejemplo:\n",
    "\n",
    " - Existe mucha diferencia entre los valores de precisión ya que oscilan entre valores cercanos al 25% y valores cercanos al 80%. \n",
    " - Las clases para las que mayor precisión se consiguen son las relacionadoas con criptografía, motociclismo, espacio, hockey y baseball. Esto seguramente es debido a que usan vocabulario específico. \n",
    " - Por el contrario, las clases donde menor precisión se obtiene seguramente sea debido a que los mensajes (que se usan tanto para consulta, como para base de documentos a recuperar) usan un vocabulario más genérico o que se repite entre los distintos temas (el caso de los temas de religión o ateísmo, o de los diversos temas de informática). \n",
    " \n",
    "Para entender qué está fallando en las clases donde la precisión es baja, sería necesario analizar en mayor detalle las consultas junto con la lista de documentos que recuperan en forma vectorizada. "
   ]
  }
 ],
 "metadata": {
  "colab": {
   "name": "Recuperacion_de_información.ipynb",
   "provenance": []
  },
  "kernelspec": {
   "display_name": "Python 3 (ipykernel)",
   "language": "python",
   "name": "python3"
  },
  "language_info": {
   "codemirror_mode": {
    "name": "ipython",
    "version": 3
   },
   "file_extension": ".py",
   "mimetype": "text/x-python",
   "name": "python",
   "nbconvert_exporter": "python",
   "pygments_lexer": "ipython3",
   "version": "3.8.10"
  }
 },
 "nbformat": 4,
 "nbformat_minor": 1
}
