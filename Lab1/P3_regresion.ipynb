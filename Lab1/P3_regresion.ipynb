{
 "cells": [
  {
   "cell_type": "markdown",
   "id": "patent-amazon",
   "metadata": {
    "id": "patent-amazon"
   },
   "source": [
    "# Práctica 1: Aprendizaje automático\n",
    "\n",
    "__Fecha de entrega: XXX de YYY de 2022__\n",
    "\n",
    "El objetivo de esta práctica es aplicar los distintos algoritmos de aprendizaje automático disponibles en la scikit-learn [sklearn](https://scikit-learn.org/stable/) sobre varios conjuntos de datos y aprender a interpretar los resultados obtenidos. La práctica consta de 3 notebooks que se entregarán simultáneamente en la tarea de entrega habilitada en el Campus  Virtual.\n",
    "\n",
    "Lo más importante en esta práctica no es el código Python, sino el análisis de los datos y modelos que construyas y las explicaciones razonadas de cada una de las decisiones que tomes. __No se valorarán trozos de código o gráficas sin ningún tipo de contexto o explicación__.\n",
    "\n",
    "Finalmente, recuerda establecer el parámetro `random_state` en todas las funciones que tomen decisiones aleatorias para que los resultados sean reproducibles (los resultados no varíen entre ejecuciones)."
   ]
  },
  {
   "cell_type": "markdown",
   "id": "toxic-floor",
   "metadata": {
    "id": "toxic-floor"
   },
   "source": [
    "## Apartado 3: Regresión"
   ]
  },
  {
   "cell_type": "markdown",
   "id": "formed-bruce",
   "metadata": {
    "id": "formed-bruce"
   },
   "source": [
    "__Número de grupo: XX__\n",
    "\n",
    "__Nombres de los estudiantes: XXX y XXX__"
   ]
  },
  {
   "cell_type": "markdown",
   "id": "fancy-sympathy",
   "metadata": {
    "id": "fancy-sympathy"
   },
   "source": [
    "En este notebook trabajaremos con un conjunto de datos tomado del repositorio de la Universidad de California Irvine. En concreto, se trata de un conjunto de datos sobre distintos vinos del norte de Portugal (vinho verde)  que puedes encontrar [aquí](https://archive.ics.uci.edu/ml/datasets/wine+quality). \n",
    "\n",
    "El objetivo es modelar la calidad del vino (con un valor de 0 a 10) en base a variables que reflejan sus propiedades físicas y químicas. En concreto, las propiedades son las siguientes:\n",
    "- fixed acidity\n",
    "- volatile acidity\n",
    "- citric acid\n",
    "- residual sugar\n",
    "- chlorides\n",
    "- free sulfur dioxide\n",
    "- total sulfur dioxide\n",
    "- density\n",
    "- pH\n",
    "- sulphates\n",
    "- alcohol \n",
    "\n",
    "De cara a la memoria que vas a realizar puedes investigar sobre estas propiedades para explicar mejor qué miden y cómo afectan al vino. \n",
    "\n",
    "La calidad del vino es una variable que toma valores entre 0 y 10. \n",
    "\n",
    "Para modelar la relación entre la calidad del vino y sus propiedades usaremos una red neuronal. "
   ]
  },
  {
   "cell_type": "markdown",
   "id": "heated-biotechnology",
   "metadata": {
    "id": "heated-biotechnology"
   },
   "source": [
    "### 1) Descripción de los datos\n",
    "\n",
    "Carga el fichero de datos `calidad_vinos.csv` en un dataframe. \n",
    "\n",
    "Describe el conjunto de datos e identifica aquella variable que tiene unos valores extremos más acusados con respecto a la media, y aquella que está más concentrada en torno a la media. Reflexiona sobre la posible influencia de estas variables a la hora de entrenar el perceptrón multicapa.\n",
    "\n",
    "Estudia la distribución de la calidad del vino en el conjunto de datos."
   ]
  },
  {
   "cell_type": "markdown",
   "id": "upper-subject",
   "metadata": {
    "id": "upper-subject"
   },
   "source": [
    "### 2) Selección de variables\n",
    "\n",
    "Calcula los coeficientes de correlación de Pearson entre la variable de salida y el resto de variables. Crea un nuevo dataframe que contenga el precio y, selecciona las variables que estén más correlacionadas con él (estableciendo para ello un valor umbral que consideres adecuado)."
   ]
  },
  {
   "cell_type": "markdown",
   "id": "brilliant-world",
   "metadata": {
    "id": "brilliant-world"
   },
   "source": [
    "### 3) Normalización\n",
    "\n",
    "Decide si debes o no normalizar los datos de entrada y/o de salida. En caso afirmativo elige razonadamente entre escalarlos o estandarizarlos.\n"
   ]
  },
  {
   "cell_type": "markdown",
   "id": "political-french",
   "metadata": {
    "id": "political-french"
   },
   "source": [
    "### 4) Entrenamiento y selección\n",
    "\n",
    "Crea dos redes neuronales de tipo Perceptrón Multicapa:\n",
    "- La primera con una capa oculta de 250 neuronas\n",
    "- La segunda con varias capas ocultas entre las que debes distribuir 250 neuronas, como te parezca\n",
    "\n",
    "Asegúrate de que no salen warnings durante el entrenamiento indicando que no se ha alcanzado la convergencia durante el entrenamiento (para arreglarlo basta con poner un número de max_iter suficientemente grande).\n",
    "\n",
    "En la configuración del perceptrón debes usar validación cruzada y explorar varios valores para el parámetro `alpha` que controla el coeficiente de regularización L2.\n",
    "\n",
    "Para elegir el valor adecuado de dicho coeficiente pinta la curva de aprendizaje para cada perceptrón. En la curva debes pintar una línea que represente el error medio de las distintas particiones de validación y un área sombreada que represente la desviación típica. \n",
    "\n",
    "Una vez tengas la curva de aprendizaje: \n",
    "  - Identifica las diferencias de comportamiento entre ambos perceptrones, razona o especula sobre por qué se dan. ¿Hay alguno que domine al otro? ¿Es el comportamiento de uno más volátil que el del otro?\n",
    "  - Determina de manera razonada con qué perceptrón te quedas y el valor óptimo del parámetro de regularización.\n"
   ]
  },
  {
   "cell_type": "markdown",
   "id": "laden-asbestos",
   "metadata": {
    "id": "laden-asbestos"
   },
   "source": [
    "### 5) Medición y análisis del error\n",
    "\n",
    "Elige la mejor configuración del apartado anterior y usa la función `cross_val_predict` para realizar una predicción de la calidad de todos los vinos usando validación cruzada. \n",
    "\n",
    "A continuación:\n",
    "- Muestra varias medidas de error y razona sobre si el error te parece pequeño o no para el problema que estás analizando\n",
    "- Muestra el histograma de la distribución del error o del error en valor absoluto, y razona de nuevo si te parece que el modelo ha predicho bien o no. Identifica los vinos para los cuales el modelo ha fallado más.\n",
    "- Analiza el error cometido para los vinos según su puntuación de calidad observada (3, 4, etc). Describe lo que sucede, explica por qué crees que sucedió y razona de nuevo si te parece que el modelo funciona bien o tiene limitaciones. "
   ]
  }
 ],
 "metadata": {
  "colab": {
   "name": "P3_regresion_enunciado.ipynb",
   "provenance": []
  },
  "kernelspec": {
   "display_name": "Python 3 (ipykernel)",
   "language": "python",
   "name": "python3"
  },
  "language_info": {
   "codemirror_mode": {
    "name": "ipython",
    "version": 3
   },
   "file_extension": ".py",
   "mimetype": "text/x-python",
   "name": "python",
   "nbconvert_exporter": "python",
   "pygments_lexer": "ipython3",
   "version": "3.8.10"
  }
 },
 "nbformat": 4,
 "nbformat_minor": 5
}
