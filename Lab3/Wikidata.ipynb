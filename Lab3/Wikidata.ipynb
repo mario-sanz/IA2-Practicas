{
 "cells": [
  {
   "cell_type": "markdown",
   "metadata": {
    "id": "LZuWXa2al4G7"
   },
   "source": [
    "# Wikidata"
   ]
  },
  {
   "cell_type": "markdown",
   "metadata": {
    "id": "ilbhdxDYl4G_"
   },
   "source": [
    "[Wikidata](https://www.wikidata.org/wiki/Wikidata:Main_Page) es una gran base de conocimiento gratuíta en forma de red semántica, que crece mediante el esfuerzo colaborativo de distintas comunidades. Proporciona conocimiento estructurado extraído de distintas wikis entre las que destacan [Wikipedia](https://es.wikipedia.org/wiki/Wikipedia:Portada) y [Wikimedia Commons](https://commons.wikimedia.org/wiki/Main_Page)."
   ]
  },
  {
   "cell_type": "markdown",
   "metadata": {
    "id": "2h3LbKYjl4HE"
   },
   "source": [
    "## Estructura de las entidades\n",
    "\n",
    "Cuando consultamos una página de la Wikipedia, como la del [Museo del Prado](https://es.wikipedia.org/wiki/Museo_del_Prado), encontramos mucha información en texto natural que es difícil de interpretar y utilizar por un programa. A la derecha de la página aparece un cuadro con algunos datos relevantes del museo en forma de pares atributo-valor, pero la mayor parte de la información está escrita en lenguaje natural.\n",
    "\n",
    "![Página del Museo del Prado](museo_prado_wikipedia.png)"
   ]
  },
  {
   "cell_type": "markdown",
   "metadata": {
    "id": "d-aNr1tTl4HI"
   },
   "source": [
    "A la izquierda de la página hay un menú con distintas opciones. En la parte de __Herramientas__ encontramos un enlace la [Elemento de Wikidata](https://www.wikidata.org/wiki/Q160112) correspondiente a esta página de la Wikipedia.\n",
    "\n",
    "![Página del Museo del Prado en Wikidata](museo_prado_wikidata.png)"
   ]
  },
  {
   "cell_type": "markdown",
   "metadata": {
    "id": "Uc4Kf9Lol4HJ"
   },
   "source": [
    "La página de wikidata muestra una vista HTML de la información que contiene la base de conocimiento sobre el Museo del Prado. El Museo del Prado es el _item_ Q160112 de la base de conocimiento. Cada item está descrito por una etiqueta, una descripción y un conjunto de alias, todo ello en varios idiomas.\n",
    "\n",
    "A continuación aparecen un conjunto de _statements_ o __sentencias__ que describen características de la entidad. Cada sentencia consiste en una propiedad y un valor. Por ejemplo, la propiedad _instance of_ tiene el identificador P31 y nos indica que esta entidad es instancia de las clases _art museum_, _national museum_ y _organization_ que, a su vez, son otros items de la base de conocimiento. Los valores asociados a las propiedades pueden ser cadenas de texto, imágenes, coordenadas geográficas, enlaces a otras bases de datos, etc.\n",
    "\n",
    "Los valores pueden, a su vez, contener __cualificadores__ y __referencias__. Los cualificadores muestra meta-información sobre el valor mientras que las referencias contienen información sobre la fuente del dato. Por ejemplo, en la siguiente imagen podemos ver el esquema del item correspondiente al escritor inglés [Douglas Adams](https://www.wikidata.org/wiki/Q42).\n",
    "\n",
    "<!--![Esquema de un item en wikidata](wikidata_item.png)-->\n",
    "<img src=\"wikidata_item.png\" alt=\"Esquema de un item en wikidata\" style=\"width: 75%;\"/>"
   ]
  },
  {
   "cell_type": "markdown",
   "metadata": {
    "id": "ESf_8KLXl4HM"
   },
   "source": [
    "## Punto de acceso SPARQL\n",
    "\n",
    "Además de navegar por la web, Wikidata nos ofrece otros interfaces con los que buscar información. Uno de ellos es un punto de acceso [SPARQL](https://query.wikidata.org/) donde podemos ejecutar consultas y recuperar información en forma de tripletas.\n",
    "\n",
    "![Punto de acceso SPARQL](sparql_endpoint.png)"
   ]
  },
  {
   "cell_type": "markdown",
   "metadata": {
    "id": "WTiIQQQpl4HO"
   },
   "source": [
    "\n",
    "En el cuadro de texto podemos escribir directamente la consulta en SPARQL.\n",
    "Si en la barra vertical izquierda pulsamos el logo con la \"i\" de información, se nos despliega un asistente de consultas. En dicha barra también hay otras ayudas para crear consultas resolviendo nombres de items y propiedades y formateando adecuadamente de la consulta. \n",
    "\n",
    "En la parte inferior de la pantalla aparecen los resultados de la consulta cuando la ejecutamos con el botón Play. \n",
    "\n",
    "En el menú de __Ayuda__ podemos encontrar enlaces a recursos interesantes. A continuación mostramos algunos de ellos:\n",
    "\n",
    "- [Tutorial de SPARQL](https://www.wikidata.org/wiki/Wikidata:SPARQL_tutorial) donde se explican muchas más opciones de las que nosotros hemos visto en clase.\n",
    "- [Ejemplos de consultas](https://www.wikidata.org/wiki/Wikidata:SPARQL_query_service/queries/examples) donde se muestran y explican decenas de consultas distintas.\n",
    "- [Modelo de datos RDF](https://www.mediawiki.org/wiki/Wikibase/Indexing/RDF_Dump_Format) que se utiliza al exportar versiones de wikidata que se pueden descargar y utilizar offline.\n",
    "- [Manual de usuario de Wikidata Query Service](https://www.mediawiki.org/wiki/Wikidata_Query_Service/User_Manual) que es el software que proporcional el punto de acceso SPARQL a Wikidata. \n",
    "\n",
    "El punto de acceso SPARQL de Wikidata ofrece ciertos extras sobre el estándar. Por ejemplo, la línea SERVICE de la consulta nos permite obtener automáticamente la etiqueta de cualquier item con sólo crear una nueva variable que termine en Label (por ejemplo ?itemLabel en la consulta).\n",
    "\n",
    "Prueba a ejecutar una consulta como [esta](https://query.wikidata.org/#%23Gatos%0ASELECT%20%3Fitem%20%3FitemLabel%20%0AWHERE%20%0A%7B%0A%20%20%3Fitem%20wdt%3AP31%20wd%3AQ146.%0A%20%20SERVICE%20wikibase%3Alabel%20%7B%20bd%3AserviceParam%20wikibase%3Alanguage%20%22%5BAUTO_LANGUAGE%5D%2Cen%22.%20%7D%0A%7D) que recupera todos los gatos domésticos que aparecen en la base de conocimiento. \n",
    "\n",
    "Puedes descargar los resultados en formato _Tabla HTML_ y de esa manera podrías integrarlos en un notebook. Sin embargo, también se puede hacer directamente como mostramos a continuación."
   ]
  },
  {
   "cell_type": "markdown",
   "metadata": {
    "id": "nqN_B2XhLosK"
   },
   "source": [
    "## Consultando Wikidata con SPARQL desde el notebook\n",
    "\n",
    "Para poder hacerlo una alternativa cómoda consiste en instalar el paquete [wdsparql](https://pypi.org/project/wdsparql/), desarrollado por David Davó ex-alumno de la asignatura. \n",
    "\n",
    "En `wdsparql` se definen unas funciones para `IPython`, la librería de Python interactivo que usan los notebooks, que haciendo uso a su vez de las [funciones mágicas de IPython](https://ipython-books.github.io/14-creating-an-ipython-extension-with-custom-magic-commands/) nos permite ejecute nuestras consultas SPARQL contra el servicio de consultas de Wikidata y que los resultados de las mismas se integren en el notebook en formato tabla (usando Pandas)."
   ]
  },
  {
   "cell_type": "code",
   "execution_count": 8,
   "metadata": {
    "id": "VyJSkkeU12Gc"
   },
   "outputs": [
    {
     "name": "stdout",
     "output_type": "stream",
     "text": [
      "Collecting wdsparql\n",
      "  Using cached wdsparql-0.0.3-py3-none-any.whl (5.0 kB)\n",
      "Requirement already satisfied: requests>=2.20 in /usr/local/Caskroom/miniconda/base/lib/python3.8/site-packages (from wdsparql) (2.27.1)\n",
      "Requirement already satisfied: ipython>=7.0.0 in /usr/local/Caskroom/miniconda/base/lib/python3.8/site-packages (from wdsparql) (7.21.0)\n",
      "Requirement already satisfied: pandas>=1.1 in /usr/local/Caskroom/miniconda/base/lib/python3.8/site-packages (from wdsparql) (1.2.3)\n",
      "Requirement already satisfied: setuptools>=18.5 in /usr/local/Caskroom/miniconda/base/lib/python3.8/site-packages (from ipython>=7.0.0->wdsparql) (58.0.4)\n",
      "Requirement already satisfied: pexpect>4.3 in /usr/local/Caskroom/miniconda/base/lib/python3.8/site-packages (from ipython>=7.0.0->wdsparql) (4.8.0)\n",
      "Requirement already satisfied: backcall in /usr/local/Caskroom/miniconda/base/lib/python3.8/site-packages (from ipython>=7.0.0->wdsparql) (0.2.0)\n",
      "Requirement already satisfied: pickleshare in /usr/local/Caskroom/miniconda/base/lib/python3.8/site-packages (from ipython>=7.0.0->wdsparql) (0.7.5)\n",
      "Requirement already satisfied: traitlets>=4.2 in /usr/local/Caskroom/miniconda/base/lib/python3.8/site-packages (from ipython>=7.0.0->wdsparql) (5.0.5)\n",
      "Requirement already satisfied: appnope in /usr/local/Caskroom/miniconda/base/lib/python3.8/site-packages (from ipython>=7.0.0->wdsparql) (0.1.2)\n",
      "Requirement already satisfied: pygments in /usr/local/Caskroom/miniconda/base/lib/python3.8/site-packages (from ipython>=7.0.0->wdsparql) (2.8.1)\n",
      "Requirement already satisfied: decorator in /usr/local/Caskroom/miniconda/base/lib/python3.8/site-packages (from ipython>=7.0.0->wdsparql) (4.4.2)\n",
      "Requirement already satisfied: prompt-toolkit!=3.0.0,!=3.0.1,<3.1.0,>=2.0.0 in /usr/local/Caskroom/miniconda/base/lib/python3.8/site-packages (from ipython>=7.0.0->wdsparql) (3.0.17)\n",
      "Requirement already satisfied: jedi>=0.16 in /usr/local/Caskroom/miniconda/base/lib/python3.8/site-packages (from ipython>=7.0.0->wdsparql) (0.18.0)\n",
      "Requirement already satisfied: parso<0.9.0,>=0.8.0 in /usr/local/Caskroom/miniconda/base/lib/python3.8/site-packages (from jedi>=0.16->ipython>=7.0.0->wdsparql) (0.8.1)\n",
      "Requirement already satisfied: pytz>=2017.3 in /usr/local/Caskroom/miniconda/base/lib/python3.8/site-packages (from pandas>=1.1->wdsparql) (2021.1)\n",
      "Requirement already satisfied: python-dateutil>=2.7.3 in /usr/local/Caskroom/miniconda/base/lib/python3.8/site-packages (from pandas>=1.1->wdsparql) (2.8.1)\n",
      "Requirement already satisfied: numpy>=1.16.5 in /usr/local/Caskroom/miniconda/base/lib/python3.8/site-packages (from pandas>=1.1->wdsparql) (1.20.3)\n",
      "Requirement already satisfied: ptyprocess>=0.5 in /usr/local/Caskroom/miniconda/base/lib/python3.8/site-packages (from pexpect>4.3->ipython>=7.0.0->wdsparql) (0.7.0)\n",
      "Requirement already satisfied: wcwidth in /usr/local/Caskroom/miniconda/base/lib/python3.8/site-packages (from prompt-toolkit!=3.0.0,!=3.0.1,<3.1.0,>=2.0.0->ipython>=7.0.0->wdsparql) (0.2.5)\n",
      "Requirement already satisfied: six>=1.5 in /usr/local/Caskroom/miniconda/base/lib/python3.8/site-packages (from python-dateutil>=2.7.3->pandas>=1.1->wdsparql) (1.16.0)\n",
      "Requirement already satisfied: urllib3<1.27,>=1.21.1 in /usr/local/Caskroom/miniconda/base/lib/python3.8/site-packages (from requests>=2.20->wdsparql) (1.26.8)\n",
      "Requirement already satisfied: charset-normalizer~=2.0.0 in /usr/local/Caskroom/miniconda/base/lib/python3.8/site-packages (from requests>=2.20->wdsparql) (2.0.4)\n",
      "Requirement already satisfied: idna<4,>=2.5 in /usr/local/Caskroom/miniconda/base/lib/python3.8/site-packages (from requests>=2.20->wdsparql) (3.3)\n",
      "Requirement already satisfied: certifi>=2017.4.17 in /usr/local/Caskroom/miniconda/base/lib/python3.8/site-packages (from requests>=2.20->wdsparql) (2021.10.8)\n",
      "Requirement already satisfied: ipython-genutils in /usr/local/Caskroom/miniconda/base/lib/python3.8/site-packages (from traitlets>=4.2->ipython>=7.0.0->wdsparql) (0.2.0)\n",
      "Installing collected packages: wdsparql\n",
      "Successfully installed wdsparql-0.0.3\n"
     ]
    }
   ],
   "source": [
    "## Lo primero sería instalar en tu entorno de Python wdsparql\n",
    "## Si no lo tienes instalado, puedes hacerlo desde el notebook\n",
    "import sys\n",
    "\n",
    "!{sys.executable} -m pip install wdsparql"
   ]
  },
  {
   "cell_type": "markdown",
   "metadata": {
    "id": "Dzupv1Dt2uU1"
   },
   "source": [
    "Los siguientes comandos de IPython permiten cargar `wdsparql`, que es una [extensión de IPython](https://ipython.readthedocs.io/en/stable/config/extensions/index.html)."
   ]
  },
  {
   "cell_type": "code",
   "execution_count": 2,
   "metadata": {
    "executionInfo": {
     "elapsed": 636,
     "status": "ok",
     "timestamp": 1650539942864,
     "user": {
      "displayName": "JAVIER ARROYO GALLARDO",
      "userId": "02428824756029313673"
     },
     "user_tz": -120
    },
    "id": "GzTbkLK42Lp3"
   },
   "outputs": [],
   "source": [
    "%load_ext autoreload\n",
    "%load_ext wdsparql\n",
    "%autoreload 2\n"
   ]
  },
  {
   "cell_type": "markdown",
   "metadata": {
    "id": "NESdFFNC4K2c"
   },
   "source": [
    "Una vez cargado, se invoca con `%%` siguiendo la sintáxis de los llamados comandos mágicos de IPython y escribiendo a continuación la consulta.\n",
    "\n",
    "Probaremos con una [consulta de ejemplo](https://www.wikidata.org/wiki/Wikidata:SPARQL_query_service/queries/examples) de las que aparecen en Wikidata. "
   ]
  },
  {
   "cell_type": "code",
   "execution_count": 3,
   "metadata": {
    "colab": {
     "base_uri": "https://localhost:8080/",
     "height": 1000
    },
    "executionInfo": {
     "elapsed": 646,
     "status": "ok",
     "timestamp": 1650540672367,
     "user": {
      "displayName": "JAVIER ARROYO GALLARDO",
      "userId": "02428824756029313673"
     },
     "user_tz": -120
    },
    "id": "j9diQtGv2OYL",
    "outputId": "494515a4-40dc-41fb-d3f1-d41817668b5a"
   },
   "outputs": [
    {
     "data": {
      "text/html": [
       "<div>\n",
       "<style scoped>\n",
       "    .dataframe tbody tr th:only-of-type {\n",
       "        vertical-align: middle;\n",
       "    }\n",
       "\n",
       "    .dataframe tbody tr th {\n",
       "        vertical-align: top;\n",
       "    }\n",
       "\n",
       "    .dataframe thead th {\n",
       "        text-align: right;\n",
       "    }\n",
       "</style>\n",
       "<table border=\"1\" class=\"dataframe\">\n",
       "  <thead>\n",
       "    <tr style=\"text-align: right;\">\n",
       "      <th></th>\n",
       "      <th>item</th>\n",
       "      <th>itemLabel</th>\n",
       "      <th>pic</th>\n",
       "    </tr>\n",
       "  </thead>\n",
       "  <tbody>\n",
       "    <tr>\n",
       "      <th>0</th>\n",
       "      <td><a href=\"http://www.wikidata.org/entity/Q49581026\" target=\"_blank\">http://www.wikidata.org/entity/Q49581026</a></td>\n",
       "      <td>Toffee</td>\n",
       "      <td><a href=\"http://commons.wikimedia.org/wiki/Special:File...\" target=\"_blank\">http://commons.wikimedia.org/wiki/Special:File...</a></td>\n",
       "    </tr>\n",
       "    <tr>\n",
       "      <th>1</th>\n",
       "      <td><a href=\"http://www.wikidata.org/entity/Q51596094\" target=\"_blank\">http://www.wikidata.org/entity/Q51596094</a></td>\n",
       "      <td>Crimean Tom</td>\n",
       "      <td><a href=\"http://commons.wikimedia.org/wiki/Special:File...\" target=\"_blank\">http://commons.wikimedia.org/wiki/Special:File...</a></td>\n",
       "    </tr>\n",
       "    <tr>\n",
       "      <th>2</th>\n",
       "      <td><a href=\"http://www.wikidata.org/entity/Q53216650\" target=\"_blank\">http://www.wikidata.org/entity/Q53216650</a></td>\n",
       "      <td>Nitama</td>\n",
       "      <td><a href=\"http://commons.wikimedia.org/wiki/Special:File...\" target=\"_blank\">http://commons.wikimedia.org/wiki/Special:File...</a></td>\n",
       "    </tr>\n",
       "    <tr>\n",
       "      <th>3</th>\n",
       "      <td><a href=\"http://www.wikidata.org/entity/Q54087698\" target=\"_blank\">http://www.wikidata.org/entity/Q54087698</a></td>\n",
       "      <td>Foss</td>\n",
       "      <td><a href=\"http://commons.wikimedia.org/wiki/Special:File...\" target=\"_blank\">http://commons.wikimedia.org/wiki/Special:File...</a></td>\n",
       "    </tr>\n",
       "    <tr>\n",
       "      <th>4</th>\n",
       "      <td><a href=\"http://www.wikidata.org/entity/Q61133276\" target=\"_blank\">http://www.wikidata.org/entity/Q61133276</a></td>\n",
       "      <td>Şero</td>\n",
       "      <td><a href=\"http://commons.wikimedia.org/wiki/Special:File...\" target=\"_blank\">http://commons.wikimedia.org/wiki/Special:File...</a></td>\n",
       "    </tr>\n",
       "    <tr>\n",
       "      <th>5</th>\n",
       "      <td><a href=\"http://www.wikidata.org/entity/Q62128317\" target=\"_blank\">http://www.wikidata.org/entity/Q62128317</a></td>\n",
       "      <td>Naro</td>\n",
       "      <td><a href=\"http://commons.wikimedia.org/wiki/Special:File...\" target=\"_blank\">http://commons.wikimedia.org/wiki/Special:File...</a></td>\n",
       "    </tr>\n",
       "    <tr>\n",
       "      <th>6</th>\n",
       "      <td><a href=\"http://www.wikidata.org/entity/Q66737405\" target=\"_blank\">http://www.wikidata.org/entity/Q66737405</a></td>\n",
       "      <td>Mittens</td>\n",
       "      <td><a href=\"http://commons.wikimedia.org/wiki/Special:File...\" target=\"_blank\">http://commons.wikimedia.org/wiki/Special:File...</a></td>\n",
       "    </tr>\n",
       "    <tr>\n",
       "      <th>7</th>\n",
       "      <td><a href=\"http://www.wikidata.org/entity/Q76974430\" target=\"_blank\">http://www.wikidata.org/entity/Q76974430</a></td>\n",
       "      <td>Apelmon</td>\n",
       "      <td><a href=\"http://commons.wikimedia.org/wiki/Special:File...\" target=\"_blank\">http://commons.wikimedia.org/wiki/Special:File...</a></td>\n",
       "    </tr>\n",
       "    <tr>\n",
       "      <th>8</th>\n",
       "      <td><a href=\"http://www.wikidata.org/entity/Q94990539\" target=\"_blank\">http://www.wikidata.org/entity/Q94990539</a></td>\n",
       "      <td>Pip</td>\n",
       "      <td><a href=\"http://commons.wikimedia.org/wiki/Special:File...\" target=\"_blank\">http://commons.wikimedia.org/wiki/Special:File...</a></td>\n",
       "    </tr>\n",
       "    <tr>\n",
       "      <th>9</th>\n",
       "      <td><a href=\"http://www.wikidata.org/entity/Q105330885\" target=\"_blank\">http://www.wikidata.org/entity/Q105330885</a></td>\n",
       "      <td>Tuna</td>\n",
       "      <td><a href=\"http://commons.wikimedia.org/wiki/Special:File...\" target=\"_blank\">http://commons.wikimedia.org/wiki/Special:File...</a></td>\n",
       "    </tr>\n",
       "    <tr>\n",
       "      <th>10</th>\n",
       "      <td><a href=\"http://www.wikidata.org/entity/Q110727478\" target=\"_blank\">http://www.wikidata.org/entity/Q110727478</a></td>\n",
       "      <td>Willow</td>\n",
       "      <td><a href=\"http://commons.wikimedia.org/wiki/Special:File...\" target=\"_blank\">http://commons.wikimedia.org/wiki/Special:File...</a></td>\n",
       "    </tr>\n",
       "    <tr>\n",
       "      <th>11</th>\n",
       "      <td><a href=\"http://www.wikidata.org/entity/Q110752157\" target=\"_blank\">http://www.wikidata.org/entity/Q110752157</a></td>\n",
       "      <td>Mac the cat sat in a box</td>\n",
       "      <td><a href=\"http://commons.wikimedia.org/wiki/Special:File...\" target=\"_blank\">http://commons.wikimedia.org/wiki/Special:File...</a></td>\n",
       "    </tr>\n",
       "    <tr>\n",
       "      <th>12</th>\n",
       "      <td><a href=\"http://www.wikidata.org/entity/Q378619\" target=\"_blank\">http://www.wikidata.org/entity/Q378619</a></td>\n",
       "      <td>CC</td>\n",
       "      <td><a href=\"http://commons.wikimedia.org/wiki/Special:File...\" target=\"_blank\">http://commons.wikimedia.org/wiki/Special:File...</a></td>\n",
       "    </tr>\n",
       "    <tr>\n",
       "      <th>13</th>\n",
       "      <td><a href=\"http://www.wikidata.org/entity/Q677525\" target=\"_blank\">http://www.wikidata.org/entity/Q677525</a></td>\n",
       "      <td>Orangey</td>\n",
       "      <td><a href=\"http://commons.wikimedia.org/wiki/Special:File...\" target=\"_blank\">http://commons.wikimedia.org/wiki/Special:File...</a></td>\n",
       "    </tr>\n",
       "    <tr>\n",
       "      <th>14</th>\n",
       "      <td><a href=\"http://www.wikidata.org/entity/Q851190\" target=\"_blank\">http://www.wikidata.org/entity/Q851190</a></td>\n",
       "      <td>Mrs. Chippy</td>\n",
       "      <td><a href=\"http://commons.wikimedia.org/wiki/Special:File...\" target=\"_blank\">http://commons.wikimedia.org/wiki/Special:File...</a></td>\n",
       "    </tr>\n",
       "    <tr>\n",
       "      <th>15</th>\n",
       "      <td><a href=\"http://www.wikidata.org/entity/Q893453\" target=\"_blank\">http://www.wikidata.org/entity/Q893453</a></td>\n",
       "      <td>Unsinkable Sam</td>\n",
       "      <td><a href=\"http://commons.wikimedia.org/wiki/Special:File...\" target=\"_blank\">http://commons.wikimedia.org/wiki/Special:File...</a></td>\n",
       "    </tr>\n",
       "    <tr>\n",
       "      <th>16</th>\n",
       "      <td><a href=\"http://www.wikidata.org/entity/Q1201902\" target=\"_blank\">http://www.wikidata.org/entity/Q1201902</a></td>\n",
       "      <td>Tama</td>\n",
       "      <td><a href=\"http://commons.wikimedia.org/wiki/Special:File...\" target=\"_blank\">http://commons.wikimedia.org/wiki/Special:File...</a></td>\n",
       "    </tr>\n",
       "    <tr>\n",
       "      <th>17</th>\n",
       "      <td><a href=\"http://www.wikidata.org/entity/Q1371145\" target=\"_blank\">http://www.wikidata.org/entity/Q1371145</a></td>\n",
       "      <td>Socks</td>\n",
       "      <td><a href=\"http://commons.wikimedia.org/wiki/Special:File...\" target=\"_blank\">http://commons.wikimedia.org/wiki/Special:File...</a></td>\n",
       "    </tr>\n",
       "    <tr>\n",
       "      <th>18</th>\n",
       "      <td><a href=\"http://www.wikidata.org/entity/Q1413628\" target=\"_blank\">http://www.wikidata.org/entity/Q1413628</a></td>\n",
       "      <td>Nora</td>\n",
       "      <td><a href=\"http://commons.wikimedia.org/wiki/Special:File...\" target=\"_blank\">http://commons.wikimedia.org/wiki/Special:File...</a></td>\n",
       "    </tr>\n",
       "    <tr>\n",
       "      <th>19</th>\n",
       "      <td><a href=\"http://www.wikidata.org/entity/Q1622688\" target=\"_blank\">http://www.wikidata.org/entity/Q1622688</a></td>\n",
       "      <td>Hodge</td>\n",
       "      <td><a href=\"http://commons.wikimedia.org/wiki/Special:File...\" target=\"_blank\">http://commons.wikimedia.org/wiki/Special:File...</a></td>\n",
       "    </tr>\n",
       "    <tr>\n",
       "      <th>20</th>\n",
       "      <td><a href=\"http://www.wikidata.org/entity/Q2060630\" target=\"_blank\">http://www.wikidata.org/entity/Q2060630</a></td>\n",
       "      <td>India</td>\n",
       "      <td><a href=\"http://commons.wikimedia.org/wiki/Special:File...\" target=\"_blank\">http://commons.wikimedia.org/wiki/Special:File...</a></td>\n",
       "    </tr>\n",
       "    <tr>\n",
       "      <th>21</th>\n",
       "      <td><a href=\"http://www.wikidata.org/entity/Q2060630\" target=\"_blank\">http://www.wikidata.org/entity/Q2060630</a></td>\n",
       "      <td>India</td>\n",
       "      <td><a href=\"http://commons.wikimedia.org/wiki/Special:File...\" target=\"_blank\">http://commons.wikimedia.org/wiki/Special:File...</a></td>\n",
       "    </tr>\n",
       "    <tr>\n",
       "      <th>22</th>\n",
       "      <td><a href=\"http://www.wikidata.org/entity/Q2060630\" target=\"_blank\">http://www.wikidata.org/entity/Q2060630</a></td>\n",
       "      <td>India</td>\n",
       "      <td><a href=\"http://commons.wikimedia.org/wiki/Special:File...\" target=\"_blank\">http://commons.wikimedia.org/wiki/Special:File...</a></td>\n",
       "    </tr>\n",
       "    <tr>\n",
       "      <th>23</th>\n",
       "      <td><a href=\"http://www.wikidata.org/entity/Q4421603\" target=\"_blank\">http://www.wikidata.org/entity/Q4421603</a></td>\n",
       "      <td>Scarlett</td>\n",
       "      <td><a href=\"http://commons.wikimedia.org/wiki/Special:File...\" target=\"_blank\">http://commons.wikimedia.org/wiki/Special:File...</a></td>\n",
       "    </tr>\n",
       "    <tr>\n",
       "      <th>24</th>\n",
       "      <td><a href=\"http://www.wikidata.org/entity/Q5503291\" target=\"_blank\">http://www.wikidata.org/entity/Q5503291</a></td>\n",
       "      <td>Freya</td>\n",
       "      <td><a href=\"http://commons.wikimedia.org/wiki/Special:File...\" target=\"_blank\">http://commons.wikimedia.org/wiki/Special:File...</a></td>\n",
       "    </tr>\n",
       "    <tr>\n",
       "      <th>25</th>\n",
       "      <td><a href=\"http://www.wikidata.org/entity/Q6928344\" target=\"_blank\">http://www.wikidata.org/entity/Q6928344</a></td>\n",
       "      <td>Mr. Nuts</td>\n",
       "      <td><a href=\"http://commons.wikimedia.org/wiki/Special:File...\" target=\"_blank\">http://commons.wikimedia.org/wiki/Special:File...</a></td>\n",
       "    </tr>\n",
       "    <tr>\n",
       "      <th>26</th>\n",
       "      <td><a href=\"http://www.wikidata.org/entity/Q7430467\" target=\"_blank\">http://www.wikidata.org/entity/Q7430467</a></td>\n",
       "      <td>Scarlett's Magic</td>\n",
       "      <td><a href=\"http://commons.wikimedia.org/wiki/Special:File...\" target=\"_blank\">http://commons.wikimedia.org/wiki/Special:File...</a></td>\n",
       "    </tr>\n",
       "    <tr>\n",
       "      <th>27</th>\n",
       "      <td><a href=\"http://www.wikidata.org/entity/Q7553023\" target=\"_blank\">http://www.wikidata.org/entity/Q7553023</a></td>\n",
       "      <td>Sockington</td>\n",
       "      <td><a href=\"http://commons.wikimedia.org/wiki/Special:File...\" target=\"_blank\">http://commons.wikimedia.org/wiki/Special:File...</a></td>\n",
       "    </tr>\n",
       "    <tr>\n",
       "      <th>28</th>\n",
       "      <td><a href=\"http://www.wikidata.org/entity/Q7627362\" target=\"_blank\">http://www.wikidata.org/entity/Q7627362</a></td>\n",
       "      <td>Stubbs</td>\n",
       "      <td><a href=\"http://commons.wikimedia.org/wiki/Special:File...\" target=\"_blank\">http://commons.wikimedia.org/wiki/Special:File...</a></td>\n",
       "    </tr>\n",
       "    <tr>\n",
       "      <th>29</th>\n",
       "      <td><a href=\"http://www.wikidata.org/entity/Q7714263\" target=\"_blank\">http://www.wikidata.org/entity/Q7714263</a></td>\n",
       "      <td>Grumpy Cat</td>\n",
       "      <td><a href=\"http://commons.wikimedia.org/wiki/Special:File...\" target=\"_blank\">http://commons.wikimedia.org/wiki/Special:File...</a></td>\n",
       "    </tr>\n",
       "    <tr>\n",
       "      <th>30</th>\n",
       "      <td><a href=\"http://www.wikidata.org/entity/Q10813994\" target=\"_blank\">http://www.wikidata.org/entity/Q10813994</a></td>\n",
       "      <td>Tsim Tung Brother Cream</td>\n",
       "      <td><a href=\"http://commons.wikimedia.org/wiki/Special:File...\" target=\"_blank\">http://commons.wikimedia.org/wiki/Special:File...</a></td>\n",
       "    </tr>\n",
       "    <tr>\n",
       "      <th>31</th>\n",
       "      <td><a href=\"http://www.wikidata.org/entity/Q11291938\" target=\"_blank\">http://www.wikidata.org/entity/Q11291938</a></td>\n",
       "      <td>Nora</td>\n",
       "      <td><a href=\"http://commons.wikimedia.org/wiki/Special:File...\" target=\"_blank\">http://commons.wikimedia.org/wiki/Special:File...</a></td>\n",
       "    </tr>\n",
       "    <tr>\n",
       "      <th>32</th>\n",
       "      <td><a href=\"http://www.wikidata.org/entity/Q14832020\" target=\"_blank\">http://www.wikidata.org/entity/Q14832020</a></td>\n",
       "      <td>Lil Bub</td>\n",
       "      <td><a href=\"http://commons.wikimedia.org/wiki/Special:File...\" target=\"_blank\">http://commons.wikimedia.org/wiki/Special:File...</a></td>\n",
       "    </tr>\n",
       "    <tr>\n",
       "      <th>33</th>\n",
       "      <td><a href=\"http://www.wikidata.org/entity/Q14916910\" target=\"_blank\">http://www.wikidata.org/entity/Q14916910</a></td>\n",
       "      <td>Buurtpoes Bledder</td>\n",
       "      <td><a href=\"http://commons.wikimedia.org/wiki/Special:File...\" target=\"_blank\">http://commons.wikimedia.org/wiki/Special:File...</a></td>\n",
       "    </tr>\n",
       "    <tr>\n",
       "      <th>34</th>\n",
       "      <td><a href=\"http://www.wikidata.org/entity/Q15991501\" target=\"_blank\">http://www.wikidata.org/entity/Q15991501</a></td>\n",
       "      <td>Hamish McHamish</td>\n",
       "      <td><a href=\"http://commons.wikimedia.org/wiki/Special:File...\" target=\"_blank\">http://commons.wikimedia.org/wiki/Special:File...</a></td>\n",
       "    </tr>\n",
       "    <tr>\n",
       "      <th>35</th>\n",
       "      <td><a href=\"http://www.wikidata.org/entity/Q22774485\" target=\"_blank\">http://www.wikidata.org/entity/Q22774485</a></td>\n",
       "      <td>Think Think</td>\n",
       "      <td><a href=\"http://commons.wikimedia.org/wiki/Special:File...\" target=\"_blank\">http://commons.wikimedia.org/wiki/Special:File...</a></td>\n",
       "    </tr>\n",
       "    <tr>\n",
       "      <th>36</th>\n",
       "      <td><a href=\"http://www.wikidata.org/entity/Q24705153\" target=\"_blank\">http://www.wikidata.org/entity/Q24705153</a></td>\n",
       "      <td>Ah Tsai</td>\n",
       "      <td><a href=\"http://commons.wikimedia.org/wiki/Special:File...\" target=\"_blank\">http://commons.wikimedia.org/wiki/Special:File...</a></td>\n",
       "    </tr>\n",
       "    <tr>\n",
       "      <th>37</th>\n",
       "      <td><a href=\"http://www.wikidata.org/entity/Q25171691\" target=\"_blank\">http://www.wikidata.org/entity/Q25171691</a></td>\n",
       "      <td>Palmerston</td>\n",
       "      <td><a href=\"http://commons.wikimedia.org/wiki/Special:File...\" target=\"_blank\">http://commons.wikimedia.org/wiki/Special:File...</a></td>\n",
       "    </tr>\n",
       "    <tr>\n",
       "      <th>38</th>\n",
       "      <td><a href=\"http://www.wikidata.org/entity/Q27190410\" target=\"_blank\">http://www.wikidata.org/entity/Q27190410</a></td>\n",
       "      <td>Gladstone</td>\n",
       "      <td><a href=\"http://commons.wikimedia.org/wiki/Special:File...\" target=\"_blank\">http://commons.wikimedia.org/wiki/Special:File...</a></td>\n",
       "    </tr>\n",
       "    <tr>\n",
       "      <th>39</th>\n",
       "      <td><a href=\"http://www.wikidata.org/entity/Q27744042\" target=\"_blank\">http://www.wikidata.org/entity/Q27744042</a></td>\n",
       "      <td>Bob</td>\n",
       "      <td><a href=\"http://commons.wikimedia.org/wiki/Special:File...\" target=\"_blank\">http://commons.wikimedia.org/wiki/Special:File...</a></td>\n",
       "    </tr>\n",
       "    <tr>\n",
       "      <th>40</th>\n",
       "      <td><a href=\"http://www.wikidata.org/entity/Q28665865\" target=\"_blank\">http://www.wikidata.org/entity/Q28665865</a></td>\n",
       "      <td>Myka</td>\n",
       "      <td><a href=\"http://commons.wikimedia.org/wiki/Special:File...\" target=\"_blank\">http://commons.wikimedia.org/wiki/Special:File...</a></td>\n",
       "    </tr>\n",
       "    <tr>\n",
       "      <th>41</th>\n",
       "      <td><a href=\"http://www.wikidata.org/entity/Q28792126\" target=\"_blank\">http://www.wikidata.org/entity/Q28792126</a></td>\n",
       "      <td>Gli</td>\n",
       "      <td><a href=\"http://commons.wikimedia.org/wiki/Special:File...\" target=\"_blank\">http://commons.wikimedia.org/wiki/Special:File...</a></td>\n",
       "    </tr>\n",
       "  </tbody>\n",
       "</table>\n",
       "</div>"
      ],
      "text/plain": [
       "<IPython.core.display.HTML object>"
      ]
     },
     "execution_count": 3,
     "metadata": {},
     "output_type": "execute_result"
    }
   ],
   "source": [
    "\n",
    "%%wdsparql\n",
    "\n",
    "SELECT ?item ?itemLabel ?pic\n",
    "WHERE\n",
    "{\n",
    "?item wdt:P31 wd:Q146 .\n",
    "?item wdt:P18 ?pic\n",
    "SERVICE wikibase:label { bd:serviceParam wikibase:language \"[AUTO_LANGUAGE],en\" }\n",
    "}"
   ]
  },
  {
   "cell_type": "markdown",
   "metadata": {
    "id": "L3I695-G_YLh"
   },
   "source": [
    "Observa que al escribir la consulta en el notebook no tenemos todas las ayudas que sí que nos brinda la interfaz de query.wikidata.org y que nos facilitan mucho la escritura de consultas. Por ejemplo, el coloreado sintáctico o las herramientas de búsqueda y auto-completado. \n",
    "\n",
    "Por eso recomendamos que escribas la consulta sobre la interfaz y la copies aquí en su versión definitiva."
   ]
  },
  {
   "cell_type": "markdown",
   "metadata": {},
   "source": [
    "Puedes desinstalar el paquete en cualquier momento ejecutando la siguiente celda:"
   ]
  },
  {
   "cell_type": "code",
   "execution_count": 7,
   "metadata": {},
   "outputs": [
    {
     "name": "stdout",
     "output_type": "stream",
     "text": [
      "Found existing installation: wdsparql 0.0.3\r\n",
      "Uninstalling wdsparql-0.0.3:\r\n",
      "  Successfully uninstalled wdsparql-0.0.3\r\n"
     ]
    }
   ],
   "source": [
    "## Desinstalar wdsparql\n",
    "import sys\n",
    "\n",
    "!{sys.executable} -m pip uninstall -y wdsparql"
   ]
  },
  {
   "cell_type": "markdown",
   "metadata": {
    "id": "Ra2vpGlfPt-y"
   },
   "source": [
    "##  El paquete `qwikidata`\n",
    "\n",
    "Aunque no lo vayamos a usar es interesante saber que existe también el paquete `qwikidata` el cual permite interactuar con Wikidata desde Python, entre otras cosas, definiendo clases que permiten representar las entidades de Wikidata así como interfaces para acceder al servicio de consultas de SPARQL."
   ]
  }
 ],
 "metadata": {
  "colab": {
   "name": "Wikidata.ipynb",
   "provenance": []
  },
  "kernelspec": {
   "display_name": "Python 3 (ipykernel)",
   "language": "python",
   "name": "python3"
  },
  "language_info": {
   "codemirror_mode": {
    "name": "ipython",
    "version": 3
   },
   "file_extension": ".py",
   "mimetype": "text/x-python",
   "name": "python",
   "nbconvert_exporter": "python",
   "pygments_lexer": "ipython3",
   "version": "3.8.10"
  }
 },
 "nbformat": 4,
 "nbformat_minor": 1
}
